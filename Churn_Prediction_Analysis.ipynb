{
  "nbformat": 4,
  "nbformat_minor": 0,
  "metadata": {
    "colab": {
      "provenance": []
    },
    "kernelspec": {
      "name": "python3",
      "display_name": "Python 3"
    },
    "language_info": {
      "name": "python"
    }
  },
  "cells": [
    {
      "cell_type": "code",
      "execution_count": 1,
      "metadata": {
        "id": "iplUbaBEExSi"
      },
      "outputs": [],
      "source": [
        "import pandas as pd\n",
        "import numpy as np\n",
        "import matplotlib.pyplot as plt "
      ]
    },
    {
      "cell_type": "code",
      "source": [
        "import plotly.offline as pyoff\n",
        "import plotly.graph_objs as go"
      ],
      "metadata": {
        "id": "jmbarXk2GYZA"
      },
      "execution_count": 2,
      "outputs": []
    },
    {
      "cell_type": "code",
      "source": [
        "from sklearn.cluster import KMeans\n",
        "from sklearn.preprocessing import MinMaxScaler\n",
        "%matplotlib inline"
      ],
      "metadata": {
        "id": "c5VfFCe2TLun"
      },
      "execution_count": 3,
      "outputs": []
    },
    {
      "cell_type": "code",
      "source": [
        "from sklearn import linear_model"
      ],
      "metadata": {
        "id": "UmyG9RQHfHxc"
      },
      "execution_count": 4,
      "outputs": []
    },
    {
      "cell_type": "code",
      "source": [
        "!mkdir ~/.kaggle"
      ],
      "metadata": {
        "id": "Z0skml6dFDpA"
      },
      "execution_count": 5,
      "outputs": []
    },
    {
      "cell_type": "code",
      "source": [
        "!cp kaggle.json ~/.kaggle/\n"
      ],
      "metadata": {
        "id": "RNj7pJV8FLhB"
      },
      "execution_count": 6,
      "outputs": []
    },
    {
      "cell_type": "code",
      "source": [
        "data=pd.read_csv('Telco-Customer-Churn.csv')"
      ],
      "metadata": {
        "id": "Ufw-PoTOFOr8"
      },
      "execution_count": 7,
      "outputs": []
    },
    {
      "cell_type": "code",
      "source": [
        "data.columns"
      ],
      "metadata": {
        "colab": {
          "base_uri": "https://localhost:8080/"
        },
        "id": "5D15OgQNFfXG",
        "outputId": "8f198d73-8c6e-4ad1-cf80-939998faca10"
      },
      "execution_count": 8,
      "outputs": [
        {
          "output_type": "execute_result",
          "data": {
            "text/plain": [
              "Index(['customerID', 'gender', 'SeniorCitizen', 'Partner', 'Dependents',\n",
              "       'tenure', 'PhoneService', 'MultipleLines', 'InternetService',\n",
              "       'OnlineSecurity', 'OnlineBackup', 'DeviceProtection', 'TechSupport',\n",
              "       'StreamingTV', 'StreamingMovies', 'Contract', 'PaperlessBilling',\n",
              "       'PaymentMethod', 'MonthlyCharges', 'TotalCharges', 'Churn'],\n",
              "      dtype='object')"
            ]
          },
          "metadata": {},
          "execution_count": 8
        }
      ]
    },
    {
      "cell_type": "code",
      "source": [
        "data.head()"
      ],
      "metadata": {
        "colab": {
          "base_uri": "https://localhost:8080/",
          "height": 386
        },
        "id": "msJpwz5wFhjx",
        "outputId": "ed5568dd-8e9b-41e0-db7e-d135c81a75a7"
      },
      "execution_count": 9,
      "outputs": [
        {
          "output_type": "execute_result",
          "data": {
            "text/plain": [
              "   customerID  gender  SeniorCitizen Partner Dependents  tenure PhoneService  \\\n",
              "0  7590-VHVEG  Female              0     Yes         No       1           No   \n",
              "1  5575-GNVDE    Male              0      No         No      34          Yes   \n",
              "2  3668-QPYBK    Male              0      No         No       2          Yes   \n",
              "3  7795-CFOCW    Male              0      No         No      45           No   \n",
              "4  9237-HQITU  Female              0      No         No       2          Yes   \n",
              "\n",
              "      MultipleLines InternetService OnlineSecurity  ... DeviceProtection  \\\n",
              "0  No phone service             DSL             No  ...               No   \n",
              "1                No             DSL            Yes  ...              Yes   \n",
              "2                No             DSL            Yes  ...               No   \n",
              "3  No phone service             DSL            Yes  ...              Yes   \n",
              "4                No     Fiber optic             No  ...               No   \n",
              "\n",
              "  TechSupport StreamingTV StreamingMovies        Contract PaperlessBilling  \\\n",
              "0          No          No              No  Month-to-month              Yes   \n",
              "1          No          No              No        One year               No   \n",
              "2          No          No              No  Month-to-month              Yes   \n",
              "3         Yes          No              No        One year               No   \n",
              "4          No          No              No  Month-to-month              Yes   \n",
              "\n",
              "               PaymentMethod MonthlyCharges  TotalCharges Churn  \n",
              "0           Electronic check          29.85         29.85    No  \n",
              "1               Mailed check          56.95        1889.5    No  \n",
              "2               Mailed check          53.85        108.15   Yes  \n",
              "3  Bank transfer (automatic)          42.30       1840.75    No  \n",
              "4           Electronic check          70.70        151.65   Yes  \n",
              "\n",
              "[5 rows x 21 columns]"
            ],
            "text/html": [
              "\n",
              "  <div id=\"df-c684215b-2e4b-4e34-9924-510e0087b825\">\n",
              "    <div class=\"colab-df-container\">\n",
              "      <div>\n",
              "<style scoped>\n",
              "    .dataframe tbody tr th:only-of-type {\n",
              "        vertical-align: middle;\n",
              "    }\n",
              "\n",
              "    .dataframe tbody tr th {\n",
              "        vertical-align: top;\n",
              "    }\n",
              "\n",
              "    .dataframe thead th {\n",
              "        text-align: right;\n",
              "    }\n",
              "</style>\n",
              "<table border=\"1\" class=\"dataframe\">\n",
              "  <thead>\n",
              "    <tr style=\"text-align: right;\">\n",
              "      <th></th>\n",
              "      <th>customerID</th>\n",
              "      <th>gender</th>\n",
              "      <th>SeniorCitizen</th>\n",
              "      <th>Partner</th>\n",
              "      <th>Dependents</th>\n",
              "      <th>tenure</th>\n",
              "      <th>PhoneService</th>\n",
              "      <th>MultipleLines</th>\n",
              "      <th>InternetService</th>\n",
              "      <th>OnlineSecurity</th>\n",
              "      <th>...</th>\n",
              "      <th>DeviceProtection</th>\n",
              "      <th>TechSupport</th>\n",
              "      <th>StreamingTV</th>\n",
              "      <th>StreamingMovies</th>\n",
              "      <th>Contract</th>\n",
              "      <th>PaperlessBilling</th>\n",
              "      <th>PaymentMethod</th>\n",
              "      <th>MonthlyCharges</th>\n",
              "      <th>TotalCharges</th>\n",
              "      <th>Churn</th>\n",
              "    </tr>\n",
              "  </thead>\n",
              "  <tbody>\n",
              "    <tr>\n",
              "      <th>0</th>\n",
              "      <td>7590-VHVEG</td>\n",
              "      <td>Female</td>\n",
              "      <td>0</td>\n",
              "      <td>Yes</td>\n",
              "      <td>No</td>\n",
              "      <td>1</td>\n",
              "      <td>No</td>\n",
              "      <td>No phone service</td>\n",
              "      <td>DSL</td>\n",
              "      <td>No</td>\n",
              "      <td>...</td>\n",
              "      <td>No</td>\n",
              "      <td>No</td>\n",
              "      <td>No</td>\n",
              "      <td>No</td>\n",
              "      <td>Month-to-month</td>\n",
              "      <td>Yes</td>\n",
              "      <td>Electronic check</td>\n",
              "      <td>29.85</td>\n",
              "      <td>29.85</td>\n",
              "      <td>No</td>\n",
              "    </tr>\n",
              "    <tr>\n",
              "      <th>1</th>\n",
              "      <td>5575-GNVDE</td>\n",
              "      <td>Male</td>\n",
              "      <td>0</td>\n",
              "      <td>No</td>\n",
              "      <td>No</td>\n",
              "      <td>34</td>\n",
              "      <td>Yes</td>\n",
              "      <td>No</td>\n",
              "      <td>DSL</td>\n",
              "      <td>Yes</td>\n",
              "      <td>...</td>\n",
              "      <td>Yes</td>\n",
              "      <td>No</td>\n",
              "      <td>No</td>\n",
              "      <td>No</td>\n",
              "      <td>One year</td>\n",
              "      <td>No</td>\n",
              "      <td>Mailed check</td>\n",
              "      <td>56.95</td>\n",
              "      <td>1889.5</td>\n",
              "      <td>No</td>\n",
              "    </tr>\n",
              "    <tr>\n",
              "      <th>2</th>\n",
              "      <td>3668-QPYBK</td>\n",
              "      <td>Male</td>\n",
              "      <td>0</td>\n",
              "      <td>No</td>\n",
              "      <td>No</td>\n",
              "      <td>2</td>\n",
              "      <td>Yes</td>\n",
              "      <td>No</td>\n",
              "      <td>DSL</td>\n",
              "      <td>Yes</td>\n",
              "      <td>...</td>\n",
              "      <td>No</td>\n",
              "      <td>No</td>\n",
              "      <td>No</td>\n",
              "      <td>No</td>\n",
              "      <td>Month-to-month</td>\n",
              "      <td>Yes</td>\n",
              "      <td>Mailed check</td>\n",
              "      <td>53.85</td>\n",
              "      <td>108.15</td>\n",
              "      <td>Yes</td>\n",
              "    </tr>\n",
              "    <tr>\n",
              "      <th>3</th>\n",
              "      <td>7795-CFOCW</td>\n",
              "      <td>Male</td>\n",
              "      <td>0</td>\n",
              "      <td>No</td>\n",
              "      <td>No</td>\n",
              "      <td>45</td>\n",
              "      <td>No</td>\n",
              "      <td>No phone service</td>\n",
              "      <td>DSL</td>\n",
              "      <td>Yes</td>\n",
              "      <td>...</td>\n",
              "      <td>Yes</td>\n",
              "      <td>Yes</td>\n",
              "      <td>No</td>\n",
              "      <td>No</td>\n",
              "      <td>One year</td>\n",
              "      <td>No</td>\n",
              "      <td>Bank transfer (automatic)</td>\n",
              "      <td>42.30</td>\n",
              "      <td>1840.75</td>\n",
              "      <td>No</td>\n",
              "    </tr>\n",
              "    <tr>\n",
              "      <th>4</th>\n",
              "      <td>9237-HQITU</td>\n",
              "      <td>Female</td>\n",
              "      <td>0</td>\n",
              "      <td>No</td>\n",
              "      <td>No</td>\n",
              "      <td>2</td>\n",
              "      <td>Yes</td>\n",
              "      <td>No</td>\n",
              "      <td>Fiber optic</td>\n",
              "      <td>No</td>\n",
              "      <td>...</td>\n",
              "      <td>No</td>\n",
              "      <td>No</td>\n",
              "      <td>No</td>\n",
              "      <td>No</td>\n",
              "      <td>Month-to-month</td>\n",
              "      <td>Yes</td>\n",
              "      <td>Electronic check</td>\n",
              "      <td>70.70</td>\n",
              "      <td>151.65</td>\n",
              "      <td>Yes</td>\n",
              "    </tr>\n",
              "  </tbody>\n",
              "</table>\n",
              "<p>5 rows × 21 columns</p>\n",
              "</div>\n",
              "      <button class=\"colab-df-convert\" onclick=\"convertToInteractive('df-c684215b-2e4b-4e34-9924-510e0087b825')\"\n",
              "              title=\"Convert this dataframe to an interactive table.\"\n",
              "              style=\"display:none;\">\n",
              "        \n",
              "  <svg xmlns=\"http://www.w3.org/2000/svg\" height=\"24px\"viewBox=\"0 0 24 24\"\n",
              "       width=\"24px\">\n",
              "    <path d=\"M0 0h24v24H0V0z\" fill=\"none\"/>\n",
              "    <path d=\"M18.56 5.44l.94 2.06.94-2.06 2.06-.94-2.06-.94-.94-2.06-.94 2.06-2.06.94zm-11 1L8.5 8.5l.94-2.06 2.06-.94-2.06-.94L8.5 2.5l-.94 2.06-2.06.94zm10 10l.94 2.06.94-2.06 2.06-.94-2.06-.94-.94-2.06-.94 2.06-2.06.94z\"/><path d=\"M17.41 7.96l-1.37-1.37c-.4-.4-.92-.59-1.43-.59-.52 0-1.04.2-1.43.59L10.3 9.45l-7.72 7.72c-.78.78-.78 2.05 0 2.83L4 21.41c.39.39.9.59 1.41.59.51 0 1.02-.2 1.41-.59l7.78-7.78 2.81-2.81c.8-.78.8-2.07 0-2.86zM5.41 20L4 18.59l7.72-7.72 1.47 1.35L5.41 20z\"/>\n",
              "  </svg>\n",
              "      </button>\n",
              "      \n",
              "  <style>\n",
              "    .colab-df-container {\n",
              "      display:flex;\n",
              "      flex-wrap:wrap;\n",
              "      gap: 12px;\n",
              "    }\n",
              "\n",
              "    .colab-df-convert {\n",
              "      background-color: #E8F0FE;\n",
              "      border: none;\n",
              "      border-radius: 50%;\n",
              "      cursor: pointer;\n",
              "      display: none;\n",
              "      fill: #1967D2;\n",
              "      height: 32px;\n",
              "      padding: 0 0 0 0;\n",
              "      width: 32px;\n",
              "    }\n",
              "\n",
              "    .colab-df-convert:hover {\n",
              "      background-color: #E2EBFA;\n",
              "      box-shadow: 0px 1px 2px rgba(60, 64, 67, 0.3), 0px 1px 3px 1px rgba(60, 64, 67, 0.15);\n",
              "      fill: #174EA6;\n",
              "    }\n",
              "\n",
              "    [theme=dark] .colab-df-convert {\n",
              "      background-color: #3B4455;\n",
              "      fill: #D2E3FC;\n",
              "    }\n",
              "\n",
              "    [theme=dark] .colab-df-convert:hover {\n",
              "      background-color: #434B5C;\n",
              "      box-shadow: 0px 1px 3px 1px rgba(0, 0, 0, 0.15);\n",
              "      filter: drop-shadow(0px 1px 2px rgba(0, 0, 0, 0.3));\n",
              "      fill: #FFFFFF;\n",
              "    }\n",
              "  </style>\n",
              "\n",
              "      <script>\n",
              "        const buttonEl =\n",
              "          document.querySelector('#df-c684215b-2e4b-4e34-9924-510e0087b825 button.colab-df-convert');\n",
              "        buttonEl.style.display =\n",
              "          google.colab.kernel.accessAllowed ? 'block' : 'none';\n",
              "\n",
              "        async function convertToInteractive(key) {\n",
              "          const element = document.querySelector('#df-c684215b-2e4b-4e34-9924-510e0087b825');\n",
              "          const dataTable =\n",
              "            await google.colab.kernel.invokeFunction('convertToInteractive',\n",
              "                                                     [key], {});\n",
              "          if (!dataTable) return;\n",
              "\n",
              "          const docLinkHtml = 'Like what you see? Visit the ' +\n",
              "            '<a target=\"_blank\" href=https://colab.research.google.com/notebooks/data_table.ipynb>data table notebook</a>'\n",
              "            + ' to learn more about interactive tables.';\n",
              "          element.innerHTML = '';\n",
              "          dataTable['output_type'] = 'display_data';\n",
              "          await google.colab.output.renderOutput(dataTable, element);\n",
              "          const docLink = document.createElement('div');\n",
              "          docLink.innerHTML = docLinkHtml;\n",
              "          element.appendChild(docLink);\n",
              "        }\n",
              "      </script>\n",
              "    </div>\n",
              "  </div>\n",
              "  "
            ]
          },
          "metadata": {},
          "execution_count": 9
        }
      ]
    },
    {
      "cell_type": "code",
      "source": [
        "data.info()"
      ],
      "metadata": {
        "colab": {
          "base_uri": "https://localhost:8080/"
        },
        "id": "hWbVUM5sFoF6",
        "outputId": "db80ef59-e0f2-4cee-b9c7-4b3d9f9b3487"
      },
      "execution_count": 10,
      "outputs": [
        {
          "output_type": "stream",
          "name": "stdout",
          "text": [
            "<class 'pandas.core.frame.DataFrame'>\n",
            "RangeIndex: 7043 entries, 0 to 7042\n",
            "Data columns (total 21 columns):\n",
            " #   Column            Non-Null Count  Dtype  \n",
            "---  ------            --------------  -----  \n",
            " 0   customerID        7043 non-null   object \n",
            " 1   gender            7043 non-null   object \n",
            " 2   SeniorCitizen     7043 non-null   int64  \n",
            " 3   Partner           7043 non-null   object \n",
            " 4   Dependents        7043 non-null   object \n",
            " 5   tenure            7043 non-null   int64  \n",
            " 6   PhoneService      7043 non-null   object \n",
            " 7   MultipleLines     7043 non-null   object \n",
            " 8   InternetService   7043 non-null   object \n",
            " 9   OnlineSecurity    7043 non-null   object \n",
            " 10  OnlineBackup      7043 non-null   object \n",
            " 11  DeviceProtection  7043 non-null   object \n",
            " 12  TechSupport       7043 non-null   object \n",
            " 13  StreamingTV       7043 non-null   object \n",
            " 14  StreamingMovies   7043 non-null   object \n",
            " 15  Contract          7043 non-null   object \n",
            " 16  PaperlessBilling  7043 non-null   object \n",
            " 17  PaymentMethod     7043 non-null   object \n",
            " 18  MonthlyCharges    7043 non-null   float64\n",
            " 19  TotalCharges      7043 non-null   object \n",
            " 20  Churn             7043 non-null   object \n",
            "dtypes: float64(1), int64(2), object(18)\n",
            "memory usage: 1.1+ MB\n"
          ]
        }
      ]
    },
    {
      "cell_type": "code",
      "source": [
        "data.loc[data.Churn=='No','Churn'] = 0 \n",
        "data.loc[data.Churn=='Yes','Churn'] = 1"
      ],
      "metadata": {
        "id": "YHNrcJbTFsFg"
      },
      "execution_count": 11,
      "outputs": []
    },
    {
      "cell_type": "code",
      "source": [
        "plot = data.groupby('gender').Churn.mean().reset_index()\n",
        "plot_data = [\n",
        "    go.Bar(\n",
        "        x=plot['gender'],\n",
        "        y=plot['Churn'],\n",
        "        width = [0.5, 0.5],\n",
        "        marker=dict(\n",
        "        color=['green', 'blue'])\n",
        "    )\n",
        "]\n",
        "plot_layout = go.Layout(\n",
        "        xaxis={\"type\": \"category\"},\n",
        "        yaxis={\"title\": \"Churn Rate\"},\n",
        "        title='Gender',\n",
        "        plot_bgcolor  = 'rgb(243,243,243)',\n",
        "        paper_bgcolor  = 'rgb(243,243,243)',\n",
        "    )\n",
        "fig = go.Figure(data=plot_data, layout=plot_layout)\n",
        "pyoff.iplot(fig)"
      ],
      "metadata": {
        "colab": {
          "base_uri": "https://localhost:8080/",
          "height": 542
        },
        "id": "cSk3KqPMF0pK",
        "outputId": "e38c809e-d9ad-498e-ebf6-ea9ced9d8594"
      },
      "execution_count": 12,
      "outputs": [
        {
          "output_type": "display_data",
          "data": {
            "text/html": [
              "<html>\n",
              "<head><meta charset=\"utf-8\" /></head>\n",
              "<body>\n",
              "    <div>            <script src=\"https://cdnjs.cloudflare.com/ajax/libs/mathjax/2.7.5/MathJax.js?config=TeX-AMS-MML_SVG\"></script><script type=\"text/javascript\">if (window.MathJax && window.MathJax.Hub && window.MathJax.Hub.Config) {window.MathJax.Hub.Config({SVG: {font: \"STIX-Web\"}});}</script>                <script type=\"text/javascript\">window.PlotlyConfig = {MathJaxConfig: 'local'};</script>\n",
              "        <script src=\"https://cdn.plot.ly/plotly-2.18.2.min.js\"></script>                <div id=\"9f691c3e-2c9d-4f40-a387-f36dc80b8588\" class=\"plotly-graph-div\" style=\"height:525px; width:100%;\"></div>            <script type=\"text/javascript\">                                    window.PLOTLYENV=window.PLOTLYENV || {};                                    if (document.getElementById(\"9f691c3e-2c9d-4f40-a387-f36dc80b8588\")) {                    Plotly.newPlot(                        \"9f691c3e-2c9d-4f40-a387-f36dc80b8588\",                        [{\"marker\":{\"color\":[\"green\",\"blue\"]},\"width\":[0.5,0.5],\"x\":[\"Female\",\"Male\"],\"y\":[0.26920871559633025,0.2616033755274262],\"type\":\"bar\"}],                        {\"paper_bgcolor\":\"rgb(243,243,243)\",\"plot_bgcolor\":\"rgb(243,243,243)\",\"template\":{\"data\":{\"barpolar\":[{\"marker\":{\"line\":{\"color\":\"#E5ECF6\",\"width\":0.5},\"pattern\":{\"fillmode\":\"overlay\",\"size\":10,\"solidity\":0.2}},\"type\":\"barpolar\"}],\"bar\":[{\"error_x\":{\"color\":\"#2a3f5f\"},\"error_y\":{\"color\":\"#2a3f5f\"},\"marker\":{\"line\":{\"color\":\"#E5ECF6\",\"width\":0.5},\"pattern\":{\"fillmode\":\"overlay\",\"size\":10,\"solidity\":0.2}},\"type\":\"bar\"}],\"carpet\":[{\"aaxis\":{\"endlinecolor\":\"#2a3f5f\",\"gridcolor\":\"white\",\"linecolor\":\"white\",\"minorgridcolor\":\"white\",\"startlinecolor\":\"#2a3f5f\"},\"baxis\":{\"endlinecolor\":\"#2a3f5f\",\"gridcolor\":\"white\",\"linecolor\":\"white\",\"minorgridcolor\":\"white\",\"startlinecolor\":\"#2a3f5f\"},\"type\":\"carpet\"}],\"choropleth\":[{\"colorbar\":{\"outlinewidth\":0,\"ticks\":\"\"},\"type\":\"choropleth\"}],\"contourcarpet\":[{\"colorbar\":{\"outlinewidth\":0,\"ticks\":\"\"},\"type\":\"contourcarpet\"}],\"contour\":[{\"colorbar\":{\"outlinewidth\":0,\"ticks\":\"\"},\"colorscale\":[[0.0,\"#0d0887\"],[0.1111111111111111,\"#46039f\"],[0.2222222222222222,\"#7201a8\"],[0.3333333333333333,\"#9c179e\"],[0.4444444444444444,\"#bd3786\"],[0.5555555555555556,\"#d8576b\"],[0.6666666666666666,\"#ed7953\"],[0.7777777777777778,\"#fb9f3a\"],[0.8888888888888888,\"#fdca26\"],[1.0,\"#f0f921\"]],\"type\":\"contour\"}],\"heatmapgl\":[{\"colorbar\":{\"outlinewidth\":0,\"ticks\":\"\"},\"colorscale\":[[0.0,\"#0d0887\"],[0.1111111111111111,\"#46039f\"],[0.2222222222222222,\"#7201a8\"],[0.3333333333333333,\"#9c179e\"],[0.4444444444444444,\"#bd3786\"],[0.5555555555555556,\"#d8576b\"],[0.6666666666666666,\"#ed7953\"],[0.7777777777777778,\"#fb9f3a\"],[0.8888888888888888,\"#fdca26\"],[1.0,\"#f0f921\"]],\"type\":\"heatmapgl\"}],\"heatmap\":[{\"colorbar\":{\"outlinewidth\":0,\"ticks\":\"\"},\"colorscale\":[[0.0,\"#0d0887\"],[0.1111111111111111,\"#46039f\"],[0.2222222222222222,\"#7201a8\"],[0.3333333333333333,\"#9c179e\"],[0.4444444444444444,\"#bd3786\"],[0.5555555555555556,\"#d8576b\"],[0.6666666666666666,\"#ed7953\"],[0.7777777777777778,\"#fb9f3a\"],[0.8888888888888888,\"#fdca26\"],[1.0,\"#f0f921\"]],\"type\":\"heatmap\"}],\"histogram2dcontour\":[{\"colorbar\":{\"outlinewidth\":0,\"ticks\":\"\"},\"colorscale\":[[0.0,\"#0d0887\"],[0.1111111111111111,\"#46039f\"],[0.2222222222222222,\"#7201a8\"],[0.3333333333333333,\"#9c179e\"],[0.4444444444444444,\"#bd3786\"],[0.5555555555555556,\"#d8576b\"],[0.6666666666666666,\"#ed7953\"],[0.7777777777777778,\"#fb9f3a\"],[0.8888888888888888,\"#fdca26\"],[1.0,\"#f0f921\"]],\"type\":\"histogram2dcontour\"}],\"histogram2d\":[{\"colorbar\":{\"outlinewidth\":0,\"ticks\":\"\"},\"colorscale\":[[0.0,\"#0d0887\"],[0.1111111111111111,\"#46039f\"],[0.2222222222222222,\"#7201a8\"],[0.3333333333333333,\"#9c179e\"],[0.4444444444444444,\"#bd3786\"],[0.5555555555555556,\"#d8576b\"],[0.6666666666666666,\"#ed7953\"],[0.7777777777777778,\"#fb9f3a\"],[0.8888888888888888,\"#fdca26\"],[1.0,\"#f0f921\"]],\"type\":\"histogram2d\"}],\"histogram\":[{\"marker\":{\"pattern\":{\"fillmode\":\"overlay\",\"size\":10,\"solidity\":0.2}},\"type\":\"histogram\"}],\"mesh3d\":[{\"colorbar\":{\"outlinewidth\":0,\"ticks\":\"\"},\"type\":\"mesh3d\"}],\"parcoords\":[{\"line\":{\"colorbar\":{\"outlinewidth\":0,\"ticks\":\"\"}},\"type\":\"parcoords\"}],\"pie\":[{\"automargin\":true,\"type\":\"pie\"}],\"scatter3d\":[{\"line\":{\"colorbar\":{\"outlinewidth\":0,\"ticks\":\"\"}},\"marker\":{\"colorbar\":{\"outlinewidth\":0,\"ticks\":\"\"}},\"type\":\"scatter3d\"}],\"scattercarpet\":[{\"marker\":{\"colorbar\":{\"outlinewidth\":0,\"ticks\":\"\"}},\"type\":\"scattercarpet\"}],\"scattergeo\":[{\"marker\":{\"colorbar\":{\"outlinewidth\":0,\"ticks\":\"\"}},\"type\":\"scattergeo\"}],\"scattergl\":[{\"marker\":{\"colorbar\":{\"outlinewidth\":0,\"ticks\":\"\"}},\"type\":\"scattergl\"}],\"scattermapbox\":[{\"marker\":{\"colorbar\":{\"outlinewidth\":0,\"ticks\":\"\"}},\"type\":\"scattermapbox\"}],\"scatterpolargl\":[{\"marker\":{\"colorbar\":{\"outlinewidth\":0,\"ticks\":\"\"}},\"type\":\"scatterpolargl\"}],\"scatterpolar\":[{\"marker\":{\"colorbar\":{\"outlinewidth\":0,\"ticks\":\"\"}},\"type\":\"scatterpolar\"}],\"scatter\":[{\"fillpattern\":{\"fillmode\":\"overlay\",\"size\":10,\"solidity\":0.2},\"type\":\"scatter\"}],\"scatterternary\":[{\"marker\":{\"colorbar\":{\"outlinewidth\":0,\"ticks\":\"\"}},\"type\":\"scatterternary\"}],\"surface\":[{\"colorbar\":{\"outlinewidth\":0,\"ticks\":\"\"},\"colorscale\":[[0.0,\"#0d0887\"],[0.1111111111111111,\"#46039f\"],[0.2222222222222222,\"#7201a8\"],[0.3333333333333333,\"#9c179e\"],[0.4444444444444444,\"#bd3786\"],[0.5555555555555556,\"#d8576b\"],[0.6666666666666666,\"#ed7953\"],[0.7777777777777778,\"#fb9f3a\"],[0.8888888888888888,\"#fdca26\"],[1.0,\"#f0f921\"]],\"type\":\"surface\"}],\"table\":[{\"cells\":{\"fill\":{\"color\":\"#EBF0F8\"},\"line\":{\"color\":\"white\"}},\"header\":{\"fill\":{\"color\":\"#C8D4E3\"},\"line\":{\"color\":\"white\"}},\"type\":\"table\"}]},\"layout\":{\"annotationdefaults\":{\"arrowcolor\":\"#2a3f5f\",\"arrowhead\":0,\"arrowwidth\":1},\"autotypenumbers\":\"strict\",\"coloraxis\":{\"colorbar\":{\"outlinewidth\":0,\"ticks\":\"\"}},\"colorscale\":{\"diverging\":[[0,\"#8e0152\"],[0.1,\"#c51b7d\"],[0.2,\"#de77ae\"],[0.3,\"#f1b6da\"],[0.4,\"#fde0ef\"],[0.5,\"#f7f7f7\"],[0.6,\"#e6f5d0\"],[0.7,\"#b8e186\"],[0.8,\"#7fbc41\"],[0.9,\"#4d9221\"],[1,\"#276419\"]],\"sequential\":[[0.0,\"#0d0887\"],[0.1111111111111111,\"#46039f\"],[0.2222222222222222,\"#7201a8\"],[0.3333333333333333,\"#9c179e\"],[0.4444444444444444,\"#bd3786\"],[0.5555555555555556,\"#d8576b\"],[0.6666666666666666,\"#ed7953\"],[0.7777777777777778,\"#fb9f3a\"],[0.8888888888888888,\"#fdca26\"],[1.0,\"#f0f921\"]],\"sequentialminus\":[[0.0,\"#0d0887\"],[0.1111111111111111,\"#46039f\"],[0.2222222222222222,\"#7201a8\"],[0.3333333333333333,\"#9c179e\"],[0.4444444444444444,\"#bd3786\"],[0.5555555555555556,\"#d8576b\"],[0.6666666666666666,\"#ed7953\"],[0.7777777777777778,\"#fb9f3a\"],[0.8888888888888888,\"#fdca26\"],[1.0,\"#f0f921\"]]},\"colorway\":[\"#636efa\",\"#EF553B\",\"#00cc96\",\"#ab63fa\",\"#FFA15A\",\"#19d3f3\",\"#FF6692\",\"#B6E880\",\"#FF97FF\",\"#FECB52\"],\"font\":{\"color\":\"#2a3f5f\"},\"geo\":{\"bgcolor\":\"white\",\"lakecolor\":\"white\",\"landcolor\":\"#E5ECF6\",\"showlakes\":true,\"showland\":true,\"subunitcolor\":\"white\"},\"hoverlabel\":{\"align\":\"left\"},\"hovermode\":\"closest\",\"mapbox\":{\"style\":\"light\"},\"paper_bgcolor\":\"white\",\"plot_bgcolor\":\"#E5ECF6\",\"polar\":{\"angularaxis\":{\"gridcolor\":\"white\",\"linecolor\":\"white\",\"ticks\":\"\"},\"bgcolor\":\"#E5ECF6\",\"radialaxis\":{\"gridcolor\":\"white\",\"linecolor\":\"white\",\"ticks\":\"\"}},\"scene\":{\"xaxis\":{\"backgroundcolor\":\"#E5ECF6\",\"gridcolor\":\"white\",\"gridwidth\":2,\"linecolor\":\"white\",\"showbackground\":true,\"ticks\":\"\",\"zerolinecolor\":\"white\"},\"yaxis\":{\"backgroundcolor\":\"#E5ECF6\",\"gridcolor\":\"white\",\"gridwidth\":2,\"linecolor\":\"white\",\"showbackground\":true,\"ticks\":\"\",\"zerolinecolor\":\"white\"},\"zaxis\":{\"backgroundcolor\":\"#E5ECF6\",\"gridcolor\":\"white\",\"gridwidth\":2,\"linecolor\":\"white\",\"showbackground\":true,\"ticks\":\"\",\"zerolinecolor\":\"white\"}},\"shapedefaults\":{\"line\":{\"color\":\"#2a3f5f\"}},\"ternary\":{\"aaxis\":{\"gridcolor\":\"white\",\"linecolor\":\"white\",\"ticks\":\"\"},\"baxis\":{\"gridcolor\":\"white\",\"linecolor\":\"white\",\"ticks\":\"\"},\"bgcolor\":\"#E5ECF6\",\"caxis\":{\"gridcolor\":\"white\",\"linecolor\":\"white\",\"ticks\":\"\"}},\"title\":{\"x\":0.05},\"xaxis\":{\"automargin\":true,\"gridcolor\":\"white\",\"linecolor\":\"white\",\"ticks\":\"\",\"title\":{\"standoff\":15},\"zerolinecolor\":\"white\",\"zerolinewidth\":2},\"yaxis\":{\"automargin\":true,\"gridcolor\":\"white\",\"linecolor\":\"white\",\"ticks\":\"\",\"title\":{\"standoff\":15},\"zerolinecolor\":\"white\",\"zerolinewidth\":2}}},\"title\":{\"text\":\"Gender\"},\"xaxis\":{\"type\":\"category\"},\"yaxis\":{\"title\":{\"text\":\"Churn Rate\"}}},                        {\"responsive\": true}                    ).then(function(){\n",
              "                            \n",
              "var gd = document.getElementById('9f691c3e-2c9d-4f40-a387-f36dc80b8588');\n",
              "var x = new MutationObserver(function (mutations, observer) {{\n",
              "        var display = window.getComputedStyle(gd).display;\n",
              "        if (!display || display === 'none') {{\n",
              "            console.log([gd, 'removed!']);\n",
              "            Plotly.purge(gd);\n",
              "            observer.disconnect();\n",
              "        }}\n",
              "}});\n",
              "\n",
              "// Listen for the removal of the full notebook cells\n",
              "var notebookContainer = gd.closest('#notebook-container');\n",
              "if (notebookContainer) {{\n",
              "    x.observe(notebookContainer, {childList: true});\n",
              "}}\n",
              "\n",
              "// Listen for the clearing of the current output cell\n",
              "var outputEl = gd.closest('.output');\n",
              "if (outputEl) {{\n",
              "    x.observe(outputEl, {childList: true});\n",
              "}}\n",
              "\n",
              "                        })                };                            </script>        </div>\n",
              "</body>\n",
              "</html>"
            ]
          },
          "metadata": {}
        }
      ]
    },
    {
      "cell_type": "code",
      "source": [
        "data.groupby('gender').Churn.mean()"
      ],
      "metadata": {
        "colab": {
          "base_uri": "https://localhost:8080/"
        },
        "id": "CIx6nLaCGqBa",
        "outputId": "b8783c11-8f8b-4dc7-96d7-b2c3019f37a8"
      },
      "execution_count": 13,
      "outputs": [
        {
          "output_type": "execute_result",
          "data": {
            "text/plain": [
              "gender\n",
              "Female    0.269209\n",
              "Male      0.261603\n",
              "Name: Churn, dtype: float64"
            ]
          },
          "metadata": {},
          "execution_count": 13
        }
      ]
    },
    {
      "cell_type": "code",
      "source": [
        "plot = data.groupby('InternetService').Churn.mean().reset_index()\n",
        "plot_data = [\n",
        "    go.Bar(\n",
        "        x=plot['InternetService'],\n",
        "        y=plot['Churn'],\n",
        "        width = [0.5, 0.5,0.5],\n",
        "        marker=dict(\n",
        "        color=['green', 'blue','orange'])\n",
        "    )\n",
        "]\n",
        "plot_layout = go.Layout(\n",
        "        xaxis={\"type\": \"category\"},\n",
        "        yaxis={\"title\": \"Churn Rate\"},\n",
        "        title='Internet Service',\n",
        "        plot_bgcolor  = 'rgb(243,243,243)',\n",
        "        paper_bgcolor  = 'rgb(243,243,243)',\n",
        "    )\n",
        "fig = go.Figure(data=plot_data, layout=plot_layout)\n",
        "pyoff.iplot(fig)"
      ],
      "metadata": {
        "colab": {
          "base_uri": "https://localhost:8080/",
          "height": 542
        },
        "id": "H8NEYdRxGvvi",
        "outputId": "709585eb-107f-41c4-93e4-64ff2dd3bc3e"
      },
      "execution_count": 14,
      "outputs": [
        {
          "output_type": "display_data",
          "data": {
            "text/html": [
              "<html>\n",
              "<head><meta charset=\"utf-8\" /></head>\n",
              "<body>\n",
              "    <div>            <script src=\"https://cdnjs.cloudflare.com/ajax/libs/mathjax/2.7.5/MathJax.js?config=TeX-AMS-MML_SVG\"></script><script type=\"text/javascript\">if (window.MathJax && window.MathJax.Hub && window.MathJax.Hub.Config) {window.MathJax.Hub.Config({SVG: {font: \"STIX-Web\"}});}</script>                <script type=\"text/javascript\">window.PlotlyConfig = {MathJaxConfig: 'local'};</script>\n",
              "        <script src=\"https://cdn.plot.ly/plotly-2.18.2.min.js\"></script>                <div id=\"3e93b022-6f1c-401f-ba46-8ab6a6409ec1\" class=\"plotly-graph-div\" style=\"height:525px; width:100%;\"></div>            <script type=\"text/javascript\">                                    window.PLOTLYENV=window.PLOTLYENV || {};                                    if (document.getElementById(\"3e93b022-6f1c-401f-ba46-8ab6a6409ec1\")) {                    Plotly.newPlot(                        \"3e93b022-6f1c-401f-ba46-8ab6a6409ec1\",                        [{\"marker\":{\"color\":[\"green\",\"blue\",\"orange\"]},\"width\":[0.5,0.5,0.5],\"x\":[\"DSL\",\"Fiber optic\",\"No\"],\"y\":[0.1895910780669145,0.4189276485788114,0.07404980340760157],\"type\":\"bar\"}],                        {\"paper_bgcolor\":\"rgb(243,243,243)\",\"plot_bgcolor\":\"rgb(243,243,243)\",\"template\":{\"data\":{\"barpolar\":[{\"marker\":{\"line\":{\"color\":\"#E5ECF6\",\"width\":0.5},\"pattern\":{\"fillmode\":\"overlay\",\"size\":10,\"solidity\":0.2}},\"type\":\"barpolar\"}],\"bar\":[{\"error_x\":{\"color\":\"#2a3f5f\"},\"error_y\":{\"color\":\"#2a3f5f\"},\"marker\":{\"line\":{\"color\":\"#E5ECF6\",\"width\":0.5},\"pattern\":{\"fillmode\":\"overlay\",\"size\":10,\"solidity\":0.2}},\"type\":\"bar\"}],\"carpet\":[{\"aaxis\":{\"endlinecolor\":\"#2a3f5f\",\"gridcolor\":\"white\",\"linecolor\":\"white\",\"minorgridcolor\":\"white\",\"startlinecolor\":\"#2a3f5f\"},\"baxis\":{\"endlinecolor\":\"#2a3f5f\",\"gridcolor\":\"white\",\"linecolor\":\"white\",\"minorgridcolor\":\"white\",\"startlinecolor\":\"#2a3f5f\"},\"type\":\"carpet\"}],\"choropleth\":[{\"colorbar\":{\"outlinewidth\":0,\"ticks\":\"\"},\"type\":\"choropleth\"}],\"contourcarpet\":[{\"colorbar\":{\"outlinewidth\":0,\"ticks\":\"\"},\"type\":\"contourcarpet\"}],\"contour\":[{\"colorbar\":{\"outlinewidth\":0,\"ticks\":\"\"},\"colorscale\":[[0.0,\"#0d0887\"],[0.1111111111111111,\"#46039f\"],[0.2222222222222222,\"#7201a8\"],[0.3333333333333333,\"#9c179e\"],[0.4444444444444444,\"#bd3786\"],[0.5555555555555556,\"#d8576b\"],[0.6666666666666666,\"#ed7953\"],[0.7777777777777778,\"#fb9f3a\"],[0.8888888888888888,\"#fdca26\"],[1.0,\"#f0f921\"]],\"type\":\"contour\"}],\"heatmapgl\":[{\"colorbar\":{\"outlinewidth\":0,\"ticks\":\"\"},\"colorscale\":[[0.0,\"#0d0887\"],[0.1111111111111111,\"#46039f\"],[0.2222222222222222,\"#7201a8\"],[0.3333333333333333,\"#9c179e\"],[0.4444444444444444,\"#bd3786\"],[0.5555555555555556,\"#d8576b\"],[0.6666666666666666,\"#ed7953\"],[0.7777777777777778,\"#fb9f3a\"],[0.8888888888888888,\"#fdca26\"],[1.0,\"#f0f921\"]],\"type\":\"heatmapgl\"}],\"heatmap\":[{\"colorbar\":{\"outlinewidth\":0,\"ticks\":\"\"},\"colorscale\":[[0.0,\"#0d0887\"],[0.1111111111111111,\"#46039f\"],[0.2222222222222222,\"#7201a8\"],[0.3333333333333333,\"#9c179e\"],[0.4444444444444444,\"#bd3786\"],[0.5555555555555556,\"#d8576b\"],[0.6666666666666666,\"#ed7953\"],[0.7777777777777778,\"#fb9f3a\"],[0.8888888888888888,\"#fdca26\"],[1.0,\"#f0f921\"]],\"type\":\"heatmap\"}],\"histogram2dcontour\":[{\"colorbar\":{\"outlinewidth\":0,\"ticks\":\"\"},\"colorscale\":[[0.0,\"#0d0887\"],[0.1111111111111111,\"#46039f\"],[0.2222222222222222,\"#7201a8\"],[0.3333333333333333,\"#9c179e\"],[0.4444444444444444,\"#bd3786\"],[0.5555555555555556,\"#d8576b\"],[0.6666666666666666,\"#ed7953\"],[0.7777777777777778,\"#fb9f3a\"],[0.8888888888888888,\"#fdca26\"],[1.0,\"#f0f921\"]],\"type\":\"histogram2dcontour\"}],\"histogram2d\":[{\"colorbar\":{\"outlinewidth\":0,\"ticks\":\"\"},\"colorscale\":[[0.0,\"#0d0887\"],[0.1111111111111111,\"#46039f\"],[0.2222222222222222,\"#7201a8\"],[0.3333333333333333,\"#9c179e\"],[0.4444444444444444,\"#bd3786\"],[0.5555555555555556,\"#d8576b\"],[0.6666666666666666,\"#ed7953\"],[0.7777777777777778,\"#fb9f3a\"],[0.8888888888888888,\"#fdca26\"],[1.0,\"#f0f921\"]],\"type\":\"histogram2d\"}],\"histogram\":[{\"marker\":{\"pattern\":{\"fillmode\":\"overlay\",\"size\":10,\"solidity\":0.2}},\"type\":\"histogram\"}],\"mesh3d\":[{\"colorbar\":{\"outlinewidth\":0,\"ticks\":\"\"},\"type\":\"mesh3d\"}],\"parcoords\":[{\"line\":{\"colorbar\":{\"outlinewidth\":0,\"ticks\":\"\"}},\"type\":\"parcoords\"}],\"pie\":[{\"automargin\":true,\"type\":\"pie\"}],\"scatter3d\":[{\"line\":{\"colorbar\":{\"outlinewidth\":0,\"ticks\":\"\"}},\"marker\":{\"colorbar\":{\"outlinewidth\":0,\"ticks\":\"\"}},\"type\":\"scatter3d\"}],\"scattercarpet\":[{\"marker\":{\"colorbar\":{\"outlinewidth\":0,\"ticks\":\"\"}},\"type\":\"scattercarpet\"}],\"scattergeo\":[{\"marker\":{\"colorbar\":{\"outlinewidth\":0,\"ticks\":\"\"}},\"type\":\"scattergeo\"}],\"scattergl\":[{\"marker\":{\"colorbar\":{\"outlinewidth\":0,\"ticks\":\"\"}},\"type\":\"scattergl\"}],\"scattermapbox\":[{\"marker\":{\"colorbar\":{\"outlinewidth\":0,\"ticks\":\"\"}},\"type\":\"scattermapbox\"}],\"scatterpolargl\":[{\"marker\":{\"colorbar\":{\"outlinewidth\":0,\"ticks\":\"\"}},\"type\":\"scatterpolargl\"}],\"scatterpolar\":[{\"marker\":{\"colorbar\":{\"outlinewidth\":0,\"ticks\":\"\"}},\"type\":\"scatterpolar\"}],\"scatter\":[{\"fillpattern\":{\"fillmode\":\"overlay\",\"size\":10,\"solidity\":0.2},\"type\":\"scatter\"}],\"scatterternary\":[{\"marker\":{\"colorbar\":{\"outlinewidth\":0,\"ticks\":\"\"}},\"type\":\"scatterternary\"}],\"surface\":[{\"colorbar\":{\"outlinewidth\":0,\"ticks\":\"\"},\"colorscale\":[[0.0,\"#0d0887\"],[0.1111111111111111,\"#46039f\"],[0.2222222222222222,\"#7201a8\"],[0.3333333333333333,\"#9c179e\"],[0.4444444444444444,\"#bd3786\"],[0.5555555555555556,\"#d8576b\"],[0.6666666666666666,\"#ed7953\"],[0.7777777777777778,\"#fb9f3a\"],[0.8888888888888888,\"#fdca26\"],[1.0,\"#f0f921\"]],\"type\":\"surface\"}],\"table\":[{\"cells\":{\"fill\":{\"color\":\"#EBF0F8\"},\"line\":{\"color\":\"white\"}},\"header\":{\"fill\":{\"color\":\"#C8D4E3\"},\"line\":{\"color\":\"white\"}},\"type\":\"table\"}]},\"layout\":{\"annotationdefaults\":{\"arrowcolor\":\"#2a3f5f\",\"arrowhead\":0,\"arrowwidth\":1},\"autotypenumbers\":\"strict\",\"coloraxis\":{\"colorbar\":{\"outlinewidth\":0,\"ticks\":\"\"}},\"colorscale\":{\"diverging\":[[0,\"#8e0152\"],[0.1,\"#c51b7d\"],[0.2,\"#de77ae\"],[0.3,\"#f1b6da\"],[0.4,\"#fde0ef\"],[0.5,\"#f7f7f7\"],[0.6,\"#e6f5d0\"],[0.7,\"#b8e186\"],[0.8,\"#7fbc41\"],[0.9,\"#4d9221\"],[1,\"#276419\"]],\"sequential\":[[0.0,\"#0d0887\"],[0.1111111111111111,\"#46039f\"],[0.2222222222222222,\"#7201a8\"],[0.3333333333333333,\"#9c179e\"],[0.4444444444444444,\"#bd3786\"],[0.5555555555555556,\"#d8576b\"],[0.6666666666666666,\"#ed7953\"],[0.7777777777777778,\"#fb9f3a\"],[0.8888888888888888,\"#fdca26\"],[1.0,\"#f0f921\"]],\"sequentialminus\":[[0.0,\"#0d0887\"],[0.1111111111111111,\"#46039f\"],[0.2222222222222222,\"#7201a8\"],[0.3333333333333333,\"#9c179e\"],[0.4444444444444444,\"#bd3786\"],[0.5555555555555556,\"#d8576b\"],[0.6666666666666666,\"#ed7953\"],[0.7777777777777778,\"#fb9f3a\"],[0.8888888888888888,\"#fdca26\"],[1.0,\"#f0f921\"]]},\"colorway\":[\"#636efa\",\"#EF553B\",\"#00cc96\",\"#ab63fa\",\"#FFA15A\",\"#19d3f3\",\"#FF6692\",\"#B6E880\",\"#FF97FF\",\"#FECB52\"],\"font\":{\"color\":\"#2a3f5f\"},\"geo\":{\"bgcolor\":\"white\",\"lakecolor\":\"white\",\"landcolor\":\"#E5ECF6\",\"showlakes\":true,\"showland\":true,\"subunitcolor\":\"white\"},\"hoverlabel\":{\"align\":\"left\"},\"hovermode\":\"closest\",\"mapbox\":{\"style\":\"light\"},\"paper_bgcolor\":\"white\",\"plot_bgcolor\":\"#E5ECF6\",\"polar\":{\"angularaxis\":{\"gridcolor\":\"white\",\"linecolor\":\"white\",\"ticks\":\"\"},\"bgcolor\":\"#E5ECF6\",\"radialaxis\":{\"gridcolor\":\"white\",\"linecolor\":\"white\",\"ticks\":\"\"}},\"scene\":{\"xaxis\":{\"backgroundcolor\":\"#E5ECF6\",\"gridcolor\":\"white\",\"gridwidth\":2,\"linecolor\":\"white\",\"showbackground\":true,\"ticks\":\"\",\"zerolinecolor\":\"white\"},\"yaxis\":{\"backgroundcolor\":\"#E5ECF6\",\"gridcolor\":\"white\",\"gridwidth\":2,\"linecolor\":\"white\",\"showbackground\":true,\"ticks\":\"\",\"zerolinecolor\":\"white\"},\"zaxis\":{\"backgroundcolor\":\"#E5ECF6\",\"gridcolor\":\"white\",\"gridwidth\":2,\"linecolor\":\"white\",\"showbackground\":true,\"ticks\":\"\",\"zerolinecolor\":\"white\"}},\"shapedefaults\":{\"line\":{\"color\":\"#2a3f5f\"}},\"ternary\":{\"aaxis\":{\"gridcolor\":\"white\",\"linecolor\":\"white\",\"ticks\":\"\"},\"baxis\":{\"gridcolor\":\"white\",\"linecolor\":\"white\",\"ticks\":\"\"},\"bgcolor\":\"#E5ECF6\",\"caxis\":{\"gridcolor\":\"white\",\"linecolor\":\"white\",\"ticks\":\"\"}},\"title\":{\"x\":0.05},\"xaxis\":{\"automargin\":true,\"gridcolor\":\"white\",\"linecolor\":\"white\",\"ticks\":\"\",\"title\":{\"standoff\":15},\"zerolinecolor\":\"white\",\"zerolinewidth\":2},\"yaxis\":{\"automargin\":true,\"gridcolor\":\"white\",\"linecolor\":\"white\",\"ticks\":\"\",\"title\":{\"standoff\":15},\"zerolinecolor\":\"white\",\"zerolinewidth\":2}}},\"title\":{\"text\":\"Internet Service\"},\"xaxis\":{\"type\":\"category\"},\"yaxis\":{\"title\":{\"text\":\"Churn Rate\"}}},                        {\"responsive\": true}                    ).then(function(){\n",
              "                            \n",
              "var gd = document.getElementById('3e93b022-6f1c-401f-ba46-8ab6a6409ec1');\n",
              "var x = new MutationObserver(function (mutations, observer) {{\n",
              "        var display = window.getComputedStyle(gd).display;\n",
              "        if (!display || display === 'none') {{\n",
              "            console.log([gd, 'removed!']);\n",
              "            Plotly.purge(gd);\n",
              "            observer.disconnect();\n",
              "        }}\n",
              "}});\n",
              "\n",
              "// Listen for the removal of the full notebook cells\n",
              "var notebookContainer = gd.closest('#notebook-container');\n",
              "if (notebookContainer) {{\n",
              "    x.observe(notebookContainer, {childList: true});\n",
              "}}\n",
              "\n",
              "// Listen for the clearing of the current output cell\n",
              "var outputEl = gd.closest('.output');\n",
              "if (outputEl) {{\n",
              "    x.observe(outputEl, {childList: true});\n",
              "}}\n",
              "\n",
              "                        })                };                            </script>        </div>\n",
              "</body>\n",
              "</html>"
            ]
          },
          "metadata": {}
        }
      ]
    },
    {
      "cell_type": "code",
      "source": [
        "plot = data.groupby('Contract').Churn.mean().reset_index()\n",
        "plot_data = [\n",
        "    go.Bar(\n",
        "        x=plot['Contract'],\n",
        "        y=plot['Churn'],\n",
        "        width = [0.5, 0.5],\n",
        "        marker=dict(\n",
        "        color=['green', 'blue','orange'])\n",
        "    )\n",
        "]\n",
        "plot_layout = go.Layout(\n",
        "        xaxis={\"type\": \"category\"},\n",
        "        yaxis={\"title\": \"Churn Rate\"},\n",
        "        title='Contract',\n",
        "        plot_bgcolor  = 'rgb(243,243,243)',\n",
        "        paper_bgcolor  = 'rgb(243,243,243)',\n",
        "    )\n",
        "fig = go.Figure(data=plot_data, layout=plot_layout)\n",
        "pyoff.iplot(fig)"
      ],
      "metadata": {
        "colab": {
          "base_uri": "https://localhost:8080/",
          "height": 542
        },
        "id": "4lm7tdxFHuEd",
        "outputId": "37166155-3aef-4907-ecef-83889ef35fa2"
      },
      "execution_count": 15,
      "outputs": [
        {
          "output_type": "display_data",
          "data": {
            "text/html": [
              "<html>\n",
              "<head><meta charset=\"utf-8\" /></head>\n",
              "<body>\n",
              "    <div>            <script src=\"https://cdnjs.cloudflare.com/ajax/libs/mathjax/2.7.5/MathJax.js?config=TeX-AMS-MML_SVG\"></script><script type=\"text/javascript\">if (window.MathJax && window.MathJax.Hub && window.MathJax.Hub.Config) {window.MathJax.Hub.Config({SVG: {font: \"STIX-Web\"}});}</script>                <script type=\"text/javascript\">window.PlotlyConfig = {MathJaxConfig: 'local'};</script>\n",
              "        <script src=\"https://cdn.plot.ly/plotly-2.18.2.min.js\"></script>                <div id=\"586f32b0-722c-4a1c-909a-1af2dfa6961c\" class=\"plotly-graph-div\" style=\"height:525px; width:100%;\"></div>            <script type=\"text/javascript\">                                    window.PLOTLYENV=window.PLOTLYENV || {};                                    if (document.getElementById(\"586f32b0-722c-4a1c-909a-1af2dfa6961c\")) {                    Plotly.newPlot(                        \"586f32b0-722c-4a1c-909a-1af2dfa6961c\",                        [{\"marker\":{\"color\":[\"green\",\"blue\",\"orange\"]},\"width\":[0.5,0.5],\"x\":[\"Month-to-month\",\"One year\",\"Two year\"],\"y\":[0.4270967741935484,0.11269517990495587,0.02831858407079646],\"type\":\"bar\"}],                        {\"paper_bgcolor\":\"rgb(243,243,243)\",\"plot_bgcolor\":\"rgb(243,243,243)\",\"template\":{\"data\":{\"barpolar\":[{\"marker\":{\"line\":{\"color\":\"#E5ECF6\",\"width\":0.5},\"pattern\":{\"fillmode\":\"overlay\",\"size\":10,\"solidity\":0.2}},\"type\":\"barpolar\"}],\"bar\":[{\"error_x\":{\"color\":\"#2a3f5f\"},\"error_y\":{\"color\":\"#2a3f5f\"},\"marker\":{\"line\":{\"color\":\"#E5ECF6\",\"width\":0.5},\"pattern\":{\"fillmode\":\"overlay\",\"size\":10,\"solidity\":0.2}},\"type\":\"bar\"}],\"carpet\":[{\"aaxis\":{\"endlinecolor\":\"#2a3f5f\",\"gridcolor\":\"white\",\"linecolor\":\"white\",\"minorgridcolor\":\"white\",\"startlinecolor\":\"#2a3f5f\"},\"baxis\":{\"endlinecolor\":\"#2a3f5f\",\"gridcolor\":\"white\",\"linecolor\":\"white\",\"minorgridcolor\":\"white\",\"startlinecolor\":\"#2a3f5f\"},\"type\":\"carpet\"}],\"choropleth\":[{\"colorbar\":{\"outlinewidth\":0,\"ticks\":\"\"},\"type\":\"choropleth\"}],\"contourcarpet\":[{\"colorbar\":{\"outlinewidth\":0,\"ticks\":\"\"},\"type\":\"contourcarpet\"}],\"contour\":[{\"colorbar\":{\"outlinewidth\":0,\"ticks\":\"\"},\"colorscale\":[[0.0,\"#0d0887\"],[0.1111111111111111,\"#46039f\"],[0.2222222222222222,\"#7201a8\"],[0.3333333333333333,\"#9c179e\"],[0.4444444444444444,\"#bd3786\"],[0.5555555555555556,\"#d8576b\"],[0.6666666666666666,\"#ed7953\"],[0.7777777777777778,\"#fb9f3a\"],[0.8888888888888888,\"#fdca26\"],[1.0,\"#f0f921\"]],\"type\":\"contour\"}],\"heatmapgl\":[{\"colorbar\":{\"outlinewidth\":0,\"ticks\":\"\"},\"colorscale\":[[0.0,\"#0d0887\"],[0.1111111111111111,\"#46039f\"],[0.2222222222222222,\"#7201a8\"],[0.3333333333333333,\"#9c179e\"],[0.4444444444444444,\"#bd3786\"],[0.5555555555555556,\"#d8576b\"],[0.6666666666666666,\"#ed7953\"],[0.7777777777777778,\"#fb9f3a\"],[0.8888888888888888,\"#fdca26\"],[1.0,\"#f0f921\"]],\"type\":\"heatmapgl\"}],\"heatmap\":[{\"colorbar\":{\"outlinewidth\":0,\"ticks\":\"\"},\"colorscale\":[[0.0,\"#0d0887\"],[0.1111111111111111,\"#46039f\"],[0.2222222222222222,\"#7201a8\"],[0.3333333333333333,\"#9c179e\"],[0.4444444444444444,\"#bd3786\"],[0.5555555555555556,\"#d8576b\"],[0.6666666666666666,\"#ed7953\"],[0.7777777777777778,\"#fb9f3a\"],[0.8888888888888888,\"#fdca26\"],[1.0,\"#f0f921\"]],\"type\":\"heatmap\"}],\"histogram2dcontour\":[{\"colorbar\":{\"outlinewidth\":0,\"ticks\":\"\"},\"colorscale\":[[0.0,\"#0d0887\"],[0.1111111111111111,\"#46039f\"],[0.2222222222222222,\"#7201a8\"],[0.3333333333333333,\"#9c179e\"],[0.4444444444444444,\"#bd3786\"],[0.5555555555555556,\"#d8576b\"],[0.6666666666666666,\"#ed7953\"],[0.7777777777777778,\"#fb9f3a\"],[0.8888888888888888,\"#fdca26\"],[1.0,\"#f0f921\"]],\"type\":\"histogram2dcontour\"}],\"histogram2d\":[{\"colorbar\":{\"outlinewidth\":0,\"ticks\":\"\"},\"colorscale\":[[0.0,\"#0d0887\"],[0.1111111111111111,\"#46039f\"],[0.2222222222222222,\"#7201a8\"],[0.3333333333333333,\"#9c179e\"],[0.4444444444444444,\"#bd3786\"],[0.5555555555555556,\"#d8576b\"],[0.6666666666666666,\"#ed7953\"],[0.7777777777777778,\"#fb9f3a\"],[0.8888888888888888,\"#fdca26\"],[1.0,\"#f0f921\"]],\"type\":\"histogram2d\"}],\"histogram\":[{\"marker\":{\"pattern\":{\"fillmode\":\"overlay\",\"size\":10,\"solidity\":0.2}},\"type\":\"histogram\"}],\"mesh3d\":[{\"colorbar\":{\"outlinewidth\":0,\"ticks\":\"\"},\"type\":\"mesh3d\"}],\"parcoords\":[{\"line\":{\"colorbar\":{\"outlinewidth\":0,\"ticks\":\"\"}},\"type\":\"parcoords\"}],\"pie\":[{\"automargin\":true,\"type\":\"pie\"}],\"scatter3d\":[{\"line\":{\"colorbar\":{\"outlinewidth\":0,\"ticks\":\"\"}},\"marker\":{\"colorbar\":{\"outlinewidth\":0,\"ticks\":\"\"}},\"type\":\"scatter3d\"}],\"scattercarpet\":[{\"marker\":{\"colorbar\":{\"outlinewidth\":0,\"ticks\":\"\"}},\"type\":\"scattercarpet\"}],\"scattergeo\":[{\"marker\":{\"colorbar\":{\"outlinewidth\":0,\"ticks\":\"\"}},\"type\":\"scattergeo\"}],\"scattergl\":[{\"marker\":{\"colorbar\":{\"outlinewidth\":0,\"ticks\":\"\"}},\"type\":\"scattergl\"}],\"scattermapbox\":[{\"marker\":{\"colorbar\":{\"outlinewidth\":0,\"ticks\":\"\"}},\"type\":\"scattermapbox\"}],\"scatterpolargl\":[{\"marker\":{\"colorbar\":{\"outlinewidth\":0,\"ticks\":\"\"}},\"type\":\"scatterpolargl\"}],\"scatterpolar\":[{\"marker\":{\"colorbar\":{\"outlinewidth\":0,\"ticks\":\"\"}},\"type\":\"scatterpolar\"}],\"scatter\":[{\"fillpattern\":{\"fillmode\":\"overlay\",\"size\":10,\"solidity\":0.2},\"type\":\"scatter\"}],\"scatterternary\":[{\"marker\":{\"colorbar\":{\"outlinewidth\":0,\"ticks\":\"\"}},\"type\":\"scatterternary\"}],\"surface\":[{\"colorbar\":{\"outlinewidth\":0,\"ticks\":\"\"},\"colorscale\":[[0.0,\"#0d0887\"],[0.1111111111111111,\"#46039f\"],[0.2222222222222222,\"#7201a8\"],[0.3333333333333333,\"#9c179e\"],[0.4444444444444444,\"#bd3786\"],[0.5555555555555556,\"#d8576b\"],[0.6666666666666666,\"#ed7953\"],[0.7777777777777778,\"#fb9f3a\"],[0.8888888888888888,\"#fdca26\"],[1.0,\"#f0f921\"]],\"type\":\"surface\"}],\"table\":[{\"cells\":{\"fill\":{\"color\":\"#EBF0F8\"},\"line\":{\"color\":\"white\"}},\"header\":{\"fill\":{\"color\":\"#C8D4E3\"},\"line\":{\"color\":\"white\"}},\"type\":\"table\"}]},\"layout\":{\"annotationdefaults\":{\"arrowcolor\":\"#2a3f5f\",\"arrowhead\":0,\"arrowwidth\":1},\"autotypenumbers\":\"strict\",\"coloraxis\":{\"colorbar\":{\"outlinewidth\":0,\"ticks\":\"\"}},\"colorscale\":{\"diverging\":[[0,\"#8e0152\"],[0.1,\"#c51b7d\"],[0.2,\"#de77ae\"],[0.3,\"#f1b6da\"],[0.4,\"#fde0ef\"],[0.5,\"#f7f7f7\"],[0.6,\"#e6f5d0\"],[0.7,\"#b8e186\"],[0.8,\"#7fbc41\"],[0.9,\"#4d9221\"],[1,\"#276419\"]],\"sequential\":[[0.0,\"#0d0887\"],[0.1111111111111111,\"#46039f\"],[0.2222222222222222,\"#7201a8\"],[0.3333333333333333,\"#9c179e\"],[0.4444444444444444,\"#bd3786\"],[0.5555555555555556,\"#d8576b\"],[0.6666666666666666,\"#ed7953\"],[0.7777777777777778,\"#fb9f3a\"],[0.8888888888888888,\"#fdca26\"],[1.0,\"#f0f921\"]],\"sequentialminus\":[[0.0,\"#0d0887\"],[0.1111111111111111,\"#46039f\"],[0.2222222222222222,\"#7201a8\"],[0.3333333333333333,\"#9c179e\"],[0.4444444444444444,\"#bd3786\"],[0.5555555555555556,\"#d8576b\"],[0.6666666666666666,\"#ed7953\"],[0.7777777777777778,\"#fb9f3a\"],[0.8888888888888888,\"#fdca26\"],[1.0,\"#f0f921\"]]},\"colorway\":[\"#636efa\",\"#EF553B\",\"#00cc96\",\"#ab63fa\",\"#FFA15A\",\"#19d3f3\",\"#FF6692\",\"#B6E880\",\"#FF97FF\",\"#FECB52\"],\"font\":{\"color\":\"#2a3f5f\"},\"geo\":{\"bgcolor\":\"white\",\"lakecolor\":\"white\",\"landcolor\":\"#E5ECF6\",\"showlakes\":true,\"showland\":true,\"subunitcolor\":\"white\"},\"hoverlabel\":{\"align\":\"left\"},\"hovermode\":\"closest\",\"mapbox\":{\"style\":\"light\"},\"paper_bgcolor\":\"white\",\"plot_bgcolor\":\"#E5ECF6\",\"polar\":{\"angularaxis\":{\"gridcolor\":\"white\",\"linecolor\":\"white\",\"ticks\":\"\"},\"bgcolor\":\"#E5ECF6\",\"radialaxis\":{\"gridcolor\":\"white\",\"linecolor\":\"white\",\"ticks\":\"\"}},\"scene\":{\"xaxis\":{\"backgroundcolor\":\"#E5ECF6\",\"gridcolor\":\"white\",\"gridwidth\":2,\"linecolor\":\"white\",\"showbackground\":true,\"ticks\":\"\",\"zerolinecolor\":\"white\"},\"yaxis\":{\"backgroundcolor\":\"#E5ECF6\",\"gridcolor\":\"white\",\"gridwidth\":2,\"linecolor\":\"white\",\"showbackground\":true,\"ticks\":\"\",\"zerolinecolor\":\"white\"},\"zaxis\":{\"backgroundcolor\":\"#E5ECF6\",\"gridcolor\":\"white\",\"gridwidth\":2,\"linecolor\":\"white\",\"showbackground\":true,\"ticks\":\"\",\"zerolinecolor\":\"white\"}},\"shapedefaults\":{\"line\":{\"color\":\"#2a3f5f\"}},\"ternary\":{\"aaxis\":{\"gridcolor\":\"white\",\"linecolor\":\"white\",\"ticks\":\"\"},\"baxis\":{\"gridcolor\":\"white\",\"linecolor\":\"white\",\"ticks\":\"\"},\"bgcolor\":\"#E5ECF6\",\"caxis\":{\"gridcolor\":\"white\",\"linecolor\":\"white\",\"ticks\":\"\"}},\"title\":{\"x\":0.05},\"xaxis\":{\"automargin\":true,\"gridcolor\":\"white\",\"linecolor\":\"white\",\"ticks\":\"\",\"title\":{\"standoff\":15},\"zerolinecolor\":\"white\",\"zerolinewidth\":2},\"yaxis\":{\"automargin\":true,\"gridcolor\":\"white\",\"linecolor\":\"white\",\"ticks\":\"\",\"title\":{\"standoff\":15},\"zerolinecolor\":\"white\",\"zerolinewidth\":2}}},\"title\":{\"text\":\"Contract\"},\"xaxis\":{\"type\":\"category\"},\"yaxis\":{\"title\":{\"text\":\"Churn Rate\"}}},                        {\"responsive\": true}                    ).then(function(){\n",
              "                            \n",
              "var gd = document.getElementById('586f32b0-722c-4a1c-909a-1af2dfa6961c');\n",
              "var x = new MutationObserver(function (mutations, observer) {{\n",
              "        var display = window.getComputedStyle(gd).display;\n",
              "        if (!display || display === 'none') {{\n",
              "            console.log([gd, 'removed!']);\n",
              "            Plotly.purge(gd);\n",
              "            observer.disconnect();\n",
              "        }}\n",
              "}});\n",
              "\n",
              "// Listen for the removal of the full notebook cells\n",
              "var notebookContainer = gd.closest('#notebook-container');\n",
              "if (notebookContainer) {{\n",
              "    x.observe(notebookContainer, {childList: true});\n",
              "}}\n",
              "\n",
              "// Listen for the clearing of the current output cell\n",
              "var outputEl = gd.closest('.output');\n",
              "if (outputEl) {{\n",
              "    x.observe(outputEl, {childList: true});\n",
              "}}\n",
              "\n",
              "                        })                };                            </script>        </div>\n",
              "</body>\n",
              "</html>"
            ]
          },
          "metadata": {}
        }
      ]
    },
    {
      "cell_type": "code",
      "source": [
        "plot = data.groupby('TechSupport').Churn.mean().reset_index()\n",
        "plot_data = [\n",
        "    go.Bar(\n",
        "        x=plot['TechSupport'],\n",
        "        y=plot['Churn'],\n",
        "        width = [0.5, 0.5],\n",
        "        marker=dict(\n",
        "        color=['green', 'blue','orange'])\n",
        "    )\n",
        "]\n",
        "plot_layout = go.Layout(\n",
        "        xaxis={\"type\": \"category\"},\n",
        "        yaxis={\"title\": \"Churn Rate\"},\n",
        "        title='Tech Support',\n",
        "        plot_bgcolor  = 'rgb(243,243,243)',\n",
        "        paper_bgcolor  = 'rgb(243,243,243)',\n",
        "    )\n",
        "fig = go.Figure(data=plot_data, layout=plot_layout)\n",
        "pyoff.iplot(fig)"
      ],
      "metadata": {
        "colab": {
          "base_uri": "https://localhost:8080/",
          "height": 542
        },
        "id": "GWQnRWpSIRFZ",
        "outputId": "084beaec-9448-4f9b-fafe-ef2c99ce86f5"
      },
      "execution_count": 16,
      "outputs": [
        {
          "output_type": "display_data",
          "data": {
            "text/html": [
              "<html>\n",
              "<head><meta charset=\"utf-8\" /></head>\n",
              "<body>\n",
              "    <div>            <script src=\"https://cdnjs.cloudflare.com/ajax/libs/mathjax/2.7.5/MathJax.js?config=TeX-AMS-MML_SVG\"></script><script type=\"text/javascript\">if (window.MathJax && window.MathJax.Hub && window.MathJax.Hub.Config) {window.MathJax.Hub.Config({SVG: {font: \"STIX-Web\"}});}</script>                <script type=\"text/javascript\">window.PlotlyConfig = {MathJaxConfig: 'local'};</script>\n",
              "        <script src=\"https://cdn.plot.ly/plotly-2.18.2.min.js\"></script>                <div id=\"fffc3fc8-7497-41ad-8273-5a61a100c9c5\" class=\"plotly-graph-div\" style=\"height:525px; width:100%;\"></div>            <script type=\"text/javascript\">                                    window.PLOTLYENV=window.PLOTLYENV || {};                                    if (document.getElementById(\"fffc3fc8-7497-41ad-8273-5a61a100c9c5\")) {                    Plotly.newPlot(                        \"fffc3fc8-7497-41ad-8273-5a61a100c9c5\",                        [{\"marker\":{\"color\":[\"green\",\"blue\",\"orange\"]},\"width\":[0.5,0.5],\"x\":[\"No\",\"No internet service\",\"Yes\"],\"y\":[0.4163547365390153,0.07404980340760157,0.15166340508806261],\"type\":\"bar\"}],                        {\"paper_bgcolor\":\"rgb(243,243,243)\",\"plot_bgcolor\":\"rgb(243,243,243)\",\"template\":{\"data\":{\"barpolar\":[{\"marker\":{\"line\":{\"color\":\"#E5ECF6\",\"width\":0.5},\"pattern\":{\"fillmode\":\"overlay\",\"size\":10,\"solidity\":0.2}},\"type\":\"barpolar\"}],\"bar\":[{\"error_x\":{\"color\":\"#2a3f5f\"},\"error_y\":{\"color\":\"#2a3f5f\"},\"marker\":{\"line\":{\"color\":\"#E5ECF6\",\"width\":0.5},\"pattern\":{\"fillmode\":\"overlay\",\"size\":10,\"solidity\":0.2}},\"type\":\"bar\"}],\"carpet\":[{\"aaxis\":{\"endlinecolor\":\"#2a3f5f\",\"gridcolor\":\"white\",\"linecolor\":\"white\",\"minorgridcolor\":\"white\",\"startlinecolor\":\"#2a3f5f\"},\"baxis\":{\"endlinecolor\":\"#2a3f5f\",\"gridcolor\":\"white\",\"linecolor\":\"white\",\"minorgridcolor\":\"white\",\"startlinecolor\":\"#2a3f5f\"},\"type\":\"carpet\"}],\"choropleth\":[{\"colorbar\":{\"outlinewidth\":0,\"ticks\":\"\"},\"type\":\"choropleth\"}],\"contourcarpet\":[{\"colorbar\":{\"outlinewidth\":0,\"ticks\":\"\"},\"type\":\"contourcarpet\"}],\"contour\":[{\"colorbar\":{\"outlinewidth\":0,\"ticks\":\"\"},\"colorscale\":[[0.0,\"#0d0887\"],[0.1111111111111111,\"#46039f\"],[0.2222222222222222,\"#7201a8\"],[0.3333333333333333,\"#9c179e\"],[0.4444444444444444,\"#bd3786\"],[0.5555555555555556,\"#d8576b\"],[0.6666666666666666,\"#ed7953\"],[0.7777777777777778,\"#fb9f3a\"],[0.8888888888888888,\"#fdca26\"],[1.0,\"#f0f921\"]],\"type\":\"contour\"}],\"heatmapgl\":[{\"colorbar\":{\"outlinewidth\":0,\"ticks\":\"\"},\"colorscale\":[[0.0,\"#0d0887\"],[0.1111111111111111,\"#46039f\"],[0.2222222222222222,\"#7201a8\"],[0.3333333333333333,\"#9c179e\"],[0.4444444444444444,\"#bd3786\"],[0.5555555555555556,\"#d8576b\"],[0.6666666666666666,\"#ed7953\"],[0.7777777777777778,\"#fb9f3a\"],[0.8888888888888888,\"#fdca26\"],[1.0,\"#f0f921\"]],\"type\":\"heatmapgl\"}],\"heatmap\":[{\"colorbar\":{\"outlinewidth\":0,\"ticks\":\"\"},\"colorscale\":[[0.0,\"#0d0887\"],[0.1111111111111111,\"#46039f\"],[0.2222222222222222,\"#7201a8\"],[0.3333333333333333,\"#9c179e\"],[0.4444444444444444,\"#bd3786\"],[0.5555555555555556,\"#d8576b\"],[0.6666666666666666,\"#ed7953\"],[0.7777777777777778,\"#fb9f3a\"],[0.8888888888888888,\"#fdca26\"],[1.0,\"#f0f921\"]],\"type\":\"heatmap\"}],\"histogram2dcontour\":[{\"colorbar\":{\"outlinewidth\":0,\"ticks\":\"\"},\"colorscale\":[[0.0,\"#0d0887\"],[0.1111111111111111,\"#46039f\"],[0.2222222222222222,\"#7201a8\"],[0.3333333333333333,\"#9c179e\"],[0.4444444444444444,\"#bd3786\"],[0.5555555555555556,\"#d8576b\"],[0.6666666666666666,\"#ed7953\"],[0.7777777777777778,\"#fb9f3a\"],[0.8888888888888888,\"#fdca26\"],[1.0,\"#f0f921\"]],\"type\":\"histogram2dcontour\"}],\"histogram2d\":[{\"colorbar\":{\"outlinewidth\":0,\"ticks\":\"\"},\"colorscale\":[[0.0,\"#0d0887\"],[0.1111111111111111,\"#46039f\"],[0.2222222222222222,\"#7201a8\"],[0.3333333333333333,\"#9c179e\"],[0.4444444444444444,\"#bd3786\"],[0.5555555555555556,\"#d8576b\"],[0.6666666666666666,\"#ed7953\"],[0.7777777777777778,\"#fb9f3a\"],[0.8888888888888888,\"#fdca26\"],[1.0,\"#f0f921\"]],\"type\":\"histogram2d\"}],\"histogram\":[{\"marker\":{\"pattern\":{\"fillmode\":\"overlay\",\"size\":10,\"solidity\":0.2}},\"type\":\"histogram\"}],\"mesh3d\":[{\"colorbar\":{\"outlinewidth\":0,\"ticks\":\"\"},\"type\":\"mesh3d\"}],\"parcoords\":[{\"line\":{\"colorbar\":{\"outlinewidth\":0,\"ticks\":\"\"}},\"type\":\"parcoords\"}],\"pie\":[{\"automargin\":true,\"type\":\"pie\"}],\"scatter3d\":[{\"line\":{\"colorbar\":{\"outlinewidth\":0,\"ticks\":\"\"}},\"marker\":{\"colorbar\":{\"outlinewidth\":0,\"ticks\":\"\"}},\"type\":\"scatter3d\"}],\"scattercarpet\":[{\"marker\":{\"colorbar\":{\"outlinewidth\":0,\"ticks\":\"\"}},\"type\":\"scattercarpet\"}],\"scattergeo\":[{\"marker\":{\"colorbar\":{\"outlinewidth\":0,\"ticks\":\"\"}},\"type\":\"scattergeo\"}],\"scattergl\":[{\"marker\":{\"colorbar\":{\"outlinewidth\":0,\"ticks\":\"\"}},\"type\":\"scattergl\"}],\"scattermapbox\":[{\"marker\":{\"colorbar\":{\"outlinewidth\":0,\"ticks\":\"\"}},\"type\":\"scattermapbox\"}],\"scatterpolargl\":[{\"marker\":{\"colorbar\":{\"outlinewidth\":0,\"ticks\":\"\"}},\"type\":\"scatterpolargl\"}],\"scatterpolar\":[{\"marker\":{\"colorbar\":{\"outlinewidth\":0,\"ticks\":\"\"}},\"type\":\"scatterpolar\"}],\"scatter\":[{\"fillpattern\":{\"fillmode\":\"overlay\",\"size\":10,\"solidity\":0.2},\"type\":\"scatter\"}],\"scatterternary\":[{\"marker\":{\"colorbar\":{\"outlinewidth\":0,\"ticks\":\"\"}},\"type\":\"scatterternary\"}],\"surface\":[{\"colorbar\":{\"outlinewidth\":0,\"ticks\":\"\"},\"colorscale\":[[0.0,\"#0d0887\"],[0.1111111111111111,\"#46039f\"],[0.2222222222222222,\"#7201a8\"],[0.3333333333333333,\"#9c179e\"],[0.4444444444444444,\"#bd3786\"],[0.5555555555555556,\"#d8576b\"],[0.6666666666666666,\"#ed7953\"],[0.7777777777777778,\"#fb9f3a\"],[0.8888888888888888,\"#fdca26\"],[1.0,\"#f0f921\"]],\"type\":\"surface\"}],\"table\":[{\"cells\":{\"fill\":{\"color\":\"#EBF0F8\"},\"line\":{\"color\":\"white\"}},\"header\":{\"fill\":{\"color\":\"#C8D4E3\"},\"line\":{\"color\":\"white\"}},\"type\":\"table\"}]},\"layout\":{\"annotationdefaults\":{\"arrowcolor\":\"#2a3f5f\",\"arrowhead\":0,\"arrowwidth\":1},\"autotypenumbers\":\"strict\",\"coloraxis\":{\"colorbar\":{\"outlinewidth\":0,\"ticks\":\"\"}},\"colorscale\":{\"diverging\":[[0,\"#8e0152\"],[0.1,\"#c51b7d\"],[0.2,\"#de77ae\"],[0.3,\"#f1b6da\"],[0.4,\"#fde0ef\"],[0.5,\"#f7f7f7\"],[0.6,\"#e6f5d0\"],[0.7,\"#b8e186\"],[0.8,\"#7fbc41\"],[0.9,\"#4d9221\"],[1,\"#276419\"]],\"sequential\":[[0.0,\"#0d0887\"],[0.1111111111111111,\"#46039f\"],[0.2222222222222222,\"#7201a8\"],[0.3333333333333333,\"#9c179e\"],[0.4444444444444444,\"#bd3786\"],[0.5555555555555556,\"#d8576b\"],[0.6666666666666666,\"#ed7953\"],[0.7777777777777778,\"#fb9f3a\"],[0.8888888888888888,\"#fdca26\"],[1.0,\"#f0f921\"]],\"sequentialminus\":[[0.0,\"#0d0887\"],[0.1111111111111111,\"#46039f\"],[0.2222222222222222,\"#7201a8\"],[0.3333333333333333,\"#9c179e\"],[0.4444444444444444,\"#bd3786\"],[0.5555555555555556,\"#d8576b\"],[0.6666666666666666,\"#ed7953\"],[0.7777777777777778,\"#fb9f3a\"],[0.8888888888888888,\"#fdca26\"],[1.0,\"#f0f921\"]]},\"colorway\":[\"#636efa\",\"#EF553B\",\"#00cc96\",\"#ab63fa\",\"#FFA15A\",\"#19d3f3\",\"#FF6692\",\"#B6E880\",\"#FF97FF\",\"#FECB52\"],\"font\":{\"color\":\"#2a3f5f\"},\"geo\":{\"bgcolor\":\"white\",\"lakecolor\":\"white\",\"landcolor\":\"#E5ECF6\",\"showlakes\":true,\"showland\":true,\"subunitcolor\":\"white\"},\"hoverlabel\":{\"align\":\"left\"},\"hovermode\":\"closest\",\"mapbox\":{\"style\":\"light\"},\"paper_bgcolor\":\"white\",\"plot_bgcolor\":\"#E5ECF6\",\"polar\":{\"angularaxis\":{\"gridcolor\":\"white\",\"linecolor\":\"white\",\"ticks\":\"\"},\"bgcolor\":\"#E5ECF6\",\"radialaxis\":{\"gridcolor\":\"white\",\"linecolor\":\"white\",\"ticks\":\"\"}},\"scene\":{\"xaxis\":{\"backgroundcolor\":\"#E5ECF6\",\"gridcolor\":\"white\",\"gridwidth\":2,\"linecolor\":\"white\",\"showbackground\":true,\"ticks\":\"\",\"zerolinecolor\":\"white\"},\"yaxis\":{\"backgroundcolor\":\"#E5ECF6\",\"gridcolor\":\"white\",\"gridwidth\":2,\"linecolor\":\"white\",\"showbackground\":true,\"ticks\":\"\",\"zerolinecolor\":\"white\"},\"zaxis\":{\"backgroundcolor\":\"#E5ECF6\",\"gridcolor\":\"white\",\"gridwidth\":2,\"linecolor\":\"white\",\"showbackground\":true,\"ticks\":\"\",\"zerolinecolor\":\"white\"}},\"shapedefaults\":{\"line\":{\"color\":\"#2a3f5f\"}},\"ternary\":{\"aaxis\":{\"gridcolor\":\"white\",\"linecolor\":\"white\",\"ticks\":\"\"},\"baxis\":{\"gridcolor\":\"white\",\"linecolor\":\"white\",\"ticks\":\"\"},\"bgcolor\":\"#E5ECF6\",\"caxis\":{\"gridcolor\":\"white\",\"linecolor\":\"white\",\"ticks\":\"\"}},\"title\":{\"x\":0.05},\"xaxis\":{\"automargin\":true,\"gridcolor\":\"white\",\"linecolor\":\"white\",\"ticks\":\"\",\"title\":{\"standoff\":15},\"zerolinecolor\":\"white\",\"zerolinewidth\":2},\"yaxis\":{\"automargin\":true,\"gridcolor\":\"white\",\"linecolor\":\"white\",\"ticks\":\"\",\"title\":{\"standoff\":15},\"zerolinecolor\":\"white\",\"zerolinewidth\":2}}},\"title\":{\"text\":\"Tech Support\"},\"xaxis\":{\"type\":\"category\"},\"yaxis\":{\"title\":{\"text\":\"Churn Rate\"}}},                        {\"responsive\": true}                    ).then(function(){\n",
              "                            \n",
              "var gd = document.getElementById('fffc3fc8-7497-41ad-8273-5a61a100c9c5');\n",
              "var x = new MutationObserver(function (mutations, observer) {{\n",
              "        var display = window.getComputedStyle(gd).display;\n",
              "        if (!display || display === 'none') {{\n",
              "            console.log([gd, 'removed!']);\n",
              "            Plotly.purge(gd);\n",
              "            observer.disconnect();\n",
              "        }}\n",
              "}});\n",
              "\n",
              "// Listen for the removal of the full notebook cells\n",
              "var notebookContainer = gd.closest('#notebook-container');\n",
              "if (notebookContainer) {{\n",
              "    x.observe(notebookContainer, {childList: true});\n",
              "}}\n",
              "\n",
              "// Listen for the clearing of the current output cell\n",
              "var outputEl = gd.closest('.output');\n",
              "if (outputEl) {{\n",
              "    x.observe(outputEl, {childList: true});\n",
              "}}\n",
              "\n",
              "                        })                };                            </script>        </div>\n",
              "</body>\n",
              "</html>"
            ]
          },
          "metadata": {}
        }
      ]
    },
    {
      "cell_type": "code",
      "source": [
        "plot = data.groupby('PaymentMethod').Churn.mean().reset_index()\n",
        "plot_data = [\n",
        "    go.Bar(\n",
        "        x=plot['PaymentMethod'],\n",
        "        y=plot['Churn'],\n",
        "        width = [0.5, 0.5],\n",
        "        marker=dict(\n",
        "        color=['green', 'blue'])\n",
        "    )\n",
        "]\n",
        "plot_layout = go.Layout(\n",
        "        xaxis={\"type\": \"category\"},\n",
        "        yaxis={\"title\": \"Churn Rate\"},\n",
        "        title='PaymentMethod',\n",
        "        plot_bgcolor  = 'rgb(243,243,243)',\n",
        "        paper_bgcolor  = 'rgb(243,243,243)',\n",
        "    )\n",
        "fig = go.Figure(data=plot_data, layout=plot_layout)\n",
        "pyoff.iplot(fig)"
      ],
      "metadata": {
        "colab": {
          "base_uri": "https://localhost:8080/",
          "height": 542
        },
        "id": "C_LZEsVSIfq3",
        "outputId": "b0cec838-928f-46ce-abf9-1fb818da7064"
      },
      "execution_count": 17,
      "outputs": [
        {
          "output_type": "display_data",
          "data": {
            "text/html": [
              "<html>\n",
              "<head><meta charset=\"utf-8\" /></head>\n",
              "<body>\n",
              "    <div>            <script src=\"https://cdnjs.cloudflare.com/ajax/libs/mathjax/2.7.5/MathJax.js?config=TeX-AMS-MML_SVG\"></script><script type=\"text/javascript\">if (window.MathJax && window.MathJax.Hub && window.MathJax.Hub.Config) {window.MathJax.Hub.Config({SVG: {font: \"STIX-Web\"}});}</script>                <script type=\"text/javascript\">window.PlotlyConfig = {MathJaxConfig: 'local'};</script>\n",
              "        <script src=\"https://cdn.plot.ly/plotly-2.18.2.min.js\"></script>                <div id=\"54537e6c-5576-47f0-9b03-3a89a9f82ccd\" class=\"plotly-graph-div\" style=\"height:525px; width:100%;\"></div>            <script type=\"text/javascript\">                                    window.PLOTLYENV=window.PLOTLYENV || {};                                    if (document.getElementById(\"54537e6c-5576-47f0-9b03-3a89a9f82ccd\")) {                    Plotly.newPlot(                        \"54537e6c-5576-47f0-9b03-3a89a9f82ccd\",                        [{\"marker\":{\"color\":[\"green\",\"blue\"]},\"width\":[0.5,0.5],\"x\":[\"Bank transfer (automatic)\",\"Credit card (automatic)\",\"Electronic check\",\"Mailed check\"],\"y\":[0.16709844559585493,0.15243101182654403,0.4528541226215645,0.19106699751861042],\"type\":\"bar\"}],                        {\"paper_bgcolor\":\"rgb(243,243,243)\",\"plot_bgcolor\":\"rgb(243,243,243)\",\"template\":{\"data\":{\"barpolar\":[{\"marker\":{\"line\":{\"color\":\"#E5ECF6\",\"width\":0.5},\"pattern\":{\"fillmode\":\"overlay\",\"size\":10,\"solidity\":0.2}},\"type\":\"barpolar\"}],\"bar\":[{\"error_x\":{\"color\":\"#2a3f5f\"},\"error_y\":{\"color\":\"#2a3f5f\"},\"marker\":{\"line\":{\"color\":\"#E5ECF6\",\"width\":0.5},\"pattern\":{\"fillmode\":\"overlay\",\"size\":10,\"solidity\":0.2}},\"type\":\"bar\"}],\"carpet\":[{\"aaxis\":{\"endlinecolor\":\"#2a3f5f\",\"gridcolor\":\"white\",\"linecolor\":\"white\",\"minorgridcolor\":\"white\",\"startlinecolor\":\"#2a3f5f\"},\"baxis\":{\"endlinecolor\":\"#2a3f5f\",\"gridcolor\":\"white\",\"linecolor\":\"white\",\"minorgridcolor\":\"white\",\"startlinecolor\":\"#2a3f5f\"},\"type\":\"carpet\"}],\"choropleth\":[{\"colorbar\":{\"outlinewidth\":0,\"ticks\":\"\"},\"type\":\"choropleth\"}],\"contourcarpet\":[{\"colorbar\":{\"outlinewidth\":0,\"ticks\":\"\"},\"type\":\"contourcarpet\"}],\"contour\":[{\"colorbar\":{\"outlinewidth\":0,\"ticks\":\"\"},\"colorscale\":[[0.0,\"#0d0887\"],[0.1111111111111111,\"#46039f\"],[0.2222222222222222,\"#7201a8\"],[0.3333333333333333,\"#9c179e\"],[0.4444444444444444,\"#bd3786\"],[0.5555555555555556,\"#d8576b\"],[0.6666666666666666,\"#ed7953\"],[0.7777777777777778,\"#fb9f3a\"],[0.8888888888888888,\"#fdca26\"],[1.0,\"#f0f921\"]],\"type\":\"contour\"}],\"heatmapgl\":[{\"colorbar\":{\"outlinewidth\":0,\"ticks\":\"\"},\"colorscale\":[[0.0,\"#0d0887\"],[0.1111111111111111,\"#46039f\"],[0.2222222222222222,\"#7201a8\"],[0.3333333333333333,\"#9c179e\"],[0.4444444444444444,\"#bd3786\"],[0.5555555555555556,\"#d8576b\"],[0.6666666666666666,\"#ed7953\"],[0.7777777777777778,\"#fb9f3a\"],[0.8888888888888888,\"#fdca26\"],[1.0,\"#f0f921\"]],\"type\":\"heatmapgl\"}],\"heatmap\":[{\"colorbar\":{\"outlinewidth\":0,\"ticks\":\"\"},\"colorscale\":[[0.0,\"#0d0887\"],[0.1111111111111111,\"#46039f\"],[0.2222222222222222,\"#7201a8\"],[0.3333333333333333,\"#9c179e\"],[0.4444444444444444,\"#bd3786\"],[0.5555555555555556,\"#d8576b\"],[0.6666666666666666,\"#ed7953\"],[0.7777777777777778,\"#fb9f3a\"],[0.8888888888888888,\"#fdca26\"],[1.0,\"#f0f921\"]],\"type\":\"heatmap\"}],\"histogram2dcontour\":[{\"colorbar\":{\"outlinewidth\":0,\"ticks\":\"\"},\"colorscale\":[[0.0,\"#0d0887\"],[0.1111111111111111,\"#46039f\"],[0.2222222222222222,\"#7201a8\"],[0.3333333333333333,\"#9c179e\"],[0.4444444444444444,\"#bd3786\"],[0.5555555555555556,\"#d8576b\"],[0.6666666666666666,\"#ed7953\"],[0.7777777777777778,\"#fb9f3a\"],[0.8888888888888888,\"#fdca26\"],[1.0,\"#f0f921\"]],\"type\":\"histogram2dcontour\"}],\"histogram2d\":[{\"colorbar\":{\"outlinewidth\":0,\"ticks\":\"\"},\"colorscale\":[[0.0,\"#0d0887\"],[0.1111111111111111,\"#46039f\"],[0.2222222222222222,\"#7201a8\"],[0.3333333333333333,\"#9c179e\"],[0.4444444444444444,\"#bd3786\"],[0.5555555555555556,\"#d8576b\"],[0.6666666666666666,\"#ed7953\"],[0.7777777777777778,\"#fb9f3a\"],[0.8888888888888888,\"#fdca26\"],[1.0,\"#f0f921\"]],\"type\":\"histogram2d\"}],\"histogram\":[{\"marker\":{\"pattern\":{\"fillmode\":\"overlay\",\"size\":10,\"solidity\":0.2}},\"type\":\"histogram\"}],\"mesh3d\":[{\"colorbar\":{\"outlinewidth\":0,\"ticks\":\"\"},\"type\":\"mesh3d\"}],\"parcoords\":[{\"line\":{\"colorbar\":{\"outlinewidth\":0,\"ticks\":\"\"}},\"type\":\"parcoords\"}],\"pie\":[{\"automargin\":true,\"type\":\"pie\"}],\"scatter3d\":[{\"line\":{\"colorbar\":{\"outlinewidth\":0,\"ticks\":\"\"}},\"marker\":{\"colorbar\":{\"outlinewidth\":0,\"ticks\":\"\"}},\"type\":\"scatter3d\"}],\"scattercarpet\":[{\"marker\":{\"colorbar\":{\"outlinewidth\":0,\"ticks\":\"\"}},\"type\":\"scattercarpet\"}],\"scattergeo\":[{\"marker\":{\"colorbar\":{\"outlinewidth\":0,\"ticks\":\"\"}},\"type\":\"scattergeo\"}],\"scattergl\":[{\"marker\":{\"colorbar\":{\"outlinewidth\":0,\"ticks\":\"\"}},\"type\":\"scattergl\"}],\"scattermapbox\":[{\"marker\":{\"colorbar\":{\"outlinewidth\":0,\"ticks\":\"\"}},\"type\":\"scattermapbox\"}],\"scatterpolargl\":[{\"marker\":{\"colorbar\":{\"outlinewidth\":0,\"ticks\":\"\"}},\"type\":\"scatterpolargl\"}],\"scatterpolar\":[{\"marker\":{\"colorbar\":{\"outlinewidth\":0,\"ticks\":\"\"}},\"type\":\"scatterpolar\"}],\"scatter\":[{\"fillpattern\":{\"fillmode\":\"overlay\",\"size\":10,\"solidity\":0.2},\"type\":\"scatter\"}],\"scatterternary\":[{\"marker\":{\"colorbar\":{\"outlinewidth\":0,\"ticks\":\"\"}},\"type\":\"scatterternary\"}],\"surface\":[{\"colorbar\":{\"outlinewidth\":0,\"ticks\":\"\"},\"colorscale\":[[0.0,\"#0d0887\"],[0.1111111111111111,\"#46039f\"],[0.2222222222222222,\"#7201a8\"],[0.3333333333333333,\"#9c179e\"],[0.4444444444444444,\"#bd3786\"],[0.5555555555555556,\"#d8576b\"],[0.6666666666666666,\"#ed7953\"],[0.7777777777777778,\"#fb9f3a\"],[0.8888888888888888,\"#fdca26\"],[1.0,\"#f0f921\"]],\"type\":\"surface\"}],\"table\":[{\"cells\":{\"fill\":{\"color\":\"#EBF0F8\"},\"line\":{\"color\":\"white\"}},\"header\":{\"fill\":{\"color\":\"#C8D4E3\"},\"line\":{\"color\":\"white\"}},\"type\":\"table\"}]},\"layout\":{\"annotationdefaults\":{\"arrowcolor\":\"#2a3f5f\",\"arrowhead\":0,\"arrowwidth\":1},\"autotypenumbers\":\"strict\",\"coloraxis\":{\"colorbar\":{\"outlinewidth\":0,\"ticks\":\"\"}},\"colorscale\":{\"diverging\":[[0,\"#8e0152\"],[0.1,\"#c51b7d\"],[0.2,\"#de77ae\"],[0.3,\"#f1b6da\"],[0.4,\"#fde0ef\"],[0.5,\"#f7f7f7\"],[0.6,\"#e6f5d0\"],[0.7,\"#b8e186\"],[0.8,\"#7fbc41\"],[0.9,\"#4d9221\"],[1,\"#276419\"]],\"sequential\":[[0.0,\"#0d0887\"],[0.1111111111111111,\"#46039f\"],[0.2222222222222222,\"#7201a8\"],[0.3333333333333333,\"#9c179e\"],[0.4444444444444444,\"#bd3786\"],[0.5555555555555556,\"#d8576b\"],[0.6666666666666666,\"#ed7953\"],[0.7777777777777778,\"#fb9f3a\"],[0.8888888888888888,\"#fdca26\"],[1.0,\"#f0f921\"]],\"sequentialminus\":[[0.0,\"#0d0887\"],[0.1111111111111111,\"#46039f\"],[0.2222222222222222,\"#7201a8\"],[0.3333333333333333,\"#9c179e\"],[0.4444444444444444,\"#bd3786\"],[0.5555555555555556,\"#d8576b\"],[0.6666666666666666,\"#ed7953\"],[0.7777777777777778,\"#fb9f3a\"],[0.8888888888888888,\"#fdca26\"],[1.0,\"#f0f921\"]]},\"colorway\":[\"#636efa\",\"#EF553B\",\"#00cc96\",\"#ab63fa\",\"#FFA15A\",\"#19d3f3\",\"#FF6692\",\"#B6E880\",\"#FF97FF\",\"#FECB52\"],\"font\":{\"color\":\"#2a3f5f\"},\"geo\":{\"bgcolor\":\"white\",\"lakecolor\":\"white\",\"landcolor\":\"#E5ECF6\",\"showlakes\":true,\"showland\":true,\"subunitcolor\":\"white\"},\"hoverlabel\":{\"align\":\"left\"},\"hovermode\":\"closest\",\"mapbox\":{\"style\":\"light\"},\"paper_bgcolor\":\"white\",\"plot_bgcolor\":\"#E5ECF6\",\"polar\":{\"angularaxis\":{\"gridcolor\":\"white\",\"linecolor\":\"white\",\"ticks\":\"\"},\"bgcolor\":\"#E5ECF6\",\"radialaxis\":{\"gridcolor\":\"white\",\"linecolor\":\"white\",\"ticks\":\"\"}},\"scene\":{\"xaxis\":{\"backgroundcolor\":\"#E5ECF6\",\"gridcolor\":\"white\",\"gridwidth\":2,\"linecolor\":\"white\",\"showbackground\":true,\"ticks\":\"\",\"zerolinecolor\":\"white\"},\"yaxis\":{\"backgroundcolor\":\"#E5ECF6\",\"gridcolor\":\"white\",\"gridwidth\":2,\"linecolor\":\"white\",\"showbackground\":true,\"ticks\":\"\",\"zerolinecolor\":\"white\"},\"zaxis\":{\"backgroundcolor\":\"#E5ECF6\",\"gridcolor\":\"white\",\"gridwidth\":2,\"linecolor\":\"white\",\"showbackground\":true,\"ticks\":\"\",\"zerolinecolor\":\"white\"}},\"shapedefaults\":{\"line\":{\"color\":\"#2a3f5f\"}},\"ternary\":{\"aaxis\":{\"gridcolor\":\"white\",\"linecolor\":\"white\",\"ticks\":\"\"},\"baxis\":{\"gridcolor\":\"white\",\"linecolor\":\"white\",\"ticks\":\"\"},\"bgcolor\":\"#E5ECF6\",\"caxis\":{\"gridcolor\":\"white\",\"linecolor\":\"white\",\"ticks\":\"\"}},\"title\":{\"x\":0.05},\"xaxis\":{\"automargin\":true,\"gridcolor\":\"white\",\"linecolor\":\"white\",\"ticks\":\"\",\"title\":{\"standoff\":15},\"zerolinecolor\":\"white\",\"zerolinewidth\":2},\"yaxis\":{\"automargin\":true,\"gridcolor\":\"white\",\"linecolor\":\"white\",\"ticks\":\"\",\"title\":{\"standoff\":15},\"zerolinecolor\":\"white\",\"zerolinewidth\":2}}},\"title\":{\"text\":\"PaymentMethod\"},\"xaxis\":{\"type\":\"category\"},\"yaxis\":{\"title\":{\"text\":\"Churn Rate\"}}},                        {\"responsive\": true}                    ).then(function(){\n",
              "                            \n",
              "var gd = document.getElementById('54537e6c-5576-47f0-9b03-3a89a9f82ccd');\n",
              "var x = new MutationObserver(function (mutations, observer) {{\n",
              "        var display = window.getComputedStyle(gd).display;\n",
              "        if (!display || display === 'none') {{\n",
              "            console.log([gd, 'removed!']);\n",
              "            Plotly.purge(gd);\n",
              "            observer.disconnect();\n",
              "        }}\n",
              "}});\n",
              "\n",
              "// Listen for the removal of the full notebook cells\n",
              "var notebookContainer = gd.closest('#notebook-container');\n",
              "if (notebookContainer) {{\n",
              "    x.observe(notebookContainer, {childList: true});\n",
              "}}\n",
              "\n",
              "// Listen for the clearing of the current output cell\n",
              "var outputEl = gd.closest('.output');\n",
              "if (outputEl) {{\n",
              "    x.observe(outputEl, {childList: true});\n",
              "}}\n",
              "\n",
              "                        })                };                            </script>        </div>\n",
              "</body>\n",
              "</html>"
            ]
          },
          "metadata": {}
        }
      ]
    },
    {
      "cell_type": "code",
      "source": [
        "plot = data.groupby('PaperlessBilling').Churn.mean().reset_index()\n",
        "plot_data = [\n",
        "    go.Bar(\n",
        "        x=plot['PaperlessBilling'],\n",
        "        y=plot['Churn'],\n",
        "        width = [0.5, 0.5],\n",
        "        marker=dict(\n",
        "        color=['green', 'blue'])\n",
        "    )\n",
        "]\n",
        "plot_layout = go.Layout(\n",
        "        xaxis={\"type\": \"category\"},\n",
        "        yaxis={\"title\": \"Churn Rate\"},\n",
        "        title='PaperlessBilling',\n",
        "        plot_bgcolor  = 'rgb(243,243,243)',\n",
        "        paper_bgcolor  = 'rgb(243,243,243)',\n",
        "    )\n",
        "fig = go.Figure(data=plot_data, layout=plot_layout)\n",
        "pyoff.iplot(fig)"
      ],
      "metadata": {
        "colab": {
          "base_uri": "https://localhost:8080/",
          "height": 542
        },
        "id": "7rQwGAvvIrsS",
        "outputId": "66ba2897-9d56-49db-e3a4-b78b8cfa6aef"
      },
      "execution_count": 18,
      "outputs": [
        {
          "output_type": "display_data",
          "data": {
            "text/html": [
              "<html>\n",
              "<head><meta charset=\"utf-8\" /></head>\n",
              "<body>\n",
              "    <div>            <script src=\"https://cdnjs.cloudflare.com/ajax/libs/mathjax/2.7.5/MathJax.js?config=TeX-AMS-MML_SVG\"></script><script type=\"text/javascript\">if (window.MathJax && window.MathJax.Hub && window.MathJax.Hub.Config) {window.MathJax.Hub.Config({SVG: {font: \"STIX-Web\"}});}</script>                <script type=\"text/javascript\">window.PlotlyConfig = {MathJaxConfig: 'local'};</script>\n",
              "        <script src=\"https://cdn.plot.ly/plotly-2.18.2.min.js\"></script>                <div id=\"8478e256-cd22-4633-8151-f2569b151667\" class=\"plotly-graph-div\" style=\"height:525px; width:100%;\"></div>            <script type=\"text/javascript\">                                    window.PLOTLYENV=window.PLOTLYENV || {};                                    if (document.getElementById(\"8478e256-cd22-4633-8151-f2569b151667\")) {                    Plotly.newPlot(                        \"8478e256-cd22-4633-8151-f2569b151667\",                        [{\"marker\":{\"color\":[\"green\",\"blue\"]},\"width\":[0.5,0.5],\"x\":[\"No\",\"Yes\"],\"y\":[0.1633008356545961,0.33565092304003835],\"type\":\"bar\"}],                        {\"paper_bgcolor\":\"rgb(243,243,243)\",\"plot_bgcolor\":\"rgb(243,243,243)\",\"template\":{\"data\":{\"barpolar\":[{\"marker\":{\"line\":{\"color\":\"#E5ECF6\",\"width\":0.5},\"pattern\":{\"fillmode\":\"overlay\",\"size\":10,\"solidity\":0.2}},\"type\":\"barpolar\"}],\"bar\":[{\"error_x\":{\"color\":\"#2a3f5f\"},\"error_y\":{\"color\":\"#2a3f5f\"},\"marker\":{\"line\":{\"color\":\"#E5ECF6\",\"width\":0.5},\"pattern\":{\"fillmode\":\"overlay\",\"size\":10,\"solidity\":0.2}},\"type\":\"bar\"}],\"carpet\":[{\"aaxis\":{\"endlinecolor\":\"#2a3f5f\",\"gridcolor\":\"white\",\"linecolor\":\"white\",\"minorgridcolor\":\"white\",\"startlinecolor\":\"#2a3f5f\"},\"baxis\":{\"endlinecolor\":\"#2a3f5f\",\"gridcolor\":\"white\",\"linecolor\":\"white\",\"minorgridcolor\":\"white\",\"startlinecolor\":\"#2a3f5f\"},\"type\":\"carpet\"}],\"choropleth\":[{\"colorbar\":{\"outlinewidth\":0,\"ticks\":\"\"},\"type\":\"choropleth\"}],\"contourcarpet\":[{\"colorbar\":{\"outlinewidth\":0,\"ticks\":\"\"},\"type\":\"contourcarpet\"}],\"contour\":[{\"colorbar\":{\"outlinewidth\":0,\"ticks\":\"\"},\"colorscale\":[[0.0,\"#0d0887\"],[0.1111111111111111,\"#46039f\"],[0.2222222222222222,\"#7201a8\"],[0.3333333333333333,\"#9c179e\"],[0.4444444444444444,\"#bd3786\"],[0.5555555555555556,\"#d8576b\"],[0.6666666666666666,\"#ed7953\"],[0.7777777777777778,\"#fb9f3a\"],[0.8888888888888888,\"#fdca26\"],[1.0,\"#f0f921\"]],\"type\":\"contour\"}],\"heatmapgl\":[{\"colorbar\":{\"outlinewidth\":0,\"ticks\":\"\"},\"colorscale\":[[0.0,\"#0d0887\"],[0.1111111111111111,\"#46039f\"],[0.2222222222222222,\"#7201a8\"],[0.3333333333333333,\"#9c179e\"],[0.4444444444444444,\"#bd3786\"],[0.5555555555555556,\"#d8576b\"],[0.6666666666666666,\"#ed7953\"],[0.7777777777777778,\"#fb9f3a\"],[0.8888888888888888,\"#fdca26\"],[1.0,\"#f0f921\"]],\"type\":\"heatmapgl\"}],\"heatmap\":[{\"colorbar\":{\"outlinewidth\":0,\"ticks\":\"\"},\"colorscale\":[[0.0,\"#0d0887\"],[0.1111111111111111,\"#46039f\"],[0.2222222222222222,\"#7201a8\"],[0.3333333333333333,\"#9c179e\"],[0.4444444444444444,\"#bd3786\"],[0.5555555555555556,\"#d8576b\"],[0.6666666666666666,\"#ed7953\"],[0.7777777777777778,\"#fb9f3a\"],[0.8888888888888888,\"#fdca26\"],[1.0,\"#f0f921\"]],\"type\":\"heatmap\"}],\"histogram2dcontour\":[{\"colorbar\":{\"outlinewidth\":0,\"ticks\":\"\"},\"colorscale\":[[0.0,\"#0d0887\"],[0.1111111111111111,\"#46039f\"],[0.2222222222222222,\"#7201a8\"],[0.3333333333333333,\"#9c179e\"],[0.4444444444444444,\"#bd3786\"],[0.5555555555555556,\"#d8576b\"],[0.6666666666666666,\"#ed7953\"],[0.7777777777777778,\"#fb9f3a\"],[0.8888888888888888,\"#fdca26\"],[1.0,\"#f0f921\"]],\"type\":\"histogram2dcontour\"}],\"histogram2d\":[{\"colorbar\":{\"outlinewidth\":0,\"ticks\":\"\"},\"colorscale\":[[0.0,\"#0d0887\"],[0.1111111111111111,\"#46039f\"],[0.2222222222222222,\"#7201a8\"],[0.3333333333333333,\"#9c179e\"],[0.4444444444444444,\"#bd3786\"],[0.5555555555555556,\"#d8576b\"],[0.6666666666666666,\"#ed7953\"],[0.7777777777777778,\"#fb9f3a\"],[0.8888888888888888,\"#fdca26\"],[1.0,\"#f0f921\"]],\"type\":\"histogram2d\"}],\"histogram\":[{\"marker\":{\"pattern\":{\"fillmode\":\"overlay\",\"size\":10,\"solidity\":0.2}},\"type\":\"histogram\"}],\"mesh3d\":[{\"colorbar\":{\"outlinewidth\":0,\"ticks\":\"\"},\"type\":\"mesh3d\"}],\"parcoords\":[{\"line\":{\"colorbar\":{\"outlinewidth\":0,\"ticks\":\"\"}},\"type\":\"parcoords\"}],\"pie\":[{\"automargin\":true,\"type\":\"pie\"}],\"scatter3d\":[{\"line\":{\"colorbar\":{\"outlinewidth\":0,\"ticks\":\"\"}},\"marker\":{\"colorbar\":{\"outlinewidth\":0,\"ticks\":\"\"}},\"type\":\"scatter3d\"}],\"scattercarpet\":[{\"marker\":{\"colorbar\":{\"outlinewidth\":0,\"ticks\":\"\"}},\"type\":\"scattercarpet\"}],\"scattergeo\":[{\"marker\":{\"colorbar\":{\"outlinewidth\":0,\"ticks\":\"\"}},\"type\":\"scattergeo\"}],\"scattergl\":[{\"marker\":{\"colorbar\":{\"outlinewidth\":0,\"ticks\":\"\"}},\"type\":\"scattergl\"}],\"scattermapbox\":[{\"marker\":{\"colorbar\":{\"outlinewidth\":0,\"ticks\":\"\"}},\"type\":\"scattermapbox\"}],\"scatterpolargl\":[{\"marker\":{\"colorbar\":{\"outlinewidth\":0,\"ticks\":\"\"}},\"type\":\"scatterpolargl\"}],\"scatterpolar\":[{\"marker\":{\"colorbar\":{\"outlinewidth\":0,\"ticks\":\"\"}},\"type\":\"scatterpolar\"}],\"scatter\":[{\"fillpattern\":{\"fillmode\":\"overlay\",\"size\":10,\"solidity\":0.2},\"type\":\"scatter\"}],\"scatterternary\":[{\"marker\":{\"colorbar\":{\"outlinewidth\":0,\"ticks\":\"\"}},\"type\":\"scatterternary\"}],\"surface\":[{\"colorbar\":{\"outlinewidth\":0,\"ticks\":\"\"},\"colorscale\":[[0.0,\"#0d0887\"],[0.1111111111111111,\"#46039f\"],[0.2222222222222222,\"#7201a8\"],[0.3333333333333333,\"#9c179e\"],[0.4444444444444444,\"#bd3786\"],[0.5555555555555556,\"#d8576b\"],[0.6666666666666666,\"#ed7953\"],[0.7777777777777778,\"#fb9f3a\"],[0.8888888888888888,\"#fdca26\"],[1.0,\"#f0f921\"]],\"type\":\"surface\"}],\"table\":[{\"cells\":{\"fill\":{\"color\":\"#EBF0F8\"},\"line\":{\"color\":\"white\"}},\"header\":{\"fill\":{\"color\":\"#C8D4E3\"},\"line\":{\"color\":\"white\"}},\"type\":\"table\"}]},\"layout\":{\"annotationdefaults\":{\"arrowcolor\":\"#2a3f5f\",\"arrowhead\":0,\"arrowwidth\":1},\"autotypenumbers\":\"strict\",\"coloraxis\":{\"colorbar\":{\"outlinewidth\":0,\"ticks\":\"\"}},\"colorscale\":{\"diverging\":[[0,\"#8e0152\"],[0.1,\"#c51b7d\"],[0.2,\"#de77ae\"],[0.3,\"#f1b6da\"],[0.4,\"#fde0ef\"],[0.5,\"#f7f7f7\"],[0.6,\"#e6f5d0\"],[0.7,\"#b8e186\"],[0.8,\"#7fbc41\"],[0.9,\"#4d9221\"],[1,\"#276419\"]],\"sequential\":[[0.0,\"#0d0887\"],[0.1111111111111111,\"#46039f\"],[0.2222222222222222,\"#7201a8\"],[0.3333333333333333,\"#9c179e\"],[0.4444444444444444,\"#bd3786\"],[0.5555555555555556,\"#d8576b\"],[0.6666666666666666,\"#ed7953\"],[0.7777777777777778,\"#fb9f3a\"],[0.8888888888888888,\"#fdca26\"],[1.0,\"#f0f921\"]],\"sequentialminus\":[[0.0,\"#0d0887\"],[0.1111111111111111,\"#46039f\"],[0.2222222222222222,\"#7201a8\"],[0.3333333333333333,\"#9c179e\"],[0.4444444444444444,\"#bd3786\"],[0.5555555555555556,\"#d8576b\"],[0.6666666666666666,\"#ed7953\"],[0.7777777777777778,\"#fb9f3a\"],[0.8888888888888888,\"#fdca26\"],[1.0,\"#f0f921\"]]},\"colorway\":[\"#636efa\",\"#EF553B\",\"#00cc96\",\"#ab63fa\",\"#FFA15A\",\"#19d3f3\",\"#FF6692\",\"#B6E880\",\"#FF97FF\",\"#FECB52\"],\"font\":{\"color\":\"#2a3f5f\"},\"geo\":{\"bgcolor\":\"white\",\"lakecolor\":\"white\",\"landcolor\":\"#E5ECF6\",\"showlakes\":true,\"showland\":true,\"subunitcolor\":\"white\"},\"hoverlabel\":{\"align\":\"left\"},\"hovermode\":\"closest\",\"mapbox\":{\"style\":\"light\"},\"paper_bgcolor\":\"white\",\"plot_bgcolor\":\"#E5ECF6\",\"polar\":{\"angularaxis\":{\"gridcolor\":\"white\",\"linecolor\":\"white\",\"ticks\":\"\"},\"bgcolor\":\"#E5ECF6\",\"radialaxis\":{\"gridcolor\":\"white\",\"linecolor\":\"white\",\"ticks\":\"\"}},\"scene\":{\"xaxis\":{\"backgroundcolor\":\"#E5ECF6\",\"gridcolor\":\"white\",\"gridwidth\":2,\"linecolor\":\"white\",\"showbackground\":true,\"ticks\":\"\",\"zerolinecolor\":\"white\"},\"yaxis\":{\"backgroundcolor\":\"#E5ECF6\",\"gridcolor\":\"white\",\"gridwidth\":2,\"linecolor\":\"white\",\"showbackground\":true,\"ticks\":\"\",\"zerolinecolor\":\"white\"},\"zaxis\":{\"backgroundcolor\":\"#E5ECF6\",\"gridcolor\":\"white\",\"gridwidth\":2,\"linecolor\":\"white\",\"showbackground\":true,\"ticks\":\"\",\"zerolinecolor\":\"white\"}},\"shapedefaults\":{\"line\":{\"color\":\"#2a3f5f\"}},\"ternary\":{\"aaxis\":{\"gridcolor\":\"white\",\"linecolor\":\"white\",\"ticks\":\"\"},\"baxis\":{\"gridcolor\":\"white\",\"linecolor\":\"white\",\"ticks\":\"\"},\"bgcolor\":\"#E5ECF6\",\"caxis\":{\"gridcolor\":\"white\",\"linecolor\":\"white\",\"ticks\":\"\"}},\"title\":{\"x\":0.05},\"xaxis\":{\"automargin\":true,\"gridcolor\":\"white\",\"linecolor\":\"white\",\"ticks\":\"\",\"title\":{\"standoff\":15},\"zerolinecolor\":\"white\",\"zerolinewidth\":2},\"yaxis\":{\"automargin\":true,\"gridcolor\":\"white\",\"linecolor\":\"white\",\"ticks\":\"\",\"title\":{\"standoff\":15},\"zerolinecolor\":\"white\",\"zerolinewidth\":2}}},\"title\":{\"text\":\"PaperlessBilling\"},\"xaxis\":{\"type\":\"category\"},\"yaxis\":{\"title\":{\"text\":\"Churn Rate\"}}},                        {\"responsive\": true}                    ).then(function(){\n",
              "                            \n",
              "var gd = document.getElementById('8478e256-cd22-4633-8151-f2569b151667');\n",
              "var x = new MutationObserver(function (mutations, observer) {{\n",
              "        var display = window.getComputedStyle(gd).display;\n",
              "        if (!display || display === 'none') {{\n",
              "            console.log([gd, 'removed!']);\n",
              "            Plotly.purge(gd);\n",
              "            observer.disconnect();\n",
              "        }}\n",
              "}});\n",
              "\n",
              "// Listen for the removal of the full notebook cells\n",
              "var notebookContainer = gd.closest('#notebook-container');\n",
              "if (notebookContainer) {{\n",
              "    x.observe(notebookContainer, {childList: true});\n",
              "}}\n",
              "\n",
              "// Listen for the clearing of the current output cell\n",
              "var outputEl = gd.closest('.output');\n",
              "if (outputEl) {{\n",
              "    x.observe(outputEl, {childList: true});\n",
              "}}\n",
              "\n",
              "                        })                };                            </script>        </div>\n",
              "</body>\n",
              "</html>"
            ]
          },
          "metadata": {}
        }
      ]
    },
    {
      "cell_type": "code",
      "source": [
        "plot = data.groupby('StreamingMovies').Churn.mean().reset_index()\n",
        "plot_data = [\n",
        "    go.Bar(\n",
        "        x=plot['StreamingMovies'],\n",
        "        y=plot['Churn'],\n",
        "        width = [0.5, 0.5],\n",
        "        marker=dict(\n",
        "        color=['green', 'blue','orange'])\n",
        "    )\n",
        "]\n",
        "plot_layout = go.Layout(\n",
        "        xaxis={\"type\": \"category\"},\n",
        "        yaxis={\"title\": \"Churn Rate\"},\n",
        "        title='StreamingMovies',\n",
        "        plot_bgcolor  = 'rgb(243,243,243)',\n",
        "        paper_bgcolor  = 'rgb(243,243,243)',\n",
        "    )\n",
        "fig = go.Figure(data=plot_data, layout=plot_layout)\n",
        "pyoff.iplot(fig)"
      ],
      "metadata": {
        "colab": {
          "base_uri": "https://localhost:8080/",
          "height": 542
        },
        "id": "RMYq1__aJCfW",
        "outputId": "c98feb6c-3c42-42bb-8435-d0319b494c0b"
      },
      "execution_count": 19,
      "outputs": [
        {
          "output_type": "display_data",
          "data": {
            "text/html": [
              "<html>\n",
              "<head><meta charset=\"utf-8\" /></head>\n",
              "<body>\n",
              "    <div>            <script src=\"https://cdnjs.cloudflare.com/ajax/libs/mathjax/2.7.5/MathJax.js?config=TeX-AMS-MML_SVG\"></script><script type=\"text/javascript\">if (window.MathJax && window.MathJax.Hub && window.MathJax.Hub.Config) {window.MathJax.Hub.Config({SVG: {font: \"STIX-Web\"}});}</script>                <script type=\"text/javascript\">window.PlotlyConfig = {MathJaxConfig: 'local'};</script>\n",
              "        <script src=\"https://cdn.plot.ly/plotly-2.18.2.min.js\"></script>                <div id=\"f7f3851a-be3e-4f5f-a4e9-e268200e9e1b\" class=\"plotly-graph-div\" style=\"height:525px; width:100%;\"></div>            <script type=\"text/javascript\">                                    window.PLOTLYENV=window.PLOTLYENV || {};                                    if (document.getElementById(\"f7f3851a-be3e-4f5f-a4e9-e268200e9e1b\")) {                    Plotly.newPlot(                        \"f7f3851a-be3e-4f5f-a4e9-e268200e9e1b\",                        [{\"marker\":{\"color\":[\"green\",\"blue\",\"orange\"]},\"width\":[0.5,0.5],\"x\":[\"No\",\"No internet service\",\"Yes\"],\"y\":[0.33680430879712747,0.07404980340760157,0.29941434846266474],\"type\":\"bar\"}],                        {\"paper_bgcolor\":\"rgb(243,243,243)\",\"plot_bgcolor\":\"rgb(243,243,243)\",\"template\":{\"data\":{\"barpolar\":[{\"marker\":{\"line\":{\"color\":\"#E5ECF6\",\"width\":0.5},\"pattern\":{\"fillmode\":\"overlay\",\"size\":10,\"solidity\":0.2}},\"type\":\"barpolar\"}],\"bar\":[{\"error_x\":{\"color\":\"#2a3f5f\"},\"error_y\":{\"color\":\"#2a3f5f\"},\"marker\":{\"line\":{\"color\":\"#E5ECF6\",\"width\":0.5},\"pattern\":{\"fillmode\":\"overlay\",\"size\":10,\"solidity\":0.2}},\"type\":\"bar\"}],\"carpet\":[{\"aaxis\":{\"endlinecolor\":\"#2a3f5f\",\"gridcolor\":\"white\",\"linecolor\":\"white\",\"minorgridcolor\":\"white\",\"startlinecolor\":\"#2a3f5f\"},\"baxis\":{\"endlinecolor\":\"#2a3f5f\",\"gridcolor\":\"white\",\"linecolor\":\"white\",\"minorgridcolor\":\"white\",\"startlinecolor\":\"#2a3f5f\"},\"type\":\"carpet\"}],\"choropleth\":[{\"colorbar\":{\"outlinewidth\":0,\"ticks\":\"\"},\"type\":\"choropleth\"}],\"contourcarpet\":[{\"colorbar\":{\"outlinewidth\":0,\"ticks\":\"\"},\"type\":\"contourcarpet\"}],\"contour\":[{\"colorbar\":{\"outlinewidth\":0,\"ticks\":\"\"},\"colorscale\":[[0.0,\"#0d0887\"],[0.1111111111111111,\"#46039f\"],[0.2222222222222222,\"#7201a8\"],[0.3333333333333333,\"#9c179e\"],[0.4444444444444444,\"#bd3786\"],[0.5555555555555556,\"#d8576b\"],[0.6666666666666666,\"#ed7953\"],[0.7777777777777778,\"#fb9f3a\"],[0.8888888888888888,\"#fdca26\"],[1.0,\"#f0f921\"]],\"type\":\"contour\"}],\"heatmapgl\":[{\"colorbar\":{\"outlinewidth\":0,\"ticks\":\"\"},\"colorscale\":[[0.0,\"#0d0887\"],[0.1111111111111111,\"#46039f\"],[0.2222222222222222,\"#7201a8\"],[0.3333333333333333,\"#9c179e\"],[0.4444444444444444,\"#bd3786\"],[0.5555555555555556,\"#d8576b\"],[0.6666666666666666,\"#ed7953\"],[0.7777777777777778,\"#fb9f3a\"],[0.8888888888888888,\"#fdca26\"],[1.0,\"#f0f921\"]],\"type\":\"heatmapgl\"}],\"heatmap\":[{\"colorbar\":{\"outlinewidth\":0,\"ticks\":\"\"},\"colorscale\":[[0.0,\"#0d0887\"],[0.1111111111111111,\"#46039f\"],[0.2222222222222222,\"#7201a8\"],[0.3333333333333333,\"#9c179e\"],[0.4444444444444444,\"#bd3786\"],[0.5555555555555556,\"#d8576b\"],[0.6666666666666666,\"#ed7953\"],[0.7777777777777778,\"#fb9f3a\"],[0.8888888888888888,\"#fdca26\"],[1.0,\"#f0f921\"]],\"type\":\"heatmap\"}],\"histogram2dcontour\":[{\"colorbar\":{\"outlinewidth\":0,\"ticks\":\"\"},\"colorscale\":[[0.0,\"#0d0887\"],[0.1111111111111111,\"#46039f\"],[0.2222222222222222,\"#7201a8\"],[0.3333333333333333,\"#9c179e\"],[0.4444444444444444,\"#bd3786\"],[0.5555555555555556,\"#d8576b\"],[0.6666666666666666,\"#ed7953\"],[0.7777777777777778,\"#fb9f3a\"],[0.8888888888888888,\"#fdca26\"],[1.0,\"#f0f921\"]],\"type\":\"histogram2dcontour\"}],\"histogram2d\":[{\"colorbar\":{\"outlinewidth\":0,\"ticks\":\"\"},\"colorscale\":[[0.0,\"#0d0887\"],[0.1111111111111111,\"#46039f\"],[0.2222222222222222,\"#7201a8\"],[0.3333333333333333,\"#9c179e\"],[0.4444444444444444,\"#bd3786\"],[0.5555555555555556,\"#d8576b\"],[0.6666666666666666,\"#ed7953\"],[0.7777777777777778,\"#fb9f3a\"],[0.8888888888888888,\"#fdca26\"],[1.0,\"#f0f921\"]],\"type\":\"histogram2d\"}],\"histogram\":[{\"marker\":{\"pattern\":{\"fillmode\":\"overlay\",\"size\":10,\"solidity\":0.2}},\"type\":\"histogram\"}],\"mesh3d\":[{\"colorbar\":{\"outlinewidth\":0,\"ticks\":\"\"},\"type\":\"mesh3d\"}],\"parcoords\":[{\"line\":{\"colorbar\":{\"outlinewidth\":0,\"ticks\":\"\"}},\"type\":\"parcoords\"}],\"pie\":[{\"automargin\":true,\"type\":\"pie\"}],\"scatter3d\":[{\"line\":{\"colorbar\":{\"outlinewidth\":0,\"ticks\":\"\"}},\"marker\":{\"colorbar\":{\"outlinewidth\":0,\"ticks\":\"\"}},\"type\":\"scatter3d\"}],\"scattercarpet\":[{\"marker\":{\"colorbar\":{\"outlinewidth\":0,\"ticks\":\"\"}},\"type\":\"scattercarpet\"}],\"scattergeo\":[{\"marker\":{\"colorbar\":{\"outlinewidth\":0,\"ticks\":\"\"}},\"type\":\"scattergeo\"}],\"scattergl\":[{\"marker\":{\"colorbar\":{\"outlinewidth\":0,\"ticks\":\"\"}},\"type\":\"scattergl\"}],\"scattermapbox\":[{\"marker\":{\"colorbar\":{\"outlinewidth\":0,\"ticks\":\"\"}},\"type\":\"scattermapbox\"}],\"scatterpolargl\":[{\"marker\":{\"colorbar\":{\"outlinewidth\":0,\"ticks\":\"\"}},\"type\":\"scatterpolargl\"}],\"scatterpolar\":[{\"marker\":{\"colorbar\":{\"outlinewidth\":0,\"ticks\":\"\"}},\"type\":\"scatterpolar\"}],\"scatter\":[{\"fillpattern\":{\"fillmode\":\"overlay\",\"size\":10,\"solidity\":0.2},\"type\":\"scatter\"}],\"scatterternary\":[{\"marker\":{\"colorbar\":{\"outlinewidth\":0,\"ticks\":\"\"}},\"type\":\"scatterternary\"}],\"surface\":[{\"colorbar\":{\"outlinewidth\":0,\"ticks\":\"\"},\"colorscale\":[[0.0,\"#0d0887\"],[0.1111111111111111,\"#46039f\"],[0.2222222222222222,\"#7201a8\"],[0.3333333333333333,\"#9c179e\"],[0.4444444444444444,\"#bd3786\"],[0.5555555555555556,\"#d8576b\"],[0.6666666666666666,\"#ed7953\"],[0.7777777777777778,\"#fb9f3a\"],[0.8888888888888888,\"#fdca26\"],[1.0,\"#f0f921\"]],\"type\":\"surface\"}],\"table\":[{\"cells\":{\"fill\":{\"color\":\"#EBF0F8\"},\"line\":{\"color\":\"white\"}},\"header\":{\"fill\":{\"color\":\"#C8D4E3\"},\"line\":{\"color\":\"white\"}},\"type\":\"table\"}]},\"layout\":{\"annotationdefaults\":{\"arrowcolor\":\"#2a3f5f\",\"arrowhead\":0,\"arrowwidth\":1},\"autotypenumbers\":\"strict\",\"coloraxis\":{\"colorbar\":{\"outlinewidth\":0,\"ticks\":\"\"}},\"colorscale\":{\"diverging\":[[0,\"#8e0152\"],[0.1,\"#c51b7d\"],[0.2,\"#de77ae\"],[0.3,\"#f1b6da\"],[0.4,\"#fde0ef\"],[0.5,\"#f7f7f7\"],[0.6,\"#e6f5d0\"],[0.7,\"#b8e186\"],[0.8,\"#7fbc41\"],[0.9,\"#4d9221\"],[1,\"#276419\"]],\"sequential\":[[0.0,\"#0d0887\"],[0.1111111111111111,\"#46039f\"],[0.2222222222222222,\"#7201a8\"],[0.3333333333333333,\"#9c179e\"],[0.4444444444444444,\"#bd3786\"],[0.5555555555555556,\"#d8576b\"],[0.6666666666666666,\"#ed7953\"],[0.7777777777777778,\"#fb9f3a\"],[0.8888888888888888,\"#fdca26\"],[1.0,\"#f0f921\"]],\"sequentialminus\":[[0.0,\"#0d0887\"],[0.1111111111111111,\"#46039f\"],[0.2222222222222222,\"#7201a8\"],[0.3333333333333333,\"#9c179e\"],[0.4444444444444444,\"#bd3786\"],[0.5555555555555556,\"#d8576b\"],[0.6666666666666666,\"#ed7953\"],[0.7777777777777778,\"#fb9f3a\"],[0.8888888888888888,\"#fdca26\"],[1.0,\"#f0f921\"]]},\"colorway\":[\"#636efa\",\"#EF553B\",\"#00cc96\",\"#ab63fa\",\"#FFA15A\",\"#19d3f3\",\"#FF6692\",\"#B6E880\",\"#FF97FF\",\"#FECB52\"],\"font\":{\"color\":\"#2a3f5f\"},\"geo\":{\"bgcolor\":\"white\",\"lakecolor\":\"white\",\"landcolor\":\"#E5ECF6\",\"showlakes\":true,\"showland\":true,\"subunitcolor\":\"white\"},\"hoverlabel\":{\"align\":\"left\"},\"hovermode\":\"closest\",\"mapbox\":{\"style\":\"light\"},\"paper_bgcolor\":\"white\",\"plot_bgcolor\":\"#E5ECF6\",\"polar\":{\"angularaxis\":{\"gridcolor\":\"white\",\"linecolor\":\"white\",\"ticks\":\"\"},\"bgcolor\":\"#E5ECF6\",\"radialaxis\":{\"gridcolor\":\"white\",\"linecolor\":\"white\",\"ticks\":\"\"}},\"scene\":{\"xaxis\":{\"backgroundcolor\":\"#E5ECF6\",\"gridcolor\":\"white\",\"gridwidth\":2,\"linecolor\":\"white\",\"showbackground\":true,\"ticks\":\"\",\"zerolinecolor\":\"white\"},\"yaxis\":{\"backgroundcolor\":\"#E5ECF6\",\"gridcolor\":\"white\",\"gridwidth\":2,\"linecolor\":\"white\",\"showbackground\":true,\"ticks\":\"\",\"zerolinecolor\":\"white\"},\"zaxis\":{\"backgroundcolor\":\"#E5ECF6\",\"gridcolor\":\"white\",\"gridwidth\":2,\"linecolor\":\"white\",\"showbackground\":true,\"ticks\":\"\",\"zerolinecolor\":\"white\"}},\"shapedefaults\":{\"line\":{\"color\":\"#2a3f5f\"}},\"ternary\":{\"aaxis\":{\"gridcolor\":\"white\",\"linecolor\":\"white\",\"ticks\":\"\"},\"baxis\":{\"gridcolor\":\"white\",\"linecolor\":\"white\",\"ticks\":\"\"},\"bgcolor\":\"#E5ECF6\",\"caxis\":{\"gridcolor\":\"white\",\"linecolor\":\"white\",\"ticks\":\"\"}},\"title\":{\"x\":0.05},\"xaxis\":{\"automargin\":true,\"gridcolor\":\"white\",\"linecolor\":\"white\",\"ticks\":\"\",\"title\":{\"standoff\":15},\"zerolinecolor\":\"white\",\"zerolinewidth\":2},\"yaxis\":{\"automargin\":true,\"gridcolor\":\"white\",\"linecolor\":\"white\",\"ticks\":\"\",\"title\":{\"standoff\":15},\"zerolinecolor\":\"white\",\"zerolinewidth\":2}}},\"title\":{\"text\":\"StreamingMovies\"},\"xaxis\":{\"type\":\"category\"},\"yaxis\":{\"title\":{\"text\":\"Churn Rate\"}}},                        {\"responsive\": true}                    ).then(function(){\n",
              "                            \n",
              "var gd = document.getElementById('f7f3851a-be3e-4f5f-a4e9-e268200e9e1b');\n",
              "var x = new MutationObserver(function (mutations, observer) {{\n",
              "        var display = window.getComputedStyle(gd).display;\n",
              "        if (!display || display === 'none') {{\n",
              "            console.log([gd, 'removed!']);\n",
              "            Plotly.purge(gd);\n",
              "            observer.disconnect();\n",
              "        }}\n",
              "}});\n",
              "\n",
              "// Listen for the removal of the full notebook cells\n",
              "var notebookContainer = gd.closest('#notebook-container');\n",
              "if (notebookContainer) {{\n",
              "    x.observe(notebookContainer, {childList: true});\n",
              "}}\n",
              "\n",
              "// Listen for the clearing of the current output cell\n",
              "var outputEl = gd.closest('.output');\n",
              "if (outputEl) {{\n",
              "    x.observe(outputEl, {childList: true});\n",
              "}}\n",
              "\n",
              "                        })                };                            </script>        </div>\n",
              "</body>\n",
              "</html>"
            ]
          },
          "metadata": {}
        }
      ]
    },
    {
      "cell_type": "code",
      "source": [
        "plot = data.groupby('DeviceProtection').Churn.mean().reset_index()\n",
        "plot_data = [\n",
        "    go.Bar(\n",
        "        x=plot['DeviceProtection'],\n",
        "        y=plot['Churn'],\n",
        "        width = [0.5, 0.5],\n",
        "        marker=dict(\n",
        "        color=['green', 'blue', 'orange'])\n",
        "    )\n",
        "]\n",
        "plot_layout = go.Layout(\n",
        "        xaxis={\"type\": \"category\"},\n",
        "        yaxis={\"title\": \"Churn Rate\"},\n",
        "        title='DeviceProtection',\n",
        "        plot_bgcolor  = 'rgb(243,243,243)',\n",
        "        paper_bgcolor  = 'rgb(243,243,243)',\n",
        "    )\n",
        "fig = go.Figure(data=plot_data, layout=plot_layout)\n",
        "pyoff.iplot(fig)"
      ],
      "metadata": {
        "colab": {
          "base_uri": "https://localhost:8080/",
          "height": 542
        },
        "id": "Jhdqb2FzJNmo",
        "outputId": "ade91355-d6c2-43e3-a9ff-aa9b4d9885b8"
      },
      "execution_count": 20,
      "outputs": [
        {
          "output_type": "display_data",
          "data": {
            "text/html": [
              "<html>\n",
              "<head><meta charset=\"utf-8\" /></head>\n",
              "<body>\n",
              "    <div>            <script src=\"https://cdnjs.cloudflare.com/ajax/libs/mathjax/2.7.5/MathJax.js?config=TeX-AMS-MML_SVG\"></script><script type=\"text/javascript\">if (window.MathJax && window.MathJax.Hub && window.MathJax.Hub.Config) {window.MathJax.Hub.Config({SVG: {font: \"STIX-Web\"}});}</script>                <script type=\"text/javascript\">window.PlotlyConfig = {MathJaxConfig: 'local'};</script>\n",
              "        <script src=\"https://cdn.plot.ly/plotly-2.18.2.min.js\"></script>                <div id=\"04ce3a4c-25a6-44d5-a630-de610a597de1\" class=\"plotly-graph-div\" style=\"height:525px; width:100%;\"></div>            <script type=\"text/javascript\">                                    window.PLOTLYENV=window.PLOTLYENV || {};                                    if (document.getElementById(\"04ce3a4c-25a6-44d5-a630-de610a597de1\")) {                    Plotly.newPlot(                        \"04ce3a4c-25a6-44d5-a630-de610a597de1\",                        [{\"marker\":{\"color\":[\"green\",\"blue\",\"orange\"]},\"width\":[0.5,0.5],\"x\":[\"No\",\"No internet service\",\"Yes\"],\"y\":[0.3912762520193861,0.07404980340760157,0.2250206440957886],\"type\":\"bar\"}],                        {\"paper_bgcolor\":\"rgb(243,243,243)\",\"plot_bgcolor\":\"rgb(243,243,243)\",\"template\":{\"data\":{\"barpolar\":[{\"marker\":{\"line\":{\"color\":\"#E5ECF6\",\"width\":0.5},\"pattern\":{\"fillmode\":\"overlay\",\"size\":10,\"solidity\":0.2}},\"type\":\"barpolar\"}],\"bar\":[{\"error_x\":{\"color\":\"#2a3f5f\"},\"error_y\":{\"color\":\"#2a3f5f\"},\"marker\":{\"line\":{\"color\":\"#E5ECF6\",\"width\":0.5},\"pattern\":{\"fillmode\":\"overlay\",\"size\":10,\"solidity\":0.2}},\"type\":\"bar\"}],\"carpet\":[{\"aaxis\":{\"endlinecolor\":\"#2a3f5f\",\"gridcolor\":\"white\",\"linecolor\":\"white\",\"minorgridcolor\":\"white\",\"startlinecolor\":\"#2a3f5f\"},\"baxis\":{\"endlinecolor\":\"#2a3f5f\",\"gridcolor\":\"white\",\"linecolor\":\"white\",\"minorgridcolor\":\"white\",\"startlinecolor\":\"#2a3f5f\"},\"type\":\"carpet\"}],\"choropleth\":[{\"colorbar\":{\"outlinewidth\":0,\"ticks\":\"\"},\"type\":\"choropleth\"}],\"contourcarpet\":[{\"colorbar\":{\"outlinewidth\":0,\"ticks\":\"\"},\"type\":\"contourcarpet\"}],\"contour\":[{\"colorbar\":{\"outlinewidth\":0,\"ticks\":\"\"},\"colorscale\":[[0.0,\"#0d0887\"],[0.1111111111111111,\"#46039f\"],[0.2222222222222222,\"#7201a8\"],[0.3333333333333333,\"#9c179e\"],[0.4444444444444444,\"#bd3786\"],[0.5555555555555556,\"#d8576b\"],[0.6666666666666666,\"#ed7953\"],[0.7777777777777778,\"#fb9f3a\"],[0.8888888888888888,\"#fdca26\"],[1.0,\"#f0f921\"]],\"type\":\"contour\"}],\"heatmapgl\":[{\"colorbar\":{\"outlinewidth\":0,\"ticks\":\"\"},\"colorscale\":[[0.0,\"#0d0887\"],[0.1111111111111111,\"#46039f\"],[0.2222222222222222,\"#7201a8\"],[0.3333333333333333,\"#9c179e\"],[0.4444444444444444,\"#bd3786\"],[0.5555555555555556,\"#d8576b\"],[0.6666666666666666,\"#ed7953\"],[0.7777777777777778,\"#fb9f3a\"],[0.8888888888888888,\"#fdca26\"],[1.0,\"#f0f921\"]],\"type\":\"heatmapgl\"}],\"heatmap\":[{\"colorbar\":{\"outlinewidth\":0,\"ticks\":\"\"},\"colorscale\":[[0.0,\"#0d0887\"],[0.1111111111111111,\"#46039f\"],[0.2222222222222222,\"#7201a8\"],[0.3333333333333333,\"#9c179e\"],[0.4444444444444444,\"#bd3786\"],[0.5555555555555556,\"#d8576b\"],[0.6666666666666666,\"#ed7953\"],[0.7777777777777778,\"#fb9f3a\"],[0.8888888888888888,\"#fdca26\"],[1.0,\"#f0f921\"]],\"type\":\"heatmap\"}],\"histogram2dcontour\":[{\"colorbar\":{\"outlinewidth\":0,\"ticks\":\"\"},\"colorscale\":[[0.0,\"#0d0887\"],[0.1111111111111111,\"#46039f\"],[0.2222222222222222,\"#7201a8\"],[0.3333333333333333,\"#9c179e\"],[0.4444444444444444,\"#bd3786\"],[0.5555555555555556,\"#d8576b\"],[0.6666666666666666,\"#ed7953\"],[0.7777777777777778,\"#fb9f3a\"],[0.8888888888888888,\"#fdca26\"],[1.0,\"#f0f921\"]],\"type\":\"histogram2dcontour\"}],\"histogram2d\":[{\"colorbar\":{\"outlinewidth\":0,\"ticks\":\"\"},\"colorscale\":[[0.0,\"#0d0887\"],[0.1111111111111111,\"#46039f\"],[0.2222222222222222,\"#7201a8\"],[0.3333333333333333,\"#9c179e\"],[0.4444444444444444,\"#bd3786\"],[0.5555555555555556,\"#d8576b\"],[0.6666666666666666,\"#ed7953\"],[0.7777777777777778,\"#fb9f3a\"],[0.8888888888888888,\"#fdca26\"],[1.0,\"#f0f921\"]],\"type\":\"histogram2d\"}],\"histogram\":[{\"marker\":{\"pattern\":{\"fillmode\":\"overlay\",\"size\":10,\"solidity\":0.2}},\"type\":\"histogram\"}],\"mesh3d\":[{\"colorbar\":{\"outlinewidth\":0,\"ticks\":\"\"},\"type\":\"mesh3d\"}],\"parcoords\":[{\"line\":{\"colorbar\":{\"outlinewidth\":0,\"ticks\":\"\"}},\"type\":\"parcoords\"}],\"pie\":[{\"automargin\":true,\"type\":\"pie\"}],\"scatter3d\":[{\"line\":{\"colorbar\":{\"outlinewidth\":0,\"ticks\":\"\"}},\"marker\":{\"colorbar\":{\"outlinewidth\":0,\"ticks\":\"\"}},\"type\":\"scatter3d\"}],\"scattercarpet\":[{\"marker\":{\"colorbar\":{\"outlinewidth\":0,\"ticks\":\"\"}},\"type\":\"scattercarpet\"}],\"scattergeo\":[{\"marker\":{\"colorbar\":{\"outlinewidth\":0,\"ticks\":\"\"}},\"type\":\"scattergeo\"}],\"scattergl\":[{\"marker\":{\"colorbar\":{\"outlinewidth\":0,\"ticks\":\"\"}},\"type\":\"scattergl\"}],\"scattermapbox\":[{\"marker\":{\"colorbar\":{\"outlinewidth\":0,\"ticks\":\"\"}},\"type\":\"scattermapbox\"}],\"scatterpolargl\":[{\"marker\":{\"colorbar\":{\"outlinewidth\":0,\"ticks\":\"\"}},\"type\":\"scatterpolargl\"}],\"scatterpolar\":[{\"marker\":{\"colorbar\":{\"outlinewidth\":0,\"ticks\":\"\"}},\"type\":\"scatterpolar\"}],\"scatter\":[{\"fillpattern\":{\"fillmode\":\"overlay\",\"size\":10,\"solidity\":0.2},\"type\":\"scatter\"}],\"scatterternary\":[{\"marker\":{\"colorbar\":{\"outlinewidth\":0,\"ticks\":\"\"}},\"type\":\"scatterternary\"}],\"surface\":[{\"colorbar\":{\"outlinewidth\":0,\"ticks\":\"\"},\"colorscale\":[[0.0,\"#0d0887\"],[0.1111111111111111,\"#46039f\"],[0.2222222222222222,\"#7201a8\"],[0.3333333333333333,\"#9c179e\"],[0.4444444444444444,\"#bd3786\"],[0.5555555555555556,\"#d8576b\"],[0.6666666666666666,\"#ed7953\"],[0.7777777777777778,\"#fb9f3a\"],[0.8888888888888888,\"#fdca26\"],[1.0,\"#f0f921\"]],\"type\":\"surface\"}],\"table\":[{\"cells\":{\"fill\":{\"color\":\"#EBF0F8\"},\"line\":{\"color\":\"white\"}},\"header\":{\"fill\":{\"color\":\"#C8D4E3\"},\"line\":{\"color\":\"white\"}},\"type\":\"table\"}]},\"layout\":{\"annotationdefaults\":{\"arrowcolor\":\"#2a3f5f\",\"arrowhead\":0,\"arrowwidth\":1},\"autotypenumbers\":\"strict\",\"coloraxis\":{\"colorbar\":{\"outlinewidth\":0,\"ticks\":\"\"}},\"colorscale\":{\"diverging\":[[0,\"#8e0152\"],[0.1,\"#c51b7d\"],[0.2,\"#de77ae\"],[0.3,\"#f1b6da\"],[0.4,\"#fde0ef\"],[0.5,\"#f7f7f7\"],[0.6,\"#e6f5d0\"],[0.7,\"#b8e186\"],[0.8,\"#7fbc41\"],[0.9,\"#4d9221\"],[1,\"#276419\"]],\"sequential\":[[0.0,\"#0d0887\"],[0.1111111111111111,\"#46039f\"],[0.2222222222222222,\"#7201a8\"],[0.3333333333333333,\"#9c179e\"],[0.4444444444444444,\"#bd3786\"],[0.5555555555555556,\"#d8576b\"],[0.6666666666666666,\"#ed7953\"],[0.7777777777777778,\"#fb9f3a\"],[0.8888888888888888,\"#fdca26\"],[1.0,\"#f0f921\"]],\"sequentialminus\":[[0.0,\"#0d0887\"],[0.1111111111111111,\"#46039f\"],[0.2222222222222222,\"#7201a8\"],[0.3333333333333333,\"#9c179e\"],[0.4444444444444444,\"#bd3786\"],[0.5555555555555556,\"#d8576b\"],[0.6666666666666666,\"#ed7953\"],[0.7777777777777778,\"#fb9f3a\"],[0.8888888888888888,\"#fdca26\"],[1.0,\"#f0f921\"]]},\"colorway\":[\"#636efa\",\"#EF553B\",\"#00cc96\",\"#ab63fa\",\"#FFA15A\",\"#19d3f3\",\"#FF6692\",\"#B6E880\",\"#FF97FF\",\"#FECB52\"],\"font\":{\"color\":\"#2a3f5f\"},\"geo\":{\"bgcolor\":\"white\",\"lakecolor\":\"white\",\"landcolor\":\"#E5ECF6\",\"showlakes\":true,\"showland\":true,\"subunitcolor\":\"white\"},\"hoverlabel\":{\"align\":\"left\"},\"hovermode\":\"closest\",\"mapbox\":{\"style\":\"light\"},\"paper_bgcolor\":\"white\",\"plot_bgcolor\":\"#E5ECF6\",\"polar\":{\"angularaxis\":{\"gridcolor\":\"white\",\"linecolor\":\"white\",\"ticks\":\"\"},\"bgcolor\":\"#E5ECF6\",\"radialaxis\":{\"gridcolor\":\"white\",\"linecolor\":\"white\",\"ticks\":\"\"}},\"scene\":{\"xaxis\":{\"backgroundcolor\":\"#E5ECF6\",\"gridcolor\":\"white\",\"gridwidth\":2,\"linecolor\":\"white\",\"showbackground\":true,\"ticks\":\"\",\"zerolinecolor\":\"white\"},\"yaxis\":{\"backgroundcolor\":\"#E5ECF6\",\"gridcolor\":\"white\",\"gridwidth\":2,\"linecolor\":\"white\",\"showbackground\":true,\"ticks\":\"\",\"zerolinecolor\":\"white\"},\"zaxis\":{\"backgroundcolor\":\"#E5ECF6\",\"gridcolor\":\"white\",\"gridwidth\":2,\"linecolor\":\"white\",\"showbackground\":true,\"ticks\":\"\",\"zerolinecolor\":\"white\"}},\"shapedefaults\":{\"line\":{\"color\":\"#2a3f5f\"}},\"ternary\":{\"aaxis\":{\"gridcolor\":\"white\",\"linecolor\":\"white\",\"ticks\":\"\"},\"baxis\":{\"gridcolor\":\"white\",\"linecolor\":\"white\",\"ticks\":\"\"},\"bgcolor\":\"#E5ECF6\",\"caxis\":{\"gridcolor\":\"white\",\"linecolor\":\"white\",\"ticks\":\"\"}},\"title\":{\"x\":0.05},\"xaxis\":{\"automargin\":true,\"gridcolor\":\"white\",\"linecolor\":\"white\",\"ticks\":\"\",\"title\":{\"standoff\":15},\"zerolinecolor\":\"white\",\"zerolinewidth\":2},\"yaxis\":{\"automargin\":true,\"gridcolor\":\"white\",\"linecolor\":\"white\",\"ticks\":\"\",\"title\":{\"standoff\":15},\"zerolinecolor\":\"white\",\"zerolinewidth\":2}}},\"title\":{\"text\":\"DeviceProtection\"},\"xaxis\":{\"type\":\"category\"},\"yaxis\":{\"title\":{\"text\":\"Churn Rate\"}}},                        {\"responsive\": true}                    ).then(function(){\n",
              "                            \n",
              "var gd = document.getElementById('04ce3a4c-25a6-44d5-a630-de610a597de1');\n",
              "var x = new MutationObserver(function (mutations, observer) {{\n",
              "        var display = window.getComputedStyle(gd).display;\n",
              "        if (!display || display === 'none') {{\n",
              "            console.log([gd, 'removed!']);\n",
              "            Plotly.purge(gd);\n",
              "            observer.disconnect();\n",
              "        }}\n",
              "}});\n",
              "\n",
              "// Listen for the removal of the full notebook cells\n",
              "var notebookContainer = gd.closest('#notebook-container');\n",
              "if (notebookContainer) {{\n",
              "    x.observe(notebookContainer, {childList: true});\n",
              "}}\n",
              "\n",
              "// Listen for the clearing of the current output cell\n",
              "var outputEl = gd.closest('.output');\n",
              "if (outputEl) {{\n",
              "    x.observe(outputEl, {childList: true});\n",
              "}}\n",
              "\n",
              "                        })                };                            </script>        </div>\n",
              "</body>\n",
              "</html>"
            ]
          },
          "metadata": {}
        }
      ]
    },
    {
      "cell_type": "code",
      "source": [
        "plot = data.groupby('PhoneService').Churn.mean().reset_index()\n",
        "plot_data = [\n",
        "    go.Bar(\n",
        "        x=plot['PhoneService'],\n",
        "        y=plot['Churn'],\n",
        "        width = [0.5, 0.5],\n",
        "        marker=dict(\n",
        "        color=['green', 'blue'])\n",
        "    )\n",
        "]\n",
        "plot_layout = go.Layout(\n",
        "        xaxis={\"type\": \"category\"},\n",
        "        yaxis={\"title\": \"Churn Rate\"},\n",
        "        title='PhoneService',\n",
        "        plot_bgcolor  = 'rgb(243,243,243)',\n",
        "        paper_bgcolor  = 'rgb(243,243,243)',\n",
        "    )\n",
        "fig = go.Figure(data=plot_data, layout=plot_layout)\n",
        "pyoff.iplot(fig)"
      ],
      "metadata": {
        "colab": {
          "base_uri": "https://localhost:8080/",
          "height": 542
        },
        "id": "1ZXVIJOTJbmn",
        "outputId": "43765158-703c-4a1e-f3cd-cd8bca38a654"
      },
      "execution_count": 21,
      "outputs": [
        {
          "output_type": "display_data",
          "data": {
            "text/html": [
              "<html>\n",
              "<head><meta charset=\"utf-8\" /></head>\n",
              "<body>\n",
              "    <div>            <script src=\"https://cdnjs.cloudflare.com/ajax/libs/mathjax/2.7.5/MathJax.js?config=TeX-AMS-MML_SVG\"></script><script type=\"text/javascript\">if (window.MathJax && window.MathJax.Hub && window.MathJax.Hub.Config) {window.MathJax.Hub.Config({SVG: {font: \"STIX-Web\"}});}</script>                <script type=\"text/javascript\">window.PlotlyConfig = {MathJaxConfig: 'local'};</script>\n",
              "        <script src=\"https://cdn.plot.ly/plotly-2.18.2.min.js\"></script>                <div id=\"93ab2623-7b10-47c8-adc0-cfe2a3b19e1c\" class=\"plotly-graph-div\" style=\"height:525px; width:100%;\"></div>            <script type=\"text/javascript\">                                    window.PLOTLYENV=window.PLOTLYENV || {};                                    if (document.getElementById(\"93ab2623-7b10-47c8-adc0-cfe2a3b19e1c\")) {                    Plotly.newPlot(                        \"93ab2623-7b10-47c8-adc0-cfe2a3b19e1c\",                        [{\"marker\":{\"color\":[\"green\",\"blue\"]},\"width\":[0.5,0.5],\"x\":[\"No\",\"Yes\"],\"y\":[0.24926686217008798,0.2670963684955196],\"type\":\"bar\"}],                        {\"paper_bgcolor\":\"rgb(243,243,243)\",\"plot_bgcolor\":\"rgb(243,243,243)\",\"template\":{\"data\":{\"barpolar\":[{\"marker\":{\"line\":{\"color\":\"#E5ECF6\",\"width\":0.5},\"pattern\":{\"fillmode\":\"overlay\",\"size\":10,\"solidity\":0.2}},\"type\":\"barpolar\"}],\"bar\":[{\"error_x\":{\"color\":\"#2a3f5f\"},\"error_y\":{\"color\":\"#2a3f5f\"},\"marker\":{\"line\":{\"color\":\"#E5ECF6\",\"width\":0.5},\"pattern\":{\"fillmode\":\"overlay\",\"size\":10,\"solidity\":0.2}},\"type\":\"bar\"}],\"carpet\":[{\"aaxis\":{\"endlinecolor\":\"#2a3f5f\",\"gridcolor\":\"white\",\"linecolor\":\"white\",\"minorgridcolor\":\"white\",\"startlinecolor\":\"#2a3f5f\"},\"baxis\":{\"endlinecolor\":\"#2a3f5f\",\"gridcolor\":\"white\",\"linecolor\":\"white\",\"minorgridcolor\":\"white\",\"startlinecolor\":\"#2a3f5f\"},\"type\":\"carpet\"}],\"choropleth\":[{\"colorbar\":{\"outlinewidth\":0,\"ticks\":\"\"},\"type\":\"choropleth\"}],\"contourcarpet\":[{\"colorbar\":{\"outlinewidth\":0,\"ticks\":\"\"},\"type\":\"contourcarpet\"}],\"contour\":[{\"colorbar\":{\"outlinewidth\":0,\"ticks\":\"\"},\"colorscale\":[[0.0,\"#0d0887\"],[0.1111111111111111,\"#46039f\"],[0.2222222222222222,\"#7201a8\"],[0.3333333333333333,\"#9c179e\"],[0.4444444444444444,\"#bd3786\"],[0.5555555555555556,\"#d8576b\"],[0.6666666666666666,\"#ed7953\"],[0.7777777777777778,\"#fb9f3a\"],[0.8888888888888888,\"#fdca26\"],[1.0,\"#f0f921\"]],\"type\":\"contour\"}],\"heatmapgl\":[{\"colorbar\":{\"outlinewidth\":0,\"ticks\":\"\"},\"colorscale\":[[0.0,\"#0d0887\"],[0.1111111111111111,\"#46039f\"],[0.2222222222222222,\"#7201a8\"],[0.3333333333333333,\"#9c179e\"],[0.4444444444444444,\"#bd3786\"],[0.5555555555555556,\"#d8576b\"],[0.6666666666666666,\"#ed7953\"],[0.7777777777777778,\"#fb9f3a\"],[0.8888888888888888,\"#fdca26\"],[1.0,\"#f0f921\"]],\"type\":\"heatmapgl\"}],\"heatmap\":[{\"colorbar\":{\"outlinewidth\":0,\"ticks\":\"\"},\"colorscale\":[[0.0,\"#0d0887\"],[0.1111111111111111,\"#46039f\"],[0.2222222222222222,\"#7201a8\"],[0.3333333333333333,\"#9c179e\"],[0.4444444444444444,\"#bd3786\"],[0.5555555555555556,\"#d8576b\"],[0.6666666666666666,\"#ed7953\"],[0.7777777777777778,\"#fb9f3a\"],[0.8888888888888888,\"#fdca26\"],[1.0,\"#f0f921\"]],\"type\":\"heatmap\"}],\"histogram2dcontour\":[{\"colorbar\":{\"outlinewidth\":0,\"ticks\":\"\"},\"colorscale\":[[0.0,\"#0d0887\"],[0.1111111111111111,\"#46039f\"],[0.2222222222222222,\"#7201a8\"],[0.3333333333333333,\"#9c179e\"],[0.4444444444444444,\"#bd3786\"],[0.5555555555555556,\"#d8576b\"],[0.6666666666666666,\"#ed7953\"],[0.7777777777777778,\"#fb9f3a\"],[0.8888888888888888,\"#fdca26\"],[1.0,\"#f0f921\"]],\"type\":\"histogram2dcontour\"}],\"histogram2d\":[{\"colorbar\":{\"outlinewidth\":0,\"ticks\":\"\"},\"colorscale\":[[0.0,\"#0d0887\"],[0.1111111111111111,\"#46039f\"],[0.2222222222222222,\"#7201a8\"],[0.3333333333333333,\"#9c179e\"],[0.4444444444444444,\"#bd3786\"],[0.5555555555555556,\"#d8576b\"],[0.6666666666666666,\"#ed7953\"],[0.7777777777777778,\"#fb9f3a\"],[0.8888888888888888,\"#fdca26\"],[1.0,\"#f0f921\"]],\"type\":\"histogram2d\"}],\"histogram\":[{\"marker\":{\"pattern\":{\"fillmode\":\"overlay\",\"size\":10,\"solidity\":0.2}},\"type\":\"histogram\"}],\"mesh3d\":[{\"colorbar\":{\"outlinewidth\":0,\"ticks\":\"\"},\"type\":\"mesh3d\"}],\"parcoords\":[{\"line\":{\"colorbar\":{\"outlinewidth\":0,\"ticks\":\"\"}},\"type\":\"parcoords\"}],\"pie\":[{\"automargin\":true,\"type\":\"pie\"}],\"scatter3d\":[{\"line\":{\"colorbar\":{\"outlinewidth\":0,\"ticks\":\"\"}},\"marker\":{\"colorbar\":{\"outlinewidth\":0,\"ticks\":\"\"}},\"type\":\"scatter3d\"}],\"scattercarpet\":[{\"marker\":{\"colorbar\":{\"outlinewidth\":0,\"ticks\":\"\"}},\"type\":\"scattercarpet\"}],\"scattergeo\":[{\"marker\":{\"colorbar\":{\"outlinewidth\":0,\"ticks\":\"\"}},\"type\":\"scattergeo\"}],\"scattergl\":[{\"marker\":{\"colorbar\":{\"outlinewidth\":0,\"ticks\":\"\"}},\"type\":\"scattergl\"}],\"scattermapbox\":[{\"marker\":{\"colorbar\":{\"outlinewidth\":0,\"ticks\":\"\"}},\"type\":\"scattermapbox\"}],\"scatterpolargl\":[{\"marker\":{\"colorbar\":{\"outlinewidth\":0,\"ticks\":\"\"}},\"type\":\"scatterpolargl\"}],\"scatterpolar\":[{\"marker\":{\"colorbar\":{\"outlinewidth\":0,\"ticks\":\"\"}},\"type\":\"scatterpolar\"}],\"scatter\":[{\"fillpattern\":{\"fillmode\":\"overlay\",\"size\":10,\"solidity\":0.2},\"type\":\"scatter\"}],\"scatterternary\":[{\"marker\":{\"colorbar\":{\"outlinewidth\":0,\"ticks\":\"\"}},\"type\":\"scatterternary\"}],\"surface\":[{\"colorbar\":{\"outlinewidth\":0,\"ticks\":\"\"},\"colorscale\":[[0.0,\"#0d0887\"],[0.1111111111111111,\"#46039f\"],[0.2222222222222222,\"#7201a8\"],[0.3333333333333333,\"#9c179e\"],[0.4444444444444444,\"#bd3786\"],[0.5555555555555556,\"#d8576b\"],[0.6666666666666666,\"#ed7953\"],[0.7777777777777778,\"#fb9f3a\"],[0.8888888888888888,\"#fdca26\"],[1.0,\"#f0f921\"]],\"type\":\"surface\"}],\"table\":[{\"cells\":{\"fill\":{\"color\":\"#EBF0F8\"},\"line\":{\"color\":\"white\"}},\"header\":{\"fill\":{\"color\":\"#C8D4E3\"},\"line\":{\"color\":\"white\"}},\"type\":\"table\"}]},\"layout\":{\"annotationdefaults\":{\"arrowcolor\":\"#2a3f5f\",\"arrowhead\":0,\"arrowwidth\":1},\"autotypenumbers\":\"strict\",\"coloraxis\":{\"colorbar\":{\"outlinewidth\":0,\"ticks\":\"\"}},\"colorscale\":{\"diverging\":[[0,\"#8e0152\"],[0.1,\"#c51b7d\"],[0.2,\"#de77ae\"],[0.3,\"#f1b6da\"],[0.4,\"#fde0ef\"],[0.5,\"#f7f7f7\"],[0.6,\"#e6f5d0\"],[0.7,\"#b8e186\"],[0.8,\"#7fbc41\"],[0.9,\"#4d9221\"],[1,\"#276419\"]],\"sequential\":[[0.0,\"#0d0887\"],[0.1111111111111111,\"#46039f\"],[0.2222222222222222,\"#7201a8\"],[0.3333333333333333,\"#9c179e\"],[0.4444444444444444,\"#bd3786\"],[0.5555555555555556,\"#d8576b\"],[0.6666666666666666,\"#ed7953\"],[0.7777777777777778,\"#fb9f3a\"],[0.8888888888888888,\"#fdca26\"],[1.0,\"#f0f921\"]],\"sequentialminus\":[[0.0,\"#0d0887\"],[0.1111111111111111,\"#46039f\"],[0.2222222222222222,\"#7201a8\"],[0.3333333333333333,\"#9c179e\"],[0.4444444444444444,\"#bd3786\"],[0.5555555555555556,\"#d8576b\"],[0.6666666666666666,\"#ed7953\"],[0.7777777777777778,\"#fb9f3a\"],[0.8888888888888888,\"#fdca26\"],[1.0,\"#f0f921\"]]},\"colorway\":[\"#636efa\",\"#EF553B\",\"#00cc96\",\"#ab63fa\",\"#FFA15A\",\"#19d3f3\",\"#FF6692\",\"#B6E880\",\"#FF97FF\",\"#FECB52\"],\"font\":{\"color\":\"#2a3f5f\"},\"geo\":{\"bgcolor\":\"white\",\"lakecolor\":\"white\",\"landcolor\":\"#E5ECF6\",\"showlakes\":true,\"showland\":true,\"subunitcolor\":\"white\"},\"hoverlabel\":{\"align\":\"left\"},\"hovermode\":\"closest\",\"mapbox\":{\"style\":\"light\"},\"paper_bgcolor\":\"white\",\"plot_bgcolor\":\"#E5ECF6\",\"polar\":{\"angularaxis\":{\"gridcolor\":\"white\",\"linecolor\":\"white\",\"ticks\":\"\"},\"bgcolor\":\"#E5ECF6\",\"radialaxis\":{\"gridcolor\":\"white\",\"linecolor\":\"white\",\"ticks\":\"\"}},\"scene\":{\"xaxis\":{\"backgroundcolor\":\"#E5ECF6\",\"gridcolor\":\"white\",\"gridwidth\":2,\"linecolor\":\"white\",\"showbackground\":true,\"ticks\":\"\",\"zerolinecolor\":\"white\"},\"yaxis\":{\"backgroundcolor\":\"#E5ECF6\",\"gridcolor\":\"white\",\"gridwidth\":2,\"linecolor\":\"white\",\"showbackground\":true,\"ticks\":\"\",\"zerolinecolor\":\"white\"},\"zaxis\":{\"backgroundcolor\":\"#E5ECF6\",\"gridcolor\":\"white\",\"gridwidth\":2,\"linecolor\":\"white\",\"showbackground\":true,\"ticks\":\"\",\"zerolinecolor\":\"white\"}},\"shapedefaults\":{\"line\":{\"color\":\"#2a3f5f\"}},\"ternary\":{\"aaxis\":{\"gridcolor\":\"white\",\"linecolor\":\"white\",\"ticks\":\"\"},\"baxis\":{\"gridcolor\":\"white\",\"linecolor\":\"white\",\"ticks\":\"\"},\"bgcolor\":\"#E5ECF6\",\"caxis\":{\"gridcolor\":\"white\",\"linecolor\":\"white\",\"ticks\":\"\"}},\"title\":{\"x\":0.05},\"xaxis\":{\"automargin\":true,\"gridcolor\":\"white\",\"linecolor\":\"white\",\"ticks\":\"\",\"title\":{\"standoff\":15},\"zerolinecolor\":\"white\",\"zerolinewidth\":2},\"yaxis\":{\"automargin\":true,\"gridcolor\":\"white\",\"linecolor\":\"white\",\"ticks\":\"\",\"title\":{\"standoff\":15},\"zerolinecolor\":\"white\",\"zerolinewidth\":2}}},\"title\":{\"text\":\"PhoneService\"},\"xaxis\":{\"type\":\"category\"},\"yaxis\":{\"title\":{\"text\":\"Churn Rate\"}}},                        {\"responsive\": true}                    ).then(function(){\n",
              "                            \n",
              "var gd = document.getElementById('93ab2623-7b10-47c8-adc0-cfe2a3b19e1c');\n",
              "var x = new MutationObserver(function (mutations, observer) {{\n",
              "        var display = window.getComputedStyle(gd).display;\n",
              "        if (!display || display === 'none') {{\n",
              "            console.log([gd, 'removed!']);\n",
              "            Plotly.purge(gd);\n",
              "            observer.disconnect();\n",
              "        }}\n",
              "}});\n",
              "\n",
              "// Listen for the removal of the full notebook cells\n",
              "var notebookContainer = gd.closest('#notebook-container');\n",
              "if (notebookContainer) {{\n",
              "    x.observe(notebookContainer, {childList: true});\n",
              "}}\n",
              "\n",
              "// Listen for the clearing of the current output cell\n",
              "var outputEl = gd.closest('.output');\n",
              "if (outputEl) {{\n",
              "    x.observe(outputEl, {childList: true});\n",
              "}}\n",
              "\n",
              "                        })                };                            </script>        </div>\n",
              "</body>\n",
              "</html>"
            ]
          },
          "metadata": {}
        }
      ]
    },
    {
      "cell_type": "code",
      "source": [
        "plot = data.groupby('tenure').Churn.mean().reset_index()\n",
        "plot_data = [\n",
        "    go.Scatter(\n",
        "        x=plot['tenure'],\n",
        "        y=plot['Churn'],\n",
        "        mode='markers',\n",
        "        name='Low',\n",
        "        marker= dict(size= 7,\n",
        "            line= dict(width=1),\n",
        "            color= 'blue',\n",
        "            opacity= 0.8\n",
        "           ),\n",
        "    )\n",
        "]\n",
        "plot_layout = go.Layout(\n",
        "        yaxis= {'title': \"Churn Rate\"},\n",
        "        xaxis= {'title': \"Tenure\"},\n",
        "        title='Tenure based Churn rate',\n",
        "        plot_bgcolor  = \"rgb(243,243,243)\",\n",
        "        paper_bgcolor  = \"rgb(243,243,243)\",\n",
        "    )\n",
        "fig = go.Figure(data=plot_data, layout=plot_layout)\n",
        "pyoff.iplot(fig)"
      ],
      "metadata": {
        "colab": {
          "base_uri": "https://localhost:8080/",
          "height": 542
        },
        "id": "_A3rzvrHJ0bF",
        "outputId": "08d27724-2ac9-40f9-abd4-ad08fd89c1ee"
      },
      "execution_count": 22,
      "outputs": [
        {
          "output_type": "display_data",
          "data": {
            "text/html": [
              "<html>\n",
              "<head><meta charset=\"utf-8\" /></head>\n",
              "<body>\n",
              "    <div>            <script src=\"https://cdnjs.cloudflare.com/ajax/libs/mathjax/2.7.5/MathJax.js?config=TeX-AMS-MML_SVG\"></script><script type=\"text/javascript\">if (window.MathJax && window.MathJax.Hub && window.MathJax.Hub.Config) {window.MathJax.Hub.Config({SVG: {font: \"STIX-Web\"}});}</script>                <script type=\"text/javascript\">window.PlotlyConfig = {MathJaxConfig: 'local'};</script>\n",
              "        <script src=\"https://cdn.plot.ly/plotly-2.18.2.min.js\"></script>                <div id=\"61c55527-7d08-42a0-a94e-7129a116e270\" class=\"plotly-graph-div\" style=\"height:525px; width:100%;\"></div>            <script type=\"text/javascript\">                                    window.PLOTLYENV=window.PLOTLYENV || {};                                    if (document.getElementById(\"61c55527-7d08-42a0-a94e-7129a116e270\")) {                    Plotly.newPlot(                        \"61c55527-7d08-42a0-a94e-7129a116e270\",                        [{\"marker\":{\"color\":\"blue\",\"line\":{\"width\":1},\"opacity\":0.8,\"size\":7},\"mode\":\"markers\",\"name\":\"Low\",\"x\":[0,1,2,3,4,5,6,7,8,9,10,11,12,13,14,15,16,17,18,19,20,21,22,23,24,25,26,27,28,29,30,31,32,33,34,35,36,37,38,39,40,41,42,43,44,45,46,47,48,49,50,51,52,53,54,55,56,57,58,59,60,61,62,63,64,65,66,67,68,69,70,71,72],\"y\":[0.0,0.6199021207177814,0.5168067226890757,0.47,0.4715909090909091,0.48120300751879697,0.36363636363636365,0.3893129770992366,0.34146341463414637,0.3865546218487395,0.3879310344827586,0.31313131313131315,0.3247863247863248,0.3486238532110092,0.3157894736842105,0.37373737373737376,0.35,0.2988505747126437,0.24742268041237114,0.2602739726027397,0.2535211267605634,0.2698412698412698,0.3,0.15294117647058825,0.24468085106382978,0.2911392405063291,0.189873417721519,0.18055555555555555,0.21052631578947367,0.20833333333333334,0.2222222222222222,0.24615384615384617,0.2753623188405797,0.21875,0.18461538461538463,0.17045454545454544,0.2,0.23076923076923078,0.22033898305084745,0.25,0.203125,0.2,0.2153846153846154,0.23076923076923078,0.11764705882352941,0.09836065573770492,0.16216216216216217,0.20588235294117646,0.140625,0.22727272727272727,0.14705882352941177,0.11764705882352941,0.1,0.2,0.19117647058823528,0.140625,0.125,0.12307692307692308,0.16417910447761194,0.13333333333333333,0.07894736842105263,0.10526315789473684,0.07142857142857142,0.05555555555555555,0.05,0.11842105263157894,0.14606741573033707,0.10204081632653061,0.09,0.08421052631578947,0.09243697478991597,0.03529411764705882,0.016574585635359115],\"type\":\"scatter\"}],                        {\"paper_bgcolor\":\"rgb(243,243,243)\",\"plot_bgcolor\":\"rgb(243,243,243)\",\"template\":{\"data\":{\"barpolar\":[{\"marker\":{\"line\":{\"color\":\"#E5ECF6\",\"width\":0.5},\"pattern\":{\"fillmode\":\"overlay\",\"size\":10,\"solidity\":0.2}},\"type\":\"barpolar\"}],\"bar\":[{\"error_x\":{\"color\":\"#2a3f5f\"},\"error_y\":{\"color\":\"#2a3f5f\"},\"marker\":{\"line\":{\"color\":\"#E5ECF6\",\"width\":0.5},\"pattern\":{\"fillmode\":\"overlay\",\"size\":10,\"solidity\":0.2}},\"type\":\"bar\"}],\"carpet\":[{\"aaxis\":{\"endlinecolor\":\"#2a3f5f\",\"gridcolor\":\"white\",\"linecolor\":\"white\",\"minorgridcolor\":\"white\",\"startlinecolor\":\"#2a3f5f\"},\"baxis\":{\"endlinecolor\":\"#2a3f5f\",\"gridcolor\":\"white\",\"linecolor\":\"white\",\"minorgridcolor\":\"white\",\"startlinecolor\":\"#2a3f5f\"},\"type\":\"carpet\"}],\"choropleth\":[{\"colorbar\":{\"outlinewidth\":0,\"ticks\":\"\"},\"type\":\"choropleth\"}],\"contourcarpet\":[{\"colorbar\":{\"outlinewidth\":0,\"ticks\":\"\"},\"type\":\"contourcarpet\"}],\"contour\":[{\"colorbar\":{\"outlinewidth\":0,\"ticks\":\"\"},\"colorscale\":[[0.0,\"#0d0887\"],[0.1111111111111111,\"#46039f\"],[0.2222222222222222,\"#7201a8\"],[0.3333333333333333,\"#9c179e\"],[0.4444444444444444,\"#bd3786\"],[0.5555555555555556,\"#d8576b\"],[0.6666666666666666,\"#ed7953\"],[0.7777777777777778,\"#fb9f3a\"],[0.8888888888888888,\"#fdca26\"],[1.0,\"#f0f921\"]],\"type\":\"contour\"}],\"heatmapgl\":[{\"colorbar\":{\"outlinewidth\":0,\"ticks\":\"\"},\"colorscale\":[[0.0,\"#0d0887\"],[0.1111111111111111,\"#46039f\"],[0.2222222222222222,\"#7201a8\"],[0.3333333333333333,\"#9c179e\"],[0.4444444444444444,\"#bd3786\"],[0.5555555555555556,\"#d8576b\"],[0.6666666666666666,\"#ed7953\"],[0.7777777777777778,\"#fb9f3a\"],[0.8888888888888888,\"#fdca26\"],[1.0,\"#f0f921\"]],\"type\":\"heatmapgl\"}],\"heatmap\":[{\"colorbar\":{\"outlinewidth\":0,\"ticks\":\"\"},\"colorscale\":[[0.0,\"#0d0887\"],[0.1111111111111111,\"#46039f\"],[0.2222222222222222,\"#7201a8\"],[0.3333333333333333,\"#9c179e\"],[0.4444444444444444,\"#bd3786\"],[0.5555555555555556,\"#d8576b\"],[0.6666666666666666,\"#ed7953\"],[0.7777777777777778,\"#fb9f3a\"],[0.8888888888888888,\"#fdca26\"],[1.0,\"#f0f921\"]],\"type\":\"heatmap\"}],\"histogram2dcontour\":[{\"colorbar\":{\"outlinewidth\":0,\"ticks\":\"\"},\"colorscale\":[[0.0,\"#0d0887\"],[0.1111111111111111,\"#46039f\"],[0.2222222222222222,\"#7201a8\"],[0.3333333333333333,\"#9c179e\"],[0.4444444444444444,\"#bd3786\"],[0.5555555555555556,\"#d8576b\"],[0.6666666666666666,\"#ed7953\"],[0.7777777777777778,\"#fb9f3a\"],[0.8888888888888888,\"#fdca26\"],[1.0,\"#f0f921\"]],\"type\":\"histogram2dcontour\"}],\"histogram2d\":[{\"colorbar\":{\"outlinewidth\":0,\"ticks\":\"\"},\"colorscale\":[[0.0,\"#0d0887\"],[0.1111111111111111,\"#46039f\"],[0.2222222222222222,\"#7201a8\"],[0.3333333333333333,\"#9c179e\"],[0.4444444444444444,\"#bd3786\"],[0.5555555555555556,\"#d8576b\"],[0.6666666666666666,\"#ed7953\"],[0.7777777777777778,\"#fb9f3a\"],[0.8888888888888888,\"#fdca26\"],[1.0,\"#f0f921\"]],\"type\":\"histogram2d\"}],\"histogram\":[{\"marker\":{\"pattern\":{\"fillmode\":\"overlay\",\"size\":10,\"solidity\":0.2}},\"type\":\"histogram\"}],\"mesh3d\":[{\"colorbar\":{\"outlinewidth\":0,\"ticks\":\"\"},\"type\":\"mesh3d\"}],\"parcoords\":[{\"line\":{\"colorbar\":{\"outlinewidth\":0,\"ticks\":\"\"}},\"type\":\"parcoords\"}],\"pie\":[{\"automargin\":true,\"type\":\"pie\"}],\"scatter3d\":[{\"line\":{\"colorbar\":{\"outlinewidth\":0,\"ticks\":\"\"}},\"marker\":{\"colorbar\":{\"outlinewidth\":0,\"ticks\":\"\"}},\"type\":\"scatter3d\"}],\"scattercarpet\":[{\"marker\":{\"colorbar\":{\"outlinewidth\":0,\"ticks\":\"\"}},\"type\":\"scattercarpet\"}],\"scattergeo\":[{\"marker\":{\"colorbar\":{\"outlinewidth\":0,\"ticks\":\"\"}},\"type\":\"scattergeo\"}],\"scattergl\":[{\"marker\":{\"colorbar\":{\"outlinewidth\":0,\"ticks\":\"\"}},\"type\":\"scattergl\"}],\"scattermapbox\":[{\"marker\":{\"colorbar\":{\"outlinewidth\":0,\"ticks\":\"\"}},\"type\":\"scattermapbox\"}],\"scatterpolargl\":[{\"marker\":{\"colorbar\":{\"outlinewidth\":0,\"ticks\":\"\"}},\"type\":\"scatterpolargl\"}],\"scatterpolar\":[{\"marker\":{\"colorbar\":{\"outlinewidth\":0,\"ticks\":\"\"}},\"type\":\"scatterpolar\"}],\"scatter\":[{\"fillpattern\":{\"fillmode\":\"overlay\",\"size\":10,\"solidity\":0.2},\"type\":\"scatter\"}],\"scatterternary\":[{\"marker\":{\"colorbar\":{\"outlinewidth\":0,\"ticks\":\"\"}},\"type\":\"scatterternary\"}],\"surface\":[{\"colorbar\":{\"outlinewidth\":0,\"ticks\":\"\"},\"colorscale\":[[0.0,\"#0d0887\"],[0.1111111111111111,\"#46039f\"],[0.2222222222222222,\"#7201a8\"],[0.3333333333333333,\"#9c179e\"],[0.4444444444444444,\"#bd3786\"],[0.5555555555555556,\"#d8576b\"],[0.6666666666666666,\"#ed7953\"],[0.7777777777777778,\"#fb9f3a\"],[0.8888888888888888,\"#fdca26\"],[1.0,\"#f0f921\"]],\"type\":\"surface\"}],\"table\":[{\"cells\":{\"fill\":{\"color\":\"#EBF0F8\"},\"line\":{\"color\":\"white\"}},\"header\":{\"fill\":{\"color\":\"#C8D4E3\"},\"line\":{\"color\":\"white\"}},\"type\":\"table\"}]},\"layout\":{\"annotationdefaults\":{\"arrowcolor\":\"#2a3f5f\",\"arrowhead\":0,\"arrowwidth\":1},\"autotypenumbers\":\"strict\",\"coloraxis\":{\"colorbar\":{\"outlinewidth\":0,\"ticks\":\"\"}},\"colorscale\":{\"diverging\":[[0,\"#8e0152\"],[0.1,\"#c51b7d\"],[0.2,\"#de77ae\"],[0.3,\"#f1b6da\"],[0.4,\"#fde0ef\"],[0.5,\"#f7f7f7\"],[0.6,\"#e6f5d0\"],[0.7,\"#b8e186\"],[0.8,\"#7fbc41\"],[0.9,\"#4d9221\"],[1,\"#276419\"]],\"sequential\":[[0.0,\"#0d0887\"],[0.1111111111111111,\"#46039f\"],[0.2222222222222222,\"#7201a8\"],[0.3333333333333333,\"#9c179e\"],[0.4444444444444444,\"#bd3786\"],[0.5555555555555556,\"#d8576b\"],[0.6666666666666666,\"#ed7953\"],[0.7777777777777778,\"#fb9f3a\"],[0.8888888888888888,\"#fdca26\"],[1.0,\"#f0f921\"]],\"sequentialminus\":[[0.0,\"#0d0887\"],[0.1111111111111111,\"#46039f\"],[0.2222222222222222,\"#7201a8\"],[0.3333333333333333,\"#9c179e\"],[0.4444444444444444,\"#bd3786\"],[0.5555555555555556,\"#d8576b\"],[0.6666666666666666,\"#ed7953\"],[0.7777777777777778,\"#fb9f3a\"],[0.8888888888888888,\"#fdca26\"],[1.0,\"#f0f921\"]]},\"colorway\":[\"#636efa\",\"#EF553B\",\"#00cc96\",\"#ab63fa\",\"#FFA15A\",\"#19d3f3\",\"#FF6692\",\"#B6E880\",\"#FF97FF\",\"#FECB52\"],\"font\":{\"color\":\"#2a3f5f\"},\"geo\":{\"bgcolor\":\"white\",\"lakecolor\":\"white\",\"landcolor\":\"#E5ECF6\",\"showlakes\":true,\"showland\":true,\"subunitcolor\":\"white\"},\"hoverlabel\":{\"align\":\"left\"},\"hovermode\":\"closest\",\"mapbox\":{\"style\":\"light\"},\"paper_bgcolor\":\"white\",\"plot_bgcolor\":\"#E5ECF6\",\"polar\":{\"angularaxis\":{\"gridcolor\":\"white\",\"linecolor\":\"white\",\"ticks\":\"\"},\"bgcolor\":\"#E5ECF6\",\"radialaxis\":{\"gridcolor\":\"white\",\"linecolor\":\"white\",\"ticks\":\"\"}},\"scene\":{\"xaxis\":{\"backgroundcolor\":\"#E5ECF6\",\"gridcolor\":\"white\",\"gridwidth\":2,\"linecolor\":\"white\",\"showbackground\":true,\"ticks\":\"\",\"zerolinecolor\":\"white\"},\"yaxis\":{\"backgroundcolor\":\"#E5ECF6\",\"gridcolor\":\"white\",\"gridwidth\":2,\"linecolor\":\"white\",\"showbackground\":true,\"ticks\":\"\",\"zerolinecolor\":\"white\"},\"zaxis\":{\"backgroundcolor\":\"#E5ECF6\",\"gridcolor\":\"white\",\"gridwidth\":2,\"linecolor\":\"white\",\"showbackground\":true,\"ticks\":\"\",\"zerolinecolor\":\"white\"}},\"shapedefaults\":{\"line\":{\"color\":\"#2a3f5f\"}},\"ternary\":{\"aaxis\":{\"gridcolor\":\"white\",\"linecolor\":\"white\",\"ticks\":\"\"},\"baxis\":{\"gridcolor\":\"white\",\"linecolor\":\"white\",\"ticks\":\"\"},\"bgcolor\":\"#E5ECF6\",\"caxis\":{\"gridcolor\":\"white\",\"linecolor\":\"white\",\"ticks\":\"\"}},\"title\":{\"x\":0.05},\"xaxis\":{\"automargin\":true,\"gridcolor\":\"white\",\"linecolor\":\"white\",\"ticks\":\"\",\"title\":{\"standoff\":15},\"zerolinecolor\":\"white\",\"zerolinewidth\":2},\"yaxis\":{\"automargin\":true,\"gridcolor\":\"white\",\"linecolor\":\"white\",\"ticks\":\"\",\"title\":{\"standoff\":15},\"zerolinecolor\":\"white\",\"zerolinewidth\":2}}},\"title\":{\"text\":\"Tenure based Churn rate\"},\"xaxis\":{\"title\":{\"text\":\"Tenure\"}},\"yaxis\":{\"title\":{\"text\":\"Churn Rate\"}}},                        {\"responsive\": true}                    ).then(function(){\n",
              "                            \n",
              "var gd = document.getElementById('61c55527-7d08-42a0-a94e-7129a116e270');\n",
              "var x = new MutationObserver(function (mutations, observer) {{\n",
              "        var display = window.getComputedStyle(gd).display;\n",
              "        if (!display || display === 'none') {{\n",
              "            console.log([gd, 'removed!']);\n",
              "            Plotly.purge(gd);\n",
              "            observer.disconnect();\n",
              "        }}\n",
              "}});\n",
              "\n",
              "// Listen for the removal of the full notebook cells\n",
              "var notebookContainer = gd.closest('#notebook-container');\n",
              "if (notebookContainer) {{\n",
              "    x.observe(notebookContainer, {childList: true});\n",
              "}}\n",
              "\n",
              "// Listen for the clearing of the current output cell\n",
              "var outputEl = gd.closest('.output');\n",
              "if (outputEl) {{\n",
              "    x.observe(outputEl, {childList: true});\n",
              "}}\n",
              "\n",
              "                        })                };                            </script>        </div>\n",
              "</body>\n",
              "</html>"
            ]
          },
          "metadata": {}
        }
      ]
    },
    {
      "cell_type": "code",
      "source": [
        "plot = data.groupby('MonthlyCharges').Churn.mean().reset_index()\n",
        "plot_data = [\n",
        "    go.Scatter(\n",
        "        x=plot['MonthlyCharges'],\n",
        "        y=plot['Churn'],\n",
        "        mode='markers',\n",
        "        name='Low',\n",
        "        marker= dict(size= 7,\n",
        "            line= dict(width=1),\n",
        "            color= 'blue',\n",
        "            opacity= 0.8\n",
        "           ),\n",
        "    )\n",
        "]\n",
        "plot_layout = go.Layout(\n",
        "        yaxis= {'title': \"Churn Rate\"},\n",
        "        xaxis= {'title': \"Monthly Charges\"},\n",
        "        title='Monthly Charge based Churn rate',\n",
        "        plot_bgcolor  = \"rgb(243,243,243)\",\n",
        "        paper_bgcolor  = \"rgb(243,243,243)\",\n",
        "    )\n",
        "fig = go.Figure(data=plot_data, layout=plot_layout)\n",
        "pyoff.iplot(fig)"
      ],
      "metadata": {
        "colab": {
          "base_uri": "https://localhost:8080/",
          "height": 542
        },
        "id": "4PNVVnO7J9b_",
        "outputId": "b59aa46f-f4fa-40e3-9396-3e9b8bdb1592"
      },
      "execution_count": 23,
      "outputs": [
        {
          "output_type": "display_data",
          "data": {
            "text/html": [
              "<html>\n",
              "<head><meta charset=\"utf-8\" /></head>\n",
              "<body>\n",
              "    <div>            <script src=\"https://cdnjs.cloudflare.com/ajax/libs/mathjax/2.7.5/MathJax.js?config=TeX-AMS-MML_SVG\"></script><script type=\"text/javascript\">if (window.MathJax && window.MathJax.Hub && window.MathJax.Hub.Config) {window.MathJax.Hub.Config({SVG: {font: \"STIX-Web\"}});}</script>                <script type=\"text/javascript\">window.PlotlyConfig = {MathJaxConfig: 'local'};</script>\n",
              "        <script src=\"https://cdn.plot.ly/plotly-2.18.2.min.js\"></script>                <div id=\"84090fd2-8a3c-4bdd-af8d-30bbdb4e20e2\" class=\"plotly-graph-div\" style=\"height:525px; width:100%;\"></div>            <script type=\"text/javascript\">                                    window.PLOTLYENV=window.PLOTLYENV || {};                                    if (document.getElementById(\"84090fd2-8a3c-4bdd-af8d-30bbdb4e20e2\")) {                    Plotly.newPlot(                        \"84090fd2-8a3c-4bdd-af8d-30bbdb4e20e2\",                        [{\"marker\":{\"color\":\"blue\",\"line\":{\"width\":1},\"opacity\":0.8,\"size\":7},\"mode\":\"markers\",\"name\":\"Low\",\"x\":[18.25,18.4,18.55,18.7,18.75,18.8,18.85,18.9,18.95,19.0,19.05,19.1,19.15,19.2,19.25,19.3,19.35,19.4,19.45,19.5,19.55,19.6,19.65,19.7,19.75,19.8,19.85,19.9,19.95,20.0,20.05,20.1,20.15,20.2,20.25,20.3,20.35,20.4,20.45,20.5,20.55,20.6,20.65,20.7,20.75,20.8,20.85,20.9,20.95,21.0,21.05,21.1,21.15,21.2,21.25,21.3,21.45,22.95,23.05,23.15,23.3,23.4,23.45,23.5,23.55,23.6,23.65,23.75,23.8,23.85,23.9,23.95,24.0,24.05,24.1,24.15,24.2,24.25,24.3,24.35,24.4,24.45,24.5,24.55,24.6,24.65,24.7,24.75,24.8,24.85,24.9,24.95,25.0,25.05,25.1,25.15,25.2,25.25,25.3,25.35,25.4,25.45,25.5,25.55,25.6,25.65,25.7,25.75,25.8,25.85,25.9,25.95,26.0,26.05,26.1,26.2,26.25,26.3,26.35,26.4,26.45,26.5,26.8,26.9,28.45,28.5,28.6,29.05,29.1,29.15,29.2,29.25,29.3,29.35,29.4,29.45,29.5,29.6,29.65,29.7,29.75,29.8,29.85,29.9,29.95,30.05,30.1,30.15,30.2,30.25,30.3,30.35,30.4,30.45,30.5,30.55,30.6,30.75,30.85,30.9,31.0,31.05,31.1,31.2,31.35,31.65,33.15,33.45,33.5,33.55,33.6,33.65,33.7,33.75,33.9,34.0,34.05,34.2,34.25,34.3,34.4,34.5,34.55,34.6,34.65,34.7,34.8,34.85,34.95,35.0,35.05,35.1,35.15,35.2,35.25,35.3,35.35,35.4,35.45,35.5,35.55,35.6,35.65,35.7,35.75,35.8,35.9,36.0,36.05,36.1,36.15,36.25,36.45,36.5,36.65,36.85,37.7,38.1,38.25,38.5,38.55,38.6,38.8,38.85,38.9,39.0,39.05,39.1,39.15,39.2,39.3,39.35,39.4,39.45,39.5,39.55,39.6,39.65,39.7,39.85,39.9,39.95,40.0,40.05,40.1,40.15,40.2,40.25,40.3,40.35,40.4,40.45,40.55,40.6,40.65,40.7,40.75,40.9,41.05,41.1,41.15,41.35,41.6,41.9,41.95,42.1,42.3,42.35,42.4,42.6,42.9,43.05,43.25,43.3,43.35,43.45,43.55,43.6,43.65,43.7,43.75,43.8,43.85,43.9,43.95,44.0,44.05,44.1,44.15,44.2,44.25,44.3,44.35,44.4,44.45,44.5,44.55,44.6,44.65,44.7,44.75,44.8,44.85,44.9,44.95,45.0,45.05,45.1,45.15,45.2,45.25,45.3,45.35,45.4,45.45,45.5,45.55,45.6,45.65,45.7,45.75,45.8,45.85,45.9,45.95,46.0,46.05,46.1,46.2,46.25,46.3,46.35,46.4,46.6,47.05,47.15,47.4,47.6,47.8,47.85,47.95,48.15,48.2,48.25,48.35,48.4,48.45,48.55,48.6,48.65,48.7,48.75,48.8,48.85,48.9,48.95,49.0,49.05,49.1,49.15,49.2,49.25,49.3,49.35,49.4,49.45,49.5,49.55,49.6,49.65,49.7,49.75,49.8,49.85,49.9,49.95,50.0,50.05,50.1,50.15,50.2,50.25,50.3,50.35,50.4,50.45,50.5,50.55,50.6,50.65,50.7,50.75,50.8,50.85,50.9,50.95,51.0,51.05,51.1,51.15,51.2,51.25,51.3,51.35,51.4,51.45,51.5,51.55,51.6,51.65,51.7,51.75,51.8,52.0,52.1,52.15,52.2,52.3,52.5,52.55,52.7,52.85,53.0,53.1,53.15,53.3,53.35,53.4,53.45,53.5,53.55,53.6,53.65,53.7,53.75,53.8,53.85,53.9,53.95,54.0,54.05,54.1,54.15,54.2,54.25,54.3,54.35,54.4,54.45,54.5,54.55,54.6,54.65,54.7,54.75,54.8,54.85,54.9,54.95,55.0,55.05,55.1,55.15,55.2,55.25,55.3,55.35,55.4,55.45,55.5,55.55,55.6,55.65,55.7,55.75,55.8,55.85,55.9,55.95,56.0,56.05,56.1,56.15,56.2,56.25,56.3,56.35,56.4,56.45,56.5,56.55,56.6,56.65,56.7,56.75,56.8,56.85,56.9,56.95,57.15,57.2,57.45,57.5,57.55,57.6,57.65,57.75,57.8,57.95,58.0,58.2,58.25,58.35,58.4,58.45,58.5,58.55,58.6,58.65,58.7,58.75,58.85,58.9,58.95,59.0,59.05,59.1,59.15,59.2,59.25,59.3,59.4,59.45,59.5,59.55,59.6,59.65,59.7,59.75,59.8,59.85,59.9,59.95,60.0,60.05,60.1,60.15,60.2,60.25,60.3,60.35,60.4,60.45,60.5,60.55,60.6,60.65,60.7,60.75,60.8,60.85,60.9,60.95,61.0,61.05,61.1,61.15,61.2,61.25,61.3,61.35,61.4,61.45,61.5,61.55,61.6,61.65,61.75,61.8,61.9,61.95,62.05,62.1,62.15,62.25,62.3,62.45,62.5,62.55,62.65,62.7,62.8,62.85,63.05,63.1,63.15,63.25,63.3,63.35,63.4,63.55,63.6,63.7,63.75,63.8,63.85,63.9,63.95,64.0,64.05,64.1,64.15,64.2,64.25,64.3,64.35,64.4,64.45,64.5,64.55,64.6,64.65,64.7,64.75,64.8,64.85,64.9,64.95,65.0,65.05,65.1,65.15,65.2,65.25,65.3,65.35,65.4,65.45,65.5,65.55,65.6,65.65,65.7,65.75,65.8,65.85,65.9,66.0,66.05,66.1,66.15,66.2,66.25,66.3,66.35,66.4,66.5,66.6,66.65,66.7,66.75,66.8,66.85,66.9,67.05,67.2,67.25,67.4,67.45,67.5,67.6,67.65,67.7,67.75,67.8,67.85,67.95,68.05,68.1,68.15,68.25,68.3,68.35,68.4,68.45,68.5,68.55,68.6,68.65,68.7,68.75,68.8,68.85,68.9,68.95,69.0,69.05,69.1,69.15,69.2,69.25,69.3,69.35,69.4,69.45,69.5,69.55,69.6,69.65,69.7,69.75,69.8,69.85,69.9,69.95,70.0,70.05,70.1,70.15,70.2,70.25,70.3,70.35,70.4,70.45,70.5,70.55,70.6,70.65,70.7,70.75,70.8,70.85,70.9,70.95,71.0,71.05,71.1,71.15,71.25,71.3,71.35,71.4,71.45,71.5,71.55,71.6,71.65,71.7,71.75,71.8,71.85,71.9,71.95,72.0,72.1,72.15,72.2,72.25,72.35,72.45,72.6,72.65,72.75,72.8,72.85,72.9,72.95,73.0,73.05,73.1,73.15,73.2,73.25,73.3,73.35,73.45,73.5,73.55,73.6,73.65,73.7,73.75,73.8,73.85,73.9,73.95,74.0,74.05,74.1,74.15,74.2,74.25,74.3,74.35,74.4,74.45,74.5,74.55,74.6,74.65,74.7,74.75,74.8,74.85,74.9,74.95,75.0,75.05,75.1,75.15,75.2,75.25,75.3,75.35,75.4,75.45,75.5,75.55,75.6,75.65,75.7,75.75,75.8,75.85,75.9,75.95,76.0,76.05,76.1,76.15,76.2,76.25,76.3,76.35,76.4,76.45,76.5,76.55,76.6,76.65,76.75,76.8,76.85,76.9,76.95,77.0,77.15,77.2,77.3,77.35,77.4,77.5,77.55,77.65,77.75,77.8,77.85,77.9,77.95,78.0,78.05,78.1,78.15,78.2,78.25,78.3,78.35,78.4,78.45,78.5,78.55,78.6,78.65,78.7,78.75,78.8,78.85,78.9,78.95,79.0,79.05,79.1,79.15,79.2,79.25,79.3,79.35,79.4,79.45,79.5,79.55,79.6,79.65,79.7,79.75,79.8,79.85,79.9,79.95,80.0,80.05,80.1,80.15,80.2,80.25,80.3,80.35,80.4,80.45,80.5,80.55,80.6,80.65,80.7,80.75,80.8,80.85,80.9,80.95,81.0,81.05,81.1,81.15,81.2,81.25,81.3,81.35,81.4,81.45,81.5,81.55,81.6,81.65,81.7,81.75,81.8,81.85,81.9,81.95,82.0,82.05,82.1,82.15,82.3,82.35,82.4,82.45,82.5,82.55,82.65,82.7,82.75,82.85,82.9,82.95,83.0,83.05,83.15,83.2,83.25,83.3,83.35,83.4,83.45,83.5,83.55,83.6,83.65,83.7,83.75,83.8,83.85,83.9,83.95,84.0,84.05,84.1,84.15,84.2,84.25,84.3,84.35,84.4,84.45,84.5,84.55,84.6,84.65,84.7,84.75,84.8,84.85,84.9,84.95,85.0,85.05,85.1,85.15,85.2,85.25,85.3,85.35,85.4,85.45,85.5,85.55,85.6,85.65,85.7,85.75,85.8,85.85,85.9,85.95,86.0,86.05,86.1,86.15,86.2,86.25,86.3,86.35,86.4,86.45,86.5,86.55,86.6,86.65,86.7,86.75,86.8,86.85,86.9,86.95,87.0,87.05,87.1,87.15,87.2,87.25,87.3,87.35,87.4,87.45,87.55,87.6,87.65,87.7,87.75,87.8,87.9,87.95,88.0,88.05,88.1,88.15,88.2,88.25,88.3,88.35,88.4,88.45,88.5,88.55,88.6,88.65,88.7,88.75,88.8,88.85,88.9,88.95,89.0,89.05,89.1,89.15,89.2,89.25,89.3,89.35,89.4,89.45,89.5,89.55,89.6,89.65,89.7,89.75,89.8,89.85,89.9,89.95,90.0,90.05,90.1,90.15,90.2,90.25,90.3,90.35,90.4,90.45,90.5,90.55,90.6,90.65,90.7,90.75,90.8,90.85,90.9,90.95,91.0,91.05,91.1,91.15,91.2,91.25,91.3,91.35,91.4,91.45,91.5,91.55,91.6,91.65,91.7,91.75,91.8,91.85,91.95,92.0,92.05,92.1,92.15,92.2,92.3,92.35,92.4,92.45,92.5,92.55,92.6,92.65,92.7,92.85,92.9,92.95,93.0,93.05,93.15,93.2,93.25,93.3,93.35,93.4,93.45,93.5,93.55,93.6,93.65,93.7,93.75,93.8,93.85,93.9,93.95,94.0,94.05,94.1,94.15,94.2,94.25,94.3,94.35,94.4,94.45,94.5,94.55,94.6,94.65,94.7,94.75,94.8,94.85,94.9,94.95,95.0,95.05,95.1,95.15,95.2,95.25,95.3,95.35,95.4,95.45,95.5,95.55,95.6,95.65,95.7,95.75,95.8,95.85,95.9,95.95,96.0,96.05,96.1,96.15,96.2,96.25,96.3,96.35,96.4,96.5,96.55,96.6,96.65,96.7,96.75,96.8,96.85,96.9,96.95,97.0,97.05,97.1,97.2,97.25,97.35,97.45,97.55,97.65,97.7,97.75,97.8,97.85,97.9,97.95,98.0,98.05,98.1,98.15,98.2,98.25,98.3,98.35,98.4,98.45,98.5,98.55,98.6,98.65,98.7,98.75,98.8,98.85,98.9,99.0,99.05,99.1,99.15,99.2,99.25,99.3,99.35,99.4,99.45,99.5,99.55,99.6,99.65,99.7,99.75,99.8,99.85,99.9,99.95,100.0,100.05,100.1,100.15,100.2,100.25,100.3,100.35,100.4,100.45,100.5,100.55,100.6,100.65,100.7,100.75,100.8,100.85,100.9,100.95,101.0,101.05,101.1,101.15,101.25,101.3,101.35,101.4,101.45,101.5,101.55,101.6,101.7,101.75,101.8,101.85,101.9,101.95,102.0,102.05,102.1,102.15,102.25,102.35,102.4,102.45,102.5,102.55,102.6,102.65,102.7,102.8,102.85,102.9,102.95,103.0,103.05,103.1,103.15,103.2,103.25,103.3,103.35,103.4,103.45,103.5,103.6,103.65,103.7,103.75,103.8,103.85,103.9,103.95,104.0,104.05,104.1,104.15,104.2,104.25,104.3,104.35,104.4,104.45,104.5,104.55,104.6,104.65,104.7,104.75,104.8,104.85,104.9,104.95,105.0,105.05,105.1,105.15,105.2,105.25,105.3,105.35,105.4,105.45,105.5,105.55,105.6,105.65,105.7,105.75,105.8,105.85,105.9,105.95,106.0,106.05,106.1,106.15,106.2,106.25,106.3,106.35,106.4,106.45,106.5,106.55,106.6,106.65,106.7,106.75,106.8,106.85,106.9,106.95,107.0,107.05,107.15,107.2,107.25,107.35,107.4,107.45,107.5,107.55,107.6,107.65,107.7,107.75,107.9,107.95,108.0,108.05,108.1,108.15,108.2,108.25,108.3,108.35,108.4,108.45,108.5,108.55,108.6,108.65,108.75,108.8,108.85,108.9,108.95,109.0,109.05,109.1,109.15,109.2,109.25,109.3,109.4,109.45,109.5,109.55,109.6,109.65,109.7,109.75,109.8,109.85,109.9,109.95,110.0,110.05,110.1,110.15,110.2,110.25,110.3,110.35,110.45,110.5,110.55,110.6,110.65,110.7,110.75,110.8,110.85,110.9,111.05,111.1,111.15,111.2,111.25,111.3,111.35,111.4,111.45,111.5,111.55,111.6,111.65,111.75,111.8,111.9,111.95,112.1,112.2,112.25,112.35,112.4,112.55,112.6,112.75,112.9,112.95,113.0,113.05,113.1,113.15,113.2,113.25,113.3,113.35,113.4,113.45,113.6,113.65,113.75,113.8,113.95,114.0,114.05,114.1,114.2,114.3,114.35,114.45,114.5,114.55,114.6,114.65,114.7,114.75,114.85,114.9,114.95,115.0,115.05,115.1,115.15,115.25,115.5,115.55,115.6,115.65,115.75,115.8,115.85,116.0,116.05,116.1,116.15,116.2,116.25,116.3,116.4,116.45,116.5,116.55,116.6,116.75,116.8,116.85,116.95,117.15,117.2,117.35,117.45,117.5,117.6,117.8,118.2,118.35,118.6,118.65,118.75],\"y\":[0.0,0.0,0.0,0.0,0.0,0.0,0.2,0.0,0.16666666666666666,0.14285714285714285,0.0,0.08333333333333333,0.0,0.0,0.16666666666666666,0.125,0.08,0.12903225806451613,0.10714285714285714,0.09375,0.05,0.10810810810810811,0.09302325581395349,0.046511627906976744,0.15384615384615385,0.07894736842105263,0.1111111111111111,0.09090909090909091,0.06818181818181818,0.06976744186046512,0.04918032786885246,0.10810810810810811,0.15,0.17142857142857143,0.10256410256410256,0.03571428571428571,0.07894736842105263,0.06666666666666667,0.0,0.10714285714285714,0.1111111111111111,0.06666666666666667,0.043478260869565216,0.0,0.0,0.125,0.06666666666666667,0.2,0.25,0.2,0.16666666666666666,0.0,0.0,0.0,0.0,0.0,0.0,0.0,0.0,1.0,0.0,0.0,1.0,0.0,0.0,0.0,0.0,0.0,0.0,0.0,0.25,0.0,0.0,0.16666666666666666,0.25,0.0,0.0,0.2,0.0,0.16666666666666666,0.09090909090909091,0.26666666666666666,0.14285714285714285,0.0,0.1111111111111111,0.0,0.0,0.3,0.2,0.0,0.09090909090909091,0.08333333333333333,0.0,0.21428571428571427,0.15789473684210525,0.14285714285714285,0.3,0.1,0.3,0.0,0.08333333333333333,0.0,0.2,0.0,0.0,0.0,0.1,0.0,0.3333333333333333,0.0,0.5,0.0,0.0,0.0,0.0,0.0,0.0,0.0,0.0,0.0,0.0,0.0,0.0,0.0,1.0,0.0,1.0,0.0,0.0,0.0,0.5,0.0,0.0,0.0,1.0,0.0,0.5,0.3333333333333333,0.6666666666666666,1.0,0.0,0.0,0.5,0.0,1.0,0.0,0.3333333333333333,0.0,0.3333333333333333,0.0,1.0,0.5,0.25,1.0,0.5,0.0,1.0,0.3333333333333333,0.0,1.0,1.0,0.5,0.0,0.0,1.0,0.0,0.0,0.0,1.0,1.0,0.0,1.0,0.0,0.0,1.0,0.3333333333333333,0.0,0.0,0.3333333333333333,0.0,0.0,1.0,0.0,0.0,0.0,0.8333333333333334,0.0,0.0,0.0,0.25,0.3333333333333333,0.5,0.5,0.3333333333333333,1.0,0.0,0.0,0.2,0.5,0.0,0.5,0.0,0.0,0.0,0.16666666666666666,0.0,0.3333333333333333,0.0,0.0,0.0,0.0,0.0,1.0,1.0,0.0,1.0,0.0,0.0,0.0,0.0,0.0,0.0,0.0,0.0,0.0,0.5,1.0,0.2,0.0,0.0,1.0,0.0,0.0,0.0,0.5,0.0,0.0,0.6666666666666666,0.0,0.0,0.0,0.0,1.0,0.3333333333333333,0.6666666666666666,0.5,0.4,0.0,0.25,0.0,0.3333333333333333,0.0,0.0,0.0,0.3333333333333333,0.0,0.0,0.0,1.0,0.0,0.5,0.0,1.0,0.5,0.0,0.0,0.0,1.0,0.0,1.0,1.0,0.0,1.0,1.0,0.0,0.0,0.0,0.0,1.0,0.0,0.5,0.0,0.0,0.0,0.2,0.0,0.25,0.3333333333333333,0.5,1.0,0.0,0.25,0.5,0.5,0.1111111111111111,0.0,0.2857142857142857,0.375,0.3333333333333333,0.6666666666666666,0.2,0.0,0.5,0.25,0.2857142857142857,0.18181818181818182,0.42857142857142855,0.75,0.8,0.0,0.25,0.8,0.5,0.42857142857142855,0.0,0.0,0.2857142857142857,0.5,0.5,1.0,0.5,0.25,0.5,0.0,1.0,0.7142857142857143,1.0,0.0,0.5,0.0,0.25,0.25,0.0,0.0,0.0,1.0,0.0,0.0,1.0,0.25,0.5,0.0,0.0,0.0,1.0,0.0,0.0,1.0,0.3333333333333333,0.0,0.25,0.5,0.125,0.0,0.0,0.4,0.0,0.4,1.0,0.5,0.14285714285714285,0.5,0.0,0.6666666666666666,0.42857142857142855,0.0,0.0,0.42857142857142855,0.3333333333333333,0.4,0.0,0.25,0.0,0.1111111111111111,0.25,0.4,0.0,0.14285714285714285,0.2,0.36363636363636365,0.0,0.3333333333333333,0.0,0.2857142857142857,0.5,0.75,0.3333333333333333,0.2,0.5,0.5,0.2,0.5,0.5714285714285714,0.3333333333333333,0.4,0.0,0.3333333333333333,0.25,0.0,0.0,0.3333333333333333,0.25,0.0,0.0,0.0,0.0,1.0,0.3333333333333333,0.0,0.0,0.0,1.0,0.5,0.0,0.0,0.0,1.0,0.0,0.0,0.0,0.0,0.0,0.0,0.0,0.0,0.0,0.0,0.5,0.0,0.3333333333333333,0.5,0.0,0.16666666666666666,0.0,0.2,0.0,0.5,1.0,0.5,0.0,0.0,0.0,0.3333333333333333,0.3333333333333333,0.0,0.14285714285714285,0.4,0.16666666666666666,0.375,0.0,0.2857142857142857,0.0,0.0,0.3333333333333333,0.2222222222222222,0.0,0.2,0.16666666666666666,0.0,0.5,0.25,0.5,0.42857142857142855,0.4,0.3333333333333333,0.18181818181818182,0.4,1.0,0.0,0.0,0.25,0.0,0.2,0.2222222222222222,0.0,0.2222222222222222,0.5,0.4,0.6666666666666666,0.0,0.0,0.0,0.2857142857142857,0.0,0.2857142857142857,0.0,0.0,0.0,0.0,1.0,0.0,0.0,1.0,0.5,0.0,0.0,0.0,0.0,0.0,1.0,0.0,1.0,0.0,0.5,0.0,0.0,0.0,0.0,0.0,0.0,0.0,0.0,0.0,0.0,0.0,0.5,0.0,0.4,0.0,0.0,0.0,0.0,0.0,0.0,0.25,0.0,0.0,0.0,0.3333333333333333,0.0,0.3333333333333333,0.5,0.1111111111111111,0.2,0.0,0.0,0.0,0.0,0.14285714285714285,0.1111111111111111,0.16666666666666666,0.14285714285714285,0.0,0.09090909090909091,0.5,1.0,0.25,0.0,0.0,0.25,0.3333333333333333,0.3333333333333333,0.5,0.0,0.0,0.0,0.0,0.0,0.0,0.0,0.0,0.0,0.0,0.0,0.0,0.0,0.3333333333333333,0.0,0.0,0.0,0.0,0.0,0.25,0.0,0.0,0.5,0.5,0.0,0.0,0.0,0.0,0.6666666666666666,0.0,0.0,0.0,1.0,0.0,0.0,0.0,0.5,1.0,0.0,0.0,0.0,0.0,0.0,0.0,0.0,0.0,0.0,0.0,1.0,0.0,0.0,0.0,0.0,0.0,0.0,0.0,0.0,0.0,0.0,0.0,0.0,0.0,0.0,0.125,0.0,0.0,0.0,0.0,0.25,0.6666666666666666,0.2,0.0,0.0,0.0,0.0,0.2,0.0,0.0,0.0,0.16666666666666666,0.16666666666666666,0.5,0.0,0.5,0.5,0.0,0.0,0.0,0.0,0.3333333333333333,0.0,0.0,0.0,0.0,0.0,0.0,0.0,0.0,0.0,0.2,0.0,1.0,0.14285714285714285,0.3333333333333333,0.0,0.0,0.0,0.0,0.0,0.0,0.0,0.0,0.0,0.0,0.0,0.0,1.0,0.0,0.0,0.0,1.0,0.0,0.0,0.5,0.0,0.0,0.0,0.3333333333333333,0.0,0.0,0.0,0.0,0.5,0.0,0.0,0.6666666666666666,0.0,0.0,0.0,0.5,0.0,0.3333333333333333,0.42857142857142855,0.14285714285714285,0.4,0.16666666666666666,0.2857142857142857,0.8,0.0,0.4444444444444444,0.4,0.0,0.2727272727272727,0.4444444444444444,0.7142857142857143,0.6,0.3,0.5,0.42857142857142855,0.2857142857142857,0.375,0.38461538461538464,0.875,0.375,0.6,0.5,0.3333333333333333,0.5,0.5833333333333334,0.1111111111111111,0.5555555555555556,0.5,0.14285714285714285,0.2857142857142857,0.3333333333333333,0.4,0.3333333333333333,0.7142857142857143,0.2,0.5,0.4,0.3333333333333333,0.5714285714285714,0.2,0.14285714285714285,1.0,0.0,0.5,0.5,0.0,0.0,0.0,0.5,0.0,0.6666666666666666,0.0,0.0,0.5,0.0,0.0,0.0,0.0,0.0,1.0,1.0,0.5,0.0,0.5,0.0,1.0,0.0,0.0,1.0,0.3333333333333333,0.0,0.4,0.0,0.0,0.0,1.0,0.3333333333333333,0.0,0.0,0.0,0.4,0.2857142857142857,0.4,0.6666666666666666,0.0,0.6,0.0,0.5,0.8,1.0,0.0,0.3333333333333333,0.16666666666666666,0.4,0.4,0.6,0.45454545454545453,0.45454545454545453,0.8125,0.375,0.6666666666666666,0.2222222222222222,0.2222222222222222,0.4444444444444444,0.5714285714285714,0.3,0.2857142857142857,0.14285714285714285,0.75,0.7272727272727273,0.375,0.5,0.2727272727272727,0.2857142857142857,0.4444444444444444,0.4,0.5454545454545454,0.38461538461538464,0.125,0.75,0.25,0.375,0.2,0.25,0.3333333333333333,0.375,0.6666666666666666,0.2,0.42857142857142855,0.0,0.4,0.4,0.16666666666666666,0.0,0.5,0.3333333333333333,0.0,0.5,0.6,0.6,0.75,0.0,0.0,1.0,0.0,0.0,0.0,0.0,0.3333333333333333,1.0,0.5,0.0,0.0,0.0,0.0,1.0,0.0,1.0,0.5,0.0,1.0,0.0,1.0,0.0,1.0,0.3333333333333333,0.0,0.0,1.0,0.6666666666666666,0.0,0.0,0.42857142857142855,0.25,0.5,0.5,0.25,0.0,0.14285714285714285,0.2,0.2857142857142857,0.2857142857142857,0.5,0.42857142857142855,0.4,0.5,0.4,0.2857142857142857,0.5714285714285714,0.14285714285714285,0.5714285714285714,0.5,0.5,0.4444444444444444,0.5,0.4444444444444444,0.7142857142857143,0.5714285714285714,0.5,0.2,0.2857142857142857,0.8571428571428571,0.2222222222222222,0.36363636363636365,0.2857142857142857,0.25,0.42857142857142855,0.5,0.5714285714285714,0.5,0.375,0.3333333333333333,0.35714285714285715,0.5555555555555556,0.25,0.36363636363636365,0.42857142857142855,0.125,0.25,0.375,0.46153846153846156,0.0,0.3333333333333333,0.4,0.25,0.6666666666666666,0.16666666666666666,0.0,0.2,0.2,0.3333333333333333,0.0,0.25,0.25,0.0,0.0,0.0,0.4,0.0,0.0,0.0,0.0,0.25,0.6,0.5,0.0,0.0,0.25,1.0,1.0,0.3333333333333333,0.0,0.0,0.0,0.0,0.0,0.25,0.0,0.0,0.5,0.5,0.3333333333333333,0.25,0.0,0.5,1.0,0.0,0.0,0.0,0.4,0.5,0.5,0.0,0.75,0.5,0.2857142857142857,1.0,1.0,0.25,0.3333333333333333,0.2857142857142857,0.3333333333333333,0.3333333333333333,0.2,0.3333333333333333,0.25,0.375,0.4444444444444444,0.5555555555555556,0.5,0.4,0.5,0.14285714285714285,0.42857142857142855,0.35294117647058826,0.5,0.25,0.42857142857142855,0.625,0.4,0.2,0.5,0.5555555555555556,0.5,0.4166666666666667,0.7,0.5,0.5,0.2,0.6666666666666666,0.4,0.5,0.42857142857142855,0.25,0.5,0.3333333333333333,0.14285714285714285,0.3333333333333333,0.75,0.2857142857142857,0.14285714285714285,0.5,0.4,0.5,1.0,0.0,0.0,0.25,0.6666666666666666,0.4,0.6666666666666666,0.25,0.0,0.0,0.25,0.5,0.0,0.0,0.0,1.0,0.25,0.5,0.0,0.6666666666666666,0.0,0.0,1.0,1.0,0.25,0.0,0.0,0.0,0.0,0.0,0.0,0.0,0.0,0.25,0.0,0.3333333333333333,0.5,1.0,1.0,1.0,0.25,0.6666666666666666,0.0,0.3333333333333333,0.0,0.0,0.3333333333333333,0.0,0.3333333333333333,0.2,0.3333333333333333,0.4,0.2,0.5,0.2222222222222222,0.4444444444444444,0.25,0.2,0.5,0.4,0.4444444444444444,0.375,1.0,0.3076923076923077,0.3333333333333333,0.3333333333333333,0.2857142857142857,0.375,0.5,0.15384615384615385,0.25,0.5,0.6,0.2727272727272727,0.3333333333333333,0.125,0.6666666666666666,0.16666666666666666,0.0,0.125,0.2222222222222222,0.2222222222222222,0.5,0.375,0.5555555555555556,0.0,0.125,0.3333333333333333,0.4,0.8,1.0,0.14285714285714285,0.2,0.4,0.5,0.2,0.0,0.16666666666666666,0.5,0.0,1.0,0.0,0.3333333333333333,0.0,0.0,0.6666666666666666,0.4,1.0,0.0,1.0,0.0,0.0,0.0,1.0,0.0,0.0,0.0,1.0,0.0,0.3333333333333333,1.0,0.25,0.0,0.0,0.0,0.0,0.0,0.0,0.0,0.0,0.3333333333333333,0.5,0.0,0.5,0.3333333333333333,0.25,0.0,0.2,0.6,0.0,0.0,0.6666666666666666,0.0,0.5,0.875,0.6,0.0,0.4444444444444444,0.2,0.4,0.0,0.5555555555555556,0.7142857142857143,0.125,0.25,0.5833333333333334,0.5555555555555556,0.6,0.42857142857142855,0.4,0.4444444444444444,0.625,0.2222222222222222,0.125,0.8,0.14285714285714285,0.25,0.3076923076923077,0.6,0.2727272727272727,0.5,0.4,0.7142857142857143,0.0,0.6666666666666666,0.0,0.8,0.375,0.6666666666666666,0.6666666666666666,0.4,0.16666666666666666,0.5,0.3333333333333333,0.25,0.42857142857142855,0.0,0.75,1.0,0.3333333333333333,1.0,0.75,1.0,1.0,0.0,0.5,0.5,0.4,0.2,0.5,1.0,0.4,0.5,0.0,0.0,0.0,0.0,0.0,0.3333333333333333,0.0,0.0,1.0,0.0,0.0,0.25,0.0,0.0,0.5,0.5,1.0,0.2,0.3333333333333333,0.3333333333333333,0.6666666666666666,0.5,0.0,0.6666666666666666,0.6666666666666666,0.3333333333333333,1.0,0.0,1.0,0.6666666666666666,0.5,0.25,0.375,1.0,0.5,0.0,0.4,0.18181818181818182,0.5,0.25,0.375,0.6666666666666666,0.42857142857142855,0.25,0.25,0.16666666666666666,0.6666666666666666,0.6,0.75,1.0,0.1111111111111111,0.2857142857142857,0.5,0.5714285714285714,0.6,0.25,0.6666666666666666,0.6666666666666666,0.5,0.5,0.375,0.5,0.6666666666666666,0.2222222222222222,0.3333333333333333,0.0,0.3333333333333333,0.375,0.3,0.6666666666666666,0.2,0.3333333333333333,0.2857142857142857,0.5,0.4,0.0,1.0,0.6666666666666666,0.25,0.5,0.2857142857142857,0.6,0.3333333333333333,0.5,0.4,0.5,0.3333333333333333,0.5,0.0,1.0,0.3333333333333333,0.0,1.0,0.4,1.0,1.0,0.0,0.4,0.0,1.0,1.0,0.0,0.6666666666666666,0.0,0.0,0.25,0.0,0.0,1.0,0.0,0.0,1.0,0.5,0.0,0.0,0.0,0.0,0.6666666666666666,0.6666666666666666,1.0,0.6666666666666666,0.6666666666666666,0.0,0.0,0.0,0.6,0.3333333333333333,0.0,0.5,0.3333333333333333,0.2857142857142857,0.25,0.4444444444444444,0.25,0.2857142857142857,1.0,0.3333333333333333,0.3333333333333333,0.0,0.5454545454545454,0.0,0.3333333333333333,0.3333333333333333,0.25,0.4,0.75,0.5,0.3333333333333333,0.3333333333333333,0.16666666666666666,0.25,0.5,0.16666666666666666,0.2857142857142857,0.0,0.2857142857142857,0.14285714285714285,0.5,0.125,0.16666666666666666,0.0,0.42857142857142855,0.2,0.0,0.6,0.25,0.2,0.0,0.3333333333333333,0.5,0.8,0.6,0.2,0.5714285714285714,0.4,0.0,1.0,0.3333333333333333,0.4,0.4,0.5,0.25,1.0,0.5,0.0,0.3333333333333333,0.6666666666666666,0.0,0.0,0.5,1.0,0.0,0.0,0.0,0.0,0.0,0.5,0.5,0.0,0.25,0.5,0.0,0.0,0.0,0.0,0.0,0.25,0.0,0.3333333333333333,0.0,0.5,0.0,0.0,0.0,0.0,0.3333333333333333,0.3333333333333333,0.0,0.5,1.0,0.3333333333333333,0.25,0.0,1.0,0.0,0.0,0.0,0.0,0.0,0.3333333333333333,0.0,0.25,0.0,0.0,0.5,0.6666666666666666,0.2857142857142857,0.0,0.3333333333333333,0.0,0.2,0.3333333333333333,0.0,0.25,0.0,0.5,0.0,0.25,0.3333333333333333,0.0,0.0,0.0,0.5,0.2,0.0,0.0,0.0,0.0,0.0,0.25,0.0,0.6666666666666666,0.3333333333333333,0.0,0.5,0.0,0.5,0.3333333333333333,0.3333333333333333,0.0,0.0,0.0,0.0,0.0,0.3333333333333333,0.0,0.0,0.0,0.0,0.5,0.0,0.0,0.0,0.0,0.0,0.0,0.0,0.0,0.0,0.6666666666666666,0.0,0.0,0.0,0.3333333333333333,0.5,0.0,0.0,0.0,0.0,0.0,0.5,0.0,0.0,0.0,0.0,0.0,0.0,0.0,1.0,0.0,0.0,0.0,0.5,0.0,0.0,0.0,0.0,0.0,0.0,0.0,0.0,0.0,0.0,0.0,0.0,0.0,0.0,0.25,0.0,0.5,0.0,0.0,0.0,0.0,0.0,0.0,0.0,1.0,0.0,0.0,0.0,0.0,0.0,0.0,0.0,0.0,0.0,0.0,0.0,0.0,0.0,0.0,1.0,0.0,0.0,1.0,0.0,1.0,0.0,0.0,0.0],\"type\":\"scatter\"}],                        {\"paper_bgcolor\":\"rgb(243,243,243)\",\"plot_bgcolor\":\"rgb(243,243,243)\",\"template\":{\"data\":{\"barpolar\":[{\"marker\":{\"line\":{\"color\":\"#E5ECF6\",\"width\":0.5},\"pattern\":{\"fillmode\":\"overlay\",\"size\":10,\"solidity\":0.2}},\"type\":\"barpolar\"}],\"bar\":[{\"error_x\":{\"color\":\"#2a3f5f\"},\"error_y\":{\"color\":\"#2a3f5f\"},\"marker\":{\"line\":{\"color\":\"#E5ECF6\",\"width\":0.5},\"pattern\":{\"fillmode\":\"overlay\",\"size\":10,\"solidity\":0.2}},\"type\":\"bar\"}],\"carpet\":[{\"aaxis\":{\"endlinecolor\":\"#2a3f5f\",\"gridcolor\":\"white\",\"linecolor\":\"white\",\"minorgridcolor\":\"white\",\"startlinecolor\":\"#2a3f5f\"},\"baxis\":{\"endlinecolor\":\"#2a3f5f\",\"gridcolor\":\"white\",\"linecolor\":\"white\",\"minorgridcolor\":\"white\",\"startlinecolor\":\"#2a3f5f\"},\"type\":\"carpet\"}],\"choropleth\":[{\"colorbar\":{\"outlinewidth\":0,\"ticks\":\"\"},\"type\":\"choropleth\"}],\"contourcarpet\":[{\"colorbar\":{\"outlinewidth\":0,\"ticks\":\"\"},\"type\":\"contourcarpet\"}],\"contour\":[{\"colorbar\":{\"outlinewidth\":0,\"ticks\":\"\"},\"colorscale\":[[0.0,\"#0d0887\"],[0.1111111111111111,\"#46039f\"],[0.2222222222222222,\"#7201a8\"],[0.3333333333333333,\"#9c179e\"],[0.4444444444444444,\"#bd3786\"],[0.5555555555555556,\"#d8576b\"],[0.6666666666666666,\"#ed7953\"],[0.7777777777777778,\"#fb9f3a\"],[0.8888888888888888,\"#fdca26\"],[1.0,\"#f0f921\"]],\"type\":\"contour\"}],\"heatmapgl\":[{\"colorbar\":{\"outlinewidth\":0,\"ticks\":\"\"},\"colorscale\":[[0.0,\"#0d0887\"],[0.1111111111111111,\"#46039f\"],[0.2222222222222222,\"#7201a8\"],[0.3333333333333333,\"#9c179e\"],[0.4444444444444444,\"#bd3786\"],[0.5555555555555556,\"#d8576b\"],[0.6666666666666666,\"#ed7953\"],[0.7777777777777778,\"#fb9f3a\"],[0.8888888888888888,\"#fdca26\"],[1.0,\"#f0f921\"]],\"type\":\"heatmapgl\"}],\"heatmap\":[{\"colorbar\":{\"outlinewidth\":0,\"ticks\":\"\"},\"colorscale\":[[0.0,\"#0d0887\"],[0.1111111111111111,\"#46039f\"],[0.2222222222222222,\"#7201a8\"],[0.3333333333333333,\"#9c179e\"],[0.4444444444444444,\"#bd3786\"],[0.5555555555555556,\"#d8576b\"],[0.6666666666666666,\"#ed7953\"],[0.7777777777777778,\"#fb9f3a\"],[0.8888888888888888,\"#fdca26\"],[1.0,\"#f0f921\"]],\"type\":\"heatmap\"}],\"histogram2dcontour\":[{\"colorbar\":{\"outlinewidth\":0,\"ticks\":\"\"},\"colorscale\":[[0.0,\"#0d0887\"],[0.1111111111111111,\"#46039f\"],[0.2222222222222222,\"#7201a8\"],[0.3333333333333333,\"#9c179e\"],[0.4444444444444444,\"#bd3786\"],[0.5555555555555556,\"#d8576b\"],[0.6666666666666666,\"#ed7953\"],[0.7777777777777778,\"#fb9f3a\"],[0.8888888888888888,\"#fdca26\"],[1.0,\"#f0f921\"]],\"type\":\"histogram2dcontour\"}],\"histogram2d\":[{\"colorbar\":{\"outlinewidth\":0,\"ticks\":\"\"},\"colorscale\":[[0.0,\"#0d0887\"],[0.1111111111111111,\"#46039f\"],[0.2222222222222222,\"#7201a8\"],[0.3333333333333333,\"#9c179e\"],[0.4444444444444444,\"#bd3786\"],[0.5555555555555556,\"#d8576b\"],[0.6666666666666666,\"#ed7953\"],[0.7777777777777778,\"#fb9f3a\"],[0.8888888888888888,\"#fdca26\"],[1.0,\"#f0f921\"]],\"type\":\"histogram2d\"}],\"histogram\":[{\"marker\":{\"pattern\":{\"fillmode\":\"overlay\",\"size\":10,\"solidity\":0.2}},\"type\":\"histogram\"}],\"mesh3d\":[{\"colorbar\":{\"outlinewidth\":0,\"ticks\":\"\"},\"type\":\"mesh3d\"}],\"parcoords\":[{\"line\":{\"colorbar\":{\"outlinewidth\":0,\"ticks\":\"\"}},\"type\":\"parcoords\"}],\"pie\":[{\"automargin\":true,\"type\":\"pie\"}],\"scatter3d\":[{\"line\":{\"colorbar\":{\"outlinewidth\":0,\"ticks\":\"\"}},\"marker\":{\"colorbar\":{\"outlinewidth\":0,\"ticks\":\"\"}},\"type\":\"scatter3d\"}],\"scattercarpet\":[{\"marker\":{\"colorbar\":{\"outlinewidth\":0,\"ticks\":\"\"}},\"type\":\"scattercarpet\"}],\"scattergeo\":[{\"marker\":{\"colorbar\":{\"outlinewidth\":0,\"ticks\":\"\"}},\"type\":\"scattergeo\"}],\"scattergl\":[{\"marker\":{\"colorbar\":{\"outlinewidth\":0,\"ticks\":\"\"}},\"type\":\"scattergl\"}],\"scattermapbox\":[{\"marker\":{\"colorbar\":{\"outlinewidth\":0,\"ticks\":\"\"}},\"type\":\"scattermapbox\"}],\"scatterpolargl\":[{\"marker\":{\"colorbar\":{\"outlinewidth\":0,\"ticks\":\"\"}},\"type\":\"scatterpolargl\"}],\"scatterpolar\":[{\"marker\":{\"colorbar\":{\"outlinewidth\":0,\"ticks\":\"\"}},\"type\":\"scatterpolar\"}],\"scatter\":[{\"fillpattern\":{\"fillmode\":\"overlay\",\"size\":10,\"solidity\":0.2},\"type\":\"scatter\"}],\"scatterternary\":[{\"marker\":{\"colorbar\":{\"outlinewidth\":0,\"ticks\":\"\"}},\"type\":\"scatterternary\"}],\"surface\":[{\"colorbar\":{\"outlinewidth\":0,\"ticks\":\"\"},\"colorscale\":[[0.0,\"#0d0887\"],[0.1111111111111111,\"#46039f\"],[0.2222222222222222,\"#7201a8\"],[0.3333333333333333,\"#9c179e\"],[0.4444444444444444,\"#bd3786\"],[0.5555555555555556,\"#d8576b\"],[0.6666666666666666,\"#ed7953\"],[0.7777777777777778,\"#fb9f3a\"],[0.8888888888888888,\"#fdca26\"],[1.0,\"#f0f921\"]],\"type\":\"surface\"}],\"table\":[{\"cells\":{\"fill\":{\"color\":\"#EBF0F8\"},\"line\":{\"color\":\"white\"}},\"header\":{\"fill\":{\"color\":\"#C8D4E3\"},\"line\":{\"color\":\"white\"}},\"type\":\"table\"}]},\"layout\":{\"annotationdefaults\":{\"arrowcolor\":\"#2a3f5f\",\"arrowhead\":0,\"arrowwidth\":1},\"autotypenumbers\":\"strict\",\"coloraxis\":{\"colorbar\":{\"outlinewidth\":0,\"ticks\":\"\"}},\"colorscale\":{\"diverging\":[[0,\"#8e0152\"],[0.1,\"#c51b7d\"],[0.2,\"#de77ae\"],[0.3,\"#f1b6da\"],[0.4,\"#fde0ef\"],[0.5,\"#f7f7f7\"],[0.6,\"#e6f5d0\"],[0.7,\"#b8e186\"],[0.8,\"#7fbc41\"],[0.9,\"#4d9221\"],[1,\"#276419\"]],\"sequential\":[[0.0,\"#0d0887\"],[0.1111111111111111,\"#46039f\"],[0.2222222222222222,\"#7201a8\"],[0.3333333333333333,\"#9c179e\"],[0.4444444444444444,\"#bd3786\"],[0.5555555555555556,\"#d8576b\"],[0.6666666666666666,\"#ed7953\"],[0.7777777777777778,\"#fb9f3a\"],[0.8888888888888888,\"#fdca26\"],[1.0,\"#f0f921\"]],\"sequentialminus\":[[0.0,\"#0d0887\"],[0.1111111111111111,\"#46039f\"],[0.2222222222222222,\"#7201a8\"],[0.3333333333333333,\"#9c179e\"],[0.4444444444444444,\"#bd3786\"],[0.5555555555555556,\"#d8576b\"],[0.6666666666666666,\"#ed7953\"],[0.7777777777777778,\"#fb9f3a\"],[0.8888888888888888,\"#fdca26\"],[1.0,\"#f0f921\"]]},\"colorway\":[\"#636efa\",\"#EF553B\",\"#00cc96\",\"#ab63fa\",\"#FFA15A\",\"#19d3f3\",\"#FF6692\",\"#B6E880\",\"#FF97FF\",\"#FECB52\"],\"font\":{\"color\":\"#2a3f5f\"},\"geo\":{\"bgcolor\":\"white\",\"lakecolor\":\"white\",\"landcolor\":\"#E5ECF6\",\"showlakes\":true,\"showland\":true,\"subunitcolor\":\"white\"},\"hoverlabel\":{\"align\":\"left\"},\"hovermode\":\"closest\",\"mapbox\":{\"style\":\"light\"},\"paper_bgcolor\":\"white\",\"plot_bgcolor\":\"#E5ECF6\",\"polar\":{\"angularaxis\":{\"gridcolor\":\"white\",\"linecolor\":\"white\",\"ticks\":\"\"},\"bgcolor\":\"#E5ECF6\",\"radialaxis\":{\"gridcolor\":\"white\",\"linecolor\":\"white\",\"ticks\":\"\"}},\"scene\":{\"xaxis\":{\"backgroundcolor\":\"#E5ECF6\",\"gridcolor\":\"white\",\"gridwidth\":2,\"linecolor\":\"white\",\"showbackground\":true,\"ticks\":\"\",\"zerolinecolor\":\"white\"},\"yaxis\":{\"backgroundcolor\":\"#E5ECF6\",\"gridcolor\":\"white\",\"gridwidth\":2,\"linecolor\":\"white\",\"showbackground\":true,\"ticks\":\"\",\"zerolinecolor\":\"white\"},\"zaxis\":{\"backgroundcolor\":\"#E5ECF6\",\"gridcolor\":\"white\",\"gridwidth\":2,\"linecolor\":\"white\",\"showbackground\":true,\"ticks\":\"\",\"zerolinecolor\":\"white\"}},\"shapedefaults\":{\"line\":{\"color\":\"#2a3f5f\"}},\"ternary\":{\"aaxis\":{\"gridcolor\":\"white\",\"linecolor\":\"white\",\"ticks\":\"\"},\"baxis\":{\"gridcolor\":\"white\",\"linecolor\":\"white\",\"ticks\":\"\"},\"bgcolor\":\"#E5ECF6\",\"caxis\":{\"gridcolor\":\"white\",\"linecolor\":\"white\",\"ticks\":\"\"}},\"title\":{\"x\":0.05},\"xaxis\":{\"automargin\":true,\"gridcolor\":\"white\",\"linecolor\":\"white\",\"ticks\":\"\",\"title\":{\"standoff\":15},\"zerolinecolor\":\"white\",\"zerolinewidth\":2},\"yaxis\":{\"automargin\":true,\"gridcolor\":\"white\",\"linecolor\":\"white\",\"ticks\":\"\",\"title\":{\"standoff\":15},\"zerolinecolor\":\"white\",\"zerolinewidth\":2}}},\"title\":{\"text\":\"Monthly Charge based Churn rate\"},\"xaxis\":{\"title\":{\"text\":\"Monthly Charges\"}},\"yaxis\":{\"title\":{\"text\":\"Churn Rate\"}}},                        {\"responsive\": true}                    ).then(function(){\n",
              "                            \n",
              "var gd = document.getElementById('84090fd2-8a3c-4bdd-af8d-30bbdb4e20e2');\n",
              "var x = new MutationObserver(function (mutations, observer) {{\n",
              "        var display = window.getComputedStyle(gd).display;\n",
              "        if (!display || display === 'none') {{\n",
              "            console.log([gd, 'removed!']);\n",
              "            Plotly.purge(gd);\n",
              "            observer.disconnect();\n",
              "        }}\n",
              "}});\n",
              "\n",
              "// Listen for the removal of the full notebook cells\n",
              "var notebookContainer = gd.closest('#notebook-container');\n",
              "if (notebookContainer) {{\n",
              "    x.observe(notebookContainer, {childList: true});\n",
              "}}\n",
              "\n",
              "// Listen for the clearing of the current output cell\n",
              "var outputEl = gd.closest('.output');\n",
              "if (outputEl) {{\n",
              "    x.observe(outputEl, {childList: true});\n",
              "}}\n",
              "\n",
              "                        })                };                            </script>        </div>\n",
              "</body>\n",
              "</html>"
            ]
          },
          "metadata": {}
        }
      ]
    },
    {
      "cell_type": "code",
      "source": [
        "plot = data.groupby('TotalCharges').Churn.mean().reset_index()\n",
        "plot_data = [\n",
        "    go.Scatter(\n",
        "        x=plot['TotalCharges'],\n",
        "        y=plot['Churn'],\n",
        "        mode='markers',\n",
        "        name='Low',\n",
        "        marker= dict(size= 7,\n",
        "            line= dict(width=1),\n",
        "            color= 'blue',\n",
        "            opacity= 0.8\n",
        "           ),\n",
        "    )\n",
        "]\n",
        "plot_layout = go.Layout(\n",
        "        yaxis= {'title': \"Churn Rate\"},\n",
        "        xaxis= {'title': \"Total Charges\"},\n",
        "        title='Total Charge based Churn rate',\n",
        "        plot_bgcolor  = \"rgb(243,243,243)\",\n",
        "        paper_bgcolor  = \"rgb(243,243,243)\",\n",
        "    )\n",
        "fig = go.Figure(data=plot_data, layout=plot_layout)\n",
        "pyoff.iplot(fig)"
      ],
      "metadata": {
        "colab": {
          "base_uri": "https://localhost:8080/",
          "height": 542
        },
        "id": "_pdzVwgPK76J",
        "outputId": "06c6fc13-e861-4bfd-c7cc-42b44b207bdf"
      },
      "execution_count": 24,
      "outputs": [
        {
          "output_type": "display_data",
          "data": {
            "text/html": [
              "<html>\n",
              "<head><meta charset=\"utf-8\" /></head>\n",
              "<body>\n",
              "    <div>            <script src=\"https://cdnjs.cloudflare.com/ajax/libs/mathjax/2.7.5/MathJax.js?config=TeX-AMS-MML_SVG\"></script><script type=\"text/javascript\">if (window.MathJax && window.MathJax.Hub && window.MathJax.Hub.Config) {window.MathJax.Hub.Config({SVG: {font: \"STIX-Web\"}});}</script>                <script type=\"text/javascript\">window.PlotlyConfig = {MathJaxConfig: 'local'};</script>\n",
              "        <script src=\"https://cdn.plot.ly/plotly-2.18.2.min.js\"></script>                <div id=\"3f73e47f-b7de-4c27-ab8a-521ee135bf8e\" class=\"plotly-graph-div\" style=\"height:525px; width:100%;\"></div>            <script type=\"text/javascript\">                                    window.PLOTLYENV=window.PLOTLYENV || {};                                    if (document.getElementById(\"3f73e47f-b7de-4c27-ab8a-521ee135bf8e\")) {                    Plotly.newPlot(                        \"3f73e47f-b7de-4c27-ab8a-521ee135bf8e\",                        [{\"marker\":{\"color\":\"blue\",\"line\":{\"width\":1},\"opacity\":0.8,\"size\":7},\"mode\":\"markers\",\"name\":\"Low\",\"x\":[\" \",\"100.2\",\"100.25\",\"100.35\",\"100.4\",\"100.8\",\"100.9\",\"1001.2\",\"1001.5\",\"1003.05\",\"1004.35\",\"1004.5\",\"1004.75\",\"1005.7\",\"1006.9\",\"1007.8\",\"1007.9\",\"1008.55\",\"1008.7\",\"1009.25\",\"101.1\",\"101.45\",\"101.65\",\"101.9\",\"1010\",\"1011.05\",\"1011.5\",\"1011.8\",\"1012.4\",\"1013.05\",\"1013.2\",\"1013.35\",\"1013.6\",\"1014.25\",\"1016.7\",\"1017.35\",\"102.45\",\"102.5\",\"102.75\",\"1020.2\",\"1020.75\",\"1021.55\",\"1021.75\",\"1021.8\",\"1022.5\",\"1022.6\",\"1022.95\",\"1023.75\",\"1023.85\",\"1023.9\",\"1023.95\",\"1024\",\"1024.65\",\"1024.7\",\"1025.05\",\"1025.15\",\"1025.95\",\"1026.35\",\"1027.25\",\"1028.75\",\"1028.9\",\"1029.35\",\"1029.75\",\"1029.8\",\"103.7\",\"1031.1\",\"1031.4\",\"1031.7\",\"1032\",\"1032.05\",\"1033\",\"1033.9\",\"1033.95\",\"1035.5\",\"1035.7\",\"1036\",\"1036.75\",\"1037.75\",\"1039.45\",\"104.2\",\"104.3\",\"1041.8\",\"1042.65\",\"1043.3\",\"1043.35\",\"1043.4\",\"1043.8\",\"1045.25\",\"1046.1\",\"1046.2\",\"1046.5\",\"1047.7\",\"1048.45\",\"1048.85\",\"1049.05\",\"1049.6\",\"105.5\",\"105.6\",\"1050.5\",\"1051.05\",\"1051.9\",\"1052.35\",\"1052.4\",\"1054.6\",\"1054.75\",\"1054.8\",\"1055.9\",\"1056.95\",\"1057\",\"1057.55\",\"1057.85\",\"1058.1\",\"1058.25\",\"1058.6\",\"1059.55\",\"106.2\",\"106.55\",\"106.8\",\"106.85\",\"106.9\",\"1060.2\",\"1060.6\",\"1061.6\",\"1062.1\",\"1064.65\",\"1064.95\",\"1066.15\",\"1066.9\",\"1067.05\",\"1067.15\",\"1067.65\",\"1068.15\",\"1068.85\",\"107.05\",\"107.1\",\"107.25\",\"107.6\",\"1070.15\",\"1070.25\",\"1070.5\",\"1070.7\",\"1071.4\",\"1071.6\",\"1072\",\"1072.6\",\"1073.3\",\"1074.3\",\"1074.65\",\"1077.05\",\"1077.5\",\"1077.95\",\"1078.75\",\"1078.9\",\"1079.05\",\"1079.45\",\"1079.65\",\"108.05\",\"108.15\",\"108.65\",\"108.7\",\"108.95\",\"1080.55\",\"1081.25\",\"1081.45\",\"1082.75\",\"1082.8\",\"1083\",\"1083.7\",\"1086.75\",\"1087.25\",\"1087.45\",\"1087.7\",\"1088.25\",\"109.2\",\"109.25\",\"109.3\",\"109.5\",\"109.6\",\"109.8\",\"1090.1\",\"1090.6\",\"1090.65\",\"1092.35\",\"1093\",\"1093.1\",\"1093.2\",\"1093.4\",\"1094.35\",\"1094.5\",\"1095.3\",\"1095.65\",\"1096.25\",\"1096.6\",\"1096.65\",\"1097.15\",\"1098.85\",\"1099.6\",\"110.05\",\"110.15\",\"1101.85\",\"1102.4\",\"1103.25\",\"1105.4\",\"1107.2\",\"1107.25\",\"1108\",\"1108.2\",\"1108.6\",\"1108.8\",\"111.05\",\"111.4\",\"111.65\",\"1110.05\",\"1110.35\",\"1110.5\",\"1111.2\",\"1111.65\",\"1111.85\",\"1112.3\",\"1113.95\",\"1114.55\",\"1114.85\",\"1115.15\",\"1115.2\",\"1115.6\",\"1117.55\",\"1118.8\",\"1119.35\",\"1119.9\",\"112.3\",\"112.75\",\"1120.3\",\"1120.95\",\"1121.05\",\"1122.4\",\"1123.15\",\"1123.65\",\"1124.2\",\"1125.2\",\"1125.6\",\"1126.35\",\"1126.75\",\"1127.2\",\"1127.35\",\"1128.1\",\"1129.1\",\"1129.35\",\"1129.75\",\"113.1\",\"113.35\",\"113.5\",\"113.55\",\"113.85\",\"113.95\",\"1130\",\"1130.85\",\"1131.2\",\"1131.3\",\"1131.5\",\"1132.35\",\"1132.75\",\"1133.65\",\"1133.7\",\"1133.9\",\"1134.25\",\"1135.7\",\"1137.05\",\"1138.8\",\"1139.2\",\"114.1\",\"114.15\",\"114.7\",\"1140.05\",\"1143.8\",\"1144.5\",\"1144.6\",\"1145.35\",\"1145.7\",\"1146.05\",\"1146.65\",\"1147\",\"1147.45\",\"1147.85\",\"1148.1\",\"1149.65\",\"115.1\",\"115.95\",\"1151.05\",\"1151.55\",\"1152.7\",\"1152.8\",\"1153.25\",\"1155.6\",\"1156.1\",\"1156.35\",\"1156.55\",\"1157.05\",\"1158.85\",\"116.6\",\"116.65\",\"116.85\",\"116.95\",\"1160.45\",\"1160.75\",\"1161.75\",\"1162.85\",\"1164.05\",\"1164.3\",\"1165.55\",\"1165.6\",\"1165.9\",\"1166.7\",\"1167.6\",\"1167.8\",\"1169.35\",\"117.05\",\"117.8\",\"117.95\",\"1170.5\",\"1170.55\",\"1171.3\",\"1171.5\",\"1172.95\",\"1173.35\",\"1173.55\",\"1174.35\",\"1174.8\",\"1175.6\",\"1175.85\",\"1177.05\",\"1177.95\",\"1178.25\",\"1178.4\",\"1178.75\",\"118.25\",\"118.3\",\"118.4\",\"118.5\",\"1180.95\",\"1181.75\",\"1182.55\",\"1183.05\",\"1183.2\",\"1183.8\",\"1184\",\"1185\",\"1185.95\",\"1187.05\",\"1188.2\",\"1188.25\",\"1189.4\",\"1189.9\",\"119.3\",\"119.5\",\"119.75\",\"1190.5\",\"1191.2\",\"1191.4\",\"1192.3\",\"1192.7\",\"1193.05\",\"1193.55\",\"1194.3\",\"1195.25\",\"1195.75\",\"1195.95\",\"1198.05\",\"1198.8\",\"1199.4\",\"120.25\",\"1200.15\",\"1201.15\",\"1201.65\",\"1203.9\",\"1203.95\",\"1205.05\",\"1205.5\",\"1206.05\",\"1207\",\"1208.15\",\"1208.35\",\"1208.6\",\"1209.25\",\"121.25\",\"1210.3\",\"1210.4\",\"1211.65\",\"1212.1\",\"1212.25\",\"1212.85\",\"1214.05\",\"1215.1\",\"1215.45\",\"1215.6\",\"1215.65\",\"1215.8\",\"1216.35\",\"1216.6\",\"1217.25\",\"1218.25\",\"1218.45\",\"1218.55\",\"1218.65\",\"1219.85\",\"122\",\"122.7\",\"122.9\",\"1221.55\",\"1221.65\",\"1222.05\",\"1222.25\",\"1222.65\",\"1222.8\",\"1224.05\",\"1225.65\",\"1226.45\",\"1228.65\",\"1229.1\",\"123.05\",\"123.65\",\"123.8\",\"1230.25\",\"1230.9\",\"1231.85\",\"1232.9\",\"1233.15\",\"1233.25\",\"1233.4\",\"1233.65\",\"1234.6\",\"1234.8\",\"1235.55\",\"1236.15\",\"1237.3\",\"1237.65\",\"1237.85\",\"1238.45\",\"1238.65\",\"124.4\",\"124.45\",\"1240.15\",\"1240.25\",\"1240.8\",\"1242.2\",\"1242.25\",\"1242.45\",\"1244.5\",\"1244.8\",\"1245.05\",\"1245.6\",\"1246.4\",\"1247.75\",\"1248.9\",\"1249.25\",\"125\",\"125.5\",\"125.95\",\"1250.1\",\"1250.85\",\"1252\",\"1252.85\",\"1253.15\",\"1253.5\",\"1253.65\",\"1253.8\",\"1253.9\",\"1254.7\",\"1255.1\",\"1258.15\",\"1258.3\",\"1258.35\",\"1258.6\",\"1259\",\"1259.35\",\"126.05\",\"1260.7\",\"1261\",\"1261.35\",\"1261.45\",\"1261.7\",\"1263.05\",\"1263.85\",\"1263.9\",\"1264.2\",\"1265.65\",\"1266.1\",\"1266.35\",\"1266.4\",\"1267\",\"1267.05\",\"1267.2\",\"1267.95\",\"1268.85\",\"1269.1\",\"1269.55\",\"1269.6\",\"127.1\",\"1270.2\",\"1270.25\",\"1270.55\",\"1271.8\",\"1272.05\",\"1273.3\",\"1274.05\",\"1274.45\",\"1275.6\",\"1275.65\",\"1275.7\",\"1275.85\",\"1277.5\",\"1277.75\",\"1278.8\",\"1279\",\"128.6\",\"1281\",\"1281.25\",\"1282.85\",\"1284.2\",\"1285.05\",\"1285.8\",\"1286\",\"1286.05\",\"1287.85\",\"1288\",\"1288.3\",\"1288.75\",\"129.15\",\"129.2\",\"129.55\",\"129.6\",\"1290\",\"1291.3\",\"1291.35\",\"1292.2\",\"1292.6\",\"1292.65\",\"1293.8\",\"1294.6\",\"1295.4\",\"1296.15\",\"1296.8\",\"1297.35\",\"1297.8\",\"1298.7\",\"1299.1\",\"1299.8\",\"130.1\",\"130.15\",\"130.25\",\"130.5\",\"130.55\",\"130.75\",\"1301\",\"1301.1\",\"1301.7\",\"1301.9\",\"1302.65\",\"1303.25\",\"1303.5\",\"1304.8\",\"1304.85\",\"1305.95\",\"1306.3\",\"1307.8\",\"1308.1\",\"1308.4\",\"1309\",\"1309.15\",\"131.05\",\"131.65\",\"1311.3\",\"1311.6\",\"1311.75\",\"1312.15\",\"1312.45\",\"1313.25\",\"1313.55\",\"1315\",\"1315.35\",\"1316.9\",\"1317.95\",\"1319.85\",\"1319.95\",\"132.2\",\"132.25\",\"132.4\",\"1321.3\",\"1322.55\",\"1322.85\",\"1323.7\",\"1325.85\",\"1326.25\",\"1326.35\",\"1327.15\",\"1327.4\",\"1327.85\",\"1328.15\",\"1328.35\",\"1329.15\",\"1329.2\",\"1331.05\",\"1332.4\",\"1334\",\"1334.45\",\"1334.5\",\"1335.2\",\"1336.1\",\"1336.15\",\"1336.35\",\"1336.65\",\"1336.8\",\"1336.9\",\"1337.45\",\"1337.5\",\"1338.15\",\"1339.8\",\"134.05\",\"134.35\",\"134.5\",\"134.6\",\"134.7\",\"134.75\",\"1340.1\",\"1341.5\",\"1342.15\",\"1343.4\",\"1344.5\",\"1345.55\",\"1345.65\",\"1345.75\",\"1345.85\",\"1346.2\",\"1346.3\",\"1346.9\",\"1347.15\",\"1348.5\",\"1348.9\",\"1348.95\",\"135\",\"135.2\",\"135.75\",\"1350.15\",\"1354.4\",\"1355.1\",\"1355.45\",\"1356.3\",\"1356.7\",\"1357.1\",\"1358.6\",\"1358.85\",\"1359\",\"1359.45\",\"1359.5\",\"1359.7\",\"136.05\",\"136.75\",\"1360.25\",\"1362.85\",\"1363.25\",\"1363.45\",\"1364.3\",\"1364.75\",\"1367.75\",\"1369.8\",\"137.1\",\"137.25\",\"137.6\",\"137.85\",\"137.95\",\"1370.35\",\"1372.45\",\"1372.9\",\"1373\",\"1373.05\",\"1374.2\",\"1374.35\",\"1374.9\",\"1375.15\",\"1375.4\",\"1375.6\",\"1376.5\",\"1377.7\",\"1378.25\",\"1378.45\",\"1378.75\",\"1379.6\",\"1379.8\",\"138.85\",\"1380.1\",\"1380.4\",\"1381.2\",\"1381.8\",\"1382.9\",\"1383.6\",\"1384.75\",\"1385.85\",\"1386.8\",\"1386.9\",\"1387\",\"1387.35\",\"1387.45\",\"1388\",\"1388.45\",\"1388.75\",\"1389.2\",\"1389.35\",\"1389.6\",\"1389.85\",\"139.05\",\"139.25\",\"139.35\",\"139.4\",\"139.75\",\"1390.6\",\"1390.85\",\"1391.15\",\"1391.65\",\"1392.25\",\"1393.6\",\"1394.55\",\"1395.05\",\"1396\",\"1396.25\",\"1396.9\",\"1397.3\",\"1397.65\",\"1398.25\",\"1398.6\",\"1399.35\",\"140.1\",\"140.4\",\"140.7\",\"140.95\",\"1400.3\",\"1400.55\",\"1400.85\",\"1401.15\",\"1401.4\",\"1402.25\",\"1403.1\",\"1404.65\",\"1405.3\",\"1406\",\"1406.65\",\"1406.9\",\"141.1\",\"141.45\",\"141.5\",\"141.6\",\"141.65\",\"141.7\",\"1410.25\",\"1411.2\",\"1411.35\",\"1411.65\",\"1411.9\",\"1412.4\",\"1412.65\",\"1413\",\"1414.2\",\"1414.45\",\"1414.65\",\"1414.8\",\"1415\",\"1415.55\",\"1415.85\",\"1416.2\",\"1416.5\",\"1416.75\",\"1417.9\",\"1419.4\",\"142.35\",\"1421.75\",\"1421.9\",\"1422.05\",\"1422.1\",\"1422.65\",\"1423.05\",\"1423.15\",\"1423.35\",\"1423.65\",\"1423.85\",\"1424.2\",\"1424.4\",\"1424.5\",\"1424.6\",\"1424.9\",\"1424.95\",\"1425.45\",\"1426.4\",\"1426.45\",\"1426.75\",\"1427.55\",\"1429.65\",\"143.35\",\"143.65\",\"143.9\",\"1430.05\",\"1430.25\",\"1430.95\",\"1431.65\",\"1432.55\",\"1433.8\",\"1434.1\",\"1434.6\",\"1436.95\",\"1438.05\",\"1439.35\",\"144\",\"144.15\",\"144.35\",\"144.55\",\"144.8\",\"144.95\",\"1440.75\",\"1441.1\",\"1441.65\",\"1441.8\",\"1441.95\",\"1442\",\"1442.2\",\"1442.6\",\"1442.65\",\"1443.65\",\"1444.05\",\"1444.65\",\"1445.2\",\"1445.3\",\"1445.95\",\"1446.8\",\"1447.9\",\"1448.6\",\"1448.8\",\"145\",\"145.15\",\"145.4\",\"1451.1\",\"1451.6\",\"1451.9\",\"1453.1\",\"1454.15\",\"1454.25\",\"1457.25\",\"1458.1\",\"1459.35\",\"146.05\",\"146.3\",\"146.4\",\"146.6\",\"146.65\",\"146.9\",\"1460.65\",\"1460.85\",\"1461.15\",\"1461.45\",\"1462.05\",\"1462.6\",\"1463.45\",\"1463.5\",\"1463.7\",\"1465.75\",\"1466.1\",\"1468.75\",\"1468.9\",\"147.15\",\"147.5\",\"147.55\",\"147.75\",\"147.8\",\"1470.05\",\"1470.95\",\"1471.75\",\"1474.35\",\"1474.75\",\"1474.9\",\"1476.25\",\"1477.65\",\"1478.85\",\"148.05\",\"1482.3\",\"1483.25\",\"1489.3\",\"149.05\",\"149.55\",\"1490.4\",\"1490.95\",\"1492.1\",\"1493.1\",\"1493.2\",\"1493.55\",\"1493.75\",\"1494.5\",\"1495.1\",\"1496.45\",\"1496.9\",\"1497.05\",\"1497.9\",\"1498.2\",\"1498.35\",\"1498.55\",\"1498.65\",\"1498.85\",\"150\",\"150.35\",\"150.6\",\"150.75\",\"150.85\",\"1500.25\",\"1500.5\",\"1500.95\",\"1501.75\",\"1502.25\",\"1502.65\",\"1504.05\",\"1505.05\",\"1505.15\",\"1505.35\",\"1505.45\",\"1505.85\",\"1505.9\",\"1506.4\",\"1507\",\"1509.8\",\"1509.9\",\"151.3\",\"151.65\",\"151.75\",\"151.8\",\"1510.3\",\"1510.5\",\"1511.2\",\"1513.6\",\"1514.85\",\"1515.1\",\"1516.6\",\"1517.5\",\"1519\",\"152.3\",\"152.45\",\"152.6\",\"152.7\",\"152.95\",\"1520.1\",\"1520.9\",\"1521.2\",\"1522.65\",\"1522.7\",\"1523.4\",\"1524.85\",\"1525.35\",\"1527.35\",\"1527.5\",\"1529.2\",\"1529.45\",\"1529.65\",\"153.05\",\"153.3\",\"153.8\",\"153.95\",\"1530.6\",\"1531.4\",\"1532.45\",\"1533.8\",\"1534.05\",\"1534.75\",\"1536.75\",\"1537.85\",\"1537.9\",\"1538.6\",\"1539.45\",\"1539.75\",\"1539.8\",\"154.3\",\"154.55\",\"154.65\",\"154.8\",\"154.85\",\"1540.05\",\"1540.2\",\"1540.35\",\"1544.05\",\"1545.4\",\"1546.3\",\"1547.35\",\"1548.65\",\"1549.75\",\"155.35\",\"155.65\",\"155.8\",\"155.9\",\"1551.6\",\"1553.2\",\"1553.9\",\"1553.95\",\"1554\",\"1554.9\",\"1555.65\",\"1556.85\",\"1558.65\",\"1558.7\",\"1559.15\",\"1559.25\",\"1559.3\",\"1559.45\",\"156.1\",\"156.25\",\"156.35\",\"156.4\",\"156.85\",\"1561.5\",\"1563.9\",\"1563.95\",\"1564.05\",\"1564.4\",\"1565.7\",\"1566.75\",\"1566.9\",\"1567\",\"1567.55\",\"157.55\",\"157.65\",\"157.75\",\"1570.7\",\"1573.05\",\"1573.7\",\"1573.95\",\"1574.45\",\"1574.5\",\"1579.7\",\"158.35\",\"158.4\",\"158.95\",\"1580.1\",\"1581.2\",\"1581.95\",\"1582.75\",\"1583.5\",\"1584.8\",\"1587.55\",\"1588.25\",\"1588.7\",\"1588.75\",\"159.15\",\"159.2\",\"159.35\",\"159.4\",\"159.45\",\"1592.35\",\"1593.1\",\"1594.75\",\"1595.5\",\"1596.6\",\"1597.05\",\"1597.25\",\"1597.4\",\"160.05\",\"160.75\",\"160.8\",\"160.85\",\"1600.25\",\"1600.95\",\"1601.2\",\"1601.5\",\"1604.5\",\"1607.2\",\"1608.15\",\"161.15\",\"161.45\",\"161.5\",\"161.65\",\"161.95\",\"1611\",\"1611.15\",\"1611.65\",\"1612.2\",\"1612.75\",\"1614.05\",\"1614.2\",\"1614.7\",\"1614.9\",\"1615.1\",\"1616.15\",\"1617.5\",\"1618.2\",\"162.15\",\"162.3\",\"162.45\",\"162.55\",\"1620.2\",\"1620.25\",\"1620.45\",\"1620.8\",\"1621.35\",\"1622.45\",\"1623.15\",\"1623.4\",\"1625\",\"1625.65\",\"1626.05\",\"1626.4\",\"1629.2\",\"163.2\",\"163.55\",\"163.6\",\"163.7\",\"1630.4\",\"1633\",\"1636.95\",\"1637.3\",\"1637.4\",\"1638.7\",\"1639.3\",\"164.3\",\"164.5\",\"164.6\",\"164.85\",\"1640\",\"1641.3\",\"1641.8\",\"1642.75\",\"1643.25\",\"1643.55\",\"1646.45\",\"1647\",\"1648.45\",\"165\",\"165.2\",\"165.35\",\"165.4\",\"165.45\",\"165.5\",\"1651.95\",\"1652.1\",\"1652.4\",\"1652.95\",\"1653.45\",\"1653.85\",\"1654.45\",\"1654.6\",\"1654.7\",\"1654.75\",\"1654.85\",\"1655.35\",\"1657.4\",\"166.3\",\"1660\",\"1662.05\",\"1663.5\",\"1663.75\",\"1664.3\",\"1665.2\",\"1667.25\",\"1669.4\",\"167.2\",\"167.3\",\"167.5\",\"1671.6\",\"1672.1\",\"1672.15\",\"1672.35\",\"1673.4\",\"1673.8\",\"1676.95\",\"1677.85\",\"1678.05\",\"1679.25\",\"1679.4\",\"1679.65\",\"168.15\",\"168.2\",\"168.5\",\"168.6\",\"168.65\",\"168.9\",\"1680.25\",\"1681.6\",\"1682.05\",\"1682.4\",\"1683.6\",\"1683.7\",\"1685.9\",\"1686.15\",\"1686.85\",\"1687.95\",\"1688.9\",\"1689.45\",\"169.05\",\"169.45\",\"169.65\",\"169.75\",\"169.8\",\"1691.9\",\"1692.6\",\"1696.2\",\"1697.7\",\"1698.55\",\"1699.15\",\"170.5\",\"170.85\",\"170.9\",\"1700.9\",\"1701.65\",\"1702.9\",\"1704.95\",\"1706.45\",\"1709.1\",\"1709.15\",\"171\",\"171.15\",\"171.45\",\"1710.15\",\"1710.45\",\"1710.9\",\"1712.7\",\"1712.9\",\"1713.1\",\"1714.55\",\"1714.95\",\"1715.1\",\"1715.15\",\"1715.65\",\"1716.45\",\"1718.2\",\"1718.35\",\"1718.95\",\"1719.15\",\"172.35\",\"172.85\",\"1723.95\",\"1724.15\",\"1725\",\"1725.4\",\"1725.95\",\"1727.5\",\"1728.2\",\"1729.35\",\"173\",\"173.15\",\"1730.35\",\"1730.65\",\"1732.6\",\"1732.95\",\"1733.15\",\"1734.2\",\"1734.5\",\"1734.65\",\"1737.45\",\"1738.9\",\"1739.6\",\"174.2\",\"174.3\",\"174.45\",\"174.65\",\"174.7\",\"174.75\",\"174.8\",\"1740.7\",\"1740.8\",\"1742.45\",\"1742.5\",\"1742.75\",\"1742.95\",\"1743.05\",\"1743.5\",\"1743.9\",\"1745.2\",\"1745.5\",\"1747.2\",\"1747.85\",\"1748.55\",\"1748.9\",\"1750.7\",\"1750.85\",\"1752.45\",\"1752.55\",\"1752.65\",\"1753\",\"1755.35\",\"1756.2\",\"1756.6\",\"1758.6\",\"1758.9\",\"1759.4\",\"1759.55\",\"176.2\",\"176.3\",\"1760.25\",\"1761.05\",\"1761.45\",\"1763.55\",\"1764.75\",\"1765.95\",\"1766.75\",\"1767.35\",\"1769.6\",\"177.4\",\"1772.25\",\"1775.8\",\"1776\",\"1776.45\",\"1776.55\",\"1776.95\",\"1777.6\",\"1777.9\",\"1778.5\",\"1778.7\",\"1779.95\",\"178.1\",\"178.5\",\"178.7\",\"178.8\",\"178.85\",\"1781.35\",\"1782\",\"1782.05\",\"1782.4\",\"1783.6\",\"1783.75\",\"1784.5\",\"1784.9\",\"1785.65\",\"1787.35\",\"1789.25\",\"1789.65\",\"1789.9\",\"179.25\",\"179.35\",\"179.85\",\"1790.15\",\"1790.35\",\"1790.6\",\"1790.65\",\"1790.8\",\"1793.25\",\"1794.65\",\"1794.8\",\"1796.55\",\"1797.1\",\"1797.75\",\"1798.65\",\"1798.9\",\"1799.3\",\"18.8\",\"18.85\",\"18.9\",\"180.25\",\"180.3\",\"180.7\",\"1800.05\",\"1801.1\",\"1801.9\",\"1802.15\",\"1802.55\",\"1803.7\",\"1806.35\",\"1808.7\",\"1809.35\",\"181.1\",\"181.5\",\"181.6\",\"181.65\",\"181.7\",\"181.8\",\"1810.55\",\"1810.85\",\"1813.1\",\"1813.35\",\"1815\",\"1815.3\",\"1815.65\",\"1816.2\",\"1816.75\",\"1818.3\",\"1818.9\",\"1820.45\",\"1820.9\",\"1821.2\",\"1821.8\",\"1821.95\",\"1825.5\",\"1826.7\",\"183.15\",\"183.75\",\"1830.05\",\"1830.1\",\"1832.4\",\"1834.15\",\"1834.95\",\"1835.3\",\"1836.25\",\"1836.9\",\"1837.7\",\"1837.9\",\"1838.15\",\"184.05\",\"184.1\",\"184.15\",\"184.4\",\"184.65\",\"184.95\",\"1840.75\",\"1841.2\",\"1841.9\",\"1842.7\",\"1842.8\",\"1843.05\",\"1845.9\",\"1846.65\",\"1847.55\",\"1848.8\",\"1849.2\",\"1849.95\",\"185.2\",\"185.4\",\"185.55\",\"185.6\",\"1850.65\",\"1851.45\",\"1852.85\",\"1855.65\",\"1856.4\",\"1857.25\",\"1857.3\",\"1857.75\",\"1857.85\",\"1859.1\",\"1859.2\",\"1859.5\",\"186.05\",\"186.15\",\"186.3\",\"1861.1\",\"1861.5\",\"1862.9\",\"1863.8\",\"1864.2\",\"1864.65\",\"1866.45\",\"1867.6\",\"1867.7\",\"1868.4\",\"187.35\",\"187.45\",\"187.75\",\"1871.15\",\"1871.85\",\"1872.2\",\"1873.7\",\"1874.3\",\"1874.45\",\"1875.25\",\"1875.55\",\"1879.25\",\"188.1\",\"188.7\",\"1880.85\",\"1882.55\",\"1882.8\",\"1884.65\",\"1885.15\",\"1886.25\",\"1886.4\",\"1887\",\"1888.25\",\"1888.45\",\"1888.65\",\"1889.5\",\"189.1\",\"189.2\",\"189.45\",\"189.95\",\"1893.5\",\"1893.95\",\"1898.1\",\"1899.65\",\"19\",\"19.05\",\"19.1\",\"19.15\",\"19.2\",\"19.25\",\"19.3\",\"19.4\",\"19.45\",\"19.5\",\"19.55\",\"19.6\",\"19.65\",\"19.7\",\"19.75\",\"19.8\",\"19.85\",\"19.9\",\"19.95\",\"190.05\",\"190.1\",\"190.25\",\"190.5\",\"1900.25\",\"1901\",\"1901.05\",\"1901.25\",\"1901.65\",\"1902\",\"1905.4\",\"1905.7\",\"1907.85\",\"1908.35\",\"191.05\",\"191.1\",\"191.35\",\"1910.6\",\"1910.75\",\"1911.5\",\"1912.15\",\"1912.85\",\"1914.5\",\"1914.9\",\"1916\",\"1916.2\",\"1917.1\",\"1923.5\",\"1923.85\",\"1924.1\",\"1927.3\",\"1928.7\",\"1929\",\"1929.35\",\"1929.95\",\"193.05\",\"193.6\",\"193.8\",\"1930.9\",\"1931.3\",\"1931.75\",\"1932.75\",\"1934.45\",\"1936.85\",\"1937.4\",\"1938.05\",\"1938.9\",\"1939.35\",\"194.2\",\"194.55\",\"1940.8\",\"1940.85\",\"1941.5\",\"1943.2\",\"1943.9\",\"1948.35\",\"1949.4\",\"195.05\",\"195.3\",\"195.65\",\"1951\",\"1952.25\",\"1952.8\",\"1955.4\",\"1956.4\",\"1957.1\",\"1958.45\",\"1958.95\",\"1959.5\",\"196.15\",\"196.35\",\"196.4\",\"196.75\",\"196.9\",\"196.95\",\"1961.6\",\"1964.6\",\"1968.1\",\"197.4\",\"197.7\",\"1970.5\",\"1971.15\",\"1971.5\",\"1972.35\",\"1973.75\",\"1974.8\",\"1975.85\",\"1978.65\",\"198\",\"198.1\",\"198.25\",\"198.5\",\"198.6\",\"198.7\",\"1980.3\",\"1982.1\",\"1982.6\",\"1983.15\",\"1985.15\",\"1988.05\",\"199.45\",\"199.75\",\"199.85\",\"1990.5\",\"1992.2\",\"1992.55\",\"1992.85\",\"1992.95\",\"1993.2\",\"1993.25\",\"1993.8\",\"1994.3\",\"20\",\"20.05\",\"20.1\",\"20.15\",\"20.2\",\"20.25\",\"20.3\",\"20.35\",\"20.4\",\"20.45\",\"20.5\",\"20.55\",\"20.6\",\"20.65\",\"20.7\",\"20.75\",\"20.8\",\"20.85\",\"20.9\",\"20.95\",\"200.2\",\"2000.2\",\"2001\",\"2001.5\",\"2003.6\",\"2006.1\",\"2006.95\",\"2007.25\",\"2007.85\",\"201\",\"201.1\",\"201.7\",\"201.95\",\"2010.55\",\"2010.95\",\"2011.4\",\"2012.7\",\"2015.35\",\"2015.8\",\"2016.3\",\"2016.45\",\"2018.1\",\"2018.4\",\"2019.8\",\"202.15\",\"202.25\",\"202.3\",\"202.9\",\"2020.9\",\"2021.2\",\"2021.35\",\"2023.55\",\"2024.1\",\"2025.1\",\"2028.8\",\"2029.05\",\"203.95\",\"2030.3\",\"2030.75\",\"2031.95\",\"2032.3\",\"2033.05\",\"2033.85\",\"2034.25\",\"2036.55\",\"2038.7\",\"204.55\",\"204.7\",\"2042.05\",\"2043.45\",\"2044.75\",\"2044.95\",\"2045.55\",\"2048.8\",\"2049.05\",\"205.05\",\"2053.05\",\"2054.4\",\"2058.5\",\"206.15\",\"206.6\",\"2062.15\",\"2065.15\",\"2065.4\",\"2066\",\"2067\",\"2068.55\",\"207.35\",\"207.4\",\"2070.05\",\"2070.6\",\"2070.75\",\"2072.75\",\"2075.1\",\"2076.05\",\"2076.2\",\"2077.95\",\"2078.55\",\"2078.95\",\"208\",\"208.25\",\"208.45\",\"208.7\",\"208.85\",\"2080.1\",\"2082.95\",\"2083.1\",\"2085.45\",\"2088.05\",\"2088.45\",\"2088.75\",\"2088.8\",\"209.1\",\"209.9\",\"2090.25\",\"2092.9\",\"2093.4\",\"2093.9\",\"2094.65\",\"2094.9\",\"2095\",\"2096.1\",\"21\",\"21.05\",\"21.1\",\"210.3\",\"210.65\",\"210.75\",\"2104.55\",\"2106.05\",\"2106.3\",\"2107.15\",\"2108.35\",\"2109.35\",\"211.95\",\"2110.15\",\"2111.3\",\"2111.45\",\"2117.2\",\"2117.25\",\"2119.5\",\"212.3\",\"212.4\",\"2122.05\",\"2122.45\",\"213.35\",\"2130.45\",\"2130.55\",\"2134.3\",\"2135.5\",\"2136.9\",\"2139.1\",\"2139.2\",\"214.4\",\"214.55\",\"214.75\",\"2142.8\",\"2145\",\"2146.5\",\"2149.05\",\"215.2\",\"215.25\",\"215.8\",\"2151.6\",\"2156.25\",\"2157.3\",\"2157.5\",\"2157.95\",\"216.2\",\"216.45\",\"216.75\",\"216.9\",\"2162.6\",\"2165.05\",\"2168.15\",\"2168.9\",\"2169.4\",\"2169.75\",\"2169.8\",\"217.1\",\"217.45\",\"217.5\",\"217.55\",\"2171.15\",\"2172.05\",\"2177.45\",\"2178.6\",\"218.5\",\"218.55\",\"2180.55\",\"2181.55\",\"2181.75\",\"2184.35\",\"2184.6\",\"2184.85\",\"2186.4\",\"2187.15\",\"2187.55\",\"2188.45\",\"2188.5\",\"219\",\"219.35\",\"219.5\",\"219.65\",\"2191.15\",\"2191.7\",\"2192.9\",\"2193\",\"2193.2\",\"2193.65\",\"2196.15\",\"2196.3\",\"2196.45\",\"2198.3\",\"2198.9\",\"2199.05\",\"220.1\",\"220.35\",\"220.4\",\"220.45\",\"220.6\",\"220.65\",\"220.75\",\"220.8\",\"220.95\",\"2200.25\",\"2200.7\",\"2201.75\",\"2203.1\",\"2203.65\",\"2203.7\",\"2204.35\",\"2208.05\",\"2208.75\",\"2209.15\",\"2209.75\",\"221.1\",\"221.35\",\"221.7\",\"221.9\",\"2210.2\",\"2211.8\",\"2212.55\",\"2215\",\"2215.25\",\"2215.4\",\"2215.45\",\"2217.15\",\"222.3\",\"222.65\",\"2220.1\",\"2221.55\",\"2224.5\",\"2227.1\",\"2227.8\",\"223.15\",\"223.45\",\"223.6\",\"223.75\",\"223.9\",\"2230.85\",\"2231.05\",\"2234.55\",\"2234.95\",\"2236.2\",\"2237.55\",\"2238.5\",\"2239.4\",\"2239.65\",\"224.05\",\"224.5\",\"224.85\",\"2243.9\",\"2244.95\",\"2245.4\",\"2248.05\",\"2249.1\",\"2249.95\",\"225.55\",\"225.6\",\"225.65\",\"225.75\",\"225.85\",\"2250.65\",\"2254.2\",\"2257.75\",\"2258.25\",\"2259.35\",\"226.2\",\"226.45\",\"226.55\",\"226.8\",\"226.95\",\"2263.4\",\"2263.45\",\"2264.05\",\"2264.5\",\"2265\",\"2265.25\",\"227.35\",\"227.45\",\"2271.85\",\"2272.8\",\"2274.1\",\"2274.35\",\"2274.9\",\"2275.1\",\"2276.1\",\"2276.95\",\"2277.65\",\"2278.75\",\"228\",\"228.4\",\"228.65\",\"228.75\",\"2281.6\",\"2282.55\",\"2282.95\",\"2283.15\",\"2283.3\",\"2287.25\",\"2288.7\",\"2289.9\",\"229.4\",\"229.5\",\"229.55\",\"229.6\",\"229.7\",\"2291.2\",\"2292.75\",\"2293.6\",\"2296.25\",\"2298.55\",\"2298.9\",\"23.45\",\"2301.15\",\"2302.35\",\"2303.35\",\"2308.6\",\"2309.55\",\"231.45\",\"231.8\",\"2310.2\",\"2312.55\",\"2313.8\",\"2316.85\",\"2317.1\",\"2319.8\",\"232.1\",\"232.35\",\"232.4\",\"232.5\",\"232.55\",\"2320.8\",\"2322.85\",\"2324.7\",\"2326.05\",\"233.55\",\"233.65\",\"233.7\",\"233.9\",\"2331.3\",\"2333.05\",\"2333.85\",\"2335.3\",\"2337.45\",\"2338.35\",\"2339.3\",\"234.85\",\"2341.5\",\"2341.55\",\"2342.2\",\"2343.85\",\"2344.5\",\"2345.2\",\"2345.55\",\"2347.85\",\"2347.9\",\"2348.45\",\"2349.8\",\"235\",\"235.05\",\"235.1\",\"235.2\",\"235.5\",\"235.65\",\"235.8\",\"2351.45\",\"2351.8\",\"2354.8\",\"2356.75\",\"2357.75\",\"2361.8\",\"2362.1\",\"2364\",\"2365.15\",\"2368.4\",\"2369.05\",\"2369.3\",\"2369.7\",\"237.2\",\"237.25\",\"237.3\",\"237.65\",\"237.7\",\"237.75\",\"237.95\",\"2375.2\",\"2375.4\",\"2379.1\",\"238.1\",\"238.15\",\"238.5\",\"2381.55\",\"2383.6\",\"2384.15\",\"2386.85\",\"2387.75\",\"239\",\"239.05\",\"239.45\",\"239.55\",\"239.75\",\"2390.45\",\"2391.15\",\"2391.8\",\"2395.05\",\"2395.7\",\"2398.4\",\"24\",\"24.05\",\"24.2\",\"24.25\",\"24.4\",\"24.45\",\"24.6\",\"24.7\",\"24.75\",\"24.8\",\"24.9\",\"240.45\",\"2401.05\",\"2404.1\",\"2404.15\",\"2404.85\",\"2405.05\",\"2406.1\",\"2407.3\",\"2409.9\",\"241.3\",\"2413.05\",\"2414.55\",\"2415.95\",\"2416.1\",\"2416.55\",\"2419\",\"2419.55\",\"242\",\"242.05\",\"242.4\",\"242.8\",\"242.95\",\"2421.6\",\"2421.75\",\"2423.4\",\"2424.05\",\"2424.45\",\"2424.5\",\"2425.4\",\"2427.1\",\"2427.35\",\"2429.1\",\"243.65\",\"2431.35\",\"2431.95\",\"2433.5\",\"2433.9\",\"2434.45\",\"2435.15\",\"2438.6\",\"244.1\",\"244.45\",\"244.65\",\"244.75\",\"244.8\",\"244.85\",\"2440.15\",\"2440.25\",\"2441.7\",\"2443.3\",\"2444.25\",\"2447.45\",\"2447.95\",\"2448.5\",\"2448.75\",\"245.15\",\"245.2\",\"2452.7\",\"2453.3\",\"2455.05\",\"2459.8\",\"246.25\",\"246.3\",\"246.5\",\"246.6\",\"246.7\",\"2460.15\",\"2460.35\",\"2460.55\",\"2462.55\",\"2462.6\",\"2467.1\",\"2467.75\",\"247\",\"247.25\",\"2470.1\",\"2471.25\",\"2471.6\",\"2473.95\",\"2475.35\",\"2479.05\",\"2479.25\",\"248.4\",\"248.95\",\"2483.05\",\"2483.5\",\"2483.65\",\"2484\",\"249.4\",\"249.55\",\"249.95\",\"2490.15\",\"2492.25\",\"2494.65\",\"2495.15\",\"2495.2\",\"2496.7\",\"2497.2\",\"2497.35\",\"2498.4\",\"2499.3\",\"25\",\"25.05\",\"25.1\",\"25.15\",\"25.2\",\"25.25\",\"25.3\",\"25.35\",\"25.4\",\"25.7\",\"25.75\",\"25.8\",\"25.85\",\"250.05\",\"250.1\",\"250.8\",\"2509.25\",\"2509.95\",\"251.25\",\"251.6\",\"251.65\",\"251.75\",\"2510.2\",\"2510.7\",\"2511.3\",\"2511.55\",\"2511.95\",\"2513.5\",\"2514.5\",\"2515.3\",\"2516.2\",\"252\",\"252.75\",\"2522.4\",\"2524.45\",\"253\",\"253.8\",\"253.9\",\"2530.4\",\"2531.4\",\"2531.8\",\"2535.55\",\"2536.55\",\"2537\",\"2538.05\",\"2538.2\",\"254.5\",\"2540.1\",\"2541.25\",\"2542.45\",\"2545.7\",\"2545.75\",\"2546.85\",\"2548.55\",\"2548.65\",\"2549.1\",\"255.25\",\"255.35\",\"255.5\",\"255.55\",\"255.6\",\"2550.9\",\"2552.9\",\"2553.35\",\"2553.7\",\"2554\",\"2555.05\",\"2555.9\",\"256.25\",\"256.6\",\"256.75\",\"2560.1\",\"2564.3\",\"2564.95\",\"2566.3\",\"2566.5\",\"2568.15\",\"2568.55\",\"257\",\"257.05\",\"257.6\",\"2570\",\"2570.2\",\"2572.95\",\"2575.45\",\"2576.2\",\"2576.8\",\"258.35\",\"2583.75\",\"2585.95\",\"2586\",\"2587.7\",\"2588.95\",\"259.4\",\"259.65\",\"259.8\",\"2595.25\",\"2595.85\",\"2596.15\",\"2597.6\",\"2598.95\",\"2599.95\",\"260.7\",\"260.8\",\"260.9\",\"2602.9\",\"2603.1\",\"2603.3\",\"2603.95\",\"2606.35\",\"2607.6\",\"261.25\",\"261.3\",\"261.65\",\"2610.65\",\"2613.4\",\"2614.1\",\"2618.3\",\"2619.15\",\"2619.25\",\"262.05\",\"262.3\",\"2621.75\",\"2623.65\",\"2624.25\",\"2625.25\",\"2625.55\",\"2626.15\",\"2627.2\",\"2627.35\",\"2628.6\",\"263.05\",\"263.65\",\"2633.3\",\"2633.4\",\"2633.95\",\"2635\",\"2636.05\",\"2638.1\",\"264.55\",\"264.8\",\"264.85\",\"2640.55\",\"2642.05\",\"2647.1\",\"2647.2\",\"2649.15\",\"265.3\",\"265.35\",\"265.45\",\"265.75\",\"265.8\",\"2651.1\",\"2651.2\",\"2653.65\",\"2654.05\",\"2655.25\",\"2656.3\",\"2656.5\",\"2656.7\",\"2657.55\",\"2658.4\",\"2658.8\",\"2659.4\",\"2659.45\",\"266.6\",\"266.8\",\"266.9\",\"266.95\",\"2660.2\",\"2661.1\",\"2664.3\",\"2665\",\"2666.75\",\"2669.45\",\"267\",\"267.35\",\"267.4\",\"267.6\",\"2673.45\",\"2674.15\",\"2679.7\",\"268.35\",\"268.4\",\"268.45\",\"2680.15\",\"2681.15\",\"2683.2\",\"2684.35\",\"2684.85\",\"2686.05\",\"2688.45\",\"2688.85\",\"2689.35\",\"269.65\",\"2692.75\",\"2696.55\",\"2697.4\",\"2698.35\",\"27.55\",\"270.15\",\"270.2\",\"270.6\",\"270.7\",\"270.8\",\"270.95\",\"2708.2\",\"2710.25\",\"2715.3\",\"2716.3\",\"2718.3\",\"2719.2\",\"272\",\"272.15\",\"272.2\",\"272.35\",\"272.95\",\"2722.2\",\"2723.15\",\"2723.4\",\"2723.75\",\"2724.25\",\"2724.6\",\"2727.3\",\"2727.8\",\"2728.6\",\"273\",\"273.2\",\"273.25\",\"273.4\",\"273.75\",\"2730.85\",\"2731\",\"2737.05\",\"274.35\",\"274.7\",\"2743.45\",\"2745.2\",\"2745.7\",\"2747.2\",\"2748.7\",\"275.4\",\"275.7\",\"275.9\",\"2751\",\"2753.8\",\"2754\",\"2754.45\",\"2755.35\",\"2757.85\",\"2758.15\",\"276.5\",\"2762.75\",\"2763\",\"2763.35\",\"2766.4\",\"2768.35\",\"2768.65\",\"2773.9\",\"2774.55\",\"2779.5\",\"278.4\",\"278.85\",\"2780.6\",\"2781.85\",\"2782.4\",\"2789.7\",\"279.2\",\"279.25\",\"279.3\",\"279.5\",\"279.55\",\"2790.65\",\"2791.5\",\"2793.55\",\"2796.35\",\"2796.45\",\"2799\",\"2799.75\",\"28.3\",\"280\",\"280.35\",\"280.4\",\"280.85\",\"2802.3\",\"2804.45\",\"2806.9\",\"2807.1\",\"2807.65\",\"2809.05\",\"281\",\"2812.2\",\"2813.05\",\"2815.25\",\"2816.65\",\"2820.65\",\"2823\",\"283.75\",\"283.95\",\"2830.45\",\"2832.75\",\"2835.5\",\"2835.9\",\"2838.55\",\"2838.7\",\"2839.45\",\"2839.65\",\"2839.95\",\"284.3\",\"284.35\",\"284.9\",\"2841.55\",\"2845.15\",\"2847.2\",\"2847.4\",\"2848.45\",\"285.2\",\"2852.4\",\"2854.55\",\"2854.95\",\"2857.6\",\"286.8\",\"2861.45\",\"2862.55\",\"2862.75\",\"2866.45\",\"2867.75\",\"2868.05\",\"2868.15\",\"2869.85\",\"287.4\",\"287.85\",\"2871.5\",\"2874.15\",\"2874.45\",\"2877.05\",\"2877.95\",\"2878.55\",\"2878.75\",\"2879.2\",\"2879.9\",\"288.05\",\"288.35\",\"2882.25\",\"2884.9\",\"2888.7\",\"289.1\",\"289.3\",\"2890.65\",\"2893.4\",\"2894.55\",\"2896.4\",\"2896.55\",\"2896.6\",\"2897.95\",\"2898.95\",\"29.15\",\"29.7\",\"29.85\",\"29.9\",\"29.95\",\"290.55\",\"2901.8\",\"2907.35\",\"2907.55\",\"2908.2\",\"2909.95\",\"291.4\",\"291.45\",\"291.9\",\"2911.3\",\"2911.5\",\"2911.8\",\"2917.5\",\"2917.65\",\"2919.85\",\"292.4\",\"292.8\",\"292.85\",\"2921.75\",\"2924.05\",\"2928.5\",\"2929.75\",\"293.15\",\"293.3\",\"293.65\",\"293.85\",\"2931\",\"2933.2\",\"2933.95\",\"2934.3\",\"2936.25\",\"2937.65\",\"2939.8\",\"294.2\",\"294.45\",\"294.5\",\"294.9\",\"294.95\",\"2948.6\",\"295.55\",\"295.65\",\"295.95\",\"2952.85\",\"2954.5\",\"2958.95\",\"2959.8\",\"296.1\",\"296.15\",\"2960.1\",\"2961.4\",\"2962\",\"2964\",\"2964.05\",\"2964.8\",\"2965.75\",\"2966.95\",\"2967.35\",\"297.3\",\"297.35\",\"2970.3\",\"2970.8\",\"2971.7\",\"2974.5\",\"2976.95\",\"2978.3\",\"2979.2\",\"2979.3\",\"2979.5\",\"298.35\",\"298.45\",\"298.7\",\"2983.65\",\"2983.8\",\"2985.25\",\"2989.6\",\"299.05\",\"299.2\",\"299.3\",\"299.4\",\"299.7\",\"299.75\",\"2995.45\",\"2997.45\",\"2998\",\"30.2\",\"30.5\",\"30.55\",\"300.4\",\"300.7\",\"300.8\",\"3000.25\",\"3001.2\",\"3003.55\",\"3004.15\",\"3005.8\",\"3007.25\",\"3008.15\",\"3008.55\",\"3009.5\",\"301.4\",\"301.55\",\"301.9\",\"3011.65\",\"3013.05\",\"3014.65\",\"3015.75\",\"3017.65\",\"3019.1\",\"3019.25\",\"3019.5\",\"3019.7\",\"302.35\",\"302.45\",\"302.6\",\"302.75\",\"3021.3\",\"3021.45\",\"3021.6\",\"3023.55\",\"3023.65\",\"3023.85\",\"3024.15\",\"3027.25\",\"3027.4\",\"3027.65\",\"3029.1\",\"303.15\",\"303.7\",\"3030.6\",\"3035.35\",\"3035.8\",\"3036.75\",\"3038.55\",\"304.6\",\"3042.25\",\"3043.6\",\"3043.7\",\"3045.75\",\"3046.05\",\"3046.15\",\"3046.4\",\"3047.15\",\"305.1\",\"305.55\",\"305.95\",\"3050.15\",\"3053\",\"3055.5\",\"3058.15\",\"3058.3\",\"3058.65\",\"306.05\",\"306.6\",\"3062.45\",\"3066.45\",\"3067.2\",\"3068.6\",\"3069.45\",\"307\",\"307.4\",\"307.6\",\"3077\",\"3078.1\",\"308.05\",\"308.1\",\"308.25\",\"308.7\",\"3082.1\",\"3084.9\",\"3085.35\",\"3088.25\",\"3088.75\",\"3089.1\",\"3089.6\",\"309.1\",\"309.25\",\"309.35\",\"309.4\",\"3090.05\",\"3090.65\",\"3091.75\",\"3092\",\"3092.65\",\"3094.05\",\"3094.65\",\"3096.9\",\"3097\",\"3097.2\",\"31.2\",\"31.35\",\"31.55\",\"31.9\",\"310.6\",\"3103.25\",\"3105.55\",\"3107.3\",\"3109.9\",\"311.6\",\"3110.1\",\"3112.05\",\"3116.15\",\"3119.9\",\"312.7\",\"3121.1\",\"3121.4\",\"3121.45\",\"3122.4\",\"3124.5\",\"3126.45\",\"3126.85\",\"3128.8\",\"313\",\"313.4\",\"313.45\",\"313.6\",\"3131.55\",\"3131.8\",\"3132.75\",\"3134.7\",\"3139.8\",\"314.45\",\"314.55\",\"314.6\",\"314.95\",\"3141.7\",\"3143.65\",\"3145.15\",\"3145.9\",\"3147.15\",\"3147.5\",\"315.3\",\"3152.5\",\"3157\",\"316.2\",\"316.9\",\"3160.55\",\"3161.2\",\"3161.4\",\"3161.6\",\"3162.65\",\"3165.6\",\"3166.9\",\"3168\",\"3168.75\",\"3169.55\",\"317.25\",\"317.75\",\"3171.15\",\"3171.6\",\"3173.35\",\"3175.85\",\"3177.25\",\"318.1\",\"318.5\",\"318.6\",\"318.9\",\"3180.5\",\"3181.8\",\"3182.95\",\"3183.4\",\"3184.25\",\"3186.65\",\"3186.7\",\"3187.65\",\"319.15\",\"319.6\",\"319.85\",\"3190.25\",\"3190.65\",\"3196\",\"3198.6\",\"3199\",\"32.7\",\"320.4\",\"320.45\",\"3201.55\",\"3204.4\",\"3204.65\",\"3205.6\",\"3207.55\",\"3208.65\",\"321.05\",\"321.4\",\"321.65\",\"321.7\",\"321.75\",\"321.9\",\"3210.35\",\"3211.2\",\"3211.9\",\"3213.75\",\"3217.55\",\"3217.65\",\"3219.75\",\"322.5\",\"322.9\",\"3221.25\",\"3229.4\",\"3229.65\",\"323.15\",\"323.25\",\"323.45\",\"3231.05\",\"3233.6\",\"3233.85\",\"3236.35\",\"3237.05\",\"3238.4\",\"324.15\",\"324.2\",\"324.25\",\"324.3\",\"324.6\",\"324.8\",\"3242.5\",\"3243.45\",\"3244.4\",\"3246.45\",\"3247.55\",\"3249.4\",\"325.45\",\"3250.45\",\"3251.3\",\"3251.85\",\"3252\",\"3254.35\",\"3255.35\",\"326.65\",\"326.8\",\"3260.1\",\"3263.6\",\"3263.9\",\"3264.45\",\"3264.5\",\"3265.95\",\"3266\",\"3268.05\",\"327.45\",\"3270.25\",\"3273.55\",\"3273.8\",\"3273.95\",\"3274.35\",\"3275.15\",\"328.95\",\"3281.65\",\"3282.75\",\"3283.05\",\"329.75\",\"329.8\",\"329.95\",\"3292.3\",\"3297\",\"33.2\",\"33.6\",\"33.7\",\"330.05\",\"330.15\",\"330.25\",\"330.6\",\"330.8\",\"3301.05\",\"3303.05\",\"3306.85\",\"3309.25\",\"331.3\",\"331.35\",\"331.6\",\"331.85\",\"331.9\",\"3313.4\",\"3314.15\",\"3316.1\",\"332.45\",\"332.5\",\"332.65\",\"3320.6\",\"3320.75\",\"3321.35\",\"3326.2\",\"3327.05\",\"333.55\",\"333.6\",\"333.65\",\"3330.1\",\"3334.9\",\"3334.95\",\"3339.05\",\"334.65\",\"334.8\",\"3340.55\",\"3342\",\"3342.45\",\"3343.15\",\"3344.1\",\"3346.8\",\"3348.1\",\"3349.1\",\"335.4\",\"335.65\",\"335.75\",\"335.95\",\"3351.55\",\"3353.4\",\"3355.65\",\"3357.9\",\"3358.65\",\"336.15\",\"336.7\",\"3361.05\",\"3363.8\",\"3364.55\",\"3365.4\",\"3365.85\",\"3366.05\",\"3369.05\",\"3369.25\",\"337.9\",\"3370.2\",\"3371\",\"3371.75\",\"3373.4\",\"3375.9\",\"3377.8\",\"3379.25\",\"338.1\",\"338.9\",\"3382.3\",\"3384\",\"3389.25\",\"339.9\",\"3395.8\",\"3398.9\",\"3399.85\",\"34.7\",\"34.75\",\"34.8\",\"340.25\",\"340.35\",\"340.4\",\"340.85\",\"3403.4\",\"3409.1\",\"3409.6\",\"341.35\",\"341.45\",\"341.6\",\"3410\",\"3410.6\",\"3413.25\",\"3414.65\",\"3415.25\",\"3416.85\",\"3418.2\",\"3419.3\",\"3419.5\",\"342.3\",\"342.4\",\"3420.5\",\"3423.5\",\"3425.35\",\"343.45\",\"343.6\",\"343.95\",\"3431.75\",\"3432.9\",\"3435.6\",\"3436.1\",\"3437.45\",\"3437.5\",\"3439\",\"344.2\",\"344.5\",\"3440.25\",\"3442.15\",\"3442.8\",\"3444.85\",\"345.5\",\"345.9\",\"3450.15\",\"3452.55\",\"3454.6\",\"3457.45\",\"3457.9\",\"346.2\",\"346.4\",\"346.45\",\"3460.3\",\"3460.95\",\"3462.1\",\"3465.05\",\"3465.7\",\"3467\",\"347.25\",\"347.4\",\"347.65\",\"3470.8\",\"3471.1\",\"3472.05\",\"3473.4\",\"3474.05\",\"3474.2\",\"3474.45\",\"3475.55\",\"3478.15\",\"3478.75\",\"3479.05\",\"348.15\",\"348.8\",\"3480\",\"3480.35\",\"3482.85\",\"3483.45\",\"3486.65\",\"3487.95\",\"3488.15\",\"349.65\",\"349.8\",\"3491.55\",\"3496.3\",\"35\",\"35.05\",\"35.1\",\"35.25\",\"35.45\",\"35.55\",\"35.75\",\"35.85\",\"35.9\",\"350.1\",\"350.3\",\"350.35\",\"3503.5\",\"3505.1\",\"3509.4\",\"351.5\",\"351.55\",\"3510.3\",\"3512.15\",\"3512.5\",\"3512.9\",\"3515.25\",\"3517.9\",\"352.65\",\"3520.75\",\"3521.7\",\"3522.65\",\"3527\",\"3527.3\",\"3527.6\",\"3529.95\",\"353.65\",\"3532\",\"3532.25\",\"3532.85\",\"3533.6\",\"3539.25\",\"354.05\",\"3540.65\",\"3541.1\",\"3541.35\",\"3541.4\",\"3545.05\",\"3545.1\",\"3545.35\",\"3548.3\",\"3549.25\",\"355.1\",\"355.2\",\"355.9\",\"3551.65\",\"3554.6\",\"3557.7\",\"356.1\",\"356.15\",\"356.65\",\"3561.15\",\"3562.5\",\"3563.8\",\"3565.65\",\"3566.6\",\"3566.7\",\"357\",\"357.15\",\"357.6\",\"357.7\",\"357.75\",\"3571.6\",\"3574.5\",\"3579.15\",\"358.05\",\"358.15\",\"358.5\",\"3580.3\",\"3580.95\",\"3581.4\",\"3581.6\",\"3582.4\",\"3587.25\",\"3588.4\",\"359.4\",\"3590.2\",\"3591.25\",\"3593.8\",\"3597.5\",\"36.45\",\"36.55\",\"36.8\",\"360.1\",\"360.35\",\"360.55\",\"3600.65\",\"3603.45\",\"3605.2\",\"3605.6\",\"3608\",\"3615.6\",\"3616.25\",\"3617.1\",\"3618.7\",\"362.2\",\"362.6\",\"3623.95\",\"3624.3\",\"3624.35\",\"3625.2\",\"3626.1\",\"3626.35\",\"3627.3\",\"3629.2\",\"363.15\",\"3632\",\"3634.8\",\"3635.15\",\"3638.25\",\"364.55\",\"3640.45\",\"3641.5\",\"3645.05\",\"3645.5\",\"3645.6\",\"3645.75\",\"3646.8\",\"3649.6\",\"365.35\",\"365.4\",\"365.55\",\"365.65\",\"365.8\",\"3650.35\",\"3653\",\"3653.35\",\"3655.45\",\"3656.25\",\"3662.25\",\"3665.55\",\"367.55\",\"367.95\",\"3670.5\",\"3673.15\",\"3673.6\",\"3674.95\",\"3678.3\",\"368.1\",\"368.85\",\"3682.45\",\"3684.95\",\"3686.05\",\"3687.75\",\"3687.85\",\"3688.6\",\"369.05\",\"369.1\",\"369.15\",\"369.25\",\"369.3\",\"369.6\",\"3691.2\",\"3692.85\",\"3694.45\",\"3694.7\",\"37.2\",\"370.25\",\"370.4\",\"370.5\",\"370.65\",\"3704.15\",\"3706.95\",\"3707.6\",\"3708.4\",\"371.4\",\"371.6\",\"371.65\",\"371.9\",\"3713.95\",\"3715.65\",\"372.45\",\"3720.35\",\"3721.9\",\"3723.65\",\"3725.5\",\"3726.15\",\"3729.6\",\"3729.75\",\"373\",\"373.5\",\"3734.25\",\"3735.45\",\"3739.8\",\"374\",\"374.5\",\"374.8\",\"3741.85\",\"3744.05\",\"375.25\",\"3751.15\",\"3753.2\",\"3754.6\",\"3756.4\",\"3756.45\",\"3759.05\",\"3762\",\"3765.05\",\"3766.2\",\"3767.4\",\"3769.7\",\"377.55\",\"377.85\",\"3770\",\"3771.5\",\"3772.5\",\"3772.65\",\"3775.85\",\"3777.15\",\"3778\",\"3778.1\",\"3778.2\",\"3778.85\",\"378.4\",\"378.6\",\"3782.4\",\"3784\",\"3789.2\",\"3791.6\",\"3794.5\",\"3795.45\",\"38\",\"38.15\",\"38.25\",\"38.45\",\"38.7\",\"38.8\",\"3801.3\",\"3801.7\",\"3804.4\",\"3807.35\",\"3808\",\"3808.2\",\"381.2\",\"381.3\",\"3810.55\",\"3810.8\",\"3815.4\",\"382.2\",\"382.8\",\"3822.45\",\"3824.2\",\"3825.85\",\"3827.9\",\"3829.75\",\"383.55\",\"383.65\",\"3833.95\",\"3834.4\",\"3835.55\",\"3836.3\",\"3838.2\",\"3838.75\",\"384.25\",\"384.5\",\"3842.6\",\"3845.45\",\"3846.35\",\"3846.75\",\"3847.6\",\"3848\",\"3848.8\",\"385\",\"385.55\",\"385.9\",\"3851.45\",\"3856.75\",\"3857.1\",\"3858.05\",\"386.5\",\"3861.45\",\"3862.55\",\"3865.45\",\"3865.6\",\"387.2\",\"387.4\",\"387.7\",\"387.9\",\"3870\",\"3870.3\",\"3871.85\",\"3874.1\",\"3875.4\",\"3876.2\",\"3877.65\",\"3877.95\",\"388.6\",\"3880.05\",\"3882.3\",\"3883.3\",\"3886.05\",\"3886.45\",\"3886.85\",\"3887.25\",\"3887.85\",\"3888.65\",\"389.1\",\"389.25\",\"389.6\",\"389.8\",\"389.95\",\"3893.6\",\"3894.4\",\"3895.35\",\"3899.05\",\"39.25\",\"39.3\",\"39.65\",\"39.8\",\"39.85\",\"390.4\",\"390.85\",\"3901.25\",\"3902.45\",\"3902.6\",\"3906.7\",\"391.7\",\"3912.9\",\"3913.3\",\"3914.05\",\"3915.4\",\"3919.15\",\"392.5\",\"392.65\",\"3921.1\",\"3921.3\",\"3923.8\",\"3928.3\",\"393.15\",\"393.45\",\"3930.55\",\"3930.6\",\"3937.45\",\"394.1\",\"394.85\",\"3941.7\",\"3942.45\",\"3944.5\",\"3946.9\",\"3948.45\",\"3949.15\",\"395.6\",\"3950.85\",\"3952.45\",\"3952.65\",\"3953.15\",\"3953.7\",\"3954.1\",\"3956.7\",\"3958.2\",\"3958.25\",\"3958.85\",\"3959.15\",\"3959.35\",\"396.1\",\"396.3\",\"3965.05\",\"3966.3\",\"3969.35\",\"3969.4\",\"397\",\"3970.4\",\"3972.25\",\"3973.2\",\"3974.15\",\"3974.7\",\"3975.7\",\"3975.9\",\"398.55\",\"3983.6\",\"3985.35\",\"3988.5\",\"399.25\",\"399.45\",\"399.6\",\"3990.6\",\"3990.75\",\"3994.05\",\"3994.45\",\"3996.8\",\"40.1\",\"40.2\",\"40.25\",\"40.9\",\"400\",\"400.3\",\"4003\",\"4003.85\",\"4009.2\",\"401.1\",\"401.3\",\"401.5\",\"401.85\",\"401.95\",\"4013.8\",\"4014\",\"4014.2\",\"4014.6\",\"4016.2\",\"4016.3\",\"4016.75\",\"4016.85\",\"4017.45\",\"4018.05\",\"4018.35\",\"4018.55\",\"402.5\",\"402.6\",\"402.85\",\"4024.2\",\"4025.5\",\"4025.6\",\"4026.4\",\"4029.95\",\"403.15\",\"403.35\",\"4036\",\"4036.85\",\"4039\",\"4039.3\",\"4039.5\",\"404.2\",\"404.35\",\"4040.2\",\"4040.65\",\"4042.2\",\"4042.3\",\"4045.65\",\"4048.95\",\"405.6\",\"405.7\",\"4052.4\",\"4054.2\",\"4055.5\",\"4056.75\",\"4059.35\",\"4059.85\",\"406.05\",\"406.95\",\"4060.55\",\"4060.9\",\"4062.2\",\"4063\",\"4065\",\"4068\",\"4069.9\",\"407.05\",\"4070.95\",\"4079.55\",\"408.25\",\"408.5\",\"4084.35\",\"4085.75\",\"4086.3\",\"4089.45\",\"409.9\",\"4092.85\",\"4096.9\",\"4097.05\",\"41.2\",\"41.85\",\"4103.9\",\"4107.25\",\"4107.3\",\"4108.15\",\"4109\",\"411.15\",\"411.25\",\"411.45\",\"411.6\",\"411.75\",\"4111.35\",\"4113.1\",\"4113.15\",\"4113.7\",\"4116.15\",\"4116.8\",\"4116.9\",\"4119.4\",\"412.1\",\"412.5\",\"412.55\",\"412.6\",\"4122.65\",\"4122.9\",\"4124.65\",\"4126.2\",\"4126.35\",\"413\",\"413.25\",\"413.65\",\"4131.2\",\"4131.95\",\"4133.95\",\"4134.7\",\"4134.85\",\"4135\",\"4136.4\",\"4137.2\",\"4138.05\",\"4138.7\",\"4138.9\",\"414.1\",\"414.95\",\"4140.1\",\"4144.8\",\"4144.9\",\"4145.25\",\"4145.9\",\"4146.05\",\"4149.45\",\"415.05\",\"415.1\",\"415.4\",\"415.55\",\"415.9\",\"415.95\",\"4154.55\",\"4154.8\",\"4155.95\",\"4156.8\",\"4158.25\",\"4159.45\",\"416.3\",\"416.4\",\"416.45\",\"4162.05\",\"4164.4\",\"4166.35\",\"417\",\"417.5\",\"417.65\",\"417.7\",\"417.75\",\"4174.35\",\"4176.7\",\"4178.65\",\"4179.1\",\"4179.2\",\"418.25\",\"418.3\",\"418.4\",\"418.8\",\"4186.3\",\"4187.75\",\"4188.4\",\"4189.7\",\"419.35\",\"419.4\",\"419.7\",\"419.9\",\"4191.45\",\"4192.15\",\"4193.4\",\"4194.85\",\"42.45\",\"42.7\",\"42.9\",\"420.2\",\"420.45\",\"4200.25\",\"4209.95\",\"4211.55\",\"4213.35\",\"4213.9\",\"4214.25\",\"4217.8\",\"422.3\",\"422.4\",\"422.5\",\"422.6\",\"422.7\",\"4220.35\",\"4222.95\",\"4224.7\",\"4226.7\",\"4228.55\",\"4230.25\",\"4233.95\",\"4234.15\",\"4236.6\",\"4237.5\",\"4238.45\",\"424.15\",\"424.45\",\"424.5\",\"424.75\",\"4242.35\",\"4245.55\",\"425.1\",\"425.9\",\"4250.1\",\"4254.1\",\"4254.85\",\"4259.3\",\"426.35\",\"426.65\",\"4261.2\",\"4263.4\",\"4263.45\",\"4264\",\"4264.25\",\"4264.6\",\"4265\",\"4266.4\",\"4267.15\",\"4273.45\",\"4275.75\",\"428.45\",\"428.7\",\"4282.4\",\"4284.2\",\"4284.65\",\"4284.8\",\"4285.8\",\"4287.2\",\"429.55\",\"4295.35\",\"4297.6\",\"4297.95\",\"4298.45\",\"4299.2\",\"4299.75\",\"4299.95\",\"43.15\",\"43.3\",\"43.8\",\"43.85\",\"43.95\",\"4300.45\",\"4300.8\",\"4303.65\",\"4304\",\"4304.5\",\"4307.1\",\"4308.25\",\"4309.55\",\"431\",\"4310.35\",\"4312.5\",\"4317.35\",\"4318.35\",\"432.25\",\"432.5\",\"4322.85\",\"4323.35\",\"4323.45\",\"4326.25\",\"4326.8\",\"4327.5\",\"433.5\",\"433.75\",\"433.95\",\"4331.4\",\"4335.2\",\"4338.6\",\"434.1\",\"434.5\",\"434.8\",\"4345\",\"4346.4\",\"4348.1\",\"4348.65\",\"435\",\"435.25\",\"435.4\",\"435.45\",\"4350.1\",\"4354.45\",\"436.2\",\"436.6\",\"436.9\",\"4361.55\",\"4362.05\",\"4364.1\",\"4367.35\",\"4368.85\",\"4368.95\",\"4370.25\",\"4370.75\",\"4374.55\",\"4375.8\",\"4378.35\",\"4378.8\",\"4378.9\",\"438\",\"438.05\",\"438.25\",\"438.4\",\"438.9\",\"4385.05\",\"4386.2\",\"4388.4\",\"439.2\",\"439.75\",\"4390.25\",\"4391.25\",\"4391.45\",\"4392.5\",\"4398.15\",\"4399.5\",\"44\",\"44.05\",\"44.1\",\"44.15\",\"44.2\",\"44.3\",\"44.35\",\"44.4\",\"44.45\",\"44.55\",\"44.6\",\"44.65\",\"44.7\",\"44.75\",\"44.8\",\"44.9\",\"44.95\",\"440.2\",\"4400.75\",\"4408.45\",\"4414.3\",\"4415.75\",\"442.2\",\"442.45\",\"442.6\",\"442.85\",\"4421.95\",\"4422.95\",\"4424.2\",\"4428.45\",\"4428.6\",\"443.9\",\"4433.3\",\"4438.2\",\"444.75\",\"4442.75\",\"4443.45\",\"4445.3\",\"4447.55\",\"4447.75\",\"4448.8\",\"4449.75\",\"445.3\",\"445.85\",\"445.95\",\"4451.85\",\"4453.3\",\"4454.25\",\"4456.35\",\"4456.65\",\"4458.15\",\"4459.15\",\"4459.8\",\"446.05\",\"446.1\",\"446.8\",\"4461.85\",\"4464.8\",\"4469.1\",\"447.75\",\"447.9\",\"4473\",\"4473.45\",\"4475.9\",\"4478.85\",\"4479.2\",\"4480.7\",\"4481\",\"4483.95\",\"4484.05\",\"4487.3\",\"449.3\",\"449.75\",\"4492.9\",\"4494.65\",\"4495.65\",\"45\",\"45.05\",\"45.1\",\"45.15\",\"45.2\",\"45.25\",\"45.3\",\"45.35\",\"45.4\",\"45.55\",\"45.6\",\"45.65\",\"45.7\",\"45.75\",\"45.8\",\"45.85\",\"45.95\",\"450.4\",\"450.65\",\"450.8\",\"450.9\",\"4504.55\",\"4504.9\",\"4507.15\",\"4508.65\",\"4509.5\",\"451.1\",\"451.55\",\"4510.8\",\"4512.7\",\"4513.65\",\"4515.85\",\"4517.25\",\"4519.5\",\"452.2\",\"452.35\",\"452.55\",\"452.7\",\"452.8\",\"4520.15\",\"4523.25\",\"4524.05\",\"4525.8\",\"4526.85\",\"4527.45\",\"4528\",\"453.4\",\"453.75\",\"4532.3\",\"4533.7\",\"4533.9\",\"4534.45\",\"4534.9\",\"4535.85\",\"4539.35\",\"4539.6\",\"454\",\"454.05\",\"454.15\",\"454.65\",\"4541.2\",\"4541.9\",\"4542.35\",\"4543.15\",\"4543.95\",\"4546\",\"4547.25\",\"4549.05\",\"4549.45\",\"455.3\",\"455.5\",\"4551.5\",\"4554.85\",\"4555.2\",\"4557.5\",\"456.85\",\"4563\",\"4564.9\",\"4566.5\",\"457.1\",\"457.3\",\"4575.35\",\"4576.3\",\"4577.75\",\"4577.9\",\"458.1\",\"4586.15\",\"4589.85\",\"459.6\",\"459.95\",\"4590.35\",\"4594.65\",\"4594.95\",\"4599.15\",\"46\",\"46.2\",\"46.3\",\"46.35\",\"46.4\",\"460.2\",\"460.25\",\"4600.7\",\"4600.95\",\"461.3\",\"461.7\",\"4613.95\",\"4614.55\",\"4615.25\",\"4615.9\",\"4616.05\",\"4616.1\",\"4619.55\",\"462.8\",\"4620.4\",\"4627.65\",\"4627.8\",\"4627.85\",\"463.05\",\"463.6\",\"4630.2\",\"4631.7\",\"4634.35\",\"4639.45\",\"4641.1\",\"465.05\",\"465.45\",\"465.7\",\"465.85\",\"4652.4\",\"4653.25\",\"4653.85\",\"4657.95\",\"466.6\",\"4663.4\",\"4664.15\",\"4664.2\",\"4664.5\",\"4667\",\"4669.2\",\"467.15\",\"467.5\",\"467.55\",\"467.7\",\"467.85\",\"4671.65\",\"4671.7\",\"4674.4\",\"4674.55\",\"4676.7\",\"4677.1\",\"468.35\",\"4680.05\",\"4681.75\",\"4684.3\",\"4685.55\",\"4687.9\",\"4688.65\",\"4689.15\",\"4689.5\",\"469.25\",\"469.65\",\"469.8\",\"469.85\",\"4690.65\",\"4692.55\",\"4692.95\",\"4693.2\",\"4698.05\",\"47.5\",\"47.7\",\"47.95\",\"470\",\"470.2\",\"470.6\",\"470.95\",\"4707.1\",\"4707.85\",\"471.35\",\"471.55\",\"471.7\",\"471.85\",\"4713.4\",\"4718.25\",\"4719.75\",\"472.25\",\"472.65\",\"4720\",\"4729.3\",\"4729.75\",\"473.9\",\"4730.6\",\"4730.9\",\"4732.35\",\"4733.1\",\"4735.2\",\"4735.35\",\"4738.3\",\"4738.85\",\"474.8\",\"474.9\",\"4740\",\"4741.45\",\"4744.35\",\"4746.05\",\"4747.2\",\"4747.5\",\"4747.65\",\"4747.85\",\"4748.7\",\"4749.15\",\"475\",\"475.1\",\"475.2\",\"475.25\",\"475.7\",\"4750.95\",\"4753.85\",\"4754.3\",\"4758.8\",\"4759.55\",\"4759.75\",\"4759.85\",\"476.8\",\"4760.3\",\"4764\",\"4765\",\"477.05\",\"477.55\",\"477.6\",\"477.7\",\"4779.45\",\"478.1\",\"478.75\",\"4783.5\",\"4784.45\",\"4786.1\",\"4786.15\",\"4793.8\",\"4798.4\",\"48.35\",\"48.45\",\"48.55\",\"48.6\",\"48.75\",\"48.95\",\"480.6\",\"480.75\",\"4801.1\",\"4804.65\",\"4804.75\",\"4805.3\",\"4805.65\",\"4807.35\",\"4807.45\",\"4808.7\",\"481.1\",\"4811.6\",\"4812.75\",\"4816.7\",\"4818.8\",\"4819.75\",\"482.25\",\"482.8\",\"4820.15\",\"4820.55\",\"4822.85\",\"4824.45\",\"4828.05\",\"483.15\",\"483.3\",\"483.7\",\"4830.25\",\"4834\",\"4837.6\",\"4839.15\",\"484.05\",\"4845.4\",\"4847.05\",\"4847.35\",\"4849.1\",\"485.2\",\"485.25\",\"485.9\",\"4853.75\",\"4854.3\",\"4855.35\",\"4858.7\",\"4859.1\",\"4859.25\",\"4859.95\",\"486.05\",\"486.2\",\"486.85\",\"4860.35\",\"4860.85\",\"4861.45\",\"4862.5\",\"4863.85\",\"4867.95\",\"4868.4\",\"4869.35\",\"4869.5\",\"487.05\",\"487.75\",\"487.95\",\"4871.05\",\"4871.45\",\"4872.2\",\"4872.35\",\"4872.45\",\"4874.7\",\"4874.8\",\"488.25\",\"488.65\",\"4882.8\",\"4884.85\",\"4885.85\",\"4888.2\",\"4888.7\",\"4889.2\",\"4889.3\",\"489.45\",\"4890.5\",\"4891.5\",\"4895.1\",\"4896.35\",\"49\",\"49.05\",\"49.25\",\"49.3\",\"49.5\",\"49.55\",\"49.65\",\"49.7\",\"49.75\",\"49.8\",\"49.85\",\"49.9\",\"49.95\",\"490.55\",\"490.65\",\"4900.65\",\"4902.8\",\"4903.15\",\"4903.2\",\"4904.2\",\"4904.25\",\"4904.85\",\"4905.75\",\"4908.25\",\"4911.05\",\"4911.35\",\"4913.3\",\"4914.8\",\"4914.9\",\"4915.15\",\"4916.4\",\"4916.95\",\"4917.75\",\"4917.9\",\"4919.7\",\"492\",\"492.1\",\"492.55\",\"4920.55\",\"4920.8\",\"4921.2\",\"4922.4\",\"4925.35\",\"4929.55\",\"493.4\",\"493.65\",\"493.95\",\"4931.8\",\"4932.5\",\"4939.25\",\"494.05\",\"494.9\",\"494.95\",\"4941.8\",\"4946.05\",\"4946.7\",\"4947.55\",\"4949.1\",\"495.15\",\"4952.95\",\"4953.25\",\"4959.15\",\"4959.6\",\"496.9\",\"4964.7\",\"4965\",\"4965.1\",\"4968\",\"497.3\",\"497.55\",\"497.6\",\"4972.1\",\"4973.4\",\"4976.15\",\"4977.2\",\"498.1\",\"498.25\",\"4981.15\",\"4982.5\",\"4983.05\",\"4984.85\",\"4985.9\",\"499.4\",\"4990.25\",\"4991.5\",\"4993.4\",\"4995.35\",\"4997.5\",\"50.05\",\"50.1\",\"50.15\",\"50.35\",\"50.45\",\"50.5\",\"50.55\",\"50.6\",\"50.65\",\"50.7\",\"50.75\",\"50.8\",\"50.9\",\"500.1\",\"5000.05\",\"5000.2\",\"501\",\"501.2\",\"501.35\",\"5011.15\",\"5012.1\",\"5012.35\",\"5013\",\"5016.25\",\"5016.65\",\"5017.7\",\"5017.9\",\"502.6\",\"502.85\",\"5023\",\"5025\",\"5025.8\",\"5025.85\",\"5029.05\",\"5029.2\",\"503.25\",\"503.6\",\"5031\",\"5031.85\",\"5032.25\",\"5034.05\",\"5036.3\",\"5036.9\",\"5037.55\",\"5038.15\",\"5038.45\",\"504.05\",\"504.2\",\"5040.2\",\"5042.75\",\"5043.2\",\"5044.8\",\"505.45\",\"505.9\",\"505.95\",\"5059.75\",\"506.9\",\"5060.85\",\"5060.9\",\"5064.45\",\"5064.85\",\"5067.45\",\"5068.05\",\"5069.65\",\"507.4\",\"507.9\",\"5070.4\",\"5071.05\",\"5071.9\",\"5073.1\",\"5082.8\",\"5083.55\",\"5084.65\",\"5088.4\",\"509.3\",\"5099.15\",\"51.15\",\"51.2\",\"51.25\",\"51.6\",\"510.8\",\"5102.35\",\"511.25\",\"5116.6\",\"5118.95\",\"512.25\",\"512.45\",\"5121.3\",\"5121.75\",\"5124.55\",\"5124.6\",\"5125.5\",\"5125.75\",\"5127.95\",\"5129.3\",\"5129.45\",\"5135.15\",\"5135.35\",\"5138.1\",\"5139.65\",\"514\",\"514.6\",\"514.75\",\"5149.5\",\"515.45\",\"515.75\",\"5150.55\",\"5153.5\",\"5154.5\",\"5154.6\",\"516.15\",\"516.3\",\"5163\",\"5163.3\",\"5165.7\",\"5166.2\",\"5168.1\",\"5174.35\",\"5175.3\",\"518.3\",\"518.75\",\"518.9\",\"5186\",\"5189.75\",\"519.15\",\"5193.2\",\"5194.05\",\"5196.1\",\"5199.8\",\"52\",\"52.05\",\"52.2\",\"520\",\"520.1\",\"520.55\",\"520.95\",\"5200.8\",\"5206.55\",\"521\",\"521.1\",\"521.3\",\"521.35\",\"521.8\",\"521.9\",\"5212.65\",\"5215.1\",\"5215.25\",\"5219.65\",\"522.35\",\"522.95\",\"5222.3\",\"5222.35\",\"5224.35\",\"5224.5\",\"5224.95\",\"5229.45\",\"5229.8\",\"523.1\",\"523.15\",\"523.5\",\"5231.2\",\"5231.3\",\"5232.9\",\"5233.25\",\"5234.95\",\"5236.4\",\"5237.4\",\"5238.9\",\"524.35\",\"524.5\",\"5243.05\",\"5244.45\",\"525\",\"525.55\",\"5251.75\",\"5253.95\",\"526.7\",\"526.95\",\"5264.25\",\"5264.3\",\"5264.5\",\"5265.1\",\"5265.2\",\"5265.5\",\"5265.55\",\"527.35\",\"527.5\",\"527.9\",\"5270.6\",\"5275.8\",\"5276.1\",\"5278.15\",\"528.35\",\"528.45\",\"5283.95\",\"5289.05\",\"5289.8\",\"529.5\",\"529.8\",\"5290.45\",\"5293.2\",\"5293.4\",\"5293.95\",\"5294.6\",\"5295.7\",\"5299.65\",\"53.05\",\"53.15\",\"53.5\",\"53.55\",\"53.95\",\"530.05\",\"5301.1\",\"5305.05\",\"5308.7\",\"5309.5\",\"531\",\"531.15\",\"531.55\",\"531.6\",\"5311.85\",\"5315.1\",\"5315.8\",\"5317.8\",\"532.1\",\"5321.25\",\"5324.5\",\"5327.25\",\"5329\",\"5329.55\",\"533.05\",\"533.5\",\"533.6\",\"533.9\",\"5330.2\",\"5333.35\",\"5336.35\",\"534.7\",\"5341.8\",\"5347.95\",\"5348.65\",\"535.05\",\"535.35\",\"535.55\",\"5356.45\",\"5357.75\",\"536.35\",\"536.4\",\"5360.75\",\"5364.8\",\"537.35\",\"5373.1\",\"5375.15\",\"5376.4\",\"5377.8\",\"538.2\",\"538.5\",\"5386.5\",\"5388.15\",\"539.85\",\"5396.25\",\"5398.6\",\"54.3\",\"54.35\",\"54.5\",\"54.65\",\"54.7\",\"54.75\",\"54.9\",\"540.05\",\"540.95\",\"5401.9\",\"5405.8\",\"5409.75\",\"541.15\",\"541.5\",\"541.9\",\"5411.4\",\"5411.65\",\"542.4\",\"5420.65\",\"5424.25\",\"5426.85\",\"5427.05\",\"543\",\"543.8\",\"5430.35\",\"5430.65\",\"5431.4\",\"5431.9\",\"5432.2\",\"5435\",\"5435.6\",\"5436.45\",\"5437.1\",\"5437.75\",\"5438.9\",\"5438.95\",\"544.55\",\"5440.9\",\"5442.05\",\"5443.65\",\"5445.95\",\"5448.6\",\"545.15\",\"545.2\",\"5450.7\",\"5453.4\",\"5458.8\",\"5459.2\",\"546.45\",\"546.85\",\"546.95\",\"5460.2\",\"5461.45\",\"5464.65\",\"5468.45\",\"5468.95\",\"547.65\",\"547.8\",\"5471.75\",\"5475.9\",\"548.8\",\"548.9\",\"5480.25\",\"5481.25\",\"5483.9\",\"5484.4\",\"5485.5\",\"5487\",\"5496.9\",\"5497.05\",\"5498.2\",\"5498.8\",\"55\",\"55.05\",\"55.2\",\"55.25\",\"55.3\",\"55.4\",\"55.45\",\"55.55\",\"55.7\",\"55.8\",\"550.1\",\"550.35\",\"550.6\",\"5500.6\",\"5502.55\",\"5508.35\",\"5509.3\",\"551.3\",\"551.35\",\"551.95\",\"5510.65\",\"5511.65\",\"5514.95\",\"5515.45\",\"5515.8\",\"552.1\",\"552.65\",\"552.7\",\"552.9\",\"552.95\",\"5522.7\",\"5526.75\",\"5528.9\",\"553\",\"553.4\",\"5535.8\",\"5536.5\",\"5538.35\",\"5538.8\",\"554.05\",\"554.25\",\"554.45\",\"5542.55\",\"5549.4\",\"555.4\",\"5550.1\",\"5551.15\",\"5552.05\",\"5552.5\",\"5553.25\",\"5555.3\",\"556.35\",\"5560\",\"5563.65\",\"5564.85\",\"5566.4\",\"5567.45\",\"5567.55\",\"5568.35\",\"5574.35\",\"5574.75\",\"5576.3\",\"558.8\",\"5580.8\",\"5581.05\",\"5585.4\",\"5586.45\",\"5588.8\",\"5589.3\",\"5589.45\",\"559.2\",\"5594\",\"5595.3\",\"5597.65\",\"5598\",\"5598.3\",\"56\",\"56.25\",\"56.35\",\"560.6\",\"560.85\",\"5600.15\",\"5601.4\",\"5602.25\",\"5607.75\",\"5608.4\",\"561.15\",\"5610.15\",\"5610.25\",\"5610.7\",\"5611.7\",\"5611.75\",\"5614.45\",\"5617.75\",\"5617.95\",\"5618.3\",\"562.6\",\"562.7\",\"5621.85\",\"5623.7\",\"5624.85\",\"5625.55\",\"5629.15\",\"5629.55\",\"563.05\",\"563.5\",\"563.65\",\"5632.55\",\"5637.85\",\"5638.3\",\"5639.05\",\"564.35\",\"564.4\",\"564.65\",\"5643.4\",\"5645.8\",\"5646.6\",\"5647.95\",\"565.35\",\"565.75\",\"5655.45\",\"5656.75\",\"566.1\",\"566.5\",\"5661.7\",\"5662.25\",\"5669.5\",\"567.45\",\"567.8\",\"5673.7\",\"5676\",\"5676.65\",\"568.2\",\"568.85\",\"5680.9\",\"5681.1\",\"5682.25\",\"5683.6\",\"5685.8\",\"5686.4\",\"5688.05\",\"5688.45\",\"5692.65\",\"5696.6\",\"57.2\",\"57.4\",\"57.5\",\"5703\",\"5703.25\",\"5705.05\",\"5706.2\",\"5706.3\",\"5708.2\",\"571.05\",\"571.15\",\"571.45\",\"571.75\",\"5711.05\",\"5714.2\",\"5714.25\",\"5717.85\",\"5718.2\",\"572.2\",\"572.45\",\"572.85\",\"5720.35\",\"5720.95\",\"5727.15\",\"5727.45\",\"5728.55\",\"573.05\",\"573.15\",\"573.3\",\"573.75\",\"5730.15\",\"5730.7\",\"5731.4\",\"5731.45\",\"5731.85\",\"5733.4\",\"5737.6\",\"574.35\",\"574.5\",\"5742.9\",\"5743.05\",\"5743.3\",\"5744.35\",\"5746.15\",\"5746.75\",\"5749.8\",\"575.45\",\"5750\",\"5753.25\",\"5755.8\",\"5757.2\",\"576.65\",\"576.7\",\"576.95\",\"5760.65\",\"5762.95\",\"5763.15\",\"5763.3\",\"5764.7\",\"5769.6\",\"5769.75\",\"577.15\",\"577.6\",\"5774.55\",\"5776.45\",\"5779.6\",\"578.5\",\"5780.7\",\"5784.3\",\"5785.5\",\"5785.65\",\"579\",\"579.4\",\"5791.1\",\"5791.85\",\"5794.45\",\"5794.65\",\"5798.3\",\"58\",\"58.15\",\"58.3\",\"58.85\",\"58.9\",\"580.1\",\"580.8\",\"5809.75\",\"581.7\",\"581.85\",\"5810.9\",\"5811.8\",\"5812\",\"5812.6\",\"5815.15\",\"5817\",\"5817.45\",\"5817.7\",\"582.5\",\"5822.3\",\"5824.75\",\"5825.5\",\"5826.65\",\"583\",\"583.3\",\"583.45\",\"5831.2\",\"5832\",\"5832.65\",\"5835.5\",\"5839.3\",\"5841.35\",\"5844.65\",\"5846.65\",\"5848.6\",\"585.95\",\"586.05\",\"5860.7\",\"5861.75\",\"5867\",\"5869.4\",\"587.1\",\"587.4\",\"587.45\",\"587.7\",\"5873.75\",\"5878.9\",\"5882.75\",\"5883.85\",\"5885.4\",\"5886.85\",\"589.25\",\"5890\",\"5893.15\",\"5893.9\",\"5893.95\",\"5894.5\",\"5895.45\",\"5897.4\",\"5898.6\",\"5899.85\",\"59.05\",\"59.2\",\"59.25\",\"59.55\",\"59.75\",\"59.85\",\"590.35\",\"5903.15\",\"5913.95\",\"5914.4\",\"5916.45\",\"5916.95\",\"5917.55\",\"5918.8\",\"5919.35\",\"592.65\",\"592.75\",\"5921.35\",\"5924.4\",\"5925.75\",\"593.05\",\"593.2\",\"593.3\",\"593.45\",\"593.75\",\"593.85\",\"5930.05\",\"5931\",\"5931.75\",\"5935.1\",\"5936.55\",\"5940.85\",\"5941.05\",\"5943.65\",\"5948.7\",\"595.05\",\"595.5\",\"5950.2\",\"5953\",\"5956.85\",\"5957.9\",\"5958.85\",\"5959.3\",\"5960.5\",\"5961.1\",\"5963.95\",\"5965.95\",\"5968.4\",\"5969.3\",\"5969.85\",\"5969.95\",\"597\",\"597.9\",\"5971.25\",\"5974.3\",\"5976.9\",\"5979.7\",\"5980.55\",\"5980.75\",\"5981.65\",\"5985\",\"5985.75\",\"5986.45\",\"5986.55\",\"599.25\",\"599.3\",\"5991.05\",\"5997.1\",\"5999.85\",\"60\",\"60.1\",\"60.15\",\"60.65\",\"600\",\"600.15\",\"600.25\",\"6000.1\",\"6001.45\",\"6004.85\",\"601.25\",\"601.55\",\"601.6\",\"6010.05\",\"6014.85\",\"6017.65\",\"6017.9\",\"6018.65\",\"6019.35\",\"602.55\",\"602.9\",\"6028.95\",\"6029\",\"6029.9\",\"603\",\"6033.1\",\"6033.3\",\"6034.85\",\"6038.55\",\"6039.9\",\"604.7\",\"6042.7\",\"6045.9\",\"6046.1\",\"6049.5\",\"605.25\",\"605.45\",\"605.75\",\"605.9\",\"6052.25\",\"6055.55\",\"6056.15\",\"6056.9\",\"6058.95\",\"606.25\",\"606.55\",\"6065.3\",\"6066.55\",\"6067.4\",\"6068.65\",\"6069.25\",\"607.3\",\"607.7\",\"6075.9\",\"6077.75\",\"6078.75\",\"6079\",\"608\",\"608.15\",\"608.5\",\"608.8\",\"6081.4\",\"6083.1\",\"609.05\",\"609.1\",\"609.65\",\"609.9\",\"6093.3\",\"6094.25\",\"6096.45\",\"6096.9\",\"61.05\",\"61.15\",\"61.35\",\"61.45\",\"61.7\",\"610.2\",\"610.75\",\"6109.65\",\"6109.75\",\"611.45\",\"611.65\",\"6110.2\",\"6110.75\",\"6118.95\",\"612.1\",\"612.95\",\"6125.4\",\"6126.1\",\"6126.15\",\"6127.6\",\"6129.2\",\"6129.65\",\"613.4\",\"613.95\",\"6130.85\",\"6130.95\",\"6132.7\",\"6137\",\"6139.5\",\"614.45\",\"6140.85\",\"6141.65\",\"6143.15\",\"6144.55\",\"6145.2\",\"6145.85\",\"6148.45\",\"615.35\",\"6151.9\",\"6152.3\",\"6152.4\",\"6153.85\",\"6155.4\",\"6157.6\",\"616.9\",\"6161.9\",\"6164.7\",\"617.15\",\"617.35\",\"617.65\",\"617.85\",\"6171.2\",\"6172\",\"6176.6\",\"6179.35\",\"6185.15\",\"6185.8\",\"6194.1\",\"62\",\"62.05\",\"62.25\",\"62.8\",\"62.9\",\"620.35\",\"620.55\",\"620.75\",\"6201.95\",\"6205.5\",\"6215.35\",\"6218.45\",\"6219.6\",\"622.9\",\"6223.3\",\"6223.8\",\"6224.8\",\"6225.4\",\"6227.5\",\"6230.1\",\"6236.75\",\"6237.05\",\"6239.05\",\"624.15\",\"624.6\",\"6241.35\",\"625.05\",\"625.65\",\"6252.7\",\"6252.9\",\"6253\",\"6254.2\",\"6254.45\",\"6256.2\",\"6263.8\",\"627.4\",\"6273.4\",\"628.65\",\"6281.45\",\"6283.3\",\"6287.25\",\"6287.3\",\"629.35\",\"629.55\",\"6292.7\",\"6293.2\",\"6293.45\",\"6293.75\",\"6296.75\",\"6297.65\",\"63\",\"63.15\",\"63.6\",\"63.75\",\"630.6\",\"6300.15\",\"6300.85\",\"6301.7\",\"6302.8\",\"6302.85\",\"6306.5\",\"6309.65\",\"631.4\",\"631.85\",\"6310.9\",\"6311.2\",\"6312.9\",\"6314.35\",\"6316.2\",\"632.2\",\"632.95\",\"6322.1\",\"6325.25\",\"6328.7\",\"633.3\",\"633.4\",\"633.45\",\"633.85\",\"6330.4\",\"6332.75\",\"6333.4\",\"6333.8\",\"6339.3\",\"6339.45\",\"6341.45\",\"6342.7\",\"6347.55\",\"635.6\",\"635.9\",\"6350.5\",\"6352.4\",\"6362.35\",\"6363.45\",\"6365.35\",\"6367.2\",\"6368.2\",\"6369.45\",\"637.4\",\"637.55\",\"6373.1\",\"6375.2\",\"6375.8\",\"6376.55\",\"638\",\"638.55\",\"638.95\",\"6382\",\"6382.55\",\"6383.35\",\"6383.9\",\"6385.95\",\"6388.65\",\"639.45\",\"639.65\",\"639.7\",\"6392.85\",\"6393.65\",\"6396.45\",\"6397.6\",\"6398.05\",\"64.55\",\"6401.25\",\"6404\",\"6405\",\"641.15\",\"641.25\",\"641.35\",\"6411.25\",\"6413.65\",\"6416.7\",\"6418.9\",\"6423\",\"6424.25\",\"6424.7\",\"6425.65\",\"6428.4\",\"6430.9\",\"6431.05\",\"6435.25\",\"644.35\",\"644.5\",\"6440.25\",\"6441.4\",\"6441.85\",\"6444.05\",\"6448.05\",\"6448.85\",\"6449.15\",\"645.8\",\"6457.15\",\"646.05\",\"646.85\",\"6460.55\",\"6463.15\",\"6465\",\"6468.6\",\"647.5\",\"6470.1\",\"6471.85\",\"6474.4\",\"6474.45\",\"6479.4\",\"648.65\",\"6480.9\",\"6487.2\",\"649.4\",\"649.65\",\"6496.15\",\"65.95\",\"6501.35\",\"6503.2\",\"6506.15\",\"651.4\",\"651.5\",\"651.55\",\"6510.45\",\"6511.25\",\"6511.8\",\"6518.35\",\"6519.75\",\"6520.8\",\"6521.9\",\"6526.65\",\"6529.25\",\"653.15\",\"653.25\",\"653.9\",\"653.95\",\"6536.5\",\"6538.45\",\"654.5\",\"654.55\",\"654.85\",\"6547.7\",\"6548.65\",\"6549.45\",\"655.3\",\"655.5\",\"655.85\",\"655.9\",\"6555.2\",\"6557.75\",\"6561.25\",\"6562.9\",\"6563.4\",\"6565.85\",\"6567.9\",\"657.5\",\"6572.85\",\"6578.55\",\"6579.05\",\"658.1\",\"658.95\",\"6581.9\",\"6585.2\",\"6585.35\",\"6586.85\",\"6588.95\",\"6589.6\",\"659.35\",\"659.45\",\"659.65\",\"6590.5\",\"6590.8\",\"6595\",\"6595.9\",\"6597.25\",\"66.95\",\"660.05\",\"660.9\",\"6602.9\",\"6603\",\"6603.8\",\"6605.55\",\"661.25\",\"661.55\",\"6613.65\",\"6614.9\",\"6615.15\",\"662.65\",\"662.95\",\"663.05\",\"663.55\",\"6631.85\",\"6632.75\",\"6637.9\",\"6638.35\",\"664.4\",\"6640.7\",\"6643.5\",\"665.45\",\"6652.45\",\"6654.1\",\"666\",\"666.75\",\"6668\",\"6668.05\",\"6668.35\",\"6669.05\",\"6669.45\",\"667.7\",\"6671.7\",\"6674.65\",\"668.4\",\"668.85\",\"6683.4\",\"6687.85\",\"6688.1\",\"6688.95\",\"6689\",\"669\",\"669.45\",\"669.85\",\"6690.75\",\"6692.65\",\"6697.2\",\"6697.35\",\"67.1\",\"67.55\",\"670.35\",\"670.65\",\"6700.05\",\"6703.5\",\"6705.7\",\"6707.15\",\"6710.5\",\"6713.2\",\"6716.45\",\"6717.9\",\"6719.9\",\"672.2\",\"672.55\",\"672.7\",\"6721.6\",\"6725.3\",\"6725.5\",\"673.1\",\"673.2\",\"673.25\",\"6733\",\"6733.15\",\"6735.05\",\"674.55\",\"6741.15\",\"6743.55\",\"6744.2\",\"6744.25\",\"6747.35\",\"675.6\",\"6751.35\",\"6754.35\",\"6758.45\",\"676.15\",\"676.35\",\"676.7\",\"6766.95\",\"6767.1\",\"677.05\",\"677.9\",\"6770.5\",\"6770.85\",\"6779.05\",\"678.2\",\"678.45\",\"678.75\",\"678.8\",\"6780.1\",\"6782.15\",\"6786.1\",\"6786.4\",\"679\",\"679.3\",\"679.55\",\"679.8\",\"679.85\",\"6792.45\",\"6794.75\",\"68.2\",\"68.35\",\"68.45\",\"68.5\",\"68.65\",\"68.75\",\"68.8\",\"68.95\",\"680.05\",\"681.4\",\"6812.95\",\"6816.95\",\"6819.45\",\"682.1\",\"682.15\",\"6822.15\",\"6823.4\",\"6825.65\",\"6827.5\",\"683.25\",\"683.75\",\"6838.6\",\"684.05\",\"684.4\",\"684.85\",\"6840.95\",\"6841.05\",\"6841.3\",\"6841.4\",\"6841.45\",\"6843.15\",\"6844.5\",\"6849.4\",\"6849.75\",\"685.55\",\"6851.65\",\"6856.45\",\"6856.95\",\"6858.9\",\"6859.05\",\"6859.5\",\"686.95\",\"6860.6\",\"6869.7\",\"6871.7\",\"6871.9\",\"6873.75\",\"6875.35\",\"6876.05\",\"688\",\"688.2\",\"688.5\",\"688.65\",\"6880.85\",\"6885.75\",\"6886.25\",\"6889.8\",\"689\",\"689.35\",\"689.75\",\"6890\",\"6891.4\",\"6891.45\",\"6895.5\",\"69.1\",\"69.15\",\"69.2\",\"69.25\",\"69.35\",\"69.4\",\"69.5\",\"69.55\",\"69.6\",\"69.65\",\"69.7\",\"69.75\",\"69.8\",\"69.85\",\"69.9\",\"69.95\",\"690.25\",\"690.5\",\"6903.1\",\"6910.3\",\"6912.7\",\"6914.95\",\"692.1\",\"692.35\",\"692.55\",\"6921.7\",\"6925.9\",\"6929.4\",\"693.3\",\"693.45\",\"6936.85\",\"6937.95\",\"6941.2\",\"6944.5\",\"695.05\",\"695.75\",\"695.85\",\"6951.15\",\"6953.4\",\"6954.15\",\"696.35\",\"696.8\",\"6962.85\",\"697.25\",\"697.65\",\"697.7\",\"6975.25\",\"6976.75\",\"6979.8\",\"6981.35\",\"6982.5\",\"6985.65\",\"6989.45\",\"6989.7\",\"6991.6\",\"6991.9\",\"6993.65\",\"6994.6\",\"6994.8\",\"6997.3\",\"6998.95\",\"70\",\"70.05\",\"70.1\",\"70.15\",\"70.2\",\"70.25\",\"70.3\",\"70.35\",\"70.4\",\"70.45\",\"70.5\",\"70.55\",\"70.6\",\"70.65\",\"70.7\",\"70.75\",\"70.8\",\"70.85\",\"70.9\",\"700.45\",\"700.85\",\"7002.95\",\"7007.6\",\"7008.15\",\"7009.5\",\"701.05\",\"701.3\",\"7015.9\",\"702\",\"702.05\",\"702.9\",\"7028.5\",\"703.55\",\"7030.65\",\"7031.3\",\"7031.45\",\"7035.6\",\"7039.05\",\"7039.45\",\"704.3\",\"7040.85\",\"7047.5\",\"7049.5\",\"7049.75\",\"705.45\",\"7051.95\",\"7053.35\",\"706.6\",\"706.85\",\"7061.65\",\"7069.25\",\"7069.3\",\"707.5\",\"7074.4\",\"7076.35\",\"708.2\",\"708.8\",\"7082.45\",\"7082.5\",\"7082.85\",\"7085.5\",\"709.5\",\"7099\",\"71\",\"71.1\",\"71.15\",\"71.2\",\"71.25\",\"71.35\",\"71.55\",\"71.65\",\"710.05\",\"7101.5\",\"7104.2\",\"7107\",\"7108.2\",\"711.15\",\"711.9\",\"711.95\",\"7110.75\",\"7111.3\",\"7112.15\",\"7113.75\",\"7114.25\",\"7118.9\",\"712.25\",\"712.75\",\"712.85\",\"7129.45\",\"713\",\"713.1\",\"713.6\",\"713.75\",\"7132.15\",\"7133.1\",\"7133.25\",\"7133.45\",\"7138.65\",\"714.15\",\"7142.5\",\"7149.35\",\"715\",\"7156.2\",\"7159.05\",\"7159.7\",\"716.1\",\"716.4\",\"7168.25\",\"717.3\",\"717.5\",\"717.95\",\"7171.7\",\"7173.15\",\"7176.55\",\"718.1\",\"718.55\",\"7181.25\",\"7181.95\",\"7188.5\",\"7195.35\",\"72\",\"72.1\",\"72.4\",\"720.05\",\"720.1\",\"720.45\",\"7209\",\"7210.85\",\"7213.75\",\"7220.35\",\"7222.75\",\"7227.45\",\"723.3\",\"723.35\",\"723.4\",\"7234.8\",\"7238.6\",\"724.65\",\"7240.65\",\"7244.7\",\"7245.9\",\"7246.15\",\"7250.15\",\"7251.7\",\"7251.9\",\"726.1\",\"7261.25\",\"7261.75\",\"7262\",\"7266.95\",\"727.8\",\"727.85\",\"7279.35\",\"7281.6\",\"7283.25\",\"7285.7\",\"7288.4\",\"729.95\",\"7291.75\",\"7297.75\",\"7299.65\",\"73\",\"73.05\",\"73.1\",\"73.45\",\"73.5\",\"73.55\",\"73.6\",\"73.65\",\"730.1\",\"730.4\",\"7303.05\",\"7308.95\",\"731.3\",\"7317.1\",\"7318.2\",\"732.5\",\"7320.9\",\"7321.05\",\"7322.5\",\"7323.15\",\"7325.1\",\"733.35\",\"733.55\",\"733.95\",\"7332.4\",\"7334.05\",\"7337.55\",\"734.35\",\"734.6\",\"7344.45\",\"7346.2\",\"7348.8\",\"7349.35\",\"735.5\",\"735.9\",\"736.8\",\"7362.9\",\"7365.3\",\"7365.7\",\"7372.65\",\"7379.8\",\"738.2\",\"7382.25\",\"7382.85\",\"7383.7\",\"7386.05\",\"7388.45\",\"739.35\",\"739.9\",\"7396.15\",\"7397\",\"74\",\"74.1\",\"74.2\",\"74.25\",\"74.3\",\"74.35\",\"74.4\",\"74.45\",\"74.5\",\"74.6\",\"74.7\",\"74.9\",\"74.95\",\"740\",\"740.3\",\"740.55\",\"740.8\",\"7405.5\",\"741\",\"741.4\",\"741.5\",\"741.7\",\"7412.25\",\"7413.55\",\"742.9\",\"742.95\",\"7422.1\",\"743.05\",\"743.3\",\"743.5\",\"743.75\",\"7430.75\",\"7432.05\",\"7446.9\",\"7447.7\",\"745.3\",\"7455.45\",\"7459\",\"7459.05\",\"746.05\",\"746.5\",\"746.75\",\"7467.5\",\"7467.55\",\"747.2\",\"7470.1\",\"7472.15\",\"7475.1\",\"7475.85\",\"7482.1\",\"749.25\",\"749.35\",\"7491.75\",\"7493.05\",\"75.05\",\"75.1\",\"75.3\",\"75.35\",\"75.45\",\"75.5\",\"75.55\",\"75.6\",\"75.7\",\"75.75\",\"75.8\",\"75.9\",\"750.1\",\"7508.55\",\"751.65\",\"7511.3\",\"7511.65\",\"7511.9\",\"7517.7\",\"7521.95\",\"7530.8\",\"7532.15\",\"7534.65\",\"7537.5\",\"754\",\"754.5\",\"754.65\",\"7542.25\",\"7544\",\"7544.3\",\"7548.1\",\"7548.6\",\"755.4\",\"755.5\",\"755.6\",\"7550.3\",\"7553.6\",\"7554.05\",\"7555\",\"7556.9\",\"7559.55\",\"756.4\",\"7565.35\",\"7567.2\",\"757.1\",\"757.95\",\"7576.7\",\"7578.05\",\"758.6\",\"7581.5\",\"7589.8\",\"759.35\",\"759.55\",\"76\",\"76.2\",\"76.35\",\"76.4\",\"76.45\",\"76.65\",\"76.95\",\"760.05\",\"7609.75\",\"761.85\",\"761.95\",\"7610.1\",\"7611.55\",\"7611.85\",\"7616\",\"762.1\",\"762.25\",\"762.45\",\"762.5\",\"7623.2\",\"7624.2\",\"7629.85\",\"763.1\",\"7634.25\",\"7634.8\",\"764.55\",\"764.95\",\"765.15\",\"765.45\",\"765.5\",\"7657.4\",\"7658.3\",\"7661.8\",\"7665.8\",\"767.55\",\"767.9\",\"7674.55\",\"7677.4\",\"7679.65\",\"768.05\",\"768.45\",\"7689.8\",\"7689.95\",\"769.1\",\"7690.9\",\"77.15\",\"77.5\",\"77.6\",\"77.75\",\"770.4\",\"770.5\",\"770.6\",\"7707.7\",\"771.95\",\"7711.25\",\"7711.45\",\"7713.55\",\"7714.65\",\"7719.5\",\"772.4\",\"772.85\",\"7723.7\",\"7723.9\",\"7726.35\",\"773.2\",\"773.65\",\"7732.65\",\"7737.55\",\"7746.7\",\"7748.75\",\"775.3\",\"775.6\",\"7751.7\",\"7752.05\",\"7752.3\",\"7758.9\",\"776.25\",\"7767.25\",\"777.3\",\"777.35\",\"7774.05\",\"778.1\",\"7782.85\",\"7789.6\",\"779.2\",\"779.25\",\"7795.95\",\"78.05\",\"78.25\",\"78.3\",\"78.45\",\"78.65\",\"78.8\",\"78.9\",\"78.95\",\"780.1\",\"780.15\",\"780.2\",\"780.25\",\"780.5\",\"780.85\",\"7804.15\",\"7806.5\",\"7806.6\",\"781.25\",\"781.4\",\"7839.85\",\"784.25\",\"784.45\",\"7840.6\",\"7842.3\",\"7843.55\",\"7845.8\",\"7848.5\",\"7849.85\",\"785.75\",\"7852.4\",\"7853.7\",\"7854.15\",\"7854.9\",\"7856\",\"786.3\",\"786.5\",\"7862.25\",\"7869.05\",\"7875\",\"7878.3\",\"788.05\",\"788.35\",\"788.55\",\"788.6\",\"788.8\",\"7880.25\",\"7881.2\",\"7882.25\",\"7882.5\",\"7887.25\",\"789.2\",\"789.55\",\"7895.15\",\"7898.45\",\"79.05\",\"79.1\",\"79.15\",\"79.2\",\"79.25\",\"79.35\",\"79.45\",\"79.5\",\"79.55\",\"79.6\",\"79.65\",\"79.7\",\"79.8\",\"79.9\",\"79.95\",\"790\",\"790.15\",\"790.7\",\"7904.25\",\"791.15\",\"791.7\",\"791.75\",\"7919.8\",\"792.15\",\"7920.7\",\"7922.75\",\"793.55\",\"7930.55\",\"7932.5\",\"7939.25\",\"794.25\",\"7942.15\",\"7943.45\",\"795.15\",\"795.65\",\"7953.25\",\"7962.2\",\"7965.95\",\"7966.9\",\"7968.85\",\"797.1\",\"797.25\",\"798.2\",\"7982.5\",\"7984.15\",\"7985.9\",\"7987.6\",\"799\",\"799.65\",\"7990.05\",\"7993.3\",\"7998.8\",\"80\",\"80.05\",\"80.15\",\"80.2\",\"80.25\",\"80.3\",\"80.35\",\"80.5\",\"80.55\",\"80.8\",\"80.85\",\"80.95\",\"800.3\",\"8003.8\",\"801.3\",\"8012.75\",\"8013.55\",\"8016.6\",\"802.35\",\"8022.85\",\"803.3\",\"8033.1\",\"8035.95\",\"804.25\",\"804.85\",\"8041.65\",\"8046.85\",\"805.1\",\"805.2\",\"8058.55\",\"8058.85\",\"806.95\",\"8061.5\",\"8065.65\",\"8071.05\",\"8075.35\",\"8078.1\",\"808.95\",\"8086.4\",\"809.25\",\"809.75\",\"8093.15\",\"81\",\"81.05\",\"81.1\",\"81.25\",\"81.7\",\"81.95\",\"810.2\",\"810.3\",\"810.45\",\"810.7\",\"810.85\",\"8100.25\",\"8100.55\",\"8109.8\",\"811.65\",\"811.8\",\"812.4\",\"812.5\",\"8124.2\",\"8126.65\",\"8127.6\",\"8129.3\",\"813.3\",\"813.45\",\"813.85\",\"814.75\",\"815.5\",\"815.55\",\"8152.3\",\"816.8\",\"8164.1\",\"8165.1\",\"8166.8\",\"817.95\",\"8175.9\",\"818.05\",\"818.45\",\"8182.75\",\"8182.85\",\"819.4\",\"819.55\",\"819.95\",\"8192.6\",\"8196.4\",\"82.15\",\"82.3\",\"82.7\",\"82.85\",\"82.9\",\"820.5\",\"821.6\",\"8220.4\",\"824.75\",\"824.85\",\"8240.85\",\"8244.3\",\"8248.5\",\"825.1\",\"825.4\",\"825.7\",\"8250\",\"826\",\"826.1\",\"827.05\",\"827.3\",\"827.45\",\"827.7\",\"8277.05\",\"828.05\",\"828.2\",\"828.85\",\"8289.2\",\"829.1\",\"829.3\",\"829.55\",\"8297.5\",\"83.3\",\"83.4\",\"83.75\",\"830.25\",\"830.7\",\"830.8\",\"830.85\",\"8306.05\",\"8308.9\",\"8309.55\",\"831.75\",\"8310.55\",\"8312.4\",\"8312.75\",\"8317.95\",\"832.05\",\"832.3\",\"832.35\",\"833.55\",\"8331.95\",\"8332.15\",\"8333.95\",\"8337.45\",\"834.1\",\"834.15\",\"834.2\",\"834.7\",\"8349.45\",\"8349.7\",\"835.15\",\"835.5\",\"836.35\",\"837.5\",\"837.95\",\"8375.05\",\"838.5\",\"838.7\",\"839.4\",\"839.65\",\"8399.15\",\"84.2\",\"84.3\",\"84.4\",\"84.5\",\"84.6\",\"84.65\",\"84.75\",\"84.8\",\"84.85\",\"840.1\",\"8404.9\",\"8405\",\"842.25\",\"842.9\",\"8424.9\",\"8425.15\",\"8425.3\",\"8436.25\",\"844.45\",\"8443.7\",\"845.25\",\"845.6\",\"8456.75\",\"846\",\"846.8\",\"8468.2\",\"847.25\",\"847.3\",\"847.8\",\"8476.5\",\"8477.6\",\"8477.7\",\"849.1\",\"849.9\",\"8496.7\",\"85\",\"85.05\",\"85.1\",\"85.15\",\"85.45\",\"85.5\",\"85.55\",\"85.7\",\"85.8\",\"851.2\",\"851.75\",\"851.8\",\"852.7\",\"8529.5\",\"853\",\"853.1\",\"854.45\",\"854.8\",\"854.9\",\"8543.25\",\"8547.15\",\"855.1\",\"855.3\",\"856.35\",\"856.5\",\"856.65\",\"8564.75\",\"857.2\",\"857.25\",\"857.75\",\"857.8\",\"858.6\",\"8594.4\",\"86\",\"86.05\",\"86.35\",\"86.6\",\"860.85\",\"861.85\",\"862.4\",\"863.1\",\"864.2\",\"864.55\",\"864.85\",\"865\",\"865.05\",\"865.1\",\"865.55\",\"865.75\",\"865.8\",\"865.85\",\"866.4\",\"866.45\",\"867.1\",\"867.3\",\"8670.1\",\"8672.45\",\"868.1\",\"868.5\",\"8684.8\",\"869.9\",\"87.3\",\"87.9\",\"870.25\",\"871.4\",\"872.65\",\"873.4\",\"874.2\",\"874.8\",\"875.35\",\"875.55\",\"876.15\",\"876.75\",\"877.35\",\"878.35\",\"879.8\",\"88.35\",\"88.8\",\"880.05\",\"880.2\",\"882.55\",\"883.35\",\"886.4\",\"886.7\",\"887.35\",\"888.65\",\"888.75\",\"889\",\"889.9\",\"89.05\",\"89.1\",\"89.15\",\"89.25\",\"89.3\",\"89.35\",\"89.5\",\"89.55\",\"89.75\",\"89.9\",\"890.35\",\"890.5\",\"890.6\",\"892.15\",\"892.65\",\"892.7\",\"893\",\"893.2\",\"893.55\",\"894.3\",\"896.75\",\"896.9\",\"897.75\",\"898.35\",\"899.45\",\"899.8\",\"90.05\",\"90.1\",\"90.35\",\"90.55\",\"90.6\",\"90.75\",\"90.85\",\"900.5\",\"900.9\",\"901.25\",\"902\",\"902.25\",\"903.6\",\"903.7\",\"903.8\",\"905.55\",\"906.85\",\"907.05\",\"908.15\",\"908.55\",\"908.75\",\"909.25\",\"91.1\",\"91.3\",\"91.4\",\"91.45\",\"91.7\",\"910.45\",\"911.6\",\"912\",\"913.3\",\"914\",\"914.3\",\"914.4\",\"914.6\",\"916\",\"916.15\",\"916.75\",\"916.9\",\"917.15\",\"917.45\",\"918.6\",\"918.7\",\"918.75\",\"919.4\",\"92.05\",\"92.25\",\"92.45\",\"92.5\",\"92.65\",\"92.75\",\"920.5\",\"921.3\",\"921.4\",\"921.55\",\"923.1\",\"923.5\",\"923.85\",\"926\",\"926.2\",\"926.25\",\"927.1\",\"927.15\",\"927.35\",\"927.65\",\"928.4\",\"929.2\",\"929.3\",\"929.45\",\"93.3\",\"93.4\",\"93.45\",\"93.55\",\"93.7\",\"93.85\",\"930.05\",\"930.4\",\"930.45\",\"930.9\",\"930.95\",\"931.55\",\"931.75\",\"931.9\",\"933.3\",\"934.1\",\"934.15\",\"934.8\",\"935.9\",\"936.7\",\"936.85\",\"937.1\",\"937.5\",\"937.6\",\"938.65\",\"938.95\",\"939.7\",\"939.8\",\"94\",\"94.15\",\"94.4\",\"94.45\",\"94.5\",\"94.55\",\"94.6\",\"940.35\",\"941\",\"942.95\",\"943\",\"943.1\",\"943.85\",\"944.65\",\"945.7\",\"946.95\",\"947.3\",\"947.4\",\"947.75\",\"948.9\",\"949.8\",\"949.85\",\"95\",\"95.05\",\"95.1\",\"95.45\",\"95.55\",\"95.6\",\"95.65\",\"95.85\",\"950.2\",\"950.75\",\"951.55\",\"952.3\",\"953.45\",\"953.65\",\"954.9\",\"955.15\",\"955.6\",\"955.75\",\"956.65\",\"957.1\",\"958.1\",\"958.15\",\"958.25\",\"958.45\",\"959.9\",\"96.05\",\"96.1\",\"96.45\",\"96.8\",\"96.85\",\"961.4\",\"962.25\",\"962.9\",\"963.95\",\"964.35\",\"964.9\",\"966.25\",\"966.55\",\"967.85\",\"967.9\",\"969.85\",\"97\",\"97.1\",\"97.5\",\"970.4\",\"970.45\",\"970.55\",\"970.85\",\"971.3\",\"973.1\",\"973.25\",\"973.35\",\"973.45\",\"973.55\",\"973.65\",\"973.95\",\"978\",\"978.6\",\"979.05\",\"979.5\",\"98.35\",\"98.5\",\"980.35\",\"981.45\",\"982.95\",\"985.05\",\"987.95\",\"989.05\",\"989.45\",\"99.45\",\"99.6\",\"99.75\",\"99.95\",\"990.3\",\"990.45\",\"990.85\",\"990.9\",\"992.7\",\"993.15\",\"994.55\",\"994.8\",\"995.35\",\"996.45\",\"996.85\",\"996.95\",\"997.65\",\"997.75\",\"998.1\",\"999.45\",\"999.8\",\"999.9\"],\"y\":[0.0,0.0,1.0,0.0,1.0,1.0,0.0,0.0,0.0,0.0,0.0,0.0,0.0,0.0,0.0,0.0,0.0,1.0,0.5,0.0,0.0,1.0,0.0,0.0,0.0,0.0,0.0,0.0,0.0,0.0,0.0,0.0,0.0,0.0,0.0,0.0,1.0,1.0,1.0,0.0,0.0,0.0,0.0,1.0,0.0,0.0,0.0,0.0,0.0,1.0,0.0,0.0,0.0,0.0,0.0,0.0,1.0,0.0,0.0,0.0,0.0,0.0,1.0,0.0,0.0,0.0,0.0,0.0,1.0,0.0,0.0,0.0,0.0,0.0,0.0,0.0,1.0,1.0,0.0,1.0,0.0,0.0,0.0,0.5,1.0,0.0,0.0,0.0,1.0,0.0,0.5,1.0,0.0,1.0,0.0,0.0,0.0,0.0,0.0,0.0,0.0,1.0,1.0,1.0,0.0,0.0,0.0,1.0,0.0,0.0,0.0,0.0,1.0,1.0,1.0,0.0,1.0,0.0,1.0,0.0,1.0,1.0,0.0,1.0,1.0,0.0,0.0,0.0,0.0,1.0,0.0,0.0,1.0,0.0,0.0,0.0,0.0,0.0,0.0,0.0,0.0,0.0,0.0,1.0,0.0,0.0,1.0,0.0,0.0,0.5,0.0,0.0,1.0,0.0,0.0,0.0,1.0,1.0,0.0,1.0,1.0,0.0,0.0,1.0,0.0,0.0,0.0,0.0,0.0,0.0,0.0,0.0,0.0,0.0,0.0,0.0,0.0,0.0,0.0,0.0,0.0,0.0,0.0,0.0,1.0,0.0,0.0,0.0,1.0,1.0,1.0,1.0,0.0,0.0,0.0,0.0,1.0,0.0,0.0,1.0,0.0,0.0,1.0,0.0,1.0,0.0,0.0,0.0,0.0,0.0,0.0,0.0,0.0,0.0,0.0,0.0,1.0,1.0,0.0,0.0,0.0,0.0,1.0,1.0,0.0,0.0,0.0,0.0,0.0,1.0,0.0,1.0,1.0,0.0,0.0,0.0,0.0,0.0,0.0,0.0,0.0,0.0,1.0,1.0,0.0,1.0,0.0,1.0,0.0,1.0,0.0,1.0,1.0,0.0,0.0,0.5,1.0,1.0,0.0,1.0,1.0,1.0,0.0,1.0,0.0,1.0,0.0,0.0,0.5,1.0,0.0,1.0,0.0,0.0,1.0,0.0,1.0,1.0,0.0,1.0,0.0,1.0,0.0,1.0,0.5,1.0,1.0,0.0,0.0,1.0,0.0,0.0,0.0,1.0,0.0,0.0,1.0,0.0,0.0,1.0,0.0,0.0,0.0,0.0,0.0,1.0,0.0,1.0,0.0,0.0,0.0,0.0,0.0,0.5,1.0,0.0,0.0,0.0,0.0,0.0,0.0,0.0,1.0,0.0,0.0,0.5,0.0,0.0,0.0,0.0,0.0,1.0,1.0,0.0,0.0,1.0,0.0,1.0,1.0,0.0,1.0,0.0,0.0,0.0,0.0,0.0,0.0,0.0,0.0,0.0,0.0,0.0,0.0,0.0,1.0,0.0,0.0,0.0,0.0,0.0,1.0,0.0,1.0,0.0,0.0,0.0,0.0,0.0,0.0,0.0,1.0,1.0,0.0,0.0,0.0,0.0,0.0,1.0,0.0,0.0,1.0,0.0,0.0,0.0,0.0,1.0,0.0,0.0,0.0,0.0,1.0,0.0,0.0,1.0,0.0,0.0,0.0,0.0,1.0,0.0,0.0,1.0,0.0,0.0,0.0,0.0,0.0,0.0,0.0,1.0,0.0,0.0,1.0,0.0,0.0,0.0,0.0,0.0,0.0,0.5,0.0,1.0,0.0,0.0,0.0,0.0,0.0,1.0,1.0,0.0,0.0,0.5,1.0,0.0,0.0,1.0,1.0,0.0,0.0,0.0,0.0,1.0,0.0,0.0,0.0,0.0,1.0,0.0,0.0,0.0,0.0,0.0,0.0,0.0,0.0,0.0,0.0,0.0,0.0,0.0,0.0,0.0,0.0,0.0,0.0,1.0,1.0,0.0,0.0,1.0,0.0,1.0,1.0,0.0,1.0,0.0,0.0,0.0,0.0,0.0,0.0,0.0,0.0,0.0,0.0,1.0,0.0,0.0,0.0,0.0,0.0,0.0,0.0,0.0,1.0,0.0,1.0,1.0,0.0,0.0,0.0,0.0,0.0,0.0,0.0,0.0,0.0,0.0,0.0,0.0,0.0,0.0,0.0,0.0,1.0,0.0,0.0,0.3333333333333333,0.0,0.0,0.0,0.0,0.0,0.0,0.0,0.0,0.0,0.0,0.0,0.0,1.0,0.0,0.0,0.0,0.0,0.0,0.0,0.0,0.0,0.0,0.0,0.0,0.0,0.0,0.0,0.0,1.0,0.0,0.0,0.0,0.0,1.0,1.0,0.0,1.0,0.0,0.0,0.0,0.0,0.0,0.0,0.0,0.0,0.0,1.0,1.0,0.0,0.0,1.0,1.0,0.0,0.0,0.0,1.0,0.0,0.0,1.0,0.0,0.0,0.0,0.0,0.0,0.0,1.0,0.0,0.0,0.0,0.0,0.0,0.0,0.0,0.0,0.0,1.0,0.0,0.0,0.0,0.0,0.0,1.0,0.0,0.0,1.0,0.0,0.0,0.0,0.0,0.0,0.0,0.0,0.0,0.0,0.0,0.0,1.0,0.0,0.0,1.0,1.0,0.0,1.0,0.0,0.0,0.0,0.0,0.0,0.0,1.0,0.0,0.0,0.0,0.0,0.0,0.0,0.0,0.0,1.0,0.0,1.0,0.0,0.0,1.0,0.0,0.0,0.0,0.0,0.0,0.0,0.0,1.0,1.0,0.0,0.0,1.0,0.0,0.0,0.0,0.0,0.0,0.0,1.0,0.0,0.0,1.0,0.0,0.0,0.5,1.0,1.0,0.0,0.0,0.0,0.0,0.0,0.0,0.0,0.0,1.0,0.0,0.0,0.0,0.0,1.0,0.0,0.0,0.0,0.0,0.0,1.0,0.0,0.0,0.0,0.0,0.0,1.0,0.0,0.0,0.0,0.0,0.0,0.0,0.0,0.0,0.0,1.0,0.0,0.0,0.0,1.0,0.0,1.0,1.0,0.0,1.0,0.0,0.0,0.0,0.0,0.0,0.0,0.0,0.0,0.0,0.0,0.0,0.0,0.0,0.0,0.0,0.0,0.0,1.0,0.0,0.0,1.0,1.0,0.0,0.0,0.0,0.0,0.0,0.0,0.0,0.0,0.0,0.0,1.0,1.0,0.0,0.0,0.0,0.0,0.0,0.0,0.0,0.0,0.0,0.0,0.0,0.0,0.0,0.0,0.0,0.0,1.0,0.0,0.0,0.0,0.0,0.0,0.0,1.0,0.0,0.0,1.0,1.0,1.0,0.0,0.0,0.0,0.0,0.0,0.0,0.0,1.0,0.0,0.0,1.0,1.0,1.0,0.0,1.0,0.0,0.0,1.0,0.5,0.0,0.0,1.0,0.0,0.0,0.0,0.0,0.0,0.0,0.0,0.0,0.0,0.0,0.5,0.0,1.0,0.0,0.0,0.0,1.0,0.0,0.0,0.0,0.0,0.0,0.0,0.0,0.0,0.0,1.0,0.0,1.0,0.0,0.0,0.0,1.0,1.0,1.0,0.5,1.0,0.0,1.0,1.0,0.0,1.0,0.0,1.0,0.0,0.0,1.0,1.0,0.0,0.0,0.0,1.0,1.0,0.0,0.0,0.0,0.0,0.0,0.5,1.0,0.0,1.0,0.0,0.0,0.0,1.0,0.0,0.0,0.0,0.0,0.0,1.0,1.0,0.0,1.0,0.0,0.0,0.0,0.0,0.0,0.0,1.0,0.0,0.0,1.0,0.0,1.0,0.0,0.0,0.0,0.0,0.0,0.0,0.0,0.0,1.0,0.0,0.0,1.0,0.0,0.0,0.0,0.0,0.0,0.0,0.0,0.0,0.0,0.0,0.0,0.0,0.0,0.0,1.0,1.0,0.0,0.0,0.0,0.0,1.0,0.0,0.0,0.0,0.0,0.0,1.0,1.0,0.0,1.0,0.0,0.0,1.0,0.0,0.0,1.0,0.0,0.0,0.0,0.0,1.0,0.0,1.0,0.0,0.0,1.0,0.0,0.0,0.0,0.0,0.0,0.0,1.0,1.0,1.0,0.0,0.0,1.0,0.0,0.0,0.0,0.0,1.0,1.0,0.0,0.0,1.0,0.0,0.0,0.0,0.0,1.0,0.0,0.0,0.0,0.0,1.0,0.0,1.0,0.0,0.0,0.0,1.0,0.0,0.0,0.0,0.0,0.0,0.5,1.0,1.0,0.0,0.0,0.0,1.0,1.0,1.0,0.0,1.0,0.0,0.0,0.0,0.0,0.0,0.0,0.0,0.0,1.0,1.0,1.0,0.0,1.0,0.0,0.0,0.0,0.0,1.0,0.0,0.0,0.0,0.0,0.0,0.0,0.0,0.0,0.0,1.0,0.0,1.0,0.0,0.0,0.0,1.0,0.0,0.0,1.0,0.0,1.0,0.0,0.0,1.0,0.0,0.0,0.0,1.0,0.0,0.0,1.0,1.0,1.0,0.0,0.0,0.0,0.0,0.0,1.0,0.0,0.0,1.0,1.0,0.0,0.0,0.0,0.0,0.0,1.0,1.0,0.0,0.0,0.0,1.0,0.0,0.0,0.0,0.0,0.0,0.0,1.0,0.0,0.0,0.0,0.0,0.0,1.0,1.0,0.0,0.0,0.0,0.5,0.0,0.0,0.0,0.0,0.0,0.0,1.0,0.0,0.0,1.0,1.0,0.0,0.0,0.0,0.0,0.0,0.0,0.0,0.0,0.0,0.0,0.0,1.0,0.0,1.0,1.0,1.0,0.0,1.0,0.0,0.0,0.0,0.0,0.0,0.0,0.0,0.0,0.0,1.0,1.0,0.0,1.0,1.0,0.0,0.0,0.0,0.0,0.0,0.0,0.0,0.0,0.0,0.0,0.0,0.0,0.0,0.0,1.0,1.0,0.0,0.0,0.0,0.0,0.0,0.0,0.0,0.0,1.0,1.0,0.0,0.0,0.0,0.0,0.0,0.0,1.0,0.0,0.0,0.0,0.0,0.0,1.0,1.0,0.0,0.0,0.0,0.0,0.0,0.0,0.0,0.0,0.0,0.0,0.0,0.0,0.0,1.0,0.0,0.0,1.0,1.0,0.0,0.0,1.0,0.0,1.0,0.0,0.0,0.0,0.0,0.0,1.0,0.0,0.0,0.0,0.0,1.0,0.0,0.0,0.0,0.0,1.0,0.0,0.0,1.0,0.0,1.0,0.0,0.0,0.0,0.0,0.0,0.0,1.0,1.0,0.0,0.0,0.0,0.0,0.0,1.0,0.0,0.0,0.0,0.0,0.0,1.0,0.0,0.0,0.0,0.0,1.0,0.0,0.0,0.0,0.0,0.0,0.5,0.0,0.0,0.0,0.0,0.0,1.0,0.0,0.0,0.0,0.0,1.0,1.0,0.0,0.0,0.0,1.0,1.0,0.0,1.0,0.0,0.0,0.0,0.0,1.0,0.0,0.0,0.0,0.0,0.0,1.0,0.0,0.0,0.0,0.0,0.0,1.0,0.0,0.0,0.0,0.0,0.0,0.0,1.0,1.0,0.0,0.0,0.0,0.0,1.0,0.0,0.0,1.0,1.0,0.0,0.0,1.0,1.0,0.0,1.0,0.0,0.0,1.0,1.0,1.0,0.5,0.0,0.0,0.0,0.0,0.0,0.5,0.0,0.0,0.0,0.0,0.0,0.0,1.0,0.0,0.0,1.0,1.0,0.0,0.0,0.0,0.0,0.0,0.0,0.0,0.0,0.0,0.0,0.0,0.0,0.0,0.0,0.0,0.0,0.5,0.0,1.0,1.0,0.0,0.0,0.0,0.0,0.0,0.0,0.0,0.0,1.0,0.0,1.0,1.0,1.0,0.5,1.0,0.0,0.0,0.0,0.0,0.0,0.0,0.0,0.0,0.0,0.0,0.0,0.0,1.0,0.0,0.0,0.0,0.0,0.0,0.0,0.0,1.0,0.0,0.0,0.0,0.0,1.0,0.0,1.0,0.0,0.0,0.0,0.0,0.0,0.5,0.0,0.5,1.0,0.0,0.0,0.0,0.0,0.0,1.0,0.0,1.0,0.0,0.0,0.0,0.0,0.0,0.0,0.0,1.0,1.0,0.0,0.0,1.0,1.0,0.0,0.0,0.0,0.0,0.0,0.0,0.0,0.0,0.0,0.0,0.0,0.0,1.0,0.0,1.0,0.0,0.0,0.0,0.0,0.0,0.0,0.0,1.0,0.0,0.0,0.0,0.0,0.5,0.0,0.0,0.0,1.0,0.0,0.0,1.0,1.0,0.0,0.0,0.0,0.0,0.0,0.0,0.0,0.0,0.0,1.0,0.0,0.0,1.0,0.0,0.0,0.0,1.0,0.0,1.0,0.0,0.0,0.3333333333333333,0.0,0.0,0.3333333333333333,0.5,0.25,0.5,0.25,0.14285714285714285,1.0,0.25,0.5,0.2222222222222222,0.5,0.25,0.5,0.5,1.0,0.0,0.0,0.0,1.0,0.0,0.0,0.0,0.0,0.0,0.0,0.0,1.0,0.0,1.0,0.0,1.0,1.0,0.0,0.0,0.0,0.0,0.0,1.0,0.0,0.0,1.0,0.0,0.0,0.0,0.0,0.0,0.0,1.0,0.0,0.0,1.0,1.0,0.0,0.0,1.0,0.0,1.0,0.0,0.0,0.0,0.0,0.0,0.0,0.0,0.0,0.0,0.0,1.0,0.0,0.0,0.0,1.0,1.0,0.0,1.0,0.0,0.0,0.0,0.0,0.0,0.0,0.0,0.0,1.0,0.0,0.0,0.5,0.5,1.0,0.0,0.0,0.0,0.0,1.0,1.0,0.0,0.0,0.0,1.0,1.0,0.0,0.0,1.0,0.0,0.0,0.0,0.0,0.0,0.0,0.0,0.0,0.0,0.0,0.0,0.0,0.0,0.0,0.0,0.0,0.0,0.0,0.0,0.0,0.0,1.0,1.0,0.3333333333333333,0.25,1.0,0.6666666666666666,0.5454545454545454,0.3333333333333333,0.2,0.0,0.25,0.0,0.75,0.6666666666666666,0.5,0.0,0.0,0.0,0.0,1.0,0.6666666666666666,0.5,0.0,0.0,0.0,1.0,0.0,0.0,0.0,0.0,0.0,1.0,1.0,0.0,0.0,1.0,0.0,1.0,1.0,1.0,0.0,0.0,0.0,0.0,0.0,0.0,0.0,0.0,0.0,0.0,0.0,0.0,0.0,0.0,0.0,0.0,0.0,0.0,0.0,1.0,0.0,0.0,0.0,0.0,0.0,0.0,0.0,0.0,0.0,1.0,0.0,1.0,0.0,0.0,0.0,0.0,0.0,1.0,0.0,0.0,0.0,0.0,1.0,0.0,0.0,0.0,0.0,0.0,1.0,0.0,0.0,0.0,1.0,0.0,0.0,0.0,0.0,1.0,0.0,0.0,0.0,0.0,0.0,0.0,1.0,1.0,0.0,1.0,0.0,0.0,0.0,0.0,1.0,1.0,1.0,0.0,0.0,0.0,0.0,0.0,0.0,0.0,1.0,0.0,1.0,0.0,0.0,1.0,0.0,1.0,0.5,0.0,0.0,0.0,0.0,1.0,0.0,1.0,0.0,1.0,0.0,0.0,1.0,0.0,0.0,1.0,1.0,0.0,0.0,0.0,0.0,1.0,0.0,0.0,1.0,0.0,0.0,0.5,0.0,1.0,0.0,0.0,1.0,0.0,1.0,0.0,0.0,0.0,0.0,1.0,0.0,0.0,1.0,1.0,0.0,1.0,0.0,0.0,0.0,1.0,1.0,0.0,0.0,0.0,1.0,1.0,0.0,1.0,1.0,0.0,0.0,0.5,0.0,0.0,1.0,0.0,0.0,1.0,0.0,1.0,0.0,0.0,1.0,0.0,0.0,1.0,0.0,0.0,0.0,0.0,0.0,0.0,1.0,0.0,0.0,0.0,0.0,0.0,1.0,0.0,0.0,0.0,1.0,0.0,0.0,0.0,1.0,1.0,0.0,0.0,0.0,1.0,0.0,0.0,0.0,0.0,0.0,0.0,0.0,1.0,1.0,1.0,0.0,0.0,0.0,0.0,0.0,0.0,0.0,1.0,1.0,0.0,0.0,0.0,0.0,1.0,0.0,0.5,1.0,0.0,0.0,0.0,0.0,1.0,0.0,0.0,0.0,0.0,1.0,0.0,1.0,1.0,0.0,0.0,0.0,0.0,0.0,0.0,0.0,1.0,0.0,1.0,0.0,0.0,0.0,1.0,1.0,1.0,0.0,0.0,0.0,1.0,0.0,0.0,0.0,0.0,0.0,1.0,0.0,0.0,1.0,0.0,0.0,0.0,0.0,0.0,1.0,1.0,0.0,0.0,1.0,1.0,0.0,1.0,1.0,0.0,0.0,0.0,1.0,0.0,0.0,0.0,1.0,0.0,0.0,0.0,1.0,1.0,1.0,0.0,1.0,0.0,1.0,0.0,0.0,0.0,1.0,0.0,0.0,1.0,0.0,0.0,0.0,1.0,0.0,0.0,0.0,0.0,0.6666666666666666,1.0,0.0,0.0,0.0,0.0,0.0,0.0,0.0,0.0,0.0,1.0,0.0,1.0,0.0,1.0,0.0,0.0,1.0,0.0,0.0,0.0,0.0,0.0,0.0,1.0,0.0,0.0,1.0,0.0,0.0,1.0,0.0,0.0,0.0,0.0,1.0,0.0,1.0,0.0,0.0,0.0,1.0,1.0,0.0,0.0,1.0,1.0,0.0,1.0,1.0,1.0,0.0,0.0,0.0,1.0,0.0,0.0,0.0,1.0,1.0,0.0,1.0,0.0,0.0,0.0,0.0,1.0,0.0,1.0,0.0,1.0,0.0,0.0,0.0,1.0,0.0,0.0,0.0,1.0,0.0,0.0,0.0,0.0,1.0,0.0,1.0,0.0,1.0,1.0,0.0,1.0,1.0,0.0,1.0,0.0,0.0,0.5,0.0,1.0,0.0,1.0,0.0,0.0,0.0,0.0,0.0,1.0,1.0,0.0,0.0,1.0,1.0,0.0,1.0,1.0,0.0,0.0,0.0,0.0,0.0,0.0,0.0,0.0,0.0,0.0,0.0,1.0,0.0,0.0,1.0,0.0,1.0,0.0,0.0,0.0,1.0,0.0,0.0,0.0,1.0,0.0,0.0,0.0,0.0,0.0,1.0,0.0,1.0,0.0,1.0,1.0,0.0,0.0,0.0,0.0,0.5,1.0,0.0,0.0,1.0,0.0,0.0,0.0,0.0,1.0,1.0,0.0,1.0,1.0,0.0,0.0,0.0,0.0,0.0,0.0,0.0,1.0,1.0,1.0,0.0,0.0,0.0,0.0,1.0,0.0,0.0,0.0,0.0,0.0,1.0,0.5,1.0,1.0,1.0,0.0,1.0,1.0,0.5,1.0,0.3333333333333333,1.0,0.0,0.0,0.5,0.0,1.0,0.0,1.0,0.0,0.0,0.0,0.0,0.0,0.0,0.0,1.0,1.0,0.0,0.0,0.0,0.0,0.0,1.0,1.0,0.0,0.0,0.0,0.0,1.0,0.0,0.0,0.0,1.0,0.0,0.0,0.0,0.0,0.0,0.0,0.0,0.0,0.0,1.0,1.0,0.0,0.0,0.0,0.0,0.0,0.0,1.0,0.0,0.0,0.0,0.0,1.0,0.0,0.0,0.0,0.0,0.0,1.0,1.0,0.5,0.0,0.0,1.0,0.0,0.0,1.0,0.0,1.0,0.0,1.0,0.0,0.0,0.0,1.0,0.0,1.0,0.0,0.0,0.0,1.0,0.0,1.0,0.0,0.0,0.0,1.0,0.0,0.0,1.0,1.0,1.0,0.0,0.0,1.0,0.5,1.0,0.0,0.0,0.0,0.0,0.0,1.0,0.0,0.0,0.0,0.0,0.0,0.0,0.0,0.0,0.5,0.0,0.0,0.0,1.0,0.0,1.0,0.0,0.0,0.0,1.0,0.0,0.0,0.0,0.0,0.0,0.0,1.0,0.0,0.0,0.5,1.0,0.0,1.0,0.0,0.0,1.0,0.0,1.0,0.0,0.0,0.0,0.0,0.5,1.0,0.0,1.0,0.0,1.0,0.0,0.0,0.0,0.0,1.0,0.0,0.0,0.0,1.0,0.0,1.0,0.5,0.0,0.0,0.0,0.0,0.0,0.5,1.0,1.0,0.0,0.0,0.0,1.0,0.0,0.0,0.0,0.0,0.0,0.0,0.0,0.0,0.0,0.0,0.0,0.0,0.0,0.0,1.0,1.0,0.0,0.0,0.0,0.0,1.0,1.0,1.0,0.0,1.0,0.0,1.0,1.0,0.0,0.0,1.0,1.0,0.0,0.0,0.0,0.0,0.0,0.0,0.0,1.0,0.0,0.0,1.0,1.0,0.0,0.0,0.0,1.0,0.0,0.0,0.0,0.0,0.0,0.0,1.0,1.0,0.0,0.0,0.0,0.0,0.0,0.0,0.0,0.0,1.0,1.0,1.0,1.0,0.0,0.0,0.0,0.0,0.0,0.0,0.0,0.0,0.0,0.0,0.0,0.0,0.0,1.0,0.0,0.0,0.0,1.0,0.0,0.0,1.0,0.0,1.0,0.0,0.0,0.0,0.0,0.0,1.0,0.0,0.0,0.0,0.5,0.0,1.0,1.0,0.0,0.0,0.0,1.0,1.0,0.0,0.0,1.0,0.0,0.0,0.0,0.0,0.0,0.0,0.0,0.0,0.0,1.0,0.0,1.0,0.0,0.0,0.0,0.0,1.0,0.0,0.0,1.0,0.0,0.0,0.0,1.0,0.0,0.0,0.0,0.0,0.0,1.0,1.0,1.0,1.0,1.0,1.0,1.0,0.0,0.0,1.0,0.0,0.0,0.0,0.0,0.0,0.0,0.0,1.0,0.0,0.0,0.0,0.0,1.0,1.0,1.0,0.0,0.0,1.0,0.0,0.0,0.0,0.0,0.0,1.0,0.0,0.0,1.0,0.0,0.0,0.0,0.0,0.0,0.0,1.0,0.0,1.0,1.0,0.0,0.0,1.0,0.0,0.0,0.0,1.0,1.0,0.0,0.0,0.0,0.0,0.0,1.0,1.0,0.0,1.0,1.0,0.0,1.0,0.0,0.0,0.0,0.0,0.5,0.0,0.0,0.0,0.0,0.0,0.0,0.0,1.0,1.0,0.0,0.0,1.0,0.0,0.0,0.0,0.0,0.0,0.0,0.0,0.0,0.0,1.0,1.0,0.0,0.0,0.0,0.0,0.0,0.0,1.0,0.0,0.0,1.0,1.0,1.0,0.0,0.0,1.0,0.0,0.0,0.0,1.0,0.0,0.0,1.0,0.0,1.0,0.0,0.0,1.0,1.0,0.0,0.0,0.0,1.0,0.0,1.0,0.0,1.0,0.0,0.0,0.0,0.0,0.0,1.0,0.0,0.0,0.0,1.0,1.0,0.0,1.0,0.0,1.0,1.0,0.0,0.0,0.0,0.0,1.0,0.0,0.0,1.0,0.0,0.0,0.0,0.0,0.0,1.0,0.0,1.0,1.0,0.0,1.0,0.0,0.0,1.0,0.0,0.0,0.0,0.0,0.0,0.0,1.0,1.0,1.0,0.0,1.0,0.6666666666666666,1.0,1.0,0.0,0.0,0.0,0.0,1.0,0.0,1.0,0.0,1.0,1.0,0.0,0.0,0.0,1.0,0.0,0.0,1.0,0.0,0.0,1.0,1.0,0.0,0.0,0.0,0.0,0.0,0.0,0.0,1.0,0.0,0.0,0.0,0.0,0.0,0.0,0.0,1.0,0.0,0.0,0.0,0.0,0.0,0.0,1.0,1.0,0.0,0.0,0.0,1.0,0.0,0.0,0.0,1.0,0.0,0.0,0.0,0.0,0.0,0.0,0.0,0.0,1.0,0.0,0.0,0.0,0.0,0.0,0.0,0.0,0.0,0.0,0.5,0.0,0.0,0.0,0.0,0.0,0.0,0.0,0.0,0.0,0.0,0.0,1.0,1.0,1.0,0.0,0.0,0.5,1.0,0.0,0.0,0.0,0.0,0.0,0.0,0.0,0.0,0.0,1.0,0.0,1.0,0.0,0.0,0.0,0.0,0.0,1.0,0.0,1.0,0.0,0.0,1.0,1.0,1.0,1.0,1.0,0.0,1.0,0.0,0.0,0.0,0.0,0.0,1.0,0.0,0.0,0.0,0.0,1.0,0.0,1.0,0.0,1.0,0.0,0.0,0.0,1.0,0.0,1.0,1.0,0.0,0.0,0.0,0.0,1.0,0.0,0.0,0.0,0.0,0.0,1.0,1.0,0.0,1.0,0.0,0.0,1.0,1.0,0.0,0.0,0.0,0.0,0.0,1.0,1.0,1.0,0.0,0.0,1.0,0.0,0.0,0.0,0.0,1.0,0.0,0.0,0.0,0.0,0.0,0.0,0.0,0.0,0.0,0.0,0.0,1.0,1.0,0.0,1.0,0.0,1.0,0.0,1.0,0.0,0.0,0.0,0.0,1.0,0.0,0.0,0.0,0.0,1.0,1.0,0.0,0.0,1.0,0.0,0.0,1.0,1.0,0.0,0.0,0.0,0.0,1.0,0.0,1.0,1.0,0.0,0.0,0.0,1.0,0.0,0.0,0.0,1.0,0.0,0.0,0.0,0.0,0.0,1.0,0.0,1.0,1.0,0.0,0.0,0.0,0.0,0.0,1.0,1.0,0.0,0.0,0.0,0.0,0.0,0.0,0.0,0.0,0.0,0.0,0.0,0.0,1.0,0.0,0.0,0.0,0.0,0.0,0.0,1.0,0.0,0.0,0.0,1.0,0.0,0.0,0.0,0.0,0.0,0.0,0.0,0.0,0.0,0.0,0.0,1.0,1.0,0.0,1.0,0.0,0.0,1.0,0.0,0.0,1.0,0.0,0.0,1.0,0.0,0.0,0.5,0.0,0.0,1.0,0.0,1.0,0.0,0.0,0.0,0.0,0.0,0.0,0.0,0.0,0.0,0.0,0.0,1.0,0.0,0.0,0.0,0.0,0.0,1.0,0.0,1.0,0.0,1.0,0.0,0.0,0.0,0.0,0.0,0.0,0.0,0.0,1.0,0.0,0.0,0.0,0.0,0.0,0.0,1.0,1.0,1.0,0.0,0.0,0.0,0.0,0.0,0.0,1.0,1.0,1.0,0.5,0.0,0.0,0.0,1.0,1.0,0.0,1.0,1.0,0.0,0.0,0.0,0.0,0.0,1.0,0.0,0.0,0.0,0.0,0.0,0.0,1.0,0.0,0.0,0.5,0.0,1.0,0.0,1.0,1.0,1.0,1.0,1.0,0.6666666666666666,0.0,1.0,0.0,0.0,0.0,0.0,0.0,0.0,0.0,0.0,0.0,0.0,1.0,0.0,0.0,1.0,0.0,0.0,0.0,0.0,1.0,0.0,0.0,0.0,0.0,0.0,0.0,0.0,1.0,0.0,0.0,1.0,0.0,0.0,0.0,1.0,0.0,1.0,0.0,1.0,0.0,0.0,0.0,0.0,0.0,0.0,0.0,0.0,0.0,1.0,0.0,0.0,0.0,0.0,0.0,0.0,0.0,1.0,0.0,0.0,0.0,0.0,0.0,0.0,1.0,0.0,0.0,0.0,0.0,1.0,1.0,0.0,0.0,0.0,0.0,0.0,1.0,1.0,0.0,1.0,0.0,0.0,0.0,0.0,1.0,0.0,0.0,1.0,0.0,0.0,0.0,1.0,0.0,0.0,1.0,0.0,0.0,1.0,0.0,0.0,0.0,0.0,0.0,0.0,0.0,0.0,1.0,1.0,0.0,0.0,0.0,0.0,0.0,0.0,0.0,1.0,1.0,1.0,1.0,0.0,0.0,0.0,1.0,1.0,0.0,0.0,0.0,0.0,0.0,0.0,0.0,0.0,0.0,1.0,1.0,0.0,0.0,0.0,0.0,0.0,0.0,0.0,0.0,0.0,0.0,0.0,0.0,0.0,0.0,1.0,0.0,0.0,0.0,0.0,0.0,0.0,1.0,0.0,1.0,0.0,0.0,0.0,0.0,1.0,1.0,0.0,1.0,0.5,0.0,0.0,0.0,0.0,0.0,0.0,0.0,0.0,0.0,1.0,0.0,0.0,0.0,1.0,0.0,0.0,1.0,0.0,0.0,0.0,1.0,0.0,0.0,1.0,1.0,0.0,0.0,0.0,0.0,0.0,0.0,0.0,0.0,0.0,0.0,0.0,1.0,0.0,0.0,0.0,0.0,1.0,0.0,0.0,0.0,0.0,0.0,0.0,0.0,0.0,0.0,0.0,0.0,1.0,0.0,0.0,0.0,0.0,1.0,0.0,0.0,0.0,1.0,0.0,0.0,0.0,0.0,0.0,0.0,0.0,1.0,0.0,0.0,0.0,0.0,0.0,0.0,0.0,0.0,0.0,0.0,0.0,1.0,0.0,0.0,0.0,0.0,0.0,0.0,0.0,1.0,0.0,1.0,0.0,1.0,0.0,0.0,0.0,0.0,1.0,0.0,0.0,1.0,0.0,0.0,0.0,0.0,0.0,0.0,0.0,0.0,0.0,0.0,0.0,0.0,0.0,0.0,0.0,0.0,0.0,0.0,0.0,0.0,0.0,1.0,0.0,1.0,0.0,0.0,0.0,0.0,0.0,0.0,0.0,0.0,1.0,0.0,0.0,0.0,1.0,0.0,0.0,0.0,0.0,0.0,1.0,1.0,0.0,0.0,0.0,0.0,0.0,0.0,0.0,0.0,0.0,0.0,0.0,0.0,0.0,1.0,0.0,0.0,1.0,0.0,0.0,0.0,0.0,0.0,0.0,0.0,0.0,0.0,0.0,0.0,0.0,0.0,0.0,0.0,0.0,0.0,1.0,1.0,1.0,0.0,0.0,1.0,1.0,0.0,0.0,0.0,0.0,0.0,0.0,0.0,0.0,0.0,0.0,0.0,0.0,0.0,0.0,1.0,0.0,0.0,0.0,1.0,0.0,1.0,1.0,0.0,0.0,0.0,0.0,0.0,0.0,0.0,1.0,0.0,0.0,0.0,0.0,0.0,0.0,0.0,0.0,0.0,0.0,0.0,1.0,0.0,0.0,0.0,0.0,0.0,0.5,0.0,0.0,0.0,0.0,1.0,1.0,0.0,1.0,0.0,1.0,0.0,0.0,0.0,1.0,0.0,0.0,0.0,0.0,1.0,1.0,0.0,0.0,0.0,0.0,0.0,0.0,1.0,1.0,0.0,0.0,0.0,0.0,0.0,1.0,0.0,1.0,0.0,0.0,0.0,0.0,0.0,0.0,0.0,0.0,0.0,1.0,0.0,1.0,1.0,0.0,0.0,0.0,0.5,0.0,0.0,0.0,0.0,0.0,0.0,0.0,0.0,0.0,0.0,0.0,1.0,0.0,0.0,1.0,0.0,0.0,0.0,1.0,1.0,0.0,0.0,0.0,0.0,0.0,0.0,0.0,0.0,0.0,1.0,0.0,1.0,0.0,0.0,1.0,0.0,0.0,0.0,1.0,0.0,0.0,0.0,0.0,0.0,0.0,0.0,0.0,0.0,1.0,0.0,1.0,0.0,0.0,1.0,0.0,1.0,0.0,1.0,0.0,0.0,0.0,0.0,1.0,0.0,0.5,0.0,0.0,0.0,0.0,0.0,0.0,0.0,0.0,0.0,0.0,0.0,0.0,0.0,0.0,0.0,1.0,1.0,1.0,1.0,0.0,0.0,0.0,0.0,0.0,0.0,0.0,0.0,0.0,0.0,0.0,0.0,0.5,1.0,0.0,0.0,0.0,1.0,1.0,0.0,0.0,0.0,0.0,0.0,0.0,0.0,0.0,0.0,0.0,0.0,0.0,0.0,0.0,0.0,0.0,0.0,0.0,0.0,1.0,1.0,0.0,0.0,1.0,0.0,0.0,1.0,0.0,0.0,1.0,1.0,0.0,0.0,0.0,0.0,0.0,0.0,0.0,0.0,0.0,0.0,0.0,1.0,0.0,0.0,0.0,0.0,0.0,0.0,1.0,0.0,0.0,0.0,0.0,0.0,0.0,0.0,0.0,0.0,0.0,0.0,1.0,0.0,0.0,0.5,0.0,0.0,0.0,0.0,0.0,0.0,0.0,0.0,1.0,0.0,0.0,0.0,0.0,0.0,0.0,0.0,0.0,1.0,0.0,0.0,0.0,0.0,0.0,0.0,0.0,0.0,1.0,1.0,0.5,0.0,0.0,1.0,0.0,1.0,0.0,0.0,1.0,0.0,1.0,0.0,0.0,0.0,0.0,0.0,0.0,1.0,1.0,0.0,0.0,0.5,0.0,0.0,0.0,0.0,0.0,0.0,1.0,0.0,1.0,1.0,0.0,0.0,0.0,1.0,0.0,0.0,0.0,0.0,0.0,0.0,1.0,1.0,0.0,0.0,1.0,0.5,0.0,0.0,1.0,0.75,0.5,0.0,0.0,1.0,1.0,0.0,0.0,0.5,0.0,0.0,1.0,0.0,1.0,0.0,1.0,0.0,0.0,1.0,0.0,0.0,1.0,0.0,0.0,1.0,0.0,0.0,0.0,0.0,1.0,0.0,0.0,0.0,0.0,0.0,0.0,0.0,0.0,0.0,0.0,0.0,0.0,0.0,1.0,0.0,0.0,1.0,1.0,0.0,0.0,0.0,0.0,0.0,0.0,0.0,0.0,0.0,0.0,0.0,0.0,1.0,0.0,0.0,0.0,0.0,1.0,0.0,0.0,0.0,0.0,1.0,1.0,0.5,0.0,0.0,0.7142857142857143,0.0,0.5,0.0,0.5,1.0,1.0,0.5,0.5,0.6666666666666666,1.0,0.0,0.0,1.0,0.0,1.0,0.0,0.0,0.0,0.0,1.0,0.0,0.0,1.0,0.0,1.0,1.0,0.0,0.0,0.0,0.0,1.0,0.0,0.0,0.0,0.0,0.0,0.0,1.0,0.5,1.0,1.0,0.0,1.0,1.0,0.0,1.0,0.0,0.0,0.0,0.0,0.0,1.0,0.0,1.0,0.0,0.0,0.0,0.0,0.0,1.0,0.0,0.0,1.0,1.0,0.0,0.0,0.0,0.0,0.0,0.0,0.0,0.0,0.0,0.0,0.0,0.0,0.0,0.0,0.0,0.0,0.0,0.0,0.0,0.0,0.0,1.0,0.0,1.0,1.0,0.5,0.0,0.0,0.0,0.5,1.0,0.0,0.0,1.0,0.0,0.0,0.0,0.0,0.0,0.0,0.0,1.0,0.0,0.0,0.0,1.0,1.0,0.0,0.0,0.0,0.0,0.0,0.0,1.0,0.0,0.0,0.0,0.0,0.0,1.0,0.0,0.0,0.0,0.0,0.0,0.0,0.0,0.0,0.0,0.0,1.0,0.0,0.0,0.0,0.0,0.0,0.0,0.0,0.0,0.0,1.0,0.0,0.0,0.0,1.0,0.0,0.0,1.0,0.0,0.0,1.0,0.0,0.0,0.0,0.0,0.0,0.0,1.0,0.0,0.0,0.0,0.0,0.5,1.0,0.0,0.0,0.0,0.0,0.0,0.0,0.0,1.0,0.0,0.0,0.0,0.0,0.0,0.0,0.0,0.0,0.0,0.0,0.0,0.0,0.0,0.0,0.0,1.0,1.0,1.0,0.0,0.0,0.0,0.0,0.0,0.0,0.0,0.0,1.0,0.0,0.0,0.0,0.0,0.0,1.0,0.0,0.0,0.0,0.0,1.0,1.0,0.0,0.0,0.0,0.0,0.0,0.5,0.0,1.0,0.0,0.0,0.0,1.0,0.0,0.0,0.0,0.0,0.0,0.0,0.0,1.0,0.5,0.0,1.0,1.0,1.0,0.0,0.0,0.0,0.0,0.0,0.0,0.0,0.0,0.0,0.0,1.0,1.0,0.0,0.0,0.0,0.5,1.0,0.0,1.0,0.0,0.0,0.0,0.0,1.0,1.0,0.0,1.0,0.0,0.0,0.0,0.0,0.0,0.0,0.0,0.0,0.0,1.0,0.0,0.0,0.0,0.0,0.0,0.0,0.0,0.0,1.0,0.0,0.0,0.0,0.0,0.0,1.0,0.0,0.0,0.0,0.0,0.0,0.0,1.0,0.0,0.0,0.0,1.0,1.0,1.0,0.0,0.0,0.0,0.0,0.0,0.0,1.0,0.0,0.0,1.0,0.0,0.0,0.0,0.0,0.0,0.0,1.0,0.0,0.0,0.5,0.5,0.0,0.0,0.0,0.0,0.25,0.5,0.0,0.0,0.0,0.0,0.0,0.0,0.0,0.0,0.0,0.0,0.0,0.0,0.0,1.0,0.0,0.0,0.0,0.0,0.0,0.0,0.0,0.0,0.0,0.0,1.0,0.0,0.0,0.0,0.0,0.0,0.0,0.0,0.0,0.0,0.0,0.0,0.0,0.5,0.0,0.0,1.0,0.0,0.0,0.0,0.0,0.0,0.0,0.0,0.0,0.0,1.0,0.0,0.0,0.0,0.0,0.0,1.0,0.0,0.0,0.0,0.0,0.0,0.5,0.0,0.0,0.0,0.0,0.0,0.0,0.0,1.0,0.0,0.0,0.0,0.0,0.0,0.5,0.25,1.0,1.0,1.0,1.0,0.3333333333333333,1.0,0.0,0.3333333333333333,1.0,1.0,0.0,0.0,1.0,1.0,0.0,0.0,0.0,0.0,0.0,0.0,0.0,0.0,0.0,1.0,1.0,1.0,0.0,0.0,0.0,0.0,0.0,1.0,0.0,1.0,0.0,0.0,0.0,0.0,1.0,0.0,1.0,0.0,0.0,0.0,0.0,0.0,0.0,0.0,0.0,0.0,0.0,0.0,0.0,1.0,0.0,0.0,0.0,0.0,0.0,0.0,1.0,0.0,0.0,0.0,1.0,0.0,0.0,1.0,0.0,1.0,0.0,0.0,0.0,1.0,0.0,0.5,0.0,0.0,0.0,0.5,0.0,1.0,0.0,1.0,1.0,0.0,1.0,1.0,0.0,0.0,1.0,0.0,0.0,0.0,0.0,0.0,0.0,1.0,0.0,0.0,1.0,0.0,0.0,0.0,0.0,0.0,1.0,0.0,0.0,0.0,0.0,0.0,0.0,0.0,0.0,0.0,0.0,0.0,1.0,0.0,0.0,1.0,0.0,0.0,0.0,0.0,0.0,0.0,1.0,1.0,0.0,0.0,0.0,0.0,0.0,0.0,1.0,1.0,0.0,0.0,0.0,0.0,0.0,0.0,0.0,0.0,0.5,0.0,0.0,1.0,0.0,0.0,0.0,0.0,0.0,1.0,1.0,0.0,0.0,0.0,0.0,0.0,0.0,0.0,1.0,0.0,0.0,0.0,0.0,0.0,0.0,0.0,0.0,1.0,1.0,0.0,0.0,0.0,1.0,0.0,0.0,0.0,0.0,0.0,1.0,0.0,1.0,0.0,1.0,1.0,0.0,1.0,0.0,0.0,0.5,0.0,0.0,1.0,1.0,1.0,0.0,0.0,0.0,0.0,0.0,1.0,0.5,1.0,0.0,0.0,0.0,0.0,0.0,1.0,0.0,0.0,0.0,0.0,0.0,0.0,0.0,0.0,0.0,0.0,0.0,0.0,0.0,0.0,0.0,0.0,0.0,0.0,0.0,0.0,0.0,1.0,0.0,0.0,0.0,0.0,0.0,1.0,0.0,0.0,1.0,0.0,0.0,0.0,1.0,0.0,0.0,0.0,0.0,0.0,0.0,0.0,1.0,0.0,0.0,0.0,1.0,0.0,0.0,0.0,1.0,1.0,0.0,0.0,0.0,0.0,0.0,1.0,0.0,1.0,0.0,0.0,0.0,0.0,0.0,1.0,1.0,0.0,0.0,0.0,0.0,0.0,0.0,0.0,0.0,1.0,0.0,0.0,0.0,1.0,0.0,1.0,1.0,0.0,0.0,0.0,0.0,1.0,1.0,0.0,1.0,0.0,0.0,0.0,0.0,1.0,0.0,0.0,1.0,0.0,0.0,1.0,0.0,0.0,0.0,0.0,0.0,0.0,0.0,0.0,0.0,1.0,0.0,0.0,0.0,0.0,0.0,1.0,0.0,1.0,0.0,0.0,1.0,0.0,0.0,0.3333333333333333,1.0,0.0,0.0,0.0,0.0,0.0,1.0,1.0,0.0,1.0,0.0,1.0,0.0,0.0,0.0,0.0,0.0,0.0,0.0,0.0,1.0,0.0,0.0,0.0,0.5,0.0,0.0,0.0,0.0,0.0,0.0,0.0,0.0,0.0,1.0,0.0,0.0,1.0,0.0,0.0,0.0,0.0,1.0,0.0,0.0,0.0,0.0,0.0,0.0,1.0,0.0,1.0,0.0,0.0,0.0,0.0,0.0,0.0,0.0,0.0,0.0,0.0,0.0,0.0,0.0,0.0,0.0,0.0,1.0,1.0,1.0,1.0,0.0,0.0,0.0,0.0,0.0,0.0,0.0,1.0,1.0,0.0,0.0,1.0,1.0,0.0,0.0,0.0,0.0,0.0,0.0,1.0,0.0,0.0,0.0,0.0,0.0,1.0,0.0,0.0,1.0,1.0,0.0,0.0,0.0,1.0,0.0,0.0,0.0,0.0,0.0,0.0,0.0,0.0,0.0,0.0,0.0,0.0,1.0,0.0,0.0,0.0,0.0,0.0,0.0,0.0,0.0,0.0,0.0,1.0,0.0,1.0,0.0,0.0,0.0,0.0,0.0,0.0,0.0,0.0,0.0,0.0,0.0,0.0,0.0,0.0,0.0,0.0,0.0,0.0,0.0,0.0,0.0,0.0,0.0,0.0,0.0,0.0,0.0,0.0,0.0,0.0,0.0,1.0,1.0,0.0,0.0,0.0,0.0,0.0,0.0,0.0,0.0,0.0,1.0,1.0,0.0,0.0,1.0,0.0,0.0,1.0,0.0,0.0,0.0,0.0,0.5,0.0,0.0,0.0,0.0,0.0,1.0,0.0,1.0,1.0,0.0,1.0,0.0,0.0,0.0,0.0,0.0,0.0,1.0,0.0,0.0,0.0,0.0,0.0,0.0,1.0,0.0,0.0,1.0,0.0,1.0,1.0,0.0,0.0,0.0,0.0,0.0,0.0,0.0,0.0,1.0,0.0,0.0,0.0,0.0,1.0,0.0,0.0,0.0,0.0,0.0,0.0,1.0,0.0,0.0,0.0,0.0,0.0,0.0,0.0,0.0,0.0,1.0,1.0,0.0,0.0,0.0,0.0,0.5,0.0,0.0,0.0,0.0,0.0,0.0,0.0,1.0,0.0,0.0,0.0,1.0,0.0,0.0,0.0,0.0,0.0,0.0,0.0,1.0,1.0,0.0,0.0,1.0,1.0,0.0,0.0,0.0,0.0,1.0,0.0,0.0,1.0,0.0,0.0,0.0,1.0,0.0,0.0,0.0,0.0,0.0,1.0,1.0,0.0,0.0,0.0,0.0,0.0,0.0,1.0,0.0,0.0,0.0,0.0,0.0,0.0,0.0,0.0,0.0,0.0,0.0,0.0,1.0,0.0,0.0,0.0,0.0,0.0,0.0,1.0,0.0,0.0,0.0,0.0,0.0,0.0,0.0,0.0,0.0,0.0,0.0,0.0,0.0,0.0,0.0,0.0,0.0,1.0,1.0,1.0,0.0,1.0,0.0,0.0,0.0,0.0,0.0,0.0,0.0,0.0,1.0,1.0,1.0,0.0,0.0,0.0,1.0,0.0,0.0,0.0,0.0,0.0,0.0,0.0,0.0,0.0,1.0,1.0,0.0,0.0,0.0,0.0,0.0,0.0,0.0,0.0,0.0,0.0,1.0,0.0,0.0,1.0,1.0,0.0,0.0,0.0,0.0,0.0,0.0,0.0,0.0,0.0,0.0,0.0,1.0,0.0,0.0,1.0,0.0,0.0,0.0,0.0,0.0,1.0,0.0,0.0,0.0,0.0,0.0,0.0,0.0,0.0,0.0,0.0,0.0,0.0,0.0,0.0,0.0,1.0,0.0,0.0,0.0,0.0,1.0,0.0,0.0,1.0,0.0,0.0,1.0,0.0,0.0,0.0,0.0,1.0,0.0,0.0,0.0,0.0,1.0,1.0,0.0,1.0,0.0,0.0,0.0,0.0,0.0,0.0,0.0,0.0,0.0,0.0,0.0,0.0,0.0,0.0,0.0,0.0,0.0,0.0,0.0,0.0,0.0,0.0,0.0,1.0,1.0,0.0,0.0,1.0,0.5,0.0,0.0,1.0,1.0,0.0,1.0,1.0,0.0,0.0,0.0,0.0,0.0,0.0,0.0,0.0,0.0,0.0,0.0,0.0,0.0,0.0,0.0,1.0,0.0,1.0,0.0,0.0,0.0,1.0,0.0,0.0,1.0,1.0,1.0,0.0,0.0,0.0,0.0,0.0,0.0,0.0,0.0,0.0,0.0,0.0,0.0,0.5,0.0,0.0,0.0,0.0,0.0,0.0,0.0,0.0,0.0,1.0,0.0,0.0,0.0,0.0,0.0,0.0,1.0,0.0,0.0,0.0,1.0,1.0,0.0,0.0,0.0,0.0,0.0,0.0,0.0,0.0,1.0,0.0,0.0,1.0,0.0,0.0,0.0,0.0,0.0,0.0,0.0,0.0,0.0,0.0,0.0,0.0,0.0,0.0,0.0,0.0,0.0,0.0,0.0,0.0,1.0,0.0,0.0,0.0,0.0,1.0,0.0,0.0,0.0,1.0,0.0,0.0,1.0,0.0,0.0,1.0,0.0,0.0,0.0,0.0,1.0,0.0,1.0,0.0,0.0,0.0,0.0,1.0,0.0,0.0,0.0,1.0,0.0,1.0,1.0,0.0,0.0,1.0,0.0,0.0,0.0,0.0,0.0,1.0,0.0,0.0,1.0,0.0,0.0,0.0,0.0,0.0,0.0,0.0,0.0,0.0,0.0,0.0,1.0,0.0,0.0,0.0,0.0,0.0,1.0,0.0,0.0,0.0,0.0,0.0,0.0,0.0,0.0,0.0,0.0,1.0,0.0,0.0,0.0,0.0,0.0,0.0,0.0,0.0,0.5,1.0,0.0,0.0,0.0,1.0,1.0,1.0,0.0,0.0,0.0,0.0,0.0,0.0,0.0,0.0,0.0,0.0,1.0,0.0,1.0,1.0,0.0,1.0,0.0,0.0,0.0,0.0,0.0,1.0,0.0,0.0,0.0,0.0,0.0,1.0,0.0,1.0,0.0,1.0,0.0,0.0,1.0,0.0,0.0,0.0,1.0,1.0,0.0,1.0,0.0,0.0,0.0,0.0,0.0,0.0,0.0,0.0,1.0,0.0,0.0,0.0,0.0,0.0,0.0,0.0,0.0,0.0,1.0,0.0,0.0,1.0,0.0,0.0,0.0,0.0,0.0,0.0,1.0,0.5,1.0,0.0,0.0,0.0,0.0,0.0,0.0,0.0,0.0,0.0,0.0,0.0,0.0,1.0,0.0,0.0,0.0,0.0,0.0,1.0,0.0,0.0,0.0,0.0,1.0,0.0,1.0,0.0,0.0,0.0,0.0,0.0,0.0,0.0,0.0,0.0,0.0,0.0,0.0,0.0,0.0,1.0,1.0,0.0,0.0,0.0,0.0,0.0,0.0,0.0,0.0,0.0,0.0,0.0,0.0,0.0,0.0,1.0,0.0,1.0,1.0,0.0,1.0,0.0,0.0,0.0,0.0,0.0,1.0,1.0,1.0,0.0,1.0,1.0,0.0,0.0,0.0,0.0,0.0,0.0,1.0,0.0,0.0,0.0,0.0,0.0,0.0,0.0,0.0,0.0,0.0,0.0,0.0,0.0,0.0,0.0,0.0,0.0,0.0,0.0,1.0,0.0,0.0,0.0,0.0,1.0,0.0,0.0,0.0,0.0,1.0,1.0,0.0,1.0,0.0,0.0,0.0,1.0,0.0,0.0,1.0,0.0,0.0,0.0,0.0,1.0,0.0,0.0,0.0,1.0,1.0,1.0,0.6666666666666666,1.0,1.0,1.0,1.0,1.0,1.0,1.0,1.0,1.0,1.0,0.75,0.75,0.0,0.0,1.0,0.0,0.0,0.0,1.0,0.0,0.0,0.0,0.0,0.0,0.0,0.0,0.0,1.0,1.0,0.0,0.0,0.0,0.0,0.0,0.0,0.0,1.0,0.0,0.0,0.0,0.0,0.0,1.0,0.0,1.0,1.0,0.0,1.0,0.0,0.0,0.0,0.0,0.0,0.0,0.0,0.0,0.0,1.0,0.5,0.6666666666666666,1.0,0.0,0.5,1.0,0.0,1.0,0.6666666666666666,1.0,1.0,0.5,1.0,0.0,1.0,1.0,1.0,1.0,0.0,1.0,0.0,1.0,0.0,0.0,0.0,0.0,0.0,0.0,0.0,0.0,0.0,1.0,0.0,0.0,0.0,0.0,0.0,0.0,0.0,1.0,0.0,0.0,0.0,0.0,0.0,0.0,1.0,1.0,0.0,0.0,0.0,0.0,0.0,0.0,0.0,0.0,0.0,0.0,0.0,0.0,0.0,0.0,1.0,0.5,1.0,0.0,0.0,1.0,1.0,1.0,0.0,1.0,0.0,0.0,0.0,0.0,0.0,0.0,0.0,0.0,0.0,0.0,0.0,0.0,0.0,1.0,1.0,0.0,1.0,1.0,0.0,1.0,0.0,0.0,1.0,0.0,0.0,1.0,0.0,0.0,0.0,1.0,0.0,0.0,0.0,0.0,0.0,0.0,0.0,0.0,0.0,0.0,1.0,0.0,0.0,0.0,0.0,0.0,0.0,0.0,0.0,1.0,0.0,0.0,0.0,0.0,0.0,0.0,1.0,0.0,0.0,0.0,0.0,1.0,0.0,0.0,0.0,0.0,0.0,0.0,0.0,1.0,0.0,0.0,0.0,0.0,0.0,1.0,0.0,0.5,0.0,0.0,0.0,0.0,0.0,0.0,0.5,0.0,0.0,1.0,1.0,0.0,0.0,0.0,1.0,1.0,1.0,1.0,0.0,0.0,0.0,0.0,0.0,0.0,1.0,1.0,0.0,0.0,0.0,0.0,0.0,1.0,0.0,0.0,0.0,0.0,0.0,1.0,0.0,0.0,0.0,1.0,0.0,0.0,0.0,0.0,0.0,0.0,0.0,1.0,0.0,1.0,0.0,0.0,0.0,0.0,0.0,0.0,0.0,0.0,0.0,0.0,0.0,0.5,1.0,0.3333333333333333,0.6666666666666666,1.0,1.0,1.0,0.6666666666666666,0.75,1.0,1.0,1.0,1.0,0.0,1.0,0.0,0.0,0.0,0.0,1.0,0.0,0.0,0.0,1.0,0.0,0.0,0.0,0.0,0.0,0.0,1.0,1.0,0.0,0.0,0.0,0.0,0.0,0.0,1.0,0.0,0.0,0.0,0.0,0.0,0.0,0.0,0.0,1.0,0.0,0.0,1.0,0.0,1.0,0.5,1.0,0.6666666666666666,0.5,0.0,0.0,1.0,1.0,1.0,1.0,1.0,0.0,0.0,1.0,0.0,0.0,0.0,0.0,0.0,0.0,1.0,1.0,0.0,0.0,0.0,1.0,0.0,0.0,0.0,1.0,0.0,0.0,0.0,0.0,0.0,0.0,0.0,0.0,0.0,0.0,0.0,0.0,0.0,1.0,0.0,0.0,0.0,1.0,0.0,0.0,0.0,0.0,1.0,1.0,1.0,1.0,1.0,0.0,0.0,0.0,0.0,0.0,0.0,0.0,0.0,1.0,0.0,1.0,1.0,0.0,1.0,0.0,0.0,0.0,0.0,0.0,0.0,0.0,1.0,0.0,0.0,1.0,0.0,0.0,0.0,0.0,0.0,0.0,1.0,0.0,0.0,0.0,0.0,0.0,1.0,0.0,1.0,1.0,1.0,0.0,1.0,0.0,0.0,1.0,0.0,0.0,0.0,0.0,0.0,0.0,0.0,0.0,0.0,1.0,1.0,0.0,0.0,1.0,0.0,0.0,0.0,0.0,0.0,0.0,0.0,0.0,1.0,0.0,0.0,0.0,0.5,0.0,0.0,1.0,0.0,0.0,0.0,0.0,0.0,1.0,0.0,0.0,1.0,1.0,1.0,0.0,1.0,0.0,0.0,0.0,0.0,1.0,0.0,1.0,0.0,0.0,0.0,0.0,0.0,0.0,0.0,0.0,0.0,0.0,0.0,0.0,0.0,0.0,0.0,0.0,0.0,0.0,1.0,0.0,0.0,0.0,0.0,0.0,0.0,0.0,0.0,0.0,0.0,1.0,0.0,0.0,0.0,0.0,0.0,0.0,0.0,0.0,0.0,0.5,1.0,0.5,1.0,1.0,1.0,1.0,1.0,1.0,1.0,1.0,1.0,0.0,1.0,1.0,0.0,1.0,0.0,0.0,0.0,0.0,1.0,0.0,0.0,0.0,0.0,1.0,0.0,0.0,0.0,1.0,0.0,0.0,0.0,0.0,0.0,0.0,0.0,0.0,1.0,0.0,0.0,0.0,0.0,0.0,0.0,0.0,0.0,1.0,0.0,0.0,0.0,1.0,1.0,1.0,1.0,1.0,1.0,1.0,1.0,0.6666666666666666,1.0,1.0,0.0,0.0,0.0,0.0,0.0,0.0,0.0,0.0,0.0,1.0,0.0,0.0,0.0,0.0,0.0,0.0,1.0,0.0,0.0,0.0,0.0,0.0,0.0,0.0,0.0,0.0,0.0,0.0,0.0,1.0,0.0,1.0,0.0,1.0,1.0,1.0,1.0,1.0,0.0,0.0,1.0,0.0,0.0,0.0,1.0,0.0,1.0,0.0,0.0,0.0,0.0,1.0,0.0,0.0,0.0,1.0,0.0,1.0,0.0,0.0,0.0,0.0,0.0,0.0,0.0,0.0,1.0,0.0,0.0,0.0,1.0,1.0,0.0,0.0,0.0,0.0,1.0,0.0,0.0,0.0,1.0,0.0,0.0,1.0,0.0,0.0,0.0,0.0,0.0,0.0,1.0,0.0,0.0,0.0,0.0,0.0,0.0,0.0,0.0,0.0,0.0,0.0,0.0,1.0,0.0,1.0,0.0,0.0,0.0,0.0,0.0,1.0,0.0,1.0,0.0,0.0,0.0,0.0,0.0,0.0,0.0,0.0,1.0,0.0,1.0,0.0,0.0,0.0,0.0,0.0,1.0,1.0,1.0,0.0,0.0,0.0,0.0,0.0,0.0,0.0,1.0,0.0,0.0,0.0,0.0,0.0,0.0,0.0,1.0,0.0,0.6666666666666666,0.5,1.0,0.0,1.0,1.0,1.0,0.0,0.0,0.0,1.0,0.0,0.0,0.0,0.0,0.0,0.0,0.0,0.0,0.0,1.0,0.0,0.0,0.0,1.0,0.0,0.0,0.0,0.0,0.0,0.0,0.0,0.6666666666666666,1.0,0.0,1.0,1.0,0.6666666666666666,1.0,1.0,1.0,0.0,1.0,0.0,0.0,0.0,1.0,1.0,0.0,0.0,0.0,0.0,0.0,0.0,1.0,1.0,0.0,1.0,0.0,1.0,1.0,0.0,0.0,0.5,0.0,1.0,0.3333333333333333,0.0,1.0,0.0,0.0,0.0,1.0,0.0,0.0,0.0,0.0,0.0,0.0,1.0,0.0,1.0,0.0,0.0,1.0,0.0,0.0,0.0,0.0,0.0,1.0,1.0,0.0,0.0,0.0,0.0,1.0,1.0,0.0,0.0,1.0,0.0,0.0,0.0,0.0,0.0,1.0,0.0,1.0,1.0,0.0,1.0,0.0,0.0,0.0,0.0,0.0,0.0,0.0,0.0,1.0,0.0,1.0,1.0,0.0,0.5,0.0,1.0,1.0,0.0,1.0,0.0,0.0,1.0,0.0,1.0,0.0,0.0,0.0,1.0,0.0,1.0,1.0,0.0,1.0,0.0,1.0,0.0,0.0,1.0,1.0,1.0,1.0,1.0,1.0,0.0,0.0,0.0,0.0,1.0,0.0,0.0,0.0,0.5,0.0,0.0,0.0,0.0,1.0,1.0,1.0,0.0,0.0,1.0,0.0,0.0,0.0,0.0,1.0,1.0,0.0,0.0,0.0,0.0,1.0,1.0,0.0,0.0,1.0,0.0,0.0,1.0,0.0,0.0,1.0,0.0,1.0,0.0,0.0,0.0,0.0,0.0,0.0,1.0,0.0,0.0,0.0,0.5,0.0,0.0,1.0,0.0,0.0,0.0,0.0,0.0,1.0,0.0,0.0,0.5,1.0,1.0,0.0,1.0,1.0,0.0,0.0,0.0,0.0,0.0,1.0,1.0,0.0,0.0,0.0,0.0,0.0,0.0,1.0,1.0,0.0,0.0,1.0,0.0,1.0,0.0,0.5,0.0,0.0,1.0,1.0,1.0,1.0,0.0,0.0,0.0,0.0,0.0,0.0,0.0,1.0,0.0,0.0,0.0,0.0,0.0,1.0,1.0,1.0,1.0,0.0,1.0,1.0,0.0,1.0,0.0,0.0,1.0,1.0,0.0,0.0,0.0,0.0,0.0,0.0,0.0,0.0,0.0,0.0,0.0,0.0,1.0,0.0,1.0,0.0,0.0,0.0,0.0,0.0,0.0,0.0,0.0,0.0,0.0,0.0,0.0,0.0,0.0,1.0,0.0,0.0,0.0,0.0,0.0,1.0,0.0,1.0,0.0,1.0,1.0,0.0,0.0,0.0,0.0,0.0,0.0,0.0,0.5,0.0,0.0,0.0,0.0,0.5,0.0,1.0,0.0,0.0,1.0,0.0,0.0,0.0,1.0,1.0,0.0,0.0,1.0,1.0,0.0,0.0,0.0,0.0,1.0,0.0,0.0,1.0,0.0,0.0],\"type\":\"scatter\"}],                        {\"paper_bgcolor\":\"rgb(243,243,243)\",\"plot_bgcolor\":\"rgb(243,243,243)\",\"template\":{\"data\":{\"barpolar\":[{\"marker\":{\"line\":{\"color\":\"#E5ECF6\",\"width\":0.5},\"pattern\":{\"fillmode\":\"overlay\",\"size\":10,\"solidity\":0.2}},\"type\":\"barpolar\"}],\"bar\":[{\"error_x\":{\"color\":\"#2a3f5f\"},\"error_y\":{\"color\":\"#2a3f5f\"},\"marker\":{\"line\":{\"color\":\"#E5ECF6\",\"width\":0.5},\"pattern\":{\"fillmode\":\"overlay\",\"size\":10,\"solidity\":0.2}},\"type\":\"bar\"}],\"carpet\":[{\"aaxis\":{\"endlinecolor\":\"#2a3f5f\",\"gridcolor\":\"white\",\"linecolor\":\"white\",\"minorgridcolor\":\"white\",\"startlinecolor\":\"#2a3f5f\"},\"baxis\":{\"endlinecolor\":\"#2a3f5f\",\"gridcolor\":\"white\",\"linecolor\":\"white\",\"minorgridcolor\":\"white\",\"startlinecolor\":\"#2a3f5f\"},\"type\":\"carpet\"}],\"choropleth\":[{\"colorbar\":{\"outlinewidth\":0,\"ticks\":\"\"},\"type\":\"choropleth\"}],\"contourcarpet\":[{\"colorbar\":{\"outlinewidth\":0,\"ticks\":\"\"},\"type\":\"contourcarpet\"}],\"contour\":[{\"colorbar\":{\"outlinewidth\":0,\"ticks\":\"\"},\"colorscale\":[[0.0,\"#0d0887\"],[0.1111111111111111,\"#46039f\"],[0.2222222222222222,\"#7201a8\"],[0.3333333333333333,\"#9c179e\"],[0.4444444444444444,\"#bd3786\"],[0.5555555555555556,\"#d8576b\"],[0.6666666666666666,\"#ed7953\"],[0.7777777777777778,\"#fb9f3a\"],[0.8888888888888888,\"#fdca26\"],[1.0,\"#f0f921\"]],\"type\":\"contour\"}],\"heatmapgl\":[{\"colorbar\":{\"outlinewidth\":0,\"ticks\":\"\"},\"colorscale\":[[0.0,\"#0d0887\"],[0.1111111111111111,\"#46039f\"],[0.2222222222222222,\"#7201a8\"],[0.3333333333333333,\"#9c179e\"],[0.4444444444444444,\"#bd3786\"],[0.5555555555555556,\"#d8576b\"],[0.6666666666666666,\"#ed7953\"],[0.7777777777777778,\"#fb9f3a\"],[0.8888888888888888,\"#fdca26\"],[1.0,\"#f0f921\"]],\"type\":\"heatmapgl\"}],\"heatmap\":[{\"colorbar\":{\"outlinewidth\":0,\"ticks\":\"\"},\"colorscale\":[[0.0,\"#0d0887\"],[0.1111111111111111,\"#46039f\"],[0.2222222222222222,\"#7201a8\"],[0.3333333333333333,\"#9c179e\"],[0.4444444444444444,\"#bd3786\"],[0.5555555555555556,\"#d8576b\"],[0.6666666666666666,\"#ed7953\"],[0.7777777777777778,\"#fb9f3a\"],[0.8888888888888888,\"#fdca26\"],[1.0,\"#f0f921\"]],\"type\":\"heatmap\"}],\"histogram2dcontour\":[{\"colorbar\":{\"outlinewidth\":0,\"ticks\":\"\"},\"colorscale\":[[0.0,\"#0d0887\"],[0.1111111111111111,\"#46039f\"],[0.2222222222222222,\"#7201a8\"],[0.3333333333333333,\"#9c179e\"],[0.4444444444444444,\"#bd3786\"],[0.5555555555555556,\"#d8576b\"],[0.6666666666666666,\"#ed7953\"],[0.7777777777777778,\"#fb9f3a\"],[0.8888888888888888,\"#fdca26\"],[1.0,\"#f0f921\"]],\"type\":\"histogram2dcontour\"}],\"histogram2d\":[{\"colorbar\":{\"outlinewidth\":0,\"ticks\":\"\"},\"colorscale\":[[0.0,\"#0d0887\"],[0.1111111111111111,\"#46039f\"],[0.2222222222222222,\"#7201a8\"],[0.3333333333333333,\"#9c179e\"],[0.4444444444444444,\"#bd3786\"],[0.5555555555555556,\"#d8576b\"],[0.6666666666666666,\"#ed7953\"],[0.7777777777777778,\"#fb9f3a\"],[0.8888888888888888,\"#fdca26\"],[1.0,\"#f0f921\"]],\"type\":\"histogram2d\"}],\"histogram\":[{\"marker\":{\"pattern\":{\"fillmode\":\"overlay\",\"size\":10,\"solidity\":0.2}},\"type\":\"histogram\"}],\"mesh3d\":[{\"colorbar\":{\"outlinewidth\":0,\"ticks\":\"\"},\"type\":\"mesh3d\"}],\"parcoords\":[{\"line\":{\"colorbar\":{\"outlinewidth\":0,\"ticks\":\"\"}},\"type\":\"parcoords\"}],\"pie\":[{\"automargin\":true,\"type\":\"pie\"}],\"scatter3d\":[{\"line\":{\"colorbar\":{\"outlinewidth\":0,\"ticks\":\"\"}},\"marker\":{\"colorbar\":{\"outlinewidth\":0,\"ticks\":\"\"}},\"type\":\"scatter3d\"}],\"scattercarpet\":[{\"marker\":{\"colorbar\":{\"outlinewidth\":0,\"ticks\":\"\"}},\"type\":\"scattercarpet\"}],\"scattergeo\":[{\"marker\":{\"colorbar\":{\"outlinewidth\":0,\"ticks\":\"\"}},\"type\":\"scattergeo\"}],\"scattergl\":[{\"marker\":{\"colorbar\":{\"outlinewidth\":0,\"ticks\":\"\"}},\"type\":\"scattergl\"}],\"scattermapbox\":[{\"marker\":{\"colorbar\":{\"outlinewidth\":0,\"ticks\":\"\"}},\"type\":\"scattermapbox\"}],\"scatterpolargl\":[{\"marker\":{\"colorbar\":{\"outlinewidth\":0,\"ticks\":\"\"}},\"type\":\"scatterpolargl\"}],\"scatterpolar\":[{\"marker\":{\"colorbar\":{\"outlinewidth\":0,\"ticks\":\"\"}},\"type\":\"scatterpolar\"}],\"scatter\":[{\"fillpattern\":{\"fillmode\":\"overlay\",\"size\":10,\"solidity\":0.2},\"type\":\"scatter\"}],\"scatterternary\":[{\"marker\":{\"colorbar\":{\"outlinewidth\":0,\"ticks\":\"\"}},\"type\":\"scatterternary\"}],\"surface\":[{\"colorbar\":{\"outlinewidth\":0,\"ticks\":\"\"},\"colorscale\":[[0.0,\"#0d0887\"],[0.1111111111111111,\"#46039f\"],[0.2222222222222222,\"#7201a8\"],[0.3333333333333333,\"#9c179e\"],[0.4444444444444444,\"#bd3786\"],[0.5555555555555556,\"#d8576b\"],[0.6666666666666666,\"#ed7953\"],[0.7777777777777778,\"#fb9f3a\"],[0.8888888888888888,\"#fdca26\"],[1.0,\"#f0f921\"]],\"type\":\"surface\"}],\"table\":[{\"cells\":{\"fill\":{\"color\":\"#EBF0F8\"},\"line\":{\"color\":\"white\"}},\"header\":{\"fill\":{\"color\":\"#C8D4E3\"},\"line\":{\"color\":\"white\"}},\"type\":\"table\"}]},\"layout\":{\"annotationdefaults\":{\"arrowcolor\":\"#2a3f5f\",\"arrowhead\":0,\"arrowwidth\":1},\"autotypenumbers\":\"strict\",\"coloraxis\":{\"colorbar\":{\"outlinewidth\":0,\"ticks\":\"\"}},\"colorscale\":{\"diverging\":[[0,\"#8e0152\"],[0.1,\"#c51b7d\"],[0.2,\"#de77ae\"],[0.3,\"#f1b6da\"],[0.4,\"#fde0ef\"],[0.5,\"#f7f7f7\"],[0.6,\"#e6f5d0\"],[0.7,\"#b8e186\"],[0.8,\"#7fbc41\"],[0.9,\"#4d9221\"],[1,\"#276419\"]],\"sequential\":[[0.0,\"#0d0887\"],[0.1111111111111111,\"#46039f\"],[0.2222222222222222,\"#7201a8\"],[0.3333333333333333,\"#9c179e\"],[0.4444444444444444,\"#bd3786\"],[0.5555555555555556,\"#d8576b\"],[0.6666666666666666,\"#ed7953\"],[0.7777777777777778,\"#fb9f3a\"],[0.8888888888888888,\"#fdca26\"],[1.0,\"#f0f921\"]],\"sequentialminus\":[[0.0,\"#0d0887\"],[0.1111111111111111,\"#46039f\"],[0.2222222222222222,\"#7201a8\"],[0.3333333333333333,\"#9c179e\"],[0.4444444444444444,\"#bd3786\"],[0.5555555555555556,\"#d8576b\"],[0.6666666666666666,\"#ed7953\"],[0.7777777777777778,\"#fb9f3a\"],[0.8888888888888888,\"#fdca26\"],[1.0,\"#f0f921\"]]},\"colorway\":[\"#636efa\",\"#EF553B\",\"#00cc96\",\"#ab63fa\",\"#FFA15A\",\"#19d3f3\",\"#FF6692\",\"#B6E880\",\"#FF97FF\",\"#FECB52\"],\"font\":{\"color\":\"#2a3f5f\"},\"geo\":{\"bgcolor\":\"white\",\"lakecolor\":\"white\",\"landcolor\":\"#E5ECF6\",\"showlakes\":true,\"showland\":true,\"subunitcolor\":\"white\"},\"hoverlabel\":{\"align\":\"left\"},\"hovermode\":\"closest\",\"mapbox\":{\"style\":\"light\"},\"paper_bgcolor\":\"white\",\"plot_bgcolor\":\"#E5ECF6\",\"polar\":{\"angularaxis\":{\"gridcolor\":\"white\",\"linecolor\":\"white\",\"ticks\":\"\"},\"bgcolor\":\"#E5ECF6\",\"radialaxis\":{\"gridcolor\":\"white\",\"linecolor\":\"white\",\"ticks\":\"\"}},\"scene\":{\"xaxis\":{\"backgroundcolor\":\"#E5ECF6\",\"gridcolor\":\"white\",\"gridwidth\":2,\"linecolor\":\"white\",\"showbackground\":true,\"ticks\":\"\",\"zerolinecolor\":\"white\"},\"yaxis\":{\"backgroundcolor\":\"#E5ECF6\",\"gridcolor\":\"white\",\"gridwidth\":2,\"linecolor\":\"white\",\"showbackground\":true,\"ticks\":\"\",\"zerolinecolor\":\"white\"},\"zaxis\":{\"backgroundcolor\":\"#E5ECF6\",\"gridcolor\":\"white\",\"gridwidth\":2,\"linecolor\":\"white\",\"showbackground\":true,\"ticks\":\"\",\"zerolinecolor\":\"white\"}},\"shapedefaults\":{\"line\":{\"color\":\"#2a3f5f\"}},\"ternary\":{\"aaxis\":{\"gridcolor\":\"white\",\"linecolor\":\"white\",\"ticks\":\"\"},\"baxis\":{\"gridcolor\":\"white\",\"linecolor\":\"white\",\"ticks\":\"\"},\"bgcolor\":\"#E5ECF6\",\"caxis\":{\"gridcolor\":\"white\",\"linecolor\":\"white\",\"ticks\":\"\"}},\"title\":{\"x\":0.05},\"xaxis\":{\"automargin\":true,\"gridcolor\":\"white\",\"linecolor\":\"white\",\"ticks\":\"\",\"title\":{\"standoff\":15},\"zerolinecolor\":\"white\",\"zerolinewidth\":2},\"yaxis\":{\"automargin\":true,\"gridcolor\":\"white\",\"linecolor\":\"white\",\"ticks\":\"\",\"title\":{\"standoff\":15},\"zerolinecolor\":\"white\",\"zerolinewidth\":2}}},\"title\":{\"text\":\"Total Charge based Churn rate\"},\"xaxis\":{\"title\":{\"text\":\"Total Charges\"}},\"yaxis\":{\"title\":{\"text\":\"Churn Rate\"}}},                        {\"responsive\": true}                    ).then(function(){\n",
              "                            \n",
              "var gd = document.getElementById('3f73e47f-b7de-4c27-ab8a-521ee135bf8e');\n",
              "var x = new MutationObserver(function (mutations, observer) {{\n",
              "        var display = window.getComputedStyle(gd).display;\n",
              "        if (!display || display === 'none') {{\n",
              "            console.log([gd, 'removed!']);\n",
              "            Plotly.purge(gd);\n",
              "            observer.disconnect();\n",
              "        }}\n",
              "}});\n",
              "\n",
              "// Listen for the removal of the full notebook cells\n",
              "var notebookContainer = gd.closest('#notebook-container');\n",
              "if (notebookContainer) {{\n",
              "    x.observe(notebookContainer, {childList: true});\n",
              "}}\n",
              "\n",
              "// Listen for the clearing of the current output cell\n",
              "var outputEl = gd.closest('.output');\n",
              "if (outputEl) {{\n",
              "    x.observe(outputEl, {childList: true});\n",
              "}}\n",
              "\n",
              "                        })                };                            </script>        </div>\n",
              "</body>\n",
              "</html>"
            ]
          },
          "metadata": {}
        }
      ]
    },
    {
      "cell_type": "code",
      "source": [
        "km = KMeans(n_clusters=3)\n",
        "km"
      ],
      "metadata": {
        "colab": {
          "base_uri": "https://localhost:8080/",
          "height": 75
        },
        "id": "pVwChpM1Usmz",
        "outputId": "cb79c151-9804-4204-9dac-f1ffc827c5b9"
      },
      "execution_count": 25,
      "outputs": [
        {
          "output_type": "execute_result",
          "data": {
            "text/plain": [
              "KMeans(n_clusters=3)"
            ],
            "text/html": [
              "<style>#sk-container-id-1 {color: black;background-color: white;}#sk-container-id-1 pre{padding: 0;}#sk-container-id-1 div.sk-toggleable {background-color: white;}#sk-container-id-1 label.sk-toggleable__label {cursor: pointer;display: block;width: 100%;margin-bottom: 0;padding: 0.3em;box-sizing: border-box;text-align: center;}#sk-container-id-1 label.sk-toggleable__label-arrow:before {content: \"▸\";float: left;margin-right: 0.25em;color: #696969;}#sk-container-id-1 label.sk-toggleable__label-arrow:hover:before {color: black;}#sk-container-id-1 div.sk-estimator:hover label.sk-toggleable__label-arrow:before {color: black;}#sk-container-id-1 div.sk-toggleable__content {max-height: 0;max-width: 0;overflow: hidden;text-align: left;background-color: #f0f8ff;}#sk-container-id-1 div.sk-toggleable__content pre {margin: 0.2em;color: black;border-radius: 0.25em;background-color: #f0f8ff;}#sk-container-id-1 input.sk-toggleable__control:checked~div.sk-toggleable__content {max-height: 200px;max-width: 100%;overflow: auto;}#sk-container-id-1 input.sk-toggleable__control:checked~label.sk-toggleable__label-arrow:before {content: \"▾\";}#sk-container-id-1 div.sk-estimator input.sk-toggleable__control:checked~label.sk-toggleable__label {background-color: #d4ebff;}#sk-container-id-1 div.sk-label input.sk-toggleable__control:checked~label.sk-toggleable__label {background-color: #d4ebff;}#sk-container-id-1 input.sk-hidden--visually {border: 0;clip: rect(1px 1px 1px 1px);clip: rect(1px, 1px, 1px, 1px);height: 1px;margin: -1px;overflow: hidden;padding: 0;position: absolute;width: 1px;}#sk-container-id-1 div.sk-estimator {font-family: monospace;background-color: #f0f8ff;border: 1px dotted black;border-radius: 0.25em;box-sizing: border-box;margin-bottom: 0.5em;}#sk-container-id-1 div.sk-estimator:hover {background-color: #d4ebff;}#sk-container-id-1 div.sk-parallel-item::after {content: \"\";width: 100%;border-bottom: 1px solid gray;flex-grow: 1;}#sk-container-id-1 div.sk-label:hover label.sk-toggleable__label {background-color: #d4ebff;}#sk-container-id-1 div.sk-serial::before {content: \"\";position: absolute;border-left: 1px solid gray;box-sizing: border-box;top: 0;bottom: 0;left: 50%;z-index: 0;}#sk-container-id-1 div.sk-serial {display: flex;flex-direction: column;align-items: center;background-color: white;padding-right: 0.2em;padding-left: 0.2em;position: relative;}#sk-container-id-1 div.sk-item {position: relative;z-index: 1;}#sk-container-id-1 div.sk-parallel {display: flex;align-items: stretch;justify-content: center;background-color: white;position: relative;}#sk-container-id-1 div.sk-item::before, #sk-container-id-1 div.sk-parallel-item::before {content: \"\";position: absolute;border-left: 1px solid gray;box-sizing: border-box;top: 0;bottom: 0;left: 50%;z-index: -1;}#sk-container-id-1 div.sk-parallel-item {display: flex;flex-direction: column;z-index: 1;position: relative;background-color: white;}#sk-container-id-1 div.sk-parallel-item:first-child::after {align-self: flex-end;width: 50%;}#sk-container-id-1 div.sk-parallel-item:last-child::after {align-self: flex-start;width: 50%;}#sk-container-id-1 div.sk-parallel-item:only-child::after {width: 0;}#sk-container-id-1 div.sk-dashed-wrapped {border: 1px dashed gray;margin: 0 0.4em 0.5em 0.4em;box-sizing: border-box;padding-bottom: 0.4em;background-color: white;}#sk-container-id-1 div.sk-label label {font-family: monospace;font-weight: bold;display: inline-block;line-height: 1.2em;}#sk-container-id-1 div.sk-label-container {text-align: center;}#sk-container-id-1 div.sk-container {/* jupyter's `normalize.less` sets `[hidden] { display: none; }` but bootstrap.min.css set `[hidden] { display: none !important; }` so we also need the `!important` here to be able to override the default hidden behavior on the sphinx rendered scikit-learn.org. See: https://github.com/scikit-learn/scikit-learn/issues/21755 */display: inline-block !important;position: relative;}#sk-container-id-1 div.sk-text-repr-fallback {display: none;}</style><div id=\"sk-container-id-1\" class=\"sk-top-container\"><div class=\"sk-text-repr-fallback\"><pre>KMeans(n_clusters=3)</pre><b>In a Jupyter environment, please rerun this cell to show the HTML representation or trust the notebook. <br />On GitHub, the HTML representation is unable to render, please try loading this page with nbviewer.org.</b></div><div class=\"sk-container\" hidden><div class=\"sk-item\"><div class=\"sk-estimator sk-toggleable\"><input class=\"sk-toggleable__control sk-hidden--visually\" id=\"sk-estimator-id-1\" type=\"checkbox\" checked><label for=\"sk-estimator-id-1\" class=\"sk-toggleable__label sk-toggleable__label-arrow\">KMeans</label><div class=\"sk-toggleable__content\"><pre>KMeans(n_clusters=3)</pre></div></div></div></div></div>"
            ]
          },
          "metadata": {},
          "execution_count": 25
        }
      ]
    },
    {
      "cell_type": "code",
      "source": [
        "y_predicted=km.fit_predict(data[['tenure']])\n",
        "y_predicted"
      ],
      "metadata": {
        "colab": {
          "base_uri": "https://localhost:8080/"
        },
        "id": "GQRhJvJdU2Q3",
        "outputId": "0d967c27-469c-48e5-c388-12b7f2f8d6b8"
      },
      "execution_count": 26,
      "outputs": [
        {
          "output_type": "stream",
          "name": "stderr",
          "text": [
            "/usr/local/lib/python3.10/dist-packages/sklearn/cluster/_kmeans.py:870: FutureWarning:\n",
            "\n",
            "The default value of `n_init` will change from 10 to 'auto' in 1.4. Set the value of `n_init` explicitly to suppress the warning\n",
            "\n"
          ]
        },
        {
          "output_type": "execute_result",
          "data": {
            "text/plain": [
              "array([1, 2, 1, ..., 1, 1, 0], dtype=int32)"
            ]
          },
          "metadata": {},
          "execution_count": 26
        }
      ]
    },
    {
      "cell_type": "code",
      "source": [
        "data['cluster']=y_predicted\n",
        "data.head()"
      ],
      "metadata": {
        "colab": {
          "base_uri": "https://localhost:8080/",
          "height": 386
        },
        "id": "U80jVYnxVp-p",
        "outputId": "9d99a45c-c5d1-4b23-c343-c62960b587ac"
      },
      "execution_count": 27,
      "outputs": [
        {
          "output_type": "execute_result",
          "data": {
            "text/plain": [
              "   customerID  gender  SeniorCitizen Partner Dependents  tenure PhoneService  \\\n",
              "0  7590-VHVEG  Female              0     Yes         No       1           No   \n",
              "1  5575-GNVDE    Male              0      No         No      34          Yes   \n",
              "2  3668-QPYBK    Male              0      No         No       2          Yes   \n",
              "3  7795-CFOCW    Male              0      No         No      45           No   \n",
              "4  9237-HQITU  Female              0      No         No       2          Yes   \n",
              "\n",
              "      MultipleLines InternetService OnlineSecurity  ... TechSupport  \\\n",
              "0  No phone service             DSL             No  ...          No   \n",
              "1                No             DSL            Yes  ...          No   \n",
              "2                No             DSL            Yes  ...          No   \n",
              "3  No phone service             DSL            Yes  ...         Yes   \n",
              "4                No     Fiber optic             No  ...          No   \n",
              "\n",
              "  StreamingTV StreamingMovies        Contract PaperlessBilling  \\\n",
              "0          No              No  Month-to-month              Yes   \n",
              "1          No              No        One year               No   \n",
              "2          No              No  Month-to-month              Yes   \n",
              "3          No              No        One year               No   \n",
              "4          No              No  Month-to-month              Yes   \n",
              "\n",
              "               PaymentMethod MonthlyCharges TotalCharges  Churn cluster  \n",
              "0           Electronic check          29.85        29.85      0       1  \n",
              "1               Mailed check          56.95       1889.5      0       2  \n",
              "2               Mailed check          53.85       108.15      1       1  \n",
              "3  Bank transfer (automatic)          42.30      1840.75      0       2  \n",
              "4           Electronic check          70.70       151.65      1       1  \n",
              "\n",
              "[5 rows x 22 columns]"
            ],
            "text/html": [
              "\n",
              "  <div id=\"df-3b080f8f-4129-4719-919d-2e89f6795eea\">\n",
              "    <div class=\"colab-df-container\">\n",
              "      <div>\n",
              "<style scoped>\n",
              "    .dataframe tbody tr th:only-of-type {\n",
              "        vertical-align: middle;\n",
              "    }\n",
              "\n",
              "    .dataframe tbody tr th {\n",
              "        vertical-align: top;\n",
              "    }\n",
              "\n",
              "    .dataframe thead th {\n",
              "        text-align: right;\n",
              "    }\n",
              "</style>\n",
              "<table border=\"1\" class=\"dataframe\">\n",
              "  <thead>\n",
              "    <tr style=\"text-align: right;\">\n",
              "      <th></th>\n",
              "      <th>customerID</th>\n",
              "      <th>gender</th>\n",
              "      <th>SeniorCitizen</th>\n",
              "      <th>Partner</th>\n",
              "      <th>Dependents</th>\n",
              "      <th>tenure</th>\n",
              "      <th>PhoneService</th>\n",
              "      <th>MultipleLines</th>\n",
              "      <th>InternetService</th>\n",
              "      <th>OnlineSecurity</th>\n",
              "      <th>...</th>\n",
              "      <th>TechSupport</th>\n",
              "      <th>StreamingTV</th>\n",
              "      <th>StreamingMovies</th>\n",
              "      <th>Contract</th>\n",
              "      <th>PaperlessBilling</th>\n",
              "      <th>PaymentMethod</th>\n",
              "      <th>MonthlyCharges</th>\n",
              "      <th>TotalCharges</th>\n",
              "      <th>Churn</th>\n",
              "      <th>cluster</th>\n",
              "    </tr>\n",
              "  </thead>\n",
              "  <tbody>\n",
              "    <tr>\n",
              "      <th>0</th>\n",
              "      <td>7590-VHVEG</td>\n",
              "      <td>Female</td>\n",
              "      <td>0</td>\n",
              "      <td>Yes</td>\n",
              "      <td>No</td>\n",
              "      <td>1</td>\n",
              "      <td>No</td>\n",
              "      <td>No phone service</td>\n",
              "      <td>DSL</td>\n",
              "      <td>No</td>\n",
              "      <td>...</td>\n",
              "      <td>No</td>\n",
              "      <td>No</td>\n",
              "      <td>No</td>\n",
              "      <td>Month-to-month</td>\n",
              "      <td>Yes</td>\n",
              "      <td>Electronic check</td>\n",
              "      <td>29.85</td>\n",
              "      <td>29.85</td>\n",
              "      <td>0</td>\n",
              "      <td>1</td>\n",
              "    </tr>\n",
              "    <tr>\n",
              "      <th>1</th>\n",
              "      <td>5575-GNVDE</td>\n",
              "      <td>Male</td>\n",
              "      <td>0</td>\n",
              "      <td>No</td>\n",
              "      <td>No</td>\n",
              "      <td>34</td>\n",
              "      <td>Yes</td>\n",
              "      <td>No</td>\n",
              "      <td>DSL</td>\n",
              "      <td>Yes</td>\n",
              "      <td>...</td>\n",
              "      <td>No</td>\n",
              "      <td>No</td>\n",
              "      <td>No</td>\n",
              "      <td>One year</td>\n",
              "      <td>No</td>\n",
              "      <td>Mailed check</td>\n",
              "      <td>56.95</td>\n",
              "      <td>1889.5</td>\n",
              "      <td>0</td>\n",
              "      <td>2</td>\n",
              "    </tr>\n",
              "    <tr>\n",
              "      <th>2</th>\n",
              "      <td>3668-QPYBK</td>\n",
              "      <td>Male</td>\n",
              "      <td>0</td>\n",
              "      <td>No</td>\n",
              "      <td>No</td>\n",
              "      <td>2</td>\n",
              "      <td>Yes</td>\n",
              "      <td>No</td>\n",
              "      <td>DSL</td>\n",
              "      <td>Yes</td>\n",
              "      <td>...</td>\n",
              "      <td>No</td>\n",
              "      <td>No</td>\n",
              "      <td>No</td>\n",
              "      <td>Month-to-month</td>\n",
              "      <td>Yes</td>\n",
              "      <td>Mailed check</td>\n",
              "      <td>53.85</td>\n",
              "      <td>108.15</td>\n",
              "      <td>1</td>\n",
              "      <td>1</td>\n",
              "    </tr>\n",
              "    <tr>\n",
              "      <th>3</th>\n",
              "      <td>7795-CFOCW</td>\n",
              "      <td>Male</td>\n",
              "      <td>0</td>\n",
              "      <td>No</td>\n",
              "      <td>No</td>\n",
              "      <td>45</td>\n",
              "      <td>No</td>\n",
              "      <td>No phone service</td>\n",
              "      <td>DSL</td>\n",
              "      <td>Yes</td>\n",
              "      <td>...</td>\n",
              "      <td>Yes</td>\n",
              "      <td>No</td>\n",
              "      <td>No</td>\n",
              "      <td>One year</td>\n",
              "      <td>No</td>\n",
              "      <td>Bank transfer (automatic)</td>\n",
              "      <td>42.30</td>\n",
              "      <td>1840.75</td>\n",
              "      <td>0</td>\n",
              "      <td>2</td>\n",
              "    </tr>\n",
              "    <tr>\n",
              "      <th>4</th>\n",
              "      <td>9237-HQITU</td>\n",
              "      <td>Female</td>\n",
              "      <td>0</td>\n",
              "      <td>No</td>\n",
              "      <td>No</td>\n",
              "      <td>2</td>\n",
              "      <td>Yes</td>\n",
              "      <td>No</td>\n",
              "      <td>Fiber optic</td>\n",
              "      <td>No</td>\n",
              "      <td>...</td>\n",
              "      <td>No</td>\n",
              "      <td>No</td>\n",
              "      <td>No</td>\n",
              "      <td>Month-to-month</td>\n",
              "      <td>Yes</td>\n",
              "      <td>Electronic check</td>\n",
              "      <td>70.70</td>\n",
              "      <td>151.65</td>\n",
              "      <td>1</td>\n",
              "      <td>1</td>\n",
              "    </tr>\n",
              "  </tbody>\n",
              "</table>\n",
              "<p>5 rows × 22 columns</p>\n",
              "</div>\n",
              "      <button class=\"colab-df-convert\" onclick=\"convertToInteractive('df-3b080f8f-4129-4719-919d-2e89f6795eea')\"\n",
              "              title=\"Convert this dataframe to an interactive table.\"\n",
              "              style=\"display:none;\">\n",
              "        \n",
              "  <svg xmlns=\"http://www.w3.org/2000/svg\" height=\"24px\"viewBox=\"0 0 24 24\"\n",
              "       width=\"24px\">\n",
              "    <path d=\"M0 0h24v24H0V0z\" fill=\"none\"/>\n",
              "    <path d=\"M18.56 5.44l.94 2.06.94-2.06 2.06-.94-2.06-.94-.94-2.06-.94 2.06-2.06.94zm-11 1L8.5 8.5l.94-2.06 2.06-.94-2.06-.94L8.5 2.5l-.94 2.06-2.06.94zm10 10l.94 2.06.94-2.06 2.06-.94-2.06-.94-.94-2.06-.94 2.06-2.06.94z\"/><path d=\"M17.41 7.96l-1.37-1.37c-.4-.4-.92-.59-1.43-.59-.52 0-1.04.2-1.43.59L10.3 9.45l-7.72 7.72c-.78.78-.78 2.05 0 2.83L4 21.41c.39.39.9.59 1.41.59.51 0 1.02-.2 1.41-.59l7.78-7.78 2.81-2.81c.8-.78.8-2.07 0-2.86zM5.41 20L4 18.59l7.72-7.72 1.47 1.35L5.41 20z\"/>\n",
              "  </svg>\n",
              "      </button>\n",
              "      \n",
              "  <style>\n",
              "    .colab-df-container {\n",
              "      display:flex;\n",
              "      flex-wrap:wrap;\n",
              "      gap: 12px;\n",
              "    }\n",
              "\n",
              "    .colab-df-convert {\n",
              "      background-color: #E8F0FE;\n",
              "      border: none;\n",
              "      border-radius: 50%;\n",
              "      cursor: pointer;\n",
              "      display: none;\n",
              "      fill: #1967D2;\n",
              "      height: 32px;\n",
              "      padding: 0 0 0 0;\n",
              "      width: 32px;\n",
              "    }\n",
              "\n",
              "    .colab-df-convert:hover {\n",
              "      background-color: #E2EBFA;\n",
              "      box-shadow: 0px 1px 2px rgba(60, 64, 67, 0.3), 0px 1px 3px 1px rgba(60, 64, 67, 0.15);\n",
              "      fill: #174EA6;\n",
              "    }\n",
              "\n",
              "    [theme=dark] .colab-df-convert {\n",
              "      background-color: #3B4455;\n",
              "      fill: #D2E3FC;\n",
              "    }\n",
              "\n",
              "    [theme=dark] .colab-df-convert:hover {\n",
              "      background-color: #434B5C;\n",
              "      box-shadow: 0px 1px 3px 1px rgba(0, 0, 0, 0.15);\n",
              "      filter: drop-shadow(0px 1px 2px rgba(0, 0, 0, 0.3));\n",
              "      fill: #FFFFFF;\n",
              "    }\n",
              "  </style>\n",
              "\n",
              "      <script>\n",
              "        const buttonEl =\n",
              "          document.querySelector('#df-3b080f8f-4129-4719-919d-2e89f6795eea button.colab-df-convert');\n",
              "        buttonEl.style.display =\n",
              "          google.colab.kernel.accessAllowed ? 'block' : 'none';\n",
              "\n",
              "        async function convertToInteractive(key) {\n",
              "          const element = document.querySelector('#df-3b080f8f-4129-4719-919d-2e89f6795eea');\n",
              "          const dataTable =\n",
              "            await google.colab.kernel.invokeFunction('convertToInteractive',\n",
              "                                                     [key], {});\n",
              "          if (!dataTable) return;\n",
              "\n",
              "          const docLinkHtml = 'Like what you see? Visit the ' +\n",
              "            '<a target=\"_blank\" href=https://colab.research.google.com/notebooks/data_table.ipynb>data table notebook</a>'\n",
              "            + ' to learn more about interactive tables.';\n",
              "          element.innerHTML = '';\n",
              "          dataTable['output_type'] = 'display_data';\n",
              "          await google.colab.output.renderOutput(dataTable, element);\n",
              "          const docLink = document.createElement('div');\n",
              "          docLink.innerHTML = docLinkHtml;\n",
              "          element.appendChild(docLink);\n",
              "        }\n",
              "      </script>\n",
              "    </div>\n",
              "  </div>\n",
              "  "
            ]
          },
          "metadata": {},
          "execution_count": 27
        }
      ]
    },
    {
      "cell_type": "code",
      "source": [
        "data.groupby('cluster').tenure.describe()"
      ],
      "metadata": {
        "colab": {
          "base_uri": "https://localhost:8080/",
          "height": 175
        },
        "id": "QJ3Ch-5sMfX0",
        "outputId": "07e1b448-6b37-4157-abcf-19b26e36c660"
      },
      "execution_count": 28,
      "outputs": [
        {
          "output_type": "execute_result",
          "data": {
            "text/plain": [
              "          count       mean       std   min   25%   50%   75%   max\n",
              "cluster                                                           \n",
              "0        2239.0  63.048682  7.478229  49.0  56.0  64.0  70.0  72.0\n",
              "1        2878.0   7.512509  5.977337   0.0   2.0   6.0  12.0  20.0\n",
              "2        1926.0  33.854102  8.208706  21.0  26.0  34.0  41.0  48.0"
            ],
            "text/html": [
              "\n",
              "  <div id=\"df-43969130-0387-48a4-a507-fe6a952349a8\">\n",
              "    <div class=\"colab-df-container\">\n",
              "      <div>\n",
              "<style scoped>\n",
              "    .dataframe tbody tr th:only-of-type {\n",
              "        vertical-align: middle;\n",
              "    }\n",
              "\n",
              "    .dataframe tbody tr th {\n",
              "        vertical-align: top;\n",
              "    }\n",
              "\n",
              "    .dataframe thead th {\n",
              "        text-align: right;\n",
              "    }\n",
              "</style>\n",
              "<table border=\"1\" class=\"dataframe\">\n",
              "  <thead>\n",
              "    <tr style=\"text-align: right;\">\n",
              "      <th></th>\n",
              "      <th>count</th>\n",
              "      <th>mean</th>\n",
              "      <th>std</th>\n",
              "      <th>min</th>\n",
              "      <th>25%</th>\n",
              "      <th>50%</th>\n",
              "      <th>75%</th>\n",
              "      <th>max</th>\n",
              "    </tr>\n",
              "    <tr>\n",
              "      <th>cluster</th>\n",
              "      <th></th>\n",
              "      <th></th>\n",
              "      <th></th>\n",
              "      <th></th>\n",
              "      <th></th>\n",
              "      <th></th>\n",
              "      <th></th>\n",
              "      <th></th>\n",
              "    </tr>\n",
              "  </thead>\n",
              "  <tbody>\n",
              "    <tr>\n",
              "      <th>0</th>\n",
              "      <td>2239.0</td>\n",
              "      <td>63.048682</td>\n",
              "      <td>7.478229</td>\n",
              "      <td>49.0</td>\n",
              "      <td>56.0</td>\n",
              "      <td>64.0</td>\n",
              "      <td>70.0</td>\n",
              "      <td>72.0</td>\n",
              "    </tr>\n",
              "    <tr>\n",
              "      <th>1</th>\n",
              "      <td>2878.0</td>\n",
              "      <td>7.512509</td>\n",
              "      <td>5.977337</td>\n",
              "      <td>0.0</td>\n",
              "      <td>2.0</td>\n",
              "      <td>6.0</td>\n",
              "      <td>12.0</td>\n",
              "      <td>20.0</td>\n",
              "    </tr>\n",
              "    <tr>\n",
              "      <th>2</th>\n",
              "      <td>1926.0</td>\n",
              "      <td>33.854102</td>\n",
              "      <td>8.208706</td>\n",
              "      <td>21.0</td>\n",
              "      <td>26.0</td>\n",
              "      <td>34.0</td>\n",
              "      <td>41.0</td>\n",
              "      <td>48.0</td>\n",
              "    </tr>\n",
              "  </tbody>\n",
              "</table>\n",
              "</div>\n",
              "      <button class=\"colab-df-convert\" onclick=\"convertToInteractive('df-43969130-0387-48a4-a507-fe6a952349a8')\"\n",
              "              title=\"Convert this dataframe to an interactive table.\"\n",
              "              style=\"display:none;\">\n",
              "        \n",
              "  <svg xmlns=\"http://www.w3.org/2000/svg\" height=\"24px\"viewBox=\"0 0 24 24\"\n",
              "       width=\"24px\">\n",
              "    <path d=\"M0 0h24v24H0V0z\" fill=\"none\"/>\n",
              "    <path d=\"M18.56 5.44l.94 2.06.94-2.06 2.06-.94-2.06-.94-.94-2.06-.94 2.06-2.06.94zm-11 1L8.5 8.5l.94-2.06 2.06-.94-2.06-.94L8.5 2.5l-.94 2.06-2.06.94zm10 10l.94 2.06.94-2.06 2.06-.94-2.06-.94-.94-2.06-.94 2.06-2.06.94z\"/><path d=\"M17.41 7.96l-1.37-1.37c-.4-.4-.92-.59-1.43-.59-.52 0-1.04.2-1.43.59L10.3 9.45l-7.72 7.72c-.78.78-.78 2.05 0 2.83L4 21.41c.39.39.9.59 1.41.59.51 0 1.02-.2 1.41-.59l7.78-7.78 2.81-2.81c.8-.78.8-2.07 0-2.86zM5.41 20L4 18.59l7.72-7.72 1.47 1.35L5.41 20z\"/>\n",
              "  </svg>\n",
              "      </button>\n",
              "      \n",
              "  <style>\n",
              "    .colab-df-container {\n",
              "      display:flex;\n",
              "      flex-wrap:wrap;\n",
              "      gap: 12px;\n",
              "    }\n",
              "\n",
              "    .colab-df-convert {\n",
              "      background-color: #E8F0FE;\n",
              "      border: none;\n",
              "      border-radius: 50%;\n",
              "      cursor: pointer;\n",
              "      display: none;\n",
              "      fill: #1967D2;\n",
              "      height: 32px;\n",
              "      padding: 0 0 0 0;\n",
              "      width: 32px;\n",
              "    }\n",
              "\n",
              "    .colab-df-convert:hover {\n",
              "      background-color: #E2EBFA;\n",
              "      box-shadow: 0px 1px 2px rgba(60, 64, 67, 0.3), 0px 1px 3px 1px rgba(60, 64, 67, 0.15);\n",
              "      fill: #174EA6;\n",
              "    }\n",
              "\n",
              "    [theme=dark] .colab-df-convert {\n",
              "      background-color: #3B4455;\n",
              "      fill: #D2E3FC;\n",
              "    }\n",
              "\n",
              "    [theme=dark] .colab-df-convert:hover {\n",
              "      background-color: #434B5C;\n",
              "      box-shadow: 0px 1px 3px 1px rgba(0, 0, 0, 0.15);\n",
              "      filter: drop-shadow(0px 1px 2px rgba(0, 0, 0, 0.3));\n",
              "      fill: #FFFFFF;\n",
              "    }\n",
              "  </style>\n",
              "\n",
              "      <script>\n",
              "        const buttonEl =\n",
              "          document.querySelector('#df-43969130-0387-48a4-a507-fe6a952349a8 button.colab-df-convert');\n",
              "        buttonEl.style.display =\n",
              "          google.colab.kernel.accessAllowed ? 'block' : 'none';\n",
              "\n",
              "        async function convertToInteractive(key) {\n",
              "          const element = document.querySelector('#df-43969130-0387-48a4-a507-fe6a952349a8');\n",
              "          const dataTable =\n",
              "            await google.colab.kernel.invokeFunction('convertToInteractive',\n",
              "                                                     [key], {});\n",
              "          if (!dataTable) return;\n",
              "\n",
              "          const docLinkHtml = 'Like what you see? Visit the ' +\n",
              "            '<a target=\"_blank\" href=https://colab.research.google.com/notebooks/data_table.ipynb>data table notebook</a>'\n",
              "            + ' to learn more about interactive tables.';\n",
              "          element.innerHTML = '';\n",
              "          dataTable['output_type'] = 'display_data';\n",
              "          await google.colab.output.renderOutput(dataTable, element);\n",
              "          const docLink = document.createElement('div');\n",
              "          docLink.innerHTML = docLinkHtml;\n",
              "          element.appendChild(docLink);\n",
              "        }\n",
              "      </script>\n",
              "    </div>\n",
              "  </div>\n",
              "  "
            ]
          },
          "metadata": {},
          "execution_count": 28
        }
      ]
    },
    {
      "cell_type": "code",
      "source": [
        "plot = data.groupby('cluster').Churn.mean().reset_index()\n",
        "plot_data = [\n",
        "    go.Bar(\n",
        "        x=plot['cluster'],\n",
        "        y=plot['Churn'],\n",
        "        width = [0.5, 0.5],\n",
        "        marker=dict(\n",
        "        color=['green', 'blue','orange'])\n",
        "    )\n",
        "]\n",
        "plot_layout = go.Layout(\n",
        "        xaxis={\"type\": \"category\"},\n",
        "        yaxis={\"title\": \"Churn Rate\"},\n",
        "        title='Tenure cluster VS churn rate',\n",
        "        plot_bgcolor  = 'rgb(243,243,243)',\n",
        "        paper_bgcolor  = 'rgb(243,243,243)',\n",
        "    )\n",
        "fig = go.Figure(data=plot_data, layout=plot_layout)\n",
        "pyoff.iplot(fig)"
      ],
      "metadata": {
        "colab": {
          "base_uri": "https://localhost:8080/",
          "height": 542
        },
        "id": "0K9AR8dkXahu",
        "outputId": "b8189ff7-0824-4b7c-8205-738b73a2d469"
      },
      "execution_count": 29,
      "outputs": [
        {
          "output_type": "display_data",
          "data": {
            "text/html": [
              "<html>\n",
              "<head><meta charset=\"utf-8\" /></head>\n",
              "<body>\n",
              "    <div>            <script src=\"https://cdnjs.cloudflare.com/ajax/libs/mathjax/2.7.5/MathJax.js?config=TeX-AMS-MML_SVG\"></script><script type=\"text/javascript\">if (window.MathJax && window.MathJax.Hub && window.MathJax.Hub.Config) {window.MathJax.Hub.Config({SVG: {font: \"STIX-Web\"}});}</script>                <script type=\"text/javascript\">window.PlotlyConfig = {MathJaxConfig: 'local'};</script>\n",
              "        <script src=\"https://cdn.plot.ly/plotly-2.18.2.min.js\"></script>                <div id=\"c8cde216-0d82-46d3-b62d-de3beb43bb0a\" class=\"plotly-graph-div\" style=\"height:525px; width:100%;\"></div>            <script type=\"text/javascript\">                                    window.PLOTLYENV=window.PLOTLYENV || {};                                    if (document.getElementById(\"c8cde216-0d82-46d3-b62d-de3beb43bb0a\")) {                    Plotly.newPlot(                        \"c8cde216-0d82-46d3-b62d-de3beb43bb0a\",                        [{\"marker\":{\"color\":[\"green\",\"blue\",\"orange\"]},\"width\":[0.5,0.5],\"x\":[0,1,2],\"y\":[0.09513175524787852,0.4346768589298124,0.2102803738317757],\"type\":\"bar\"}],                        {\"paper_bgcolor\":\"rgb(243,243,243)\",\"plot_bgcolor\":\"rgb(243,243,243)\",\"template\":{\"data\":{\"barpolar\":[{\"marker\":{\"line\":{\"color\":\"#E5ECF6\",\"width\":0.5},\"pattern\":{\"fillmode\":\"overlay\",\"size\":10,\"solidity\":0.2}},\"type\":\"barpolar\"}],\"bar\":[{\"error_x\":{\"color\":\"#2a3f5f\"},\"error_y\":{\"color\":\"#2a3f5f\"},\"marker\":{\"line\":{\"color\":\"#E5ECF6\",\"width\":0.5},\"pattern\":{\"fillmode\":\"overlay\",\"size\":10,\"solidity\":0.2}},\"type\":\"bar\"}],\"carpet\":[{\"aaxis\":{\"endlinecolor\":\"#2a3f5f\",\"gridcolor\":\"white\",\"linecolor\":\"white\",\"minorgridcolor\":\"white\",\"startlinecolor\":\"#2a3f5f\"},\"baxis\":{\"endlinecolor\":\"#2a3f5f\",\"gridcolor\":\"white\",\"linecolor\":\"white\",\"minorgridcolor\":\"white\",\"startlinecolor\":\"#2a3f5f\"},\"type\":\"carpet\"}],\"choropleth\":[{\"colorbar\":{\"outlinewidth\":0,\"ticks\":\"\"},\"type\":\"choropleth\"}],\"contourcarpet\":[{\"colorbar\":{\"outlinewidth\":0,\"ticks\":\"\"},\"type\":\"contourcarpet\"}],\"contour\":[{\"colorbar\":{\"outlinewidth\":0,\"ticks\":\"\"},\"colorscale\":[[0.0,\"#0d0887\"],[0.1111111111111111,\"#46039f\"],[0.2222222222222222,\"#7201a8\"],[0.3333333333333333,\"#9c179e\"],[0.4444444444444444,\"#bd3786\"],[0.5555555555555556,\"#d8576b\"],[0.6666666666666666,\"#ed7953\"],[0.7777777777777778,\"#fb9f3a\"],[0.8888888888888888,\"#fdca26\"],[1.0,\"#f0f921\"]],\"type\":\"contour\"}],\"heatmapgl\":[{\"colorbar\":{\"outlinewidth\":0,\"ticks\":\"\"},\"colorscale\":[[0.0,\"#0d0887\"],[0.1111111111111111,\"#46039f\"],[0.2222222222222222,\"#7201a8\"],[0.3333333333333333,\"#9c179e\"],[0.4444444444444444,\"#bd3786\"],[0.5555555555555556,\"#d8576b\"],[0.6666666666666666,\"#ed7953\"],[0.7777777777777778,\"#fb9f3a\"],[0.8888888888888888,\"#fdca26\"],[1.0,\"#f0f921\"]],\"type\":\"heatmapgl\"}],\"heatmap\":[{\"colorbar\":{\"outlinewidth\":0,\"ticks\":\"\"},\"colorscale\":[[0.0,\"#0d0887\"],[0.1111111111111111,\"#46039f\"],[0.2222222222222222,\"#7201a8\"],[0.3333333333333333,\"#9c179e\"],[0.4444444444444444,\"#bd3786\"],[0.5555555555555556,\"#d8576b\"],[0.6666666666666666,\"#ed7953\"],[0.7777777777777778,\"#fb9f3a\"],[0.8888888888888888,\"#fdca26\"],[1.0,\"#f0f921\"]],\"type\":\"heatmap\"}],\"histogram2dcontour\":[{\"colorbar\":{\"outlinewidth\":0,\"ticks\":\"\"},\"colorscale\":[[0.0,\"#0d0887\"],[0.1111111111111111,\"#46039f\"],[0.2222222222222222,\"#7201a8\"],[0.3333333333333333,\"#9c179e\"],[0.4444444444444444,\"#bd3786\"],[0.5555555555555556,\"#d8576b\"],[0.6666666666666666,\"#ed7953\"],[0.7777777777777778,\"#fb9f3a\"],[0.8888888888888888,\"#fdca26\"],[1.0,\"#f0f921\"]],\"type\":\"histogram2dcontour\"}],\"histogram2d\":[{\"colorbar\":{\"outlinewidth\":0,\"ticks\":\"\"},\"colorscale\":[[0.0,\"#0d0887\"],[0.1111111111111111,\"#46039f\"],[0.2222222222222222,\"#7201a8\"],[0.3333333333333333,\"#9c179e\"],[0.4444444444444444,\"#bd3786\"],[0.5555555555555556,\"#d8576b\"],[0.6666666666666666,\"#ed7953\"],[0.7777777777777778,\"#fb9f3a\"],[0.8888888888888888,\"#fdca26\"],[1.0,\"#f0f921\"]],\"type\":\"histogram2d\"}],\"histogram\":[{\"marker\":{\"pattern\":{\"fillmode\":\"overlay\",\"size\":10,\"solidity\":0.2}},\"type\":\"histogram\"}],\"mesh3d\":[{\"colorbar\":{\"outlinewidth\":0,\"ticks\":\"\"},\"type\":\"mesh3d\"}],\"parcoords\":[{\"line\":{\"colorbar\":{\"outlinewidth\":0,\"ticks\":\"\"}},\"type\":\"parcoords\"}],\"pie\":[{\"automargin\":true,\"type\":\"pie\"}],\"scatter3d\":[{\"line\":{\"colorbar\":{\"outlinewidth\":0,\"ticks\":\"\"}},\"marker\":{\"colorbar\":{\"outlinewidth\":0,\"ticks\":\"\"}},\"type\":\"scatter3d\"}],\"scattercarpet\":[{\"marker\":{\"colorbar\":{\"outlinewidth\":0,\"ticks\":\"\"}},\"type\":\"scattercarpet\"}],\"scattergeo\":[{\"marker\":{\"colorbar\":{\"outlinewidth\":0,\"ticks\":\"\"}},\"type\":\"scattergeo\"}],\"scattergl\":[{\"marker\":{\"colorbar\":{\"outlinewidth\":0,\"ticks\":\"\"}},\"type\":\"scattergl\"}],\"scattermapbox\":[{\"marker\":{\"colorbar\":{\"outlinewidth\":0,\"ticks\":\"\"}},\"type\":\"scattermapbox\"}],\"scatterpolargl\":[{\"marker\":{\"colorbar\":{\"outlinewidth\":0,\"ticks\":\"\"}},\"type\":\"scatterpolargl\"}],\"scatterpolar\":[{\"marker\":{\"colorbar\":{\"outlinewidth\":0,\"ticks\":\"\"}},\"type\":\"scatterpolar\"}],\"scatter\":[{\"fillpattern\":{\"fillmode\":\"overlay\",\"size\":10,\"solidity\":0.2},\"type\":\"scatter\"}],\"scatterternary\":[{\"marker\":{\"colorbar\":{\"outlinewidth\":0,\"ticks\":\"\"}},\"type\":\"scatterternary\"}],\"surface\":[{\"colorbar\":{\"outlinewidth\":0,\"ticks\":\"\"},\"colorscale\":[[0.0,\"#0d0887\"],[0.1111111111111111,\"#46039f\"],[0.2222222222222222,\"#7201a8\"],[0.3333333333333333,\"#9c179e\"],[0.4444444444444444,\"#bd3786\"],[0.5555555555555556,\"#d8576b\"],[0.6666666666666666,\"#ed7953\"],[0.7777777777777778,\"#fb9f3a\"],[0.8888888888888888,\"#fdca26\"],[1.0,\"#f0f921\"]],\"type\":\"surface\"}],\"table\":[{\"cells\":{\"fill\":{\"color\":\"#EBF0F8\"},\"line\":{\"color\":\"white\"}},\"header\":{\"fill\":{\"color\":\"#C8D4E3\"},\"line\":{\"color\":\"white\"}},\"type\":\"table\"}]},\"layout\":{\"annotationdefaults\":{\"arrowcolor\":\"#2a3f5f\",\"arrowhead\":0,\"arrowwidth\":1},\"autotypenumbers\":\"strict\",\"coloraxis\":{\"colorbar\":{\"outlinewidth\":0,\"ticks\":\"\"}},\"colorscale\":{\"diverging\":[[0,\"#8e0152\"],[0.1,\"#c51b7d\"],[0.2,\"#de77ae\"],[0.3,\"#f1b6da\"],[0.4,\"#fde0ef\"],[0.5,\"#f7f7f7\"],[0.6,\"#e6f5d0\"],[0.7,\"#b8e186\"],[0.8,\"#7fbc41\"],[0.9,\"#4d9221\"],[1,\"#276419\"]],\"sequential\":[[0.0,\"#0d0887\"],[0.1111111111111111,\"#46039f\"],[0.2222222222222222,\"#7201a8\"],[0.3333333333333333,\"#9c179e\"],[0.4444444444444444,\"#bd3786\"],[0.5555555555555556,\"#d8576b\"],[0.6666666666666666,\"#ed7953\"],[0.7777777777777778,\"#fb9f3a\"],[0.8888888888888888,\"#fdca26\"],[1.0,\"#f0f921\"]],\"sequentialminus\":[[0.0,\"#0d0887\"],[0.1111111111111111,\"#46039f\"],[0.2222222222222222,\"#7201a8\"],[0.3333333333333333,\"#9c179e\"],[0.4444444444444444,\"#bd3786\"],[0.5555555555555556,\"#d8576b\"],[0.6666666666666666,\"#ed7953\"],[0.7777777777777778,\"#fb9f3a\"],[0.8888888888888888,\"#fdca26\"],[1.0,\"#f0f921\"]]},\"colorway\":[\"#636efa\",\"#EF553B\",\"#00cc96\",\"#ab63fa\",\"#FFA15A\",\"#19d3f3\",\"#FF6692\",\"#B6E880\",\"#FF97FF\",\"#FECB52\"],\"font\":{\"color\":\"#2a3f5f\"},\"geo\":{\"bgcolor\":\"white\",\"lakecolor\":\"white\",\"landcolor\":\"#E5ECF6\",\"showlakes\":true,\"showland\":true,\"subunitcolor\":\"white\"},\"hoverlabel\":{\"align\":\"left\"},\"hovermode\":\"closest\",\"mapbox\":{\"style\":\"light\"},\"paper_bgcolor\":\"white\",\"plot_bgcolor\":\"#E5ECF6\",\"polar\":{\"angularaxis\":{\"gridcolor\":\"white\",\"linecolor\":\"white\",\"ticks\":\"\"},\"bgcolor\":\"#E5ECF6\",\"radialaxis\":{\"gridcolor\":\"white\",\"linecolor\":\"white\",\"ticks\":\"\"}},\"scene\":{\"xaxis\":{\"backgroundcolor\":\"#E5ECF6\",\"gridcolor\":\"white\",\"gridwidth\":2,\"linecolor\":\"white\",\"showbackground\":true,\"ticks\":\"\",\"zerolinecolor\":\"white\"},\"yaxis\":{\"backgroundcolor\":\"#E5ECF6\",\"gridcolor\":\"white\",\"gridwidth\":2,\"linecolor\":\"white\",\"showbackground\":true,\"ticks\":\"\",\"zerolinecolor\":\"white\"},\"zaxis\":{\"backgroundcolor\":\"#E5ECF6\",\"gridcolor\":\"white\",\"gridwidth\":2,\"linecolor\":\"white\",\"showbackground\":true,\"ticks\":\"\",\"zerolinecolor\":\"white\"}},\"shapedefaults\":{\"line\":{\"color\":\"#2a3f5f\"}},\"ternary\":{\"aaxis\":{\"gridcolor\":\"white\",\"linecolor\":\"white\",\"ticks\":\"\"},\"baxis\":{\"gridcolor\":\"white\",\"linecolor\":\"white\",\"ticks\":\"\"},\"bgcolor\":\"#E5ECF6\",\"caxis\":{\"gridcolor\":\"white\",\"linecolor\":\"white\",\"ticks\":\"\"}},\"title\":{\"x\":0.05},\"xaxis\":{\"automargin\":true,\"gridcolor\":\"white\",\"linecolor\":\"white\",\"ticks\":\"\",\"title\":{\"standoff\":15},\"zerolinecolor\":\"white\",\"zerolinewidth\":2},\"yaxis\":{\"automargin\":true,\"gridcolor\":\"white\",\"linecolor\":\"white\",\"ticks\":\"\",\"title\":{\"standoff\":15},\"zerolinecolor\":\"white\",\"zerolinewidth\":2}}},\"title\":{\"text\":\"Tenure cluster VS churn rate\"},\"xaxis\":{\"type\":\"category\"},\"yaxis\":{\"title\":{\"text\":\"Churn Rate\"}}},                        {\"responsive\": true}                    ).then(function(){\n",
              "                            \n",
              "var gd = document.getElementById('c8cde216-0d82-46d3-b62d-de3beb43bb0a');\n",
              "var x = new MutationObserver(function (mutations, observer) {{\n",
              "        var display = window.getComputedStyle(gd).display;\n",
              "        if (!display || display === 'none') {{\n",
              "            console.log([gd, 'removed!']);\n",
              "            Plotly.purge(gd);\n",
              "            observer.disconnect();\n",
              "        }}\n",
              "}});\n",
              "\n",
              "// Listen for the removal of the full notebook cells\n",
              "var notebookContainer = gd.closest('#notebook-container');\n",
              "if (notebookContainer) {{\n",
              "    x.observe(notebookContainer, {childList: true});\n",
              "}}\n",
              "\n",
              "// Listen for the clearing of the current output cell\n",
              "var outputEl = gd.closest('.output');\n",
              "if (outputEl) {{\n",
              "    x.observe(outputEl, {childList: true});\n",
              "}}\n",
              "\n",
              "                        })                };                            </script>        </div>\n",
              "</body>\n",
              "</html>"
            ]
          },
          "metadata": {}
        }
      ]
    },
    {
      "cell_type": "code",
      "source": [
        "km1 = KMeans(n_clusters=3)\n",
        "y_predicted=km.fit_predict(data[['MonthlyCharges']])\n",
        "data['MonthlyChargesCluster']=y_predicted"
      ],
      "metadata": {
        "colab": {
          "base_uri": "https://localhost:8080/"
        },
        "id": "MbTQr45lbiBl",
        "outputId": "51300bcb-e55c-41f5-cdc9-67bb4eb3304c"
      },
      "execution_count": 30,
      "outputs": [
        {
          "output_type": "stream",
          "name": "stderr",
          "text": [
            "/usr/local/lib/python3.10/dist-packages/sklearn/cluster/_kmeans.py:870: FutureWarning:\n",
            "\n",
            "The default value of `n_init` will change from 10 to 'auto' in 1.4. Set the value of `n_init` explicitly to suppress the warning\n",
            "\n"
          ]
        }
      ]
    },
    {
      "cell_type": "code",
      "source": [
        "data.groupby('MonthlyChargesCluster').MonthlyCharges.describe()"
      ],
      "metadata": {
        "colab": {
          "base_uri": "https://localhost:8080/",
          "height": 175
        },
        "id": "6k4CUTHqcXDw",
        "outputId": "8ebf3837-b342-44f4-bd36-97f35694ae10"
      },
      "execution_count": 31,
      "outputs": [
        {
          "output_type": "execute_result",
          "data": {
            "text/plain": [
              "                        count       mean        std    min   25%    50%  \\\n",
              "MonthlyChargesCluster                                                     \n",
              "0                      2241.0  61.643284  10.448008  42.60  51.8  61.55   \n",
              "1                      2910.0  94.065395  10.338766  77.90  85.1  93.90   \n",
              "2                      1892.0  23.384619   5.660437  18.25  19.8  20.40   \n",
              "\n",
              "                            75%     max  \n",
              "MonthlyChargesCluster                    \n",
              "0                       70.7000   77.85  \n",
              "1                      101.9375  118.75  \n",
              "2                       25.0500   42.40  "
            ],
            "text/html": [
              "\n",
              "  <div id=\"df-be54783d-0f1c-477f-b611-eb94a42e0840\">\n",
              "    <div class=\"colab-df-container\">\n",
              "      <div>\n",
              "<style scoped>\n",
              "    .dataframe tbody tr th:only-of-type {\n",
              "        vertical-align: middle;\n",
              "    }\n",
              "\n",
              "    .dataframe tbody tr th {\n",
              "        vertical-align: top;\n",
              "    }\n",
              "\n",
              "    .dataframe thead th {\n",
              "        text-align: right;\n",
              "    }\n",
              "</style>\n",
              "<table border=\"1\" class=\"dataframe\">\n",
              "  <thead>\n",
              "    <tr style=\"text-align: right;\">\n",
              "      <th></th>\n",
              "      <th>count</th>\n",
              "      <th>mean</th>\n",
              "      <th>std</th>\n",
              "      <th>min</th>\n",
              "      <th>25%</th>\n",
              "      <th>50%</th>\n",
              "      <th>75%</th>\n",
              "      <th>max</th>\n",
              "    </tr>\n",
              "    <tr>\n",
              "      <th>MonthlyChargesCluster</th>\n",
              "      <th></th>\n",
              "      <th></th>\n",
              "      <th></th>\n",
              "      <th></th>\n",
              "      <th></th>\n",
              "      <th></th>\n",
              "      <th></th>\n",
              "      <th></th>\n",
              "    </tr>\n",
              "  </thead>\n",
              "  <tbody>\n",
              "    <tr>\n",
              "      <th>0</th>\n",
              "      <td>2241.0</td>\n",
              "      <td>61.643284</td>\n",
              "      <td>10.448008</td>\n",
              "      <td>42.60</td>\n",
              "      <td>51.8</td>\n",
              "      <td>61.55</td>\n",
              "      <td>70.7000</td>\n",
              "      <td>77.85</td>\n",
              "    </tr>\n",
              "    <tr>\n",
              "      <th>1</th>\n",
              "      <td>2910.0</td>\n",
              "      <td>94.065395</td>\n",
              "      <td>10.338766</td>\n",
              "      <td>77.90</td>\n",
              "      <td>85.1</td>\n",
              "      <td>93.90</td>\n",
              "      <td>101.9375</td>\n",
              "      <td>118.75</td>\n",
              "    </tr>\n",
              "    <tr>\n",
              "      <th>2</th>\n",
              "      <td>1892.0</td>\n",
              "      <td>23.384619</td>\n",
              "      <td>5.660437</td>\n",
              "      <td>18.25</td>\n",
              "      <td>19.8</td>\n",
              "      <td>20.40</td>\n",
              "      <td>25.0500</td>\n",
              "      <td>42.40</td>\n",
              "    </tr>\n",
              "  </tbody>\n",
              "</table>\n",
              "</div>\n",
              "      <button class=\"colab-df-convert\" onclick=\"convertToInteractive('df-be54783d-0f1c-477f-b611-eb94a42e0840')\"\n",
              "              title=\"Convert this dataframe to an interactive table.\"\n",
              "              style=\"display:none;\">\n",
              "        \n",
              "  <svg xmlns=\"http://www.w3.org/2000/svg\" height=\"24px\"viewBox=\"0 0 24 24\"\n",
              "       width=\"24px\">\n",
              "    <path d=\"M0 0h24v24H0V0z\" fill=\"none\"/>\n",
              "    <path d=\"M18.56 5.44l.94 2.06.94-2.06 2.06-.94-2.06-.94-.94-2.06-.94 2.06-2.06.94zm-11 1L8.5 8.5l.94-2.06 2.06-.94-2.06-.94L8.5 2.5l-.94 2.06-2.06.94zm10 10l.94 2.06.94-2.06 2.06-.94-2.06-.94-.94-2.06-.94 2.06-2.06.94z\"/><path d=\"M17.41 7.96l-1.37-1.37c-.4-.4-.92-.59-1.43-.59-.52 0-1.04.2-1.43.59L10.3 9.45l-7.72 7.72c-.78.78-.78 2.05 0 2.83L4 21.41c.39.39.9.59 1.41.59.51 0 1.02-.2 1.41-.59l7.78-7.78 2.81-2.81c.8-.78.8-2.07 0-2.86zM5.41 20L4 18.59l7.72-7.72 1.47 1.35L5.41 20z\"/>\n",
              "  </svg>\n",
              "      </button>\n",
              "      \n",
              "  <style>\n",
              "    .colab-df-container {\n",
              "      display:flex;\n",
              "      flex-wrap:wrap;\n",
              "      gap: 12px;\n",
              "    }\n",
              "\n",
              "    .colab-df-convert {\n",
              "      background-color: #E8F0FE;\n",
              "      border: none;\n",
              "      border-radius: 50%;\n",
              "      cursor: pointer;\n",
              "      display: none;\n",
              "      fill: #1967D2;\n",
              "      height: 32px;\n",
              "      padding: 0 0 0 0;\n",
              "      width: 32px;\n",
              "    }\n",
              "\n",
              "    .colab-df-convert:hover {\n",
              "      background-color: #E2EBFA;\n",
              "      box-shadow: 0px 1px 2px rgba(60, 64, 67, 0.3), 0px 1px 3px 1px rgba(60, 64, 67, 0.15);\n",
              "      fill: #174EA6;\n",
              "    }\n",
              "\n",
              "    [theme=dark] .colab-df-convert {\n",
              "      background-color: #3B4455;\n",
              "      fill: #D2E3FC;\n",
              "    }\n",
              "\n",
              "    [theme=dark] .colab-df-convert:hover {\n",
              "      background-color: #434B5C;\n",
              "      box-shadow: 0px 1px 3px 1px rgba(0, 0, 0, 0.15);\n",
              "      filter: drop-shadow(0px 1px 2px rgba(0, 0, 0, 0.3));\n",
              "      fill: #FFFFFF;\n",
              "    }\n",
              "  </style>\n",
              "\n",
              "      <script>\n",
              "        const buttonEl =\n",
              "          document.querySelector('#df-be54783d-0f1c-477f-b611-eb94a42e0840 button.colab-df-convert');\n",
              "        buttonEl.style.display =\n",
              "          google.colab.kernel.accessAllowed ? 'block' : 'none';\n",
              "\n",
              "        async function convertToInteractive(key) {\n",
              "          const element = document.querySelector('#df-be54783d-0f1c-477f-b611-eb94a42e0840');\n",
              "          const dataTable =\n",
              "            await google.colab.kernel.invokeFunction('convertToInteractive',\n",
              "                                                     [key], {});\n",
              "          if (!dataTable) return;\n",
              "\n",
              "          const docLinkHtml = 'Like what you see? Visit the ' +\n",
              "            '<a target=\"_blank\" href=https://colab.research.google.com/notebooks/data_table.ipynb>data table notebook</a>'\n",
              "            + ' to learn more about interactive tables.';\n",
              "          element.innerHTML = '';\n",
              "          dataTable['output_type'] = 'display_data';\n",
              "          await google.colab.output.renderOutput(dataTable, element);\n",
              "          const docLink = document.createElement('div');\n",
              "          docLink.innerHTML = docLinkHtml;\n",
              "          element.appendChild(docLink);\n",
              "        }\n",
              "      </script>\n",
              "    </div>\n",
              "  </div>\n",
              "  "
            ]
          },
          "metadata": {},
          "execution_count": 31
        }
      ]
    },
    {
      "cell_type": "code",
      "source": [
        "plot = data.groupby('MonthlyChargesCluster').Churn.mean().reset_index()\n",
        "plot_data = [\n",
        "    go.Bar(\n",
        "        x=plot['MonthlyChargesCluster'],\n",
        "        y=plot['Churn'],\n",
        "        width = [0.5, 0.5],\n",
        "        marker=dict(\n",
        "        color=['green', 'blue','orange'])\n",
        "    )\n",
        "]\n",
        "plot_layout = go.Layout(\n",
        "        xaxis={\"type\": \"category\"},\n",
        "        yaxis={\"title\": \"Churn Rate\"},\n",
        "        title='Monthly Charges cluster VS churn rate',\n",
        "        plot_bgcolor  = 'rgb(243,243,243)',\n",
        "        paper_bgcolor  = 'rgb(243,243,243)',\n",
        "    )\n",
        "fig = go.Figure(data=plot_data, layout=plot_layout)\n",
        "pyoff.iplot(fig)"
      ],
      "metadata": {
        "colab": {
          "base_uri": "https://localhost:8080/",
          "height": 542
        },
        "id": "StSe9A_zcj14",
        "outputId": "1d21f9c0-622c-44ff-e20c-88489d0c833f"
      },
      "execution_count": 32,
      "outputs": [
        {
          "output_type": "display_data",
          "data": {
            "text/html": [
              "<html>\n",
              "<head><meta charset=\"utf-8\" /></head>\n",
              "<body>\n",
              "    <div>            <script src=\"https://cdnjs.cloudflare.com/ajax/libs/mathjax/2.7.5/MathJax.js?config=TeX-AMS-MML_SVG\"></script><script type=\"text/javascript\">if (window.MathJax && window.MathJax.Hub && window.MathJax.Hub.Config) {window.MathJax.Hub.Config({SVG: {font: \"STIX-Web\"}});}</script>                <script type=\"text/javascript\">window.PlotlyConfig = {MathJaxConfig: 'local'};</script>\n",
              "        <script src=\"https://cdn.plot.ly/plotly-2.18.2.min.js\"></script>                <div id=\"bdd8d37a-7fb2-48c5-9a30-54666dde751b\" class=\"plotly-graph-div\" style=\"height:525px; width:100%;\"></div>            <script type=\"text/javascript\">                                    window.PLOTLYENV=window.PLOTLYENV || {};                                    if (document.getElementById(\"bdd8d37a-7fb2-48c5-9a30-54666dde751b\")) {                    Plotly.newPlot(                        \"bdd8d37a-7fb2-48c5-9a30-54666dde751b\",                        [{\"marker\":{\"color\":[\"green\",\"blue\",\"orange\"]},\"width\":[0.5,0.5],\"x\":[0,1,2],\"y\":[0.2838018741633199,0.3450171821305842,0.12103594080338266],\"type\":\"bar\"}],                        {\"paper_bgcolor\":\"rgb(243,243,243)\",\"plot_bgcolor\":\"rgb(243,243,243)\",\"template\":{\"data\":{\"barpolar\":[{\"marker\":{\"line\":{\"color\":\"#E5ECF6\",\"width\":0.5},\"pattern\":{\"fillmode\":\"overlay\",\"size\":10,\"solidity\":0.2}},\"type\":\"barpolar\"}],\"bar\":[{\"error_x\":{\"color\":\"#2a3f5f\"},\"error_y\":{\"color\":\"#2a3f5f\"},\"marker\":{\"line\":{\"color\":\"#E5ECF6\",\"width\":0.5},\"pattern\":{\"fillmode\":\"overlay\",\"size\":10,\"solidity\":0.2}},\"type\":\"bar\"}],\"carpet\":[{\"aaxis\":{\"endlinecolor\":\"#2a3f5f\",\"gridcolor\":\"white\",\"linecolor\":\"white\",\"minorgridcolor\":\"white\",\"startlinecolor\":\"#2a3f5f\"},\"baxis\":{\"endlinecolor\":\"#2a3f5f\",\"gridcolor\":\"white\",\"linecolor\":\"white\",\"minorgridcolor\":\"white\",\"startlinecolor\":\"#2a3f5f\"},\"type\":\"carpet\"}],\"choropleth\":[{\"colorbar\":{\"outlinewidth\":0,\"ticks\":\"\"},\"type\":\"choropleth\"}],\"contourcarpet\":[{\"colorbar\":{\"outlinewidth\":0,\"ticks\":\"\"},\"type\":\"contourcarpet\"}],\"contour\":[{\"colorbar\":{\"outlinewidth\":0,\"ticks\":\"\"},\"colorscale\":[[0.0,\"#0d0887\"],[0.1111111111111111,\"#46039f\"],[0.2222222222222222,\"#7201a8\"],[0.3333333333333333,\"#9c179e\"],[0.4444444444444444,\"#bd3786\"],[0.5555555555555556,\"#d8576b\"],[0.6666666666666666,\"#ed7953\"],[0.7777777777777778,\"#fb9f3a\"],[0.8888888888888888,\"#fdca26\"],[1.0,\"#f0f921\"]],\"type\":\"contour\"}],\"heatmapgl\":[{\"colorbar\":{\"outlinewidth\":0,\"ticks\":\"\"},\"colorscale\":[[0.0,\"#0d0887\"],[0.1111111111111111,\"#46039f\"],[0.2222222222222222,\"#7201a8\"],[0.3333333333333333,\"#9c179e\"],[0.4444444444444444,\"#bd3786\"],[0.5555555555555556,\"#d8576b\"],[0.6666666666666666,\"#ed7953\"],[0.7777777777777778,\"#fb9f3a\"],[0.8888888888888888,\"#fdca26\"],[1.0,\"#f0f921\"]],\"type\":\"heatmapgl\"}],\"heatmap\":[{\"colorbar\":{\"outlinewidth\":0,\"ticks\":\"\"},\"colorscale\":[[0.0,\"#0d0887\"],[0.1111111111111111,\"#46039f\"],[0.2222222222222222,\"#7201a8\"],[0.3333333333333333,\"#9c179e\"],[0.4444444444444444,\"#bd3786\"],[0.5555555555555556,\"#d8576b\"],[0.6666666666666666,\"#ed7953\"],[0.7777777777777778,\"#fb9f3a\"],[0.8888888888888888,\"#fdca26\"],[1.0,\"#f0f921\"]],\"type\":\"heatmap\"}],\"histogram2dcontour\":[{\"colorbar\":{\"outlinewidth\":0,\"ticks\":\"\"},\"colorscale\":[[0.0,\"#0d0887\"],[0.1111111111111111,\"#46039f\"],[0.2222222222222222,\"#7201a8\"],[0.3333333333333333,\"#9c179e\"],[0.4444444444444444,\"#bd3786\"],[0.5555555555555556,\"#d8576b\"],[0.6666666666666666,\"#ed7953\"],[0.7777777777777778,\"#fb9f3a\"],[0.8888888888888888,\"#fdca26\"],[1.0,\"#f0f921\"]],\"type\":\"histogram2dcontour\"}],\"histogram2d\":[{\"colorbar\":{\"outlinewidth\":0,\"ticks\":\"\"},\"colorscale\":[[0.0,\"#0d0887\"],[0.1111111111111111,\"#46039f\"],[0.2222222222222222,\"#7201a8\"],[0.3333333333333333,\"#9c179e\"],[0.4444444444444444,\"#bd3786\"],[0.5555555555555556,\"#d8576b\"],[0.6666666666666666,\"#ed7953\"],[0.7777777777777778,\"#fb9f3a\"],[0.8888888888888888,\"#fdca26\"],[1.0,\"#f0f921\"]],\"type\":\"histogram2d\"}],\"histogram\":[{\"marker\":{\"pattern\":{\"fillmode\":\"overlay\",\"size\":10,\"solidity\":0.2}},\"type\":\"histogram\"}],\"mesh3d\":[{\"colorbar\":{\"outlinewidth\":0,\"ticks\":\"\"},\"type\":\"mesh3d\"}],\"parcoords\":[{\"line\":{\"colorbar\":{\"outlinewidth\":0,\"ticks\":\"\"}},\"type\":\"parcoords\"}],\"pie\":[{\"automargin\":true,\"type\":\"pie\"}],\"scatter3d\":[{\"line\":{\"colorbar\":{\"outlinewidth\":0,\"ticks\":\"\"}},\"marker\":{\"colorbar\":{\"outlinewidth\":0,\"ticks\":\"\"}},\"type\":\"scatter3d\"}],\"scattercarpet\":[{\"marker\":{\"colorbar\":{\"outlinewidth\":0,\"ticks\":\"\"}},\"type\":\"scattercarpet\"}],\"scattergeo\":[{\"marker\":{\"colorbar\":{\"outlinewidth\":0,\"ticks\":\"\"}},\"type\":\"scattergeo\"}],\"scattergl\":[{\"marker\":{\"colorbar\":{\"outlinewidth\":0,\"ticks\":\"\"}},\"type\":\"scattergl\"}],\"scattermapbox\":[{\"marker\":{\"colorbar\":{\"outlinewidth\":0,\"ticks\":\"\"}},\"type\":\"scattermapbox\"}],\"scatterpolargl\":[{\"marker\":{\"colorbar\":{\"outlinewidth\":0,\"ticks\":\"\"}},\"type\":\"scatterpolargl\"}],\"scatterpolar\":[{\"marker\":{\"colorbar\":{\"outlinewidth\":0,\"ticks\":\"\"}},\"type\":\"scatterpolar\"}],\"scatter\":[{\"fillpattern\":{\"fillmode\":\"overlay\",\"size\":10,\"solidity\":0.2},\"type\":\"scatter\"}],\"scatterternary\":[{\"marker\":{\"colorbar\":{\"outlinewidth\":0,\"ticks\":\"\"}},\"type\":\"scatterternary\"}],\"surface\":[{\"colorbar\":{\"outlinewidth\":0,\"ticks\":\"\"},\"colorscale\":[[0.0,\"#0d0887\"],[0.1111111111111111,\"#46039f\"],[0.2222222222222222,\"#7201a8\"],[0.3333333333333333,\"#9c179e\"],[0.4444444444444444,\"#bd3786\"],[0.5555555555555556,\"#d8576b\"],[0.6666666666666666,\"#ed7953\"],[0.7777777777777778,\"#fb9f3a\"],[0.8888888888888888,\"#fdca26\"],[1.0,\"#f0f921\"]],\"type\":\"surface\"}],\"table\":[{\"cells\":{\"fill\":{\"color\":\"#EBF0F8\"},\"line\":{\"color\":\"white\"}},\"header\":{\"fill\":{\"color\":\"#C8D4E3\"},\"line\":{\"color\":\"white\"}},\"type\":\"table\"}]},\"layout\":{\"annotationdefaults\":{\"arrowcolor\":\"#2a3f5f\",\"arrowhead\":0,\"arrowwidth\":1},\"autotypenumbers\":\"strict\",\"coloraxis\":{\"colorbar\":{\"outlinewidth\":0,\"ticks\":\"\"}},\"colorscale\":{\"diverging\":[[0,\"#8e0152\"],[0.1,\"#c51b7d\"],[0.2,\"#de77ae\"],[0.3,\"#f1b6da\"],[0.4,\"#fde0ef\"],[0.5,\"#f7f7f7\"],[0.6,\"#e6f5d0\"],[0.7,\"#b8e186\"],[0.8,\"#7fbc41\"],[0.9,\"#4d9221\"],[1,\"#276419\"]],\"sequential\":[[0.0,\"#0d0887\"],[0.1111111111111111,\"#46039f\"],[0.2222222222222222,\"#7201a8\"],[0.3333333333333333,\"#9c179e\"],[0.4444444444444444,\"#bd3786\"],[0.5555555555555556,\"#d8576b\"],[0.6666666666666666,\"#ed7953\"],[0.7777777777777778,\"#fb9f3a\"],[0.8888888888888888,\"#fdca26\"],[1.0,\"#f0f921\"]],\"sequentialminus\":[[0.0,\"#0d0887\"],[0.1111111111111111,\"#46039f\"],[0.2222222222222222,\"#7201a8\"],[0.3333333333333333,\"#9c179e\"],[0.4444444444444444,\"#bd3786\"],[0.5555555555555556,\"#d8576b\"],[0.6666666666666666,\"#ed7953\"],[0.7777777777777778,\"#fb9f3a\"],[0.8888888888888888,\"#fdca26\"],[1.0,\"#f0f921\"]]},\"colorway\":[\"#636efa\",\"#EF553B\",\"#00cc96\",\"#ab63fa\",\"#FFA15A\",\"#19d3f3\",\"#FF6692\",\"#B6E880\",\"#FF97FF\",\"#FECB52\"],\"font\":{\"color\":\"#2a3f5f\"},\"geo\":{\"bgcolor\":\"white\",\"lakecolor\":\"white\",\"landcolor\":\"#E5ECF6\",\"showlakes\":true,\"showland\":true,\"subunitcolor\":\"white\"},\"hoverlabel\":{\"align\":\"left\"},\"hovermode\":\"closest\",\"mapbox\":{\"style\":\"light\"},\"paper_bgcolor\":\"white\",\"plot_bgcolor\":\"#E5ECF6\",\"polar\":{\"angularaxis\":{\"gridcolor\":\"white\",\"linecolor\":\"white\",\"ticks\":\"\"},\"bgcolor\":\"#E5ECF6\",\"radialaxis\":{\"gridcolor\":\"white\",\"linecolor\":\"white\",\"ticks\":\"\"}},\"scene\":{\"xaxis\":{\"backgroundcolor\":\"#E5ECF6\",\"gridcolor\":\"white\",\"gridwidth\":2,\"linecolor\":\"white\",\"showbackground\":true,\"ticks\":\"\",\"zerolinecolor\":\"white\"},\"yaxis\":{\"backgroundcolor\":\"#E5ECF6\",\"gridcolor\":\"white\",\"gridwidth\":2,\"linecolor\":\"white\",\"showbackground\":true,\"ticks\":\"\",\"zerolinecolor\":\"white\"},\"zaxis\":{\"backgroundcolor\":\"#E5ECF6\",\"gridcolor\":\"white\",\"gridwidth\":2,\"linecolor\":\"white\",\"showbackground\":true,\"ticks\":\"\",\"zerolinecolor\":\"white\"}},\"shapedefaults\":{\"line\":{\"color\":\"#2a3f5f\"}},\"ternary\":{\"aaxis\":{\"gridcolor\":\"white\",\"linecolor\":\"white\",\"ticks\":\"\"},\"baxis\":{\"gridcolor\":\"white\",\"linecolor\":\"white\",\"ticks\":\"\"},\"bgcolor\":\"#E5ECF6\",\"caxis\":{\"gridcolor\":\"white\",\"linecolor\":\"white\",\"ticks\":\"\"}},\"title\":{\"x\":0.05},\"xaxis\":{\"automargin\":true,\"gridcolor\":\"white\",\"linecolor\":\"white\",\"ticks\":\"\",\"title\":{\"standoff\":15},\"zerolinecolor\":\"white\",\"zerolinewidth\":2},\"yaxis\":{\"automargin\":true,\"gridcolor\":\"white\",\"linecolor\":\"white\",\"ticks\":\"\",\"title\":{\"standoff\":15},\"zerolinecolor\":\"white\",\"zerolinewidth\":2}}},\"title\":{\"text\":\"Monthly Charges cluster VS churn rate\"},\"xaxis\":{\"type\":\"category\"},\"yaxis\":{\"title\":{\"text\":\"Churn Rate\"}}},                        {\"responsive\": true}                    ).then(function(){\n",
              "                            \n",
              "var gd = document.getElementById('bdd8d37a-7fb2-48c5-9a30-54666dde751b');\n",
              "var x = new MutationObserver(function (mutations, observer) {{\n",
              "        var display = window.getComputedStyle(gd).display;\n",
              "        if (!display || display === 'none') {{\n",
              "            console.log([gd, 'removed!']);\n",
              "            Plotly.purge(gd);\n",
              "            observer.disconnect();\n",
              "        }}\n",
              "}});\n",
              "\n",
              "// Listen for the removal of the full notebook cells\n",
              "var notebookContainer = gd.closest('#notebook-container');\n",
              "if (notebookContainer) {{\n",
              "    x.observe(notebookContainer, {childList: true});\n",
              "}}\n",
              "\n",
              "// Listen for the clearing of the current output cell\n",
              "var outputEl = gd.closest('.output');\n",
              "if (outputEl) {{\n",
              "    x.observe(outputEl, {childList: true});\n",
              "}}\n",
              "\n",
              "                        })                };                            </script>        </div>\n",
              "</body>\n",
              "</html>"
            ]
          },
          "metadata": {}
        }
      ]
    },
    {
      "cell_type": "code",
      "source": [
        "#import Label Encoder\n",
        "from sklearn.preprocessing import LabelEncoder\n",
        "le = LabelEncoder()\n",
        "dummy_columns = [] #array for multiple value columns\n",
        "for column in data.columns:\n",
        "    if data[column].dtype == object and column != 'customerID':\n",
        "        if data[column].nunique() == 2:\n",
        "            #apply Label Encoder for binary ones\n",
        "            data[column] = le.fit_transform(data[column]) \n",
        "        else:\n",
        "            dummy_columns.append(column)\n",
        "#apply get dummies for selected columns\n",
        "data = pd.get_dummies(data = data,columns = dummy_columns)"
      ],
      "metadata": {
        "id": "I5XIfV24NAmn"
      },
      "execution_count": 33,
      "outputs": []
    },
    {
      "cell_type": "code",
      "source": [
        "data[['gender','Partner','cluster']].head()"
      ],
      "metadata": {
        "colab": {
          "base_uri": "https://localhost:8080/",
          "height": 206
        },
        "id": "VT8Hh73WWcv_",
        "outputId": "08bb11d2-78f6-47af-a0f7-fe6f809019b0"
      },
      "execution_count": 34,
      "outputs": [
        {
          "output_type": "execute_result",
          "data": {
            "text/plain": [
              "   gender  Partner  cluster\n",
              "0       0        1        1\n",
              "1       1        0        2\n",
              "2       1        0        1\n",
              "3       1        0        2\n",
              "4       0        0        1"
            ],
            "text/html": [
              "\n",
              "  <div id=\"df-9ea91911-265c-49bc-b0e7-b1afece8f3a2\">\n",
              "    <div class=\"colab-df-container\">\n",
              "      <div>\n",
              "<style scoped>\n",
              "    .dataframe tbody tr th:only-of-type {\n",
              "        vertical-align: middle;\n",
              "    }\n",
              "\n",
              "    .dataframe tbody tr th {\n",
              "        vertical-align: top;\n",
              "    }\n",
              "\n",
              "    .dataframe thead th {\n",
              "        text-align: right;\n",
              "    }\n",
              "</style>\n",
              "<table border=\"1\" class=\"dataframe\">\n",
              "  <thead>\n",
              "    <tr style=\"text-align: right;\">\n",
              "      <th></th>\n",
              "      <th>gender</th>\n",
              "      <th>Partner</th>\n",
              "      <th>cluster</th>\n",
              "    </tr>\n",
              "  </thead>\n",
              "  <tbody>\n",
              "    <tr>\n",
              "      <th>0</th>\n",
              "      <td>0</td>\n",
              "      <td>1</td>\n",
              "      <td>1</td>\n",
              "    </tr>\n",
              "    <tr>\n",
              "      <th>1</th>\n",
              "      <td>1</td>\n",
              "      <td>0</td>\n",
              "      <td>2</td>\n",
              "    </tr>\n",
              "    <tr>\n",
              "      <th>2</th>\n",
              "      <td>1</td>\n",
              "      <td>0</td>\n",
              "      <td>1</td>\n",
              "    </tr>\n",
              "    <tr>\n",
              "      <th>3</th>\n",
              "      <td>1</td>\n",
              "      <td>0</td>\n",
              "      <td>2</td>\n",
              "    </tr>\n",
              "    <tr>\n",
              "      <th>4</th>\n",
              "      <td>0</td>\n",
              "      <td>0</td>\n",
              "      <td>1</td>\n",
              "    </tr>\n",
              "  </tbody>\n",
              "</table>\n",
              "</div>\n",
              "      <button class=\"colab-df-convert\" onclick=\"convertToInteractive('df-9ea91911-265c-49bc-b0e7-b1afece8f3a2')\"\n",
              "              title=\"Convert this dataframe to an interactive table.\"\n",
              "              style=\"display:none;\">\n",
              "        \n",
              "  <svg xmlns=\"http://www.w3.org/2000/svg\" height=\"24px\"viewBox=\"0 0 24 24\"\n",
              "       width=\"24px\">\n",
              "    <path d=\"M0 0h24v24H0V0z\" fill=\"none\"/>\n",
              "    <path d=\"M18.56 5.44l.94 2.06.94-2.06 2.06-.94-2.06-.94-.94-2.06-.94 2.06-2.06.94zm-11 1L8.5 8.5l.94-2.06 2.06-.94-2.06-.94L8.5 2.5l-.94 2.06-2.06.94zm10 10l.94 2.06.94-2.06 2.06-.94-2.06-.94-.94-2.06-.94 2.06-2.06.94z\"/><path d=\"M17.41 7.96l-1.37-1.37c-.4-.4-.92-.59-1.43-.59-.52 0-1.04.2-1.43.59L10.3 9.45l-7.72 7.72c-.78.78-.78 2.05 0 2.83L4 21.41c.39.39.9.59 1.41.59.51 0 1.02-.2 1.41-.59l7.78-7.78 2.81-2.81c.8-.78.8-2.07 0-2.86zM5.41 20L4 18.59l7.72-7.72 1.47 1.35L5.41 20z\"/>\n",
              "  </svg>\n",
              "      </button>\n",
              "      \n",
              "  <style>\n",
              "    .colab-df-container {\n",
              "      display:flex;\n",
              "      flex-wrap:wrap;\n",
              "      gap: 12px;\n",
              "    }\n",
              "\n",
              "    .colab-df-convert {\n",
              "      background-color: #E8F0FE;\n",
              "      border: none;\n",
              "      border-radius: 50%;\n",
              "      cursor: pointer;\n",
              "      display: none;\n",
              "      fill: #1967D2;\n",
              "      height: 32px;\n",
              "      padding: 0 0 0 0;\n",
              "      width: 32px;\n",
              "    }\n",
              "\n",
              "    .colab-df-convert:hover {\n",
              "      background-color: #E2EBFA;\n",
              "      box-shadow: 0px 1px 2px rgba(60, 64, 67, 0.3), 0px 1px 3px 1px rgba(60, 64, 67, 0.15);\n",
              "      fill: #174EA6;\n",
              "    }\n",
              "\n",
              "    [theme=dark] .colab-df-convert {\n",
              "      background-color: #3B4455;\n",
              "      fill: #D2E3FC;\n",
              "    }\n",
              "\n",
              "    [theme=dark] .colab-df-convert:hover {\n",
              "      background-color: #434B5C;\n",
              "      box-shadow: 0px 1px 3px 1px rgba(0, 0, 0, 0.15);\n",
              "      filter: drop-shadow(0px 1px 2px rgba(0, 0, 0, 0.3));\n",
              "      fill: #FFFFFF;\n",
              "    }\n",
              "  </style>\n",
              "\n",
              "      <script>\n",
              "        const buttonEl =\n",
              "          document.querySelector('#df-9ea91911-265c-49bc-b0e7-b1afece8f3a2 button.colab-df-convert');\n",
              "        buttonEl.style.display =\n",
              "          google.colab.kernel.accessAllowed ? 'block' : 'none';\n",
              "\n",
              "        async function convertToInteractive(key) {\n",
              "          const element = document.querySelector('#df-9ea91911-265c-49bc-b0e7-b1afece8f3a2');\n",
              "          const dataTable =\n",
              "            await google.colab.kernel.invokeFunction('convertToInteractive',\n",
              "                                                     [key], {});\n",
              "          if (!dataTable) return;\n",
              "\n",
              "          const docLinkHtml = 'Like what you see? Visit the ' +\n",
              "            '<a target=\"_blank\" href=https://colab.research.google.com/notebooks/data_table.ipynb>data table notebook</a>'\n",
              "            + ' to learn more about interactive tables.';\n",
              "          element.innerHTML = '';\n",
              "          dataTable['output_type'] = 'display_data';\n",
              "          await google.colab.output.renderOutput(dataTable, element);\n",
              "          const docLink = document.createElement('div');\n",
              "          docLink.innerHTML = docLinkHtml;\n",
              "          element.appendChild(docLink);\n",
              "        }\n",
              "      </script>\n",
              "    </div>\n",
              "  </div>\n",
              "  "
            ]
          },
          "metadata": {},
          "execution_count": 34
        }
      ]
    },
    {
      "cell_type": "code",
      "source": [
        "reg=linear_model.LinearRegression()\n",
        "reg.fit(data[['tenure']],data.Churn)"
      ],
      "metadata": {
        "colab": {
          "base_uri": "https://localhost:8080/",
          "height": 75
        },
        "id": "wHbQ6DlRfTTL",
        "outputId": "dc91b23e-bb6e-49a2-db46-2217f0335a6b"
      },
      "execution_count": 35,
      "outputs": [
        {
          "output_type": "execute_result",
          "data": {
            "text/plain": [
              "LinearRegression()"
            ],
            "text/html": [
              "<style>#sk-container-id-2 {color: black;background-color: white;}#sk-container-id-2 pre{padding: 0;}#sk-container-id-2 div.sk-toggleable {background-color: white;}#sk-container-id-2 label.sk-toggleable__label {cursor: pointer;display: block;width: 100%;margin-bottom: 0;padding: 0.3em;box-sizing: border-box;text-align: center;}#sk-container-id-2 label.sk-toggleable__label-arrow:before {content: \"▸\";float: left;margin-right: 0.25em;color: #696969;}#sk-container-id-2 label.sk-toggleable__label-arrow:hover:before {color: black;}#sk-container-id-2 div.sk-estimator:hover label.sk-toggleable__label-arrow:before {color: black;}#sk-container-id-2 div.sk-toggleable__content {max-height: 0;max-width: 0;overflow: hidden;text-align: left;background-color: #f0f8ff;}#sk-container-id-2 div.sk-toggleable__content pre {margin: 0.2em;color: black;border-radius: 0.25em;background-color: #f0f8ff;}#sk-container-id-2 input.sk-toggleable__control:checked~div.sk-toggleable__content {max-height: 200px;max-width: 100%;overflow: auto;}#sk-container-id-2 input.sk-toggleable__control:checked~label.sk-toggleable__label-arrow:before {content: \"▾\";}#sk-container-id-2 div.sk-estimator input.sk-toggleable__control:checked~label.sk-toggleable__label {background-color: #d4ebff;}#sk-container-id-2 div.sk-label input.sk-toggleable__control:checked~label.sk-toggleable__label {background-color: #d4ebff;}#sk-container-id-2 input.sk-hidden--visually {border: 0;clip: rect(1px 1px 1px 1px);clip: rect(1px, 1px, 1px, 1px);height: 1px;margin: -1px;overflow: hidden;padding: 0;position: absolute;width: 1px;}#sk-container-id-2 div.sk-estimator {font-family: monospace;background-color: #f0f8ff;border: 1px dotted black;border-radius: 0.25em;box-sizing: border-box;margin-bottom: 0.5em;}#sk-container-id-2 div.sk-estimator:hover {background-color: #d4ebff;}#sk-container-id-2 div.sk-parallel-item::after {content: \"\";width: 100%;border-bottom: 1px solid gray;flex-grow: 1;}#sk-container-id-2 div.sk-label:hover label.sk-toggleable__label {background-color: #d4ebff;}#sk-container-id-2 div.sk-serial::before {content: \"\";position: absolute;border-left: 1px solid gray;box-sizing: border-box;top: 0;bottom: 0;left: 50%;z-index: 0;}#sk-container-id-2 div.sk-serial {display: flex;flex-direction: column;align-items: center;background-color: white;padding-right: 0.2em;padding-left: 0.2em;position: relative;}#sk-container-id-2 div.sk-item {position: relative;z-index: 1;}#sk-container-id-2 div.sk-parallel {display: flex;align-items: stretch;justify-content: center;background-color: white;position: relative;}#sk-container-id-2 div.sk-item::before, #sk-container-id-2 div.sk-parallel-item::before {content: \"\";position: absolute;border-left: 1px solid gray;box-sizing: border-box;top: 0;bottom: 0;left: 50%;z-index: -1;}#sk-container-id-2 div.sk-parallel-item {display: flex;flex-direction: column;z-index: 1;position: relative;background-color: white;}#sk-container-id-2 div.sk-parallel-item:first-child::after {align-self: flex-end;width: 50%;}#sk-container-id-2 div.sk-parallel-item:last-child::after {align-self: flex-start;width: 50%;}#sk-container-id-2 div.sk-parallel-item:only-child::after {width: 0;}#sk-container-id-2 div.sk-dashed-wrapped {border: 1px dashed gray;margin: 0 0.4em 0.5em 0.4em;box-sizing: border-box;padding-bottom: 0.4em;background-color: white;}#sk-container-id-2 div.sk-label label {font-family: monospace;font-weight: bold;display: inline-block;line-height: 1.2em;}#sk-container-id-2 div.sk-label-container {text-align: center;}#sk-container-id-2 div.sk-container {/* jupyter's `normalize.less` sets `[hidden] { display: none; }` but bootstrap.min.css set `[hidden] { display: none !important; }` so we also need the `!important` here to be able to override the default hidden behavior on the sphinx rendered scikit-learn.org. See: https://github.com/scikit-learn/scikit-learn/issues/21755 */display: inline-block !important;position: relative;}#sk-container-id-2 div.sk-text-repr-fallback {display: none;}</style><div id=\"sk-container-id-2\" class=\"sk-top-container\"><div class=\"sk-text-repr-fallback\"><pre>LinearRegression()</pre><b>In a Jupyter environment, please rerun this cell to show the HTML representation or trust the notebook. <br />On GitHub, the HTML representation is unable to render, please try loading this page with nbviewer.org.</b></div><div class=\"sk-container\" hidden><div class=\"sk-item\"><div class=\"sk-estimator sk-toggleable\"><input class=\"sk-toggleable__control sk-hidden--visually\" id=\"sk-estimator-id-2\" type=\"checkbox\" checked><label for=\"sk-estimator-id-2\" class=\"sk-toggleable__label sk-toggleable__label-arrow\">LinearRegression</label><div class=\"sk-toggleable__content\"><pre>LinearRegression()</pre></div></div></div></div></div>"
            ]
          },
          "metadata": {},
          "execution_count": 35
        }
      ]
    },
    {
      "cell_type": "code",
      "source": [
        "from sklearn.model_selection import train_test_split\n",
        "from sklearn.linear_model import LogisticRegression"
      ],
      "metadata": {
        "id": "785YLTqWm5zi"
      },
      "execution_count": 36,
      "outputs": []
    },
    {
      "cell_type": "code",
      "source": [
        "X = data.drop(['Churn','customerID'],axis=1)\n",
        "y = data.Churn\n",
        "#train and test split\n",
        "X_train, X_test, y_train, y_test = train_test_split(X, y, test_size=0.05, random_state=56)\n",
        "model=LogisticRegression()\n",
        "model.fit(X_train,y_train)\n",
        "print(model.score(X_train,y_train))\n",
        "print(model.score(X_test[X_train.columns],y_test))"
      ],
      "metadata": {
        "colab": {
          "base_uri": "https://localhost:8080/"
        },
        "id": "it_grwCVWzvF",
        "outputId": "89324b73-46c8-49e7-cd9e-f30701a9fa7b"
      },
      "execution_count": 37,
      "outputs": [
        {
          "output_type": "stream",
          "name": "stderr",
          "text": [
            "/usr/local/lib/python3.10/dist-packages/sklearn/linear_model/_logistic.py:458: ConvergenceWarning:\n",
            "\n",
            "lbfgs failed to converge (status=1):\n",
            "STOP: TOTAL NO. of ITERATIONS REACHED LIMIT.\n",
            "\n",
            "Increase the number of iterations (max_iter) or scale the data as shown in:\n",
            "    https://scikit-learn.org/stable/modules/preprocessing.html\n",
            "Please also refer to the documentation for alternative solver options:\n",
            "    https://scikit-learn.org/stable/modules/linear_model.html#logistic-regression\n",
            "\n"
          ]
        },
        {
          "output_type": "stream",
          "name": "stdout",
          "text": [
            "0.8106128550074738\n",
            "0.8385269121813032\n"
          ]
        }
      ]
    },
    {
      "cell_type": "code",
      "source": [
        "from sklearn.metrics import classification_report\n",
        "y_pred = model.predict(X_test)\n",
        "print(classification_report(y_test, y_pred))\n"
      ],
      "metadata": {
        "id": "RkFKjWDhXMd-",
        "colab": {
          "base_uri": "https://localhost:8080/"
        },
        "outputId": "da1f8e08-39c2-40ce-cbb2-e5a679e7e048"
      },
      "execution_count": 38,
      "outputs": [
        {
          "output_type": "stream",
          "name": "stdout",
          "text": [
            "              precision    recall  f1-score   support\n",
            "\n",
            "           0       0.88      0.91      0.90       267\n",
            "           1       0.69      0.60      0.65        86\n",
            "\n",
            "    accuracy                           0.84       353\n",
            "   macro avg       0.79      0.76      0.77       353\n",
            "weighted avg       0.83      0.84      0.83       353\n",
            "\n"
          ]
        }
      ]
    },
    {
      "cell_type": "code",
      "source": [
        "from xgboost import XGBClassifier, plot_importance\n",
        "\n",
        "model=XGBClassifier()\n",
        "model.fit(X_train,y_train)\n",
        "plot_importance(model)"
      ],
      "metadata": {
        "colab": {
          "base_uri": "https://localhost:8080/",
          "height": 427
        },
        "id": "HAzMHAb7sjk_",
        "outputId": "367bde19-b74a-4590-f311-27de0688fd88"
      },
      "execution_count": null,
      "outputs": [
        {
          "output_type": "execute_result",
          "data": {
            "text/plain": [
              "<function matplotlib.pyplot.show(close=None, block=None)>"
            ]
          },
          "metadata": {},
          "execution_count": 122
        },
        {
          "output_type": "display_data",
          "data": {
            "text/plain": [
              "<Figure size 640x480 with 1 Axes>"
            ],
            "image/png": "[encoded data removed]"
          },
          "metadata": {}
        }
      ]
    },
    {
      "cell_type": "code",
      "source": [
        "data['proba']=model.predict_proba(data[X_train.columns])[:,1]"
      ],
      "metadata": {
        "id": "uYWgTBPyskfU"
      },
      "execution_count": null,
      "outputs": []
    },
    {
      "cell_type": "code",
      "source": [
        "data[['customerID','proba']].head()"
      ],
      "metadata": {
        "colab": {
          "base_uri": "https://localhost:8080/",
          "height": 206
        },
        "id": "zoipjVkP2PG9",
        "outputId": "83fe5fac-8bce-40bc-a991-6a7da22f4e78"
      },
      "execution_count": null,
      "outputs": [
        {
          "output_type": "execute_result",
          "data": {
            "text/plain": [
              "   customerID     proba\n",
              "0  7590-VHVEG  0.524645\n",
              "1  5575-GNVDE  0.056456\n",
              "2  3668-QPYBK  0.317559\n",
              "3  7795-CFOCW  0.043874\n",
              "4  9237-HQITU  0.700315"
            ],
            "text/html": [
              "\n",
              "  <div id=\"df-2f707fac-efb7-4740-92fb-738a54b0d95a\">\n",
              "    <div class=\"colab-df-container\">\n",
              "      <div>\n",
              "<style scoped>\n",
              "    .dataframe tbody tr th:only-of-type {\n",
              "        vertical-align: middle;\n",
              "    }\n",
              "\n",
              "    .dataframe tbody tr th {\n",
              "        vertical-align: top;\n",
              "    }\n",
              "\n",
              "    .dataframe thead th {\n",
              "        text-align: right;\n",
              "    }\n",
              "</style>\n",
              "<table border=\"1\" class=\"dataframe\">\n",
              "  <thead>\n",
              "    <tr style=\"text-align: right;\">\n",
              "      <th></th>\n",
              "      <th>customerID</th>\n",
              "      <th>proba</th>\n",
              "    </tr>\n",
              "  </thead>\n",
              "  <tbody>\n",
              "    <tr>\n",
              "      <th>0</th>\n",
              "      <td>7590-VHVEG</td>\n",
              "      <td>0.524645</td>\n",
              "    </tr>\n",
              "    <tr>\n",
              "      <th>1</th>\n",
              "      <td>5575-GNVDE</td>\n",
              "      <td>0.056456</td>\n",
              "    </tr>\n",
              "    <tr>\n",
              "      <th>2</th>\n",
              "      <td>3668-QPYBK</td>\n",
              "      <td>0.317559</td>\n",
              "    </tr>\n",
              "    <tr>\n",
              "      <th>3</th>\n",
              "      <td>7795-CFOCW</td>\n",
              "      <td>0.043874</td>\n",
              "    </tr>\n",
              "    <tr>\n",
              "      <th>4</th>\n",
              "      <td>9237-HQITU</td>\n",
              "      <td>0.700315</td>\n",
              "    </tr>\n",
              "  </tbody>\n",
              "</table>\n",
              "</div>\n",
              "      <button class=\"colab-df-convert\" onclick=\"convertToInteractive('df-2f707fac-efb7-4740-92fb-738a54b0d95a')\"\n",
              "              title=\"Convert this dataframe to an interactive table.\"\n",
              "              style=\"display:none;\">\n",
              "        \n",
              "  <svg xmlns=\"http://www.w3.org/2000/svg\" height=\"24px\"viewBox=\"0 0 24 24\"\n",
              "       width=\"24px\">\n",
              "    <path d=\"M0 0h24v24H0V0z\" fill=\"none\"/>\n",
              "    <path d=\"M18.56 5.44l.94 2.06.94-2.06 2.06-.94-2.06-.94-.94-2.06-.94 2.06-2.06.94zm-11 1L8.5 8.5l.94-2.06 2.06-.94-2.06-.94L8.5 2.5l-.94 2.06-2.06.94zm10 10l.94 2.06.94-2.06 2.06-.94-2.06-.94-.94-2.06-.94 2.06-2.06.94z\"/><path d=\"M17.41 7.96l-1.37-1.37c-.4-.4-.92-.59-1.43-.59-.52 0-1.04.2-1.43.59L10.3 9.45l-7.72 7.72c-.78.78-.78 2.05 0 2.83L4 21.41c.39.39.9.59 1.41.59.51 0 1.02-.2 1.41-.59l7.78-7.78 2.81-2.81c.8-.78.8-2.07 0-2.86zM5.41 20L4 18.59l7.72-7.72 1.47 1.35L5.41 20z\"/>\n",
              "  </svg>\n",
              "      </button>\n",
              "      \n",
              "  <style>\n",
              "    .colab-df-container {\n",
              "      display:flex;\n",
              "      flex-wrap:wrap;\n",
              "      gap: 12px;\n",
              "    }\n",
              "\n",
              "    .colab-df-convert {\n",
              "      background-color: #E8F0FE;\n",
              "      border: none;\n",
              "      border-radius: 50%;\n",
              "      cursor: pointer;\n",
              "      display: none;\n",
              "      fill: #1967D2;\n",
              "      height: 32px;\n",
              "      padding: 0 0 0 0;\n",
              "      width: 32px;\n",
              "    }\n",
              "\n",
              "    .colab-df-convert:hover {\n",
              "      background-color: #E2EBFA;\n",
              "      box-shadow: 0px 1px 2px rgba(60, 64, 67, 0.3), 0px 1px 3px 1px rgba(60, 64, 67, 0.15);\n",
              "      fill: #174EA6;\n",
              "    }\n",
              "\n",
              "    [theme=dark] .colab-df-convert {\n",
              "      background-color: #3B4455;\n",
              "      fill: #D2E3FC;\n",
              "    }\n",
              "\n",
              "    [theme=dark] .colab-df-convert:hover {\n",
              "      background-color: #434B5C;\n",
              "      box-shadow: 0px 1px 3px 1px rgba(0, 0, 0, 0.15);\n",
              "      filter: drop-shadow(0px 1px 2px rgba(0, 0, 0, 0.3));\n",
              "      fill: #FFFFFF;\n",
              "    }\n",
              "  </style>\n",
              "\n",
              "      <script>\n",
              "        const buttonEl =\n",
              "          document.querySelector('#df-2f707fac-efb7-4740-92fb-738a54b0d95a button.colab-df-convert');\n",
              "        buttonEl.style.display =\n",
              "          google.colab.kernel.accessAllowed ? 'block' : 'none';\n",
              "\n",
              "        async function convertToInteractive(key) {\n",
              "          const element = document.querySelector('#df-2f707fac-efb7-4740-92fb-738a54b0d95a');\n",
              "          const dataTable =\n",
              "            await google.colab.kernel.invokeFunction('convertToInteractive',\n",
              "                                                     [key], {});\n",
              "          if (!dataTable) return;\n",
              "\n",
              "          const docLinkHtml = 'Like what you see? Visit the ' +\n",
              "            '<a target=\"_blank\" href=https://colab.research.google.com/notebooks/data_table.ipynb>data table notebook</a>'\n",
              "            + ' to learn more about interactive tables.';\n",
              "          element.innerHTML = '';\n",
              "          dataTable['output_type'] = 'display_data';\n",
              "          await google.colab.output.renderOutput(dataTable, element);\n",
              "          const docLink = document.createElement('div');\n",
              "          docLink.innerHTML = docLinkHtml;\n",
              "          element.appendChild(docLink);\n",
              "        }\n",
              "      </script>\n",
              "    </div>\n",
              "  </div>\n",
              "  "
            ]
          },
          "metadata": {},
          "execution_count": 132
        }
      ]
    }
  ]
}